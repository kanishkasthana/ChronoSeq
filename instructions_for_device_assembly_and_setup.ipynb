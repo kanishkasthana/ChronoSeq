{
 "cells": [
  {
   "cell_type": "markdown",
   "metadata": {},
   "source": [
    "# Instructions for the ChronoSeq Device assembly from Individual Components\n",
    "### Design of equipment.\n",
    "Our device design addresses several challenges not present in the original <a href=\"https://www.cell.com/fulltext/S0092-8674(15)00549-8\">Dropseq</a> system (See Figure Below). First, extended cell viability. We maintain cell suspension viability for experiments lasting 2 hours or longer, compared to typical 30-minute Dropseq runs. Second, cross-contamination prevention. We implemented a washing system to remove unused cells or beads between samples. Third, sample isolation. We designed a system to prevent mixing wash fluid with droplets. To address these challenges, our device operates in two main phases during each injection cycle. 1. Flushing phase that clears fluid lines of residual beads or cells from previous injections. 2. Injection phase that precisely introduces cells and time-tagged beads into the microfluidic chip. This integrated system enables controlled, sequential introduction of cells and time-tagged beads, capturing gene expression dynamics across multiple time points in a single experiment.\n",
    "\n",
    "| <h2>ChronoSeq vs Dropseq comparison</h2> |\n",
    "|-|\n",
    "|<img src=\"img/Dropseq%20vs%20ChronoSeq%20Comparison.jpeg\">|\n",
    "\n",
    "### The Figure above compares the ChronoSeq device (A) with Dropseq device (B). \n",
    "The ChronoSeq device is controlled via serial connections to a computer, which coordinates the actions of its various components, while the Dropseq device works by setting flow rates manually on syringe pumps. Some key features distinguish the ChronoSeq device:\n",
    "1. **Bead handling:** ChronoSeq incorporates an automated vortex mixer to keep the beads evenly suspended before injection. Dropseq uses a magnetic stirrer for bead suspension, which leads to high dead volumes and complicates automation for multiple time-tags. ChronoSeq allows for the easy addition of more time-tags in the future if necessary. Additionally, loading and unloading the beads is simplified; we can directly screw a new 50 mL tube containing beads into the reservoir. The time-tagged bead reservoirs are connected to timepoint valves, which facilitate the selection of the appropriate time-tagged beads for injection into the microfluidic chip. \n",
    "2. **Cell culture system:** In the Dropseq device, cells are directly loaded into a syringe for injection, typically running for 15 to 30 minutes. However, our goal is to maintain cell viability for at least 2 hours. Leaving cells at room temperature without growth media and in the absence of 5% CO<sub>2</sub> can lead to excessive cell death and unwanted perturbations. To address this, we have integrated a cell culture system directly into the ChronoSeq device, featuring a water bath to maintain cells at 37&deg;C, along with a 5% CO<sub>2</sub> gas cylinder that serves as a pressure source and aids in cell culture. Furthermore, we can add additional tubes to culture multiple cell suspensions separately and use valves to select which cell suspension is injected into the microfluidic chip. \n",
    "3. **Droplet collection:** In the Dropseq device, droplets are collected directly in a 50 mL tube kept on ice. However, in our system, it is crucial to prevent the beads and cells from previous injections from mixing with those from new injections. To achieve this, we developed a washing system to clear the fluid lines of residual beads and cells. We also need to ensure that washing liquids and unused cell suspensions do not mix with the collected droplets. To solve this issue, we designed a robotic system that facilitates droplet collection and bead recovery. This robot automatically moves the outlet tubing to the correct tube, preventing the mixing of droplets with washing fluids. Additionally, it can recover unused beads from the fluid lines, minimizing waste and reducing experimental costs. Like the Dropseq device, the droplets in our system are also kept on ice using ice boxes. \n",
    "4. **Flow control:** In the Dropseq device, precise speed control is essential for droplet formation. Speeds that are too high can inhibit droplet formation, while low speeds can negatively impact throughput. To achieve this precise control, Dropseq employs syringe pumps, which allow direct manipulation of the syringe's squeezing rate. In our case, we require high flow rates for flushing and low flow rates for droplet formation. Low flow rates like Dropseq flow rates, are insufficient for quickly washing unused beads and cells from the device. Therefore, we implemented a compressed air pressure controller and flow sensors for each of the bead, cell, and oil channels. The compressed air controller enables rapid changes in flow rate, while the flow sensors provide the precise control needed for high-quality droplet formation during low flow rate operation.\n",
    "\n",
    "### 3D Printing Parts\n",
    "+ We used a [Bambu Lab X1 Carbon](https://us.store.bambulab.com/products/x1-carbon?variant=42698346070152) to print the Parts.\n",
    "    + 0.4mm Nozzle\n",
    "    + Textured PEI Plate\n",
    "+ We used PLA filament for our 3D Prints. Most Generic brands work quite well.\n",
    "    + We found [ELEGOO PLA](https://www.amazon.com/dp/B0BV24T11D/) to be reasonably priced.\n",
    "    + Their spools were also neatly wound, reducing the chance of Print Failure.\n",
    "    + You can choose from many different colors.\n",
    "    + We don't recommend getting Translucent or Transparent PLA filaments. \n",
    "        + The Filament runout sensor doesn't work well with these types of Filaments.\n",
    "+ We generated several [3MF Files](CAD_Files/ChronoSeq%20Device) with all the Settings we used for the Print. You can open these files on the [Orca Slicer](https://github.com/SoftFever/OrcaSlicer).\n",
    "+ The Original STEP Files and F3D Files can be found in the same directory.\n",
    "+ Some of the prints included in this directory:\n",
    "    + We will need to increase the height of two [Monitor Risers](https://www.amazon.com/dp/B07H4DMLVH) for some of the ChronoSeq device components.\n",
    "        + The riser on the right side of the ChronoSeq device is taller and you will need the Tallers legs for that one.\n",
    "        + The riser on the right side of the ChronoSeq device is shorter and you will need the Shorter legs for that one.\n",
    "    + You will also need a Pipette holder.\n",
    "    + You will also need a Holders for your Cell and Oil Channel Flow Sensors.\n",
    "+ We also made an Iphone Holder to help record videos and photos of the microfluidic chip. The [3MF and CAD files for that can be found here](CAD_Files/iPhone%2013%20Pro%20Holder%20and%20Lens%20Attachment%20for%20Recording%20on%20the%20Motic%20AE31%20Microscope).\n",
    "+ You will also need to print two Valve Holders.\n",
    "    + Each Valve Holder has two parts. The Top and Bottom Parts.\n",
    "    + You can simply push the Bottom and Top together for a snap fit. This will make one complete valve holder.\n",
    "    + You can find the [3MF and CAD files for Valve Holders here](CAD_Files/Valve%20Holders).\n",
    "    + Use White Colored PLA for these Holders.\n",
    "+ We recommend getting a [3D Printing Accessories Kit](https://www.amazon.com/gp/product/B07VBNDF95/) if you haven't purchased one already.\n",
    "    + Its extremely helpful in removing supports and cleaning up the print.\n",
    "\n",
    "    \n",
    "## Ordering Expensive components and Components with long lead times:\n",
    "\n",
    "## Expensive Components:\n",
    "+ We ordered the [OB1 Flow Controller](https://www.elveflow.com/microfluidic-products/microfluidics-flow-control-systems/ob1-pressure-controller/) from Elveflow. The Configuration was as follows:\n",
    "    + 3 Channels only. All Channels were (0-2000mBar)\n",
    "    + You will also need an [AC Power Cord for North American Outlets](https://www.amazon.com/dp/B073QN2JBS)\n",
    "+ We ordered two [Coriolis Flow Sensors](https://www.elveflow.com/microfluidic-products/microfluidics-flow-measurement-sensors/microfluidic-flow-sensor-coriolis/) from Elveflow:\n",
    "    + BFS 1 Configuration. 2% Accuracy.\n",
    "+ Elveflow will try to sell you more features, components and additional kits. Politely refuse to buy anything else.\n",
    "    + I've included a [copy of the Invoice page](Elveflow%20Invoice%20Page.pdf). You can see how much we paid for these components and what exact items we ordered.\n",
    "+ We ordered the [VP 710C5-7A-CC](https://vp-sci.com/product/vp-710c5-7a-cc/) Vertical Computer Controlled Stirrer from V&P Scientific. Here is a screenshot of the Invoice from May 2024.<br><img src=\"img/Screenshot%202024-10-09%20at%203.54.15%E2%80%AFPM.png\" height=\"50%\" width=\"50%\">\n",
    "+ We will strive to provide cheaper DIY versions or replacements for these expensive components in future versions of ChronoSeq.\n",
    "    + Help and contributions from community members is appreciated. Create a merge request when you are ready.\n",
    "\n",
    "## Long Lead Time Components:\n",
    "+ We ordered two [VX-200 Vortex Mixers](https://www.stellarscientific.com/labnet-vx-200-s0200-low-profile-lab-vortex-mixer-115v/)\n",
    "+ We ordered two [50ml Heads for the VX-200 Vortex Mixers](https://www.stellarscientific.com/for-labnet-vx200-vortex-mixer-head-for-6-x-50-ml-tubes/)\n",
    "+ We ordered a [3D Nutating Mixer](https://www.stellarscientific.com/labnet-gyromini-nutating-3d-mixer-with-dimpled-rubber-mat-s0500-for-blots-and-gels-call-for-availability/).\n",
    "+ We ordered the [AE31 Elite 30W Trinocular Inverted Microscope](https://www.stellarscientific.com/motic-ae31-elite-30w-trinocular-inverted-microscope/)\n",
    "\n",
    "### 3 Port Reservoirs\n",
    "+ You will also need to have reservoir caps manufactured for the 50ml Falcon Tubes.\n",
    "+ These reservoirs will contain the liquids that need to be moved through the ChronoSeq device.\n",
    "+ They have been designed and tested to be gas tight. \n",
    "+ They allow quick changes in pressure to be applied to the liquids stored in the reservoirs. This changes the flow rate of the liquids to also be changed.\n",
    "+ The CAD Files can be found [in this directory](CAD_Files/3%20Port%20Reservoir). You can read the [manufacturing instructions here](CAD_Files/3%20Port%20Reservoir/Manufacturing%20Notes.ipynb).\n",
    "+ We had these parts manufactured by [RapidDirect](https://www.rapiddirect.com/). \n",
    "    + Our Order number was SC061980006.\n",
    "    + Most likely they still have the CAD/CAM files from this project. So they should be able to quickly manufacture these parts for you.\n",
    "    + Just ask them to make the Black Anodized Version for you. You don't need the As-Machined version.\n",
    "    + If they refuse to do this, just follow the Manufacturing instructions linked above.\n",
    "    + Here is a screenshot of the invoice:<br><img src=\"img/Screenshot%202024-10-09%20at%204.19.22%E2%80%AFPM.png\" height=\"50%\" width=\"50%\">\n",
    "\n",
    "## Manufacturing the Microfluidic Chips:\n",
    "+ We used SU-8 Photolithography followed by PDMS Molding for manufacturing the Microfluidic Chips.\n",
    "+ We then plasma bonded these Microfluidic Chips to 75mm Glass Slides.\n",
    "+ See the protocols below on how there were manufactured using the Core Facilities at UCSD:\n",
    "    + [Protocol for Making an SU-8 Mold for your Chips](protocol_for_making_mold_using_su8_photolithography.ipynb)\n",
    "    + [Protocol for PDMS Molding](protocol_for_pdms_molding.ipynb)\n",
    "    + [Protocol for Chip Bonding to Glass](protocol_for_bonding_pdms_chips_to_glass.ipynb)\n",
    "    + [Protocol for Aquapel Treatment of Chips](protocol_for_aquapel_treatment_of_microfluidic_chips.ipynb)\n",
    "\n",
    "## Assembling Other Individual Components\n",
    "Before getting started with this assembly protocol you need to assemble some of the individual components. Follow the instructions in the notebooks linked below before you move onto the next section:\n",
    "+ Assemble three [valve controllers and the SMC valves](instructions_for_assembling_valve_controllerV2.ipynb)\n",
    "+ Assemble one [Sensirion Flow sensor](instructions_for_assembling_sensirion_flow_sensor.ipynb)\n",
    "+ Assemble the [XYZ Robot](instructions_for_assembling_xyz_robot.ipynb)\n",
    "+ Assemble the [XY Robot and Ice Boxes](instructions_for_assembling_xy_robot_and_ice_boxes.ipynb)\n",
    "+ Assemble the [Vortex Relay Controller](instructions_for_assembling_vortex_relay_controller.ipynb)\n",
    "\n",
    "## ChronoSeq Device Assembly    \n",
    "### Setting up your Bench\n",
    "+ The ChronoSeq device needs about 7 feet 9 inches of space on a Standard Wet Lab bench with no obstructions.\n",
    "    + Leave 3 feet 6 inches of space to the right of the device for the Wet lab parts of the protocol.\n",
    "    + You can use a [12 foot Tape measure](https://www.homedepot.com/p/Stanley-Powerlock-12-ft-x-3-4-in-Tape-Measure-33-312L/100123236) to make the measurements.<br><img src=\"img/IMG_4018.jpg\" height=\"50%\" width=\"50%\">\n",
    "+ Our bench was 2 feet 5.25 inches deep.<br><img src=\"img/IMG_4017.jpg\" height=\"50%\" width=\"50%\">\n",
    "+ The rack space directly above this space should also be kept empty for housing many components.<br><img src=\"img/IMG_4009.jpg\" height=\"50%\" width=\"50%\">\n",
    "+ The dimensions for the rack space is as follows:\n",
    "    + The distance between the support pieces is 21 inches.\n",
    "    + The distance between the racks is 13 inches.\n",
    "    + The depth of the racks is 13 inches.\n",
    "    \n",
    "|Distance between support pieces|Height/Distance between racks|Depth of rack|\n",
    "|-|-|-|\n",
    "|<img src=\"img/IMG_4139.jpg\">|<img src=\"img/IMG_4140.jpg\">|<img src=\"img/IMG_4141.jpg\">|\n",
    "\n",
    "+ The first rack is 28 inches above the bench.<br><img src=\"img/IMG_4736.jpg\" height=\"50%\" width=\"50%\">\n",
    "\n",
    "+ We also kept a [5%CO<sub>2</sub> cylinder](https://www.airgas.com/product/Gases/Mixed-Gases/p/Z03NI7442000074) close to the bench. \n",
    "    + Cylinder was secured in place with restraints.<br><img src=\"img/IMG_4011.jpg\" height=\"50%\" width=\"50%\">\n",
    "+ An additional backup cylinder was also kept in the hallway secured with restraints.<br><img src=\"img/IMG_4020.jpg\" height=\"50%\" width=\"50%\">\n",
    "+ The barbs for the House Air and Vacuum sources were also removed. The input threads for sources in our building were Female NPT 1/4 Inch.<br><img src=\"img/IMG_4012.jpg\" height=\"50%\" width=\"50%\">\n",
    "+ We had 2 each of Vacuum and House Air sources on our bench as shown.\n",
    "    + We need 2 House Air sources and one Vacuum source for our device.<br><img src=\"img/IMG_4014.jpg\" height=\"50%\" width=\"50%\">\n",
    "\n",
    "### Setting up 5%CO<sub>2</sub> Cylinder as Pressure source for ChronoSeq Device\n",
    "\n",
    "> **WARNING**: Make sure you wear safety glasses. Comressed Air can be dangerous. Please follow the Hazard Control Plans for your lab and institution.\n",
    "\n",
    "\n",
    "+ You will the following Items:\n",
    "    + [10 inch Adjustable Wrench](https://www.grainger.com/product/38WF07)\n",
    "    + [2 Stage Gas Regulator CGA 500](https://www.grainger.com/product/30AA70)\n",
    "    + [Air Hose 50ft 200 PSI Max Pressure](https://www.grainger.com/product/3JT65)\n",
    "    + [0.5 Micron Coalescing Filter 150PSI Max Pressure](https://www.grainger.com/product/55CR50)\n",
    "    + Two [Pneumatic Connection Kits](https://www.amazon.com/dp/B07RJ1BYKV/)\n",
    "    + [6 inch/150mm Adjustable Wrench](https://www.homedepot.com/p/Husky-6-in-Adjustable-Wrench-90127/313528127)\n",
    "+ Execute the cell below to watch a video on how to connect your Gas Regulator to the cylinder and then set the second stage pressure to 6.5Bars."
   ]
  },
  {
   "cell_type": "code",
   "execution_count": 1,
   "metadata": {},
   "outputs": [
    {
     "data": {
      "text/html": [
       "<iframe width=\"800\" height=\"600\" src=\"https://www.youtube.com/embed/npxS9k2oQEg?si=Wmczb_2HpV-5k8vi\" title=\"YouTube video player\" frameborder=\"0\" allow=\"accelerometer; autoplay; clipboard-write; encrypted-media; gyroscope; picture-in-picture; web-share\" referrerpolicy=\"strict-origin-when-cross-origin\" allowfullscreen></iframe>\n"
      ],
      "text/plain": [
       "<IPython.core.display.HTML object>"
      ]
     },
     "metadata": {},
     "output_type": "display_data"
    }
   ],
   "source": [
    "%%HTML\n",
    "<iframe width=\"800\" height=\"600\" src=\"https://www.youtube.com/embed/npxS9k2oQEg?si=Wmczb_2HpV-5k8vi\" title=\"YouTube video player\" frameborder=\"0\" allow=\"accelerometer; autoplay; clipboard-write; encrypted-media; gyroscope; picture-in-picture; web-share\" referrerpolicy=\"strict-origin-when-cross-origin\" allowfullscreen></iframe>"
   ]
  },
  {
   "cell_type": "markdown",
   "metadata": {},
   "source": [
    "+ Next we will need to connect our regulator to a Filter with a Push connect fitting for Pneumatic Tubing.\n",
    "+ Execute the cell below to watch a video of the process."
   ]
  },
  {
   "cell_type": "code",
   "execution_count": 2,
   "metadata": {},
   "outputs": [
    {
     "data": {
      "text/html": [
       "<iframe width=\"800\" height=\"600\" src=\"https://www.youtube.com/embed/vaCiO843u6A?si=LrUy3pbDrqNDBWHV\" title=\"YouTube video player\" frameborder=\"0\" allow=\"accelerometer; autoplay; clipboard-write; encrypted-media; gyroscope; picture-in-picture; web-share\" referrerpolicy=\"strict-origin-when-cross-origin\" allowfullscreen></iframe>\n"
      ],
      "text/plain": [
       "<IPython.core.display.HTML object>"
      ]
     },
     "metadata": {},
     "output_type": "display_data"
    }
   ],
   "source": [
    "%%HTML\n",
    "<iframe width=\"800\" height=\"600\" src=\"https://www.youtube.com/embed/vaCiO843u6A?si=LrUy3pbDrqNDBWHV\" title=\"YouTube video player\" frameborder=\"0\" allow=\"accelerometer; autoplay; clipboard-write; encrypted-media; gyroscope; picture-in-picture; web-share\" referrerpolicy=\"strict-origin-when-cross-origin\" allowfullscreen></iframe>"
   ]
  },
  {
   "cell_type": "markdown",
   "metadata": {},
   "source": [
    "+ Put the filter in the 3D printed stand for it. Then put the filter slightly to the right of the left edge of marked boundary for the ChronoSeq device.<br><img src=\"img/IMG_4055.jpg\" height=\"50%\" width=\"50%\">\n",
    "+ You will notice there are many tangles in the Hose/Pipe.<br><img src=\"img/IMG_4054.jpg\" height=\"50%\" width=\"50%\">\n",
    "+ Straighten the Hose and Zip Tie as shown below:\n",
    "\n",
    "|<br>|<br>|\n",
    "|-|-|\n",
    "|<img src=\"img/IMG_4061.jpg\">|<img src=\"img/IMG_4060.jpg\">|\n",
    "\n",
    "+ Use the Zip Ties to Tie the additional length of the Hose to the Right underside of your bench as shown.<br><img src=\"img/IMG_4063.jpg\" height=\"50%\" width=\"50%\">\n",
    "+ Secure the Filter holder in place using [Labelling Tape](https://www.fishersci.com/shop/products/fisherbrand-labeling-tape-7/p-309069). Label the stand as 5% CO<sub>2</sub>.<br><img src=\"img/IMG_4064.jpg\" height=\"50%\" width=\"50%\">\n",
    "+ Next we will check for Leaks. \n",
    "    + You will need the OB1 Pressure Controller for this step.\n",
    "    + You don't need to connect the OB1 to power or your computer for this.\n",
    "    + Please don't disconnect the Pneumatic Tubing when the system is pressurised. This is very dangerous and can lead to injury.\n",
    "    + Execute the cell below to watch a video of this process."
   ]
  },
  {
   "cell_type": "code",
   "execution_count": 3,
   "metadata": {},
   "outputs": [
    {
     "data": {
      "text/html": [
       "<iframe width=\"800\" height=\"600\" src=\"https://www.youtube.com/embed/irPr6I4Sb8A?si=Iop2RGkeZGaKVGCn\" title=\"YouTube video player\" frameborder=\"0\" allow=\"accelerometer; autoplay; clipboard-write; encrypted-media; gyroscope; picture-in-picture; web-share\" referrerpolicy=\"strict-origin-when-cross-origin\" allowfullscreen></iframe>\n"
      ],
      "text/plain": [
       "<IPython.core.display.HTML object>"
      ]
     },
     "metadata": {},
     "output_type": "display_data"
    }
   ],
   "source": [
    "%%HTML\n",
    "<iframe width=\"800\" height=\"600\" src=\"https://www.youtube.com/embed/irPr6I4Sb8A?si=Iop2RGkeZGaKVGCn\" title=\"YouTube video player\" frameborder=\"0\" allow=\"accelerometer; autoplay; clipboard-write; encrypted-media; gyroscope; picture-in-picture; web-share\" referrerpolicy=\"strict-origin-when-cross-origin\" allowfullscreen></iframe>"
   ]
  },
  {
   "cell_type": "markdown",
   "metadata": {},
   "source": [
    "### Setting up House Air as Pressure source for ChronoSeq Device\n",
    "+ You will need the following additional items:\n",
    "    + Two [5ft Hoses NPT 1/4 inch](https://www.grainger.com/product/52KC31)\n",
    "    + [0-200 PSI Pressure Gauge](https://www.grainger.com/product/4FLU3)\n",
    "    + [0.5 Micron Coalescing Filter 150PSI Max Pressure](https://www.grainger.com/product/55CR50)\n",
    "    + [Scissors](https://www.amazon.com/dp/B01BRGU8R0)\n",
    "    + [NPT 1/4 inch Female Tee](https://www.amazon.com/dp/B07MTWH2W9) <br><img src=\"img/IMG_4078.jpg\" height=\"50%\" width=\"50%\">\n",
    "+ Execute the cell below to watch a video of the setup process and gas leak check."
   ]
  },
  {
   "cell_type": "code",
   "execution_count": 4,
   "metadata": {},
   "outputs": [
    {
     "data": {
      "text/html": [
       "<iframe width=\"800\" height=\"600\" src=\"https://www.youtube.com/embed/5q3FdRU-HvI?si=AjSbE3-zBajwQlS6\" title=\"YouTube video player\" frameborder=\"0\" allow=\"accelerometer; autoplay; clipboard-write; encrypted-media; gyroscope; picture-in-picture; web-share\" referrerpolicy=\"strict-origin-when-cross-origin\" allowfullscreen></iframe>\n"
      ],
      "text/plain": [
       "<IPython.core.display.HTML object>"
      ]
     },
     "metadata": {},
     "output_type": "display_data"
    }
   ],
   "source": [
    "%%HTML\n",
    "<iframe width=\"800\" height=\"600\" src=\"https://www.youtube.com/embed/5q3FdRU-HvI?si=AjSbE3-zBajwQlS6\" title=\"YouTube video player\" frameborder=\"0\" allow=\"accelerometer; autoplay; clipboard-write; encrypted-media; gyroscope; picture-in-picture; web-share\" referrerpolicy=\"strict-origin-when-cross-origin\" allowfullscreen></iframe>"
   ]
  },
  {
   "cell_type": "markdown",
   "metadata": {},
   "source": [
    "+ Use Zip Ties to secure the Hose and Pressure Gauge in place. <br><img src=\"img/IMG_4096.jpg\" height=\"50%\" width=\"50%\">\n",
    "+ Cut off the excess Zip Ties. <br><img src=\"img/IMG_4100.jpg\" height=\"50%\" width=\"50%\">\n",
    "+ Secure the House Air Filter stand in place using Labelling Tape. Label the Stand as \"House Air\". <br><img src=\"img/IMG_4099.jpg\" height=\"50%\" width=\"50%\">\n",
    "+ We can now have the option to choose between either House Air or 5%CO<sub>2</sub> as a pressure source for our device.\n",
    "\n",
    "### Setting up Compressed Air Gun\n",
    "+ You will need the following items:\n",
    "    + [5ft Hose NPT 1/4 inch](https://www.grainger.com/product/52KC31)\n",
    "    + [0.5 Micron Coalescing Filter 150PSI Max Pressure](https://www.grainger.com/product/55CR50)\n",
    "    + [25ft Coiled Air Hose](https://www.grainger.com/product/1VEH8)\n",
    "    + [Air Gun](https://www.mcmaster.com/5186K81/)\n",
    "    + PTFE Tape and Scissors from Pneumatic Connection Kit.<br><img src=\"img/IMG_4137%20Copy.JPG\" height=\"50%\" width=\"50%\">\n",
    "+ Execute the cell below to watch a video of the process for setting up the Compressed Air gun."
   ]
  },
  {
   "cell_type": "code",
   "execution_count": 5,
   "metadata": {},
   "outputs": [
    {
     "data": {
      "text/html": [
       "<iframe width=\"800\" height=\"600\" src=\"https://www.youtube.com/embed/GlHhLa7J9-k?si=S44eV6COFLli2M4y\" title=\"YouTube video player\" frameborder=\"0\" allow=\"accelerometer; autoplay; clipboard-write; encrypted-media; gyroscope; picture-in-picture; web-share\" referrerpolicy=\"strict-origin-when-cross-origin\" allowfullscreen></iframe>\n"
      ],
      "text/plain": [
       "<IPython.core.display.HTML object>"
      ]
     },
     "metadata": {},
     "output_type": "display_data"
    }
   ],
   "source": [
    "%%HTML\n",
    "<iframe width=\"800\" height=\"600\" src=\"https://www.youtube.com/embed/GlHhLa7J9-k?si=S44eV6COFLli2M4y\" title=\"YouTube video player\" frameborder=\"0\" allow=\"accelerometer; autoplay; clipboard-write; encrypted-media; gyroscope; picture-in-picture; web-share\" referrerpolicy=\"strict-origin-when-cross-origin\" allowfullscreen></iframe>"
   ]
  },
  {
   "cell_type": "markdown",
   "metadata": {},
   "source": [
    "+ Label the Filter Holder as shown.<br><img src=\"img/IMG_4155.jpg\" height=\"50%\" width=\"50%\">\n",
    "+ Use Zip ties to secure the 5ft hose in place. \n",
    "    + Cut the excess length for the Zip ties. after that. <br><img src=\"img/IMG_4157.jpg\" height=\"50%\" width=\"50%\">\n",
    "\n",
    "### Setting up Vacuum Line\n",
    "+ We can use Vacuum to remove melt water from the Ice boxes.\n",
    "+ However, we don't want liquid going in directly into the Vacuum source.\n",
    "+ For this purpose we need a way to collect the water in a separate bottle.\n",
    "+ You will need the following items for this and later steps:\n",
    "    + [Manual On/Off Valve](https://www.mcmaster.com/7033T21/)\n",
    "    + PTFE Tape from Pneumatic Connections Kit\n",
    "    + Adjustable Wrenches\n",
    "    + Scissors\n",
    "    + 200 Units [Male Luer Lock to 3/32 Inch Barb Adapter](https://www.idex-hs.com/store/product-detail/barbed_to_male_luer_lock_adapter_for_use_with_soft_walled_tubing_polypropylene_for_use_with_3_32_2_4_mm_id_tubing_each/p-851)\n",
    "    + 2 Units of 100ft [3/32 Inch Internal Diameter Soft PVC Tubing: Tygon](https://www.mcmaster.com/6516T52/)\n",
    "    + 30 Units Delrin Plug [Flat Bottom 1/4-28](https://www.idex-hs.com/store/product-detail/plug_delrin_1_4_28_flat_bottom/p-309)\n",
    "    + [1/4 NPT Male to Luer Adapter](https://www.mcmaster.com/51525K436/)\n",
    "    + [Female Luer Lock to 3/32 Inch Barb Adapter](https://www.mcmaster.com/51525K212/)\n",
    "    + [2L GL45 Glass Bottle](https://www.fishersci.com/shop/products/pyrex-reusable-media-storage-bottles-12/064141E)\n",
    "    + [Tisch Brand SPEC16279 Polytetrafluoroethylene PTFE Syringe Filter, 3um, 25mm, Double luer Lock](https://www.amazon.com/dp/B01B4YFZYG)\n",
    "    + 3 Port GL45 Cap from VICI Precision Sampling: \n",
    "        + Product Code: JR-S-11002\n",
    "        + We emailed Precision Sampling precision@vici.com for a Quote.\n",
    "        + We paid via Credit Card by providing this information over the phone.\n",
    "        + Ordered 2 Caps at 41.10 USD Each , October 2024.\n",
    "+ Execute the cell below to watch a video of the process and rationale for setting up the Vacuum line."
   ]
  },
  {
   "cell_type": "code",
   "execution_count": 6,
   "metadata": {},
   "outputs": [
    {
     "data": {
      "text/html": [
       "<iframe width=\"800\" height=\"600\" src=\"https://www.youtube.com/embed/uAPeY82PT_4?si=bTl86-rfipuNgATv\" title=\"YouTube video player\" frameborder=\"0\" allow=\"accelerometer; autoplay; clipboard-write; encrypted-media; gyroscope; picture-in-picture; web-share\" referrerpolicy=\"strict-origin-when-cross-origin\" allowfullscreen></iframe>\n"
      ],
      "text/plain": [
       "<IPython.core.display.HTML object>"
      ]
     },
     "metadata": {},
     "output_type": "display_data"
    }
   ],
   "source": [
    "%%HTML\n",
    "<iframe width=\"800\" height=\"600\" src=\"https://www.youtube.com/embed/uAPeY82PT_4?si=bTl86-rfipuNgATv\" title=\"YouTube video player\" frameborder=\"0\" allow=\"accelerometer; autoplay; clipboard-write; encrypted-media; gyroscope; picture-in-picture; web-share\" referrerpolicy=\"strict-origin-when-cross-origin\" allowfullscreen></iframe>"
   ]
  },
  {
   "cell_type": "markdown",
   "metadata": {},
   "source": [
    "### Assembling Monitor Risers\n",
    "+ Make sure you remove all the support material for the 3D printed leg extensions.\n",
    "+ You will need to purchase two Monitor Risers.\n",
    "+ Here are the parts you will need for installing the 3D printed legs.\n",
    "    + The Shorter legs are shown in this example, but the process for the Longer legs is exactly the same.<br><img src=\"img/IMG_3996.jpg\" height=\"50%\" width=\"50%\">\n",
    "+ Execute the cell below to watch a video of the assembly process."
   ]
  },
  {
   "cell_type": "code",
   "execution_count": 7,
   "metadata": {},
   "outputs": [
    {
     "data": {
      "text/html": [
       "<iframe width=\"800\" height=\"600\" src=\"https://www.youtube.com/embed/m67uend2roI?si=g6A1ALqVY39b3Y1i\" title=\"YouTube video player\" frameborder=\"0\" allow=\"accelerometer; autoplay; clipboard-write; encrypted-media; gyroscope; picture-in-picture; web-share\" referrerpolicy=\"strict-origin-when-cross-origin\" allowfullscreen></iframe>\n"
      ],
      "text/plain": [
       "<IPython.core.display.HTML object>"
      ]
     },
     "metadata": {},
     "output_type": "display_data"
    }
   ],
   "source": [
    "%%HTML\n",
    "<iframe width=\"800\" height=\"600\" src=\"https://www.youtube.com/embed/m67uend2roI?si=g6A1ALqVY39b3Y1i\" title=\"YouTube video player\" frameborder=\"0\" allow=\"accelerometer; autoplay; clipboard-write; encrypted-media; gyroscope; picture-in-picture; web-share\" referrerpolicy=\"strict-origin-when-cross-origin\" allowfullscreen></iframe>"
   ]
  },
  {
   "cell_type": "markdown",
   "metadata": {},
   "source": [
    "+ The one with the longer legs should look like this after assembly.<br><img src=\"img/IMG_4110.jpg\" height=\"50%\" width=\"50%\">\n",
    "\n",
    "### Assembling the Valve Holders\n",
    "+ The Top and Bottom Pieces are printed separetly. <br><img src=\"img/IMG_4107.jpg\" height=\"50%\" width=\"50%\">\n",
    "+ Push the Top Piece into the Bottom Piece. Make sure the orientation matches the picture below.<br><img src=\"img/IMG_4108.jpg\" height=\"50%\" width=\"50%\">\n",
    "\n",
    "### Setting up the X86-64Bit Windows Computer\n",
    "+ See the [Computer Selection file](Computer%20Selection.md) for help with Selecting a Computer.\n",
    "+ Place the 3D printed Stand on the rack above the left most egdge of the marked ChronoSeq device boundary.<br><img src=\"img/IMG_4263.jpg\" height=\"50%\" width=\"50%\">\n",
    "+ We place the Laptop Computer in the stand in the following Orientation:\n",
    "\n",
    "|Left Side|Right Side|\n",
    "|-|-|\n",
    "|<img src=\"img/IMG_4264.jpg\">|<img src=\"img/IMG_4265.jpg\">|\n",
    "\n",
    "+ DC Power Adapter was connected to our computer.<br><img src=\"img/IMG_4266.jpg\" height=\"50%\" width=\"50%\">\n",
    "+ The Adapter was plugged into the nearest power outlet on the Bench. <br><img src=\"img/IMG_4267.jpg\" height=\"50%\" width=\"50%\">\n",
    "+ The USB 3 Type C Port was converted to a Type A Port [using an Adapter](https://www.amazon.com/dp/B0CNK3YK1J). <br><img src=\"img/IMG_4268.jpg\" height=\"50%\" width=\"50%\">\n",
    "+ [A Monitor](https://www.amazon.com/gp/product/B08CYCF12P/) was connected via [HDMI](https://www.amazon.com/dp/B08BS29VG4) to our computer:\n",
    "    + HDMI cable was routed along the wall behind the monitor.\n",
    "    + The monitor was plugged into the nearest outlet on the bench.\n",
    "\n",
    "|HDMI Cable|Routed along the back| Plugged into nearest electrical Outlet|\n",
    "|-|-|-|\n",
    "|<img src=\"img/IMG_4269.jpg\">|<img src=\"img/IMG_4270.jpg\">|<img src=\"img/IMG_4271.jpg\">|\n",
    "\n",
    "+ Connect a [USB Hub](https://www.amazon.com/gp/product/B00O0KISQE) to the USB 2 Port on the right.\n",
    "    + We will use this USB Hub for only our keyboard and mouse.<br><img src=\"img/IMG_4272.jpg\" height=\"50%\" width=\"50%\">\n",
    "+ Connect a [Keyboard](https://www.amazon.com/gp/product/B07WHHZ1H3/) and [Mouse](https://www.amazon.com/gp/product/B005EJH6RW/) to the USB Hub as shown.\n",
    "    + You will also need a [Mouse pad](https://www.amazon.com/gp/product/B08PFQRQBZ/)\n",
    "\n",
    "|Keyboard and Mouse|Connected to USB Hub for USB 2 Port|\n",
    "|-|-|\n",
    "|<img src=\"img/IMG_4274.jpg\">|<img src=\"img/IMG_4273.jpg\">|\n",
    "\n",
    "+ Move the USB Hub to the left side and secure it in place using some Labelling Tape.<br><img src=\"img/IMG_4278.jpg\" height=\"50%\" width=\"50%\">\n",
    "+ Route the HDMI, Keyboard and Mouse Cables behind the 5%CO<sub>2</sub> filter for better cable management.<br><img src=\"img/IMG_4280.jpg\" height=\"50%\" width=\"50%\">\n",
    "+ Tape these cables to the wall using Labelling Tape.<br><img src=\"img/IMG_4279.jpg\" height=\"50%\" width=\"50%\">\n",
    "+ To keep the HDMI Cable taught, tape it to the Bottom of the Rack using Labelling Tape.<br><img src=\"img/IMG_4281.jpg\" height=\"50%\" width=\"50%\">\n",
    "+ To prevent the DC Adapter for the Computer from tangling with the Compressed Air Gun Hose, we will also use Labelling Tape as shown.<br><img src=\"img/IMG_4283.jpg\" height=\"50%\" width=\"50%\">\n",
    "+ To prevent the Laptop stand from moving, use labelling tape as shown.<br><img src=\"img/IMG_4286.jpg\" height=\"50%\" width=\"50%\">\n",
    "+ Make sure the monitor, keyboard and mouse are close to the marked boundary for the ChronoSeq device as shown.<br><img src=\"img/IMG_4284.jpg\" height=\"50%\" width=\"50%\">\n",
    "+ Connect a [CAT6 Ethernet Cable](https://www.amazon.com/gp/product/B007NZGPAY/) to the RJ45 Port on the Laptop Computer.<br><img src=\"img/IMG_4288.jpg\" height=\"50%\" width=\"50%\">\n",
    "+ Route the cable along the back of the rack above the bench to the nearest Ethernet Port.<br><img src=\"img/IMG_4289.jpg\" height=\"50%\" width=\"50%\">\n",
    "+ Secure the Cable to the back of the rack and wall using Labelling Tape as shown.<br><img src=\"img/IMG_4290.jpg\" height=\"50%\" width=\"50%\">\n",
    "+ Connect the other side of the cable to the wall Ethernet RJ45 Port. <br><img src=\"img/IMG_4291.jpg\" height=\"50%\" width=\"50%\">\n",
    "+ Zip tie and excess cable to the side of your bench as shown.<br><img src=\"img/IMG_4292.jpg\" height=\"50%\" width=\"50%\">\n",
    "+ UCSD Only: You might need to activate your ethernet ports and Register your Computer to the Campus Network. Login required.\n",
    "    + Open CMD and Type ```>ipconfig/all``` to get the Hardware(MAC) address for your Ethernet.\n",
    "    + Follow campus instructions on [Connecting Workstations](https://blink.ucsd.edu/technology/network/connections/on-campus/).\n",
    "    + Use the [Campus Service Request form](https://www-act.ucsd.edu/telecom/csr) to activate the wall Ethernet ports if not already activated.\n",
    "+ Now we will setup three [USB 3 Hubs](https://www.amazon.com/gp/product/B00O0KISQE) for the various components of our ChronoSeq device.\n",
    "    + You will also need two [USB 3 Extension Cables](https://www.amazon.com/gp/product/B00NH12O5I)\n",
    "+ We will connect our first USB Hub to our extension cable and then to our USB Type C Port.<br><img src=\"img/IMG_4293.jpg\" height=\"50%\" width=\"50%\">\n",
    "+ Place the USB Hub at the back in the middle of the area designated for the ChronoSeq device.\n",
    "    + Secure the extension cable with labelling tape.\n",
    "\n",
    "|Place the Hub at back in middle of ChronoSeq device area|Connect to the USB 3 Type C Port as shown|Secure the Extension cable in place using Labelling Tape|\n",
    "|-|-|-|\n",
    "|<img src=\"img/IMG_4294.jpg\">|<img src=\"img/IMG_4295.jpg\">|<img src=\"img/IMG_4296.jpg\">|\n",
    "\n",
    "+ We will use an extension cable with the second USB Hub and connect it to our USB 3 A Port.<br><img src=\"img/IMG_4298.jpg\" height=\"50%\" width=\"50%\">\n",
    "+ The second USB Hub will be kept on the rack above the bench on the right corner of the area above the ChronoSeq device.<br><img src=\"img/IMG_4300.jpg\" height=\"50%\" width=\"50%\">\n",
    "+ Connect the extension cable to the USB 3 Port as shown.<br><img src=\"img/IMG_4299.jpg\" height=\"50%\" width=\"50%\">\n",
    "+ Secure the extension cable with labelling tape as shown.\n",
    "\n",
    "|<br>|<br>|\n",
    "|-|-|\n",
    "|<img src=\"img/IMG_4301.jpg\">|<img src=\"img/IMG_4302.jpg\">|\n",
    "\n",
    "+ The third USB Hub should be directly connected to the USB 3 A port on your computer.<br><img src=\"img/IMG_4303.jpg\" height=\"50%\" width=\"50%\">\n",
    "+ This picture shows the positions of all three hubs.<br><img src=\"img/IMG_4304.jpg\" height=\"50%\" width=\"50%\">\n",
    "+ Make sure you use Nitrile Gloves when using the Keyboard and Mouse for your Computer after you have assembled the device.\n",
    "    + Leave a note to remind yourself.<br><img src=\"img/IMG_4305.jpg\" height=\"50%\" width=\"50%\">\n",
    "\n",
    "### Setting up Power Strip\n",
    "+ We used a [20 Outlet Power Strip](https://www.amazon.com/gp/product/B077T6RYQ8/) for powering all major ChronoSeq device Components.\n",
    "    + This way we could switch the device on and off with a single switch on the power strip.\n",
    "+ Place the power strip at the back of your bench with the switch positioned close behind the right side of the monitor.\n",
    "\n",
    "|Put the power strip at the back of your bench|The On/Off switch should be close to the right side of the monitor for easy access|\n",
    "|-|-|\n",
    "|<img src=\"img/IMG_4308.jpg\">|<img src=\"img/IMG_4309.jpg\">|\n",
    "\n",
    "+ Use Zip Ties to secure the extension cord as shown. \n",
    "    + Fold the extra extension cord out of the way as shown.\n",
    "    + Plug in the power stip into an outlet on your bench.\n",
    "\n",
    "|<br>|<br>|<br>|\n",
    "|-|-|-|\n",
    "|<img src=\"img/IMG_4310.jpg\">|<img src=\"img/IMG_4311.jpg\">|<img src=\"img/IMG_4312.jpg\">|\n",
    "\n",
    "+ Cut off excess length of the Zip Ties.<br><img src=\"img/IMG_4314.jpg\" height=\"50%\" width=\"50%\">\n",
    "\n",
    "## Software Installation\n",
    "+ I recommend going to Display Setting on your Windows PC and setting the Scale to 125% <br><img src=\"img/Screenshot%202024-10-22%20222021.png\" height=\"50%\" width=\"50%\">\n",
    "+ Please download the [Elveflow Software and SDK](https://www.elveflow.com/microfluidic-products/microfluidics-software/elveflow-software-sdk/).\n",
    "    + The version compatible with your Elveflow Instruments should come in a USB Drive with your instruments.\n",
    "    + For our hardware we had ESI_V3_07_02\n",
    "+ Extract the file. Right Click and Select: Extract All\n",
    "+ Go to the ESI folder and run setup.exe.<br><img src=\"img/Screenshot%202024-10-24%20213847.png\" height=\"50%\" width=\"50%\">\n",
    "+ Also Extract the SDK Folder.\n",
    "+ Go to \"Installx64\\Extra Install For x64 Libraries\" Folder and run setup.exe.<br><img src=\"img/Screenshot%202024-10-24%20212421.png\" height=\"50%\" width=\"50%\">\n",
    "+ Copy the DLL64 Directory from the SDK Directory.<br><img src=\"img/Screenshot%202024-10-24%20212624.png\" height=\"50%\" width=\"50%\">\n",
    "+ Paste the DLL64 Directory into your config folder.\n",
    "    + Everything inside the config folder is ignored by git unless already included in the repository.\n",
    "    + Make sure you make regular Backups of your config folder or store the repository in OneDrive/Google-Drive so its automatically backed up.\n",
    "    + The config folder is specific to each ChronoSeq device as it contains device specific information.<br><img src=\"img/Screenshot%202024-10-24%20212644.png\" height=\"50%\" width=\"50%\">\n",
    "+ Execute the cells below and allow python to connect to local network if the dialog box comes up.<br><img src=\"img/IMG_4322.jpg\" height=\"50%\" width=\"50%\">\n",
    "+ Change your PC's power setting to make sure:\n",
    "    + Computer is set to maximum performance.\n",
    "    + Computer never sleeps.\n",
    "    + Display is never turned off.\n",
    "    + Disable Screen saver.\n",
    "    + Computer never hibernates.<br><img src=\"img/Screenshot%202024-12-23%20222826.png\" height=\"50%\" width=\"50%\">\n",
    "+ Newer Windows PCs more security features such as TPM. \n",
    "    + Disable TPM and other security features in the BIOS menu.\n",
    "    + These security features might randomly crash the Python Kernel.\n",
    "    + Here is an image of the disabled security feature in our BIOS Menu.\n",
    "        + For Dell you can enter the BIOS Setup menu by repeatedly pressing F12 when the computer is booting.<br><img src=\"img/IMG_4853.jpg\" height=\"50%\" width=\"50%\">\n",
    "+ Its also a good idea to make sure your Notebook is Trusted. \n",
    "    + Click on \"Not Trusted\" before you get started if you see it next to the Python Kernel indicator.<br><img src=\"img/Screenshot%202025-01-11%20223225.png\">"
   ]
  },
  {
   "cell_type": "code",
   "execution_count": 8,
   "metadata": {},
   "outputs": [
    {
     "name": "stdout",
     "output_type": "stream",
     "text": [
      "C:\\Users\\kanis\\Documents\\ChronoSeq\n",
      "pygame 2.5.2 (SDL 2.28.3, Python 3.7.16)\n",
      "Hello from the pygame community. https://www.pygame.org/contribute.html\n"
     ]
    }
   ],
   "source": [
    "# coding : utf8\n",
    "%matplotlib inline\n",
    "import os\n",
    "import sys\n",
    "sys.path.append(os.getcwd());\n",
    "import ivPID.PID as PID_controller\n",
    "\n",
    "print(os.getcwd())\n",
    "os.chdir(\".\\config\")\n",
    "\n",
    "#Adding required directories to sys.path. Make sure you are in the Directory with the Git Repo when you start Jupyter Notebook\n",
    "sys.path.append(os.getcwd());\n",
    "sys.path.append(os.getcwd()+\"\\\\DLL64\");\n",
    "\n",
    "import time\n",
    "import Elveflow64\n",
    "os.chdir(\"..\")\n",
    "from ctypes import *\n",
    "import numpy as np\n",
    "import matplotlib.pyplot as plt\n",
    "import pandas as pd\n",
    "import serial\n",
    "import threading\n",
    "from apscheduler.schedulers.background import BackgroundScheduler\n",
    "from apscheduler.schedulers import SchedulerNotRunningError\n",
    "from datetime import datetime,timedelta\n",
    "import seaborn as sns\n",
    "import pygame"
   ]
  },
  {
   "cell_type": "code",
   "execution_count": 9,
   "metadata": {},
   "outputs": [
    {
     "data": {
      "application/javascript": [
       "IPython.OutputArea.prototype._should_scroll = function(lines) {\n",
       "    return false;\n",
       "}\n"
      ],
      "text/plain": [
       "<IPython.core.display.Javascript object>"
      ]
     },
     "metadata": {},
     "output_type": "display_data"
    }
   ],
   "source": [
    "%%javascript\n",
    "IPython.OutputArea.prototype._should_scroll = function(lines) {\n",
    "    return false;\n",
    "}"
   ]
  },
  {
   "cell_type": "markdown",
   "metadata": {},
   "source": [
    "### Note on Ipython Magics\n",
    "+ We will store device specific configuration in the config folder using [Ipython Magics](https://ipython.readthedocs.io/en/stable/interactive/magics.html#)\n",
    "+ We modified the ```%%writefile``` magic as follows.\n",
    "+ Execute the cell below"
   ]
  },
  {
   "cell_type": "code",
   "execution_count": 10,
   "metadata": {},
   "outputs": [],
   "source": [
    "from IPython.core.magic import register_cell_magic\n",
    "\n",
    "@register_cell_magic\n",
    "def write_and_run(line, cell):\n",
    "    argz = line.split()\n",
    "    file = argz[-1]\n",
    "    mode = 'w'\n",
    "    if len(argz) == 2 and argz[0] == '-a':\n",
    "        mode = 'a'\n",
    "    with open(file, mode) as f:\n",
    "        f.write(cell)\n",
    "    get_ipython().run_cell(cell)"
   ]
  },
  {
   "cell_type": "markdown",
   "metadata": {},
   "source": [
    "### Setting up the Pressure Controller\n",
    "+ We now need to connect our pressure controller to our computer and power.\n",
    "+ We need to also cut some Pneumatic tubing and connect it to House air.\n",
    "    + You will need to following:\n",
    "        + Pneumatic Tubing from Pneumatic Connections Kit\n",
    "        + Tubing Cutter from Pneumatic Connections Kit\n",
    "        + [USB 2.0 Type A to Type B Extension Cable](https://www.amazon.com/dp/B00NH11KIK)\n",
    "        + [AC Power Cable](https://www.amazon.com/gp/product/B073QN2JBS/)\n",
    "        + OB1 Pressure Controller<br><img src=\"img/IMG_4315.jpg\" height=\"50%\" width=\"50%\">\n",
    "+ We will also need to use Luer plugs to block the three independent pressure channels for Calibration.\n",
    "+ Execute the cell below to watch a video of the process."
   ]
  },
  {
   "cell_type": "code",
   "execution_count": 11,
   "metadata": {},
   "outputs": [
    {
     "data": {
      "text/html": [
       "<iframe width=\"800\" height=\"600\" src=\"https://www.youtube.com/embed/vY6V0Eq87n8?si=x5sQQwJoQZgS2SXT\" title=\"YouTube video player\" frameborder=\"0\" allow=\"accelerometer; autoplay; clipboard-write; encrypted-media; gyroscope; picture-in-picture; web-share\" referrerpolicy=\"strict-origin-when-cross-origin\" allowfullscreen></iframe>\n"
      ],
      "text/plain": [
       "<IPython.core.display.HTML object>"
      ]
     },
     "metadata": {},
     "output_type": "display_data"
    }
   ],
   "source": [
    "%%HTML\n",
    "<iframe width=\"800\" height=\"600\" src=\"https://www.youtube.com/embed/vY6V0Eq87n8?si=x5sQQwJoQZgS2SXT\" title=\"YouTube video player\" frameborder=\"0\" allow=\"accelerometer; autoplay; clipboard-write; encrypted-media; gyroscope; picture-in-picture; web-share\" referrerpolicy=\"strict-origin-when-cross-origin\" allowfullscreen></iframe>"
   ]
  },
  {
   "cell_type": "markdown",
   "metadata": {},
   "source": [
    "#### Getting Serial Number for pressure controller from NI Max\n",
    "+ We now need the serial number for our OB1 Pressure controller so we can control it using Jupyter Notebooks.\n",
    "+ We will also have to run the Elveflow Smart Interface once before getting started.\n",
    "+ Execute the Cell Below to watch a video of the process.\n",
    "    + Make sure you have your Safety Glasses on before turning on the House Air Pressure."
   ]
  },
  {
   "cell_type": "code",
   "execution_count": 12,
   "metadata": {},
   "outputs": [
    {
     "data": {
      "text/html": [
       "<iframe width=\"800\" height=\"600\" src=\"https://www.youtube.com/embed/DC1oscWOHng?si=fX7POu0JLhZYOXPn\" title=\"YouTube video player\" frameborder=\"0\" allow=\"accelerometer; autoplay; clipboard-write; encrypted-media; gyroscope; picture-in-picture; web-share\" referrerpolicy=\"strict-origin-when-cross-origin\" allowfullscreen></iframe>\n"
      ],
      "text/plain": [
       "<IPython.core.display.HTML object>"
      ]
     },
     "metadata": {},
     "output_type": "display_data"
    }
   ],
   "source": [
    "%%HTML\n",
    "<iframe width=\"800\" height=\"600\" src=\"https://www.youtube.com/embed/DC1oscWOHng?si=fX7POu0JLhZYOXPn\" title=\"YouTube video player\" frameborder=\"0\" allow=\"accelerometer; autoplay; clipboard-write; encrypted-media; gyroscope; picture-in-picture; web-share\" referrerpolicy=\"strict-origin-when-cross-origin\" allowfullscreen></iframe>"
   ]
  },
  {
   "cell_type": "markdown",
   "metadata": {},
   "source": [
    "+ Now paste the value for the Serial number in the cell below.\n",
    "+ We will store the device initialization information in the ```config/instrument_initialization.py``` file."
   ]
  },
  {
   "cell_type": "code",
   "execution_count": 13,
   "metadata": {},
   "outputs": [
    {
     "name": "stdout",
     "output_type": "stream",
     "text": [
      "Pressure Controller Connection Started\n",
      "Pressure Controller ID: 0\n"
     ]
    }
   ],
   "source": [
    "%%write_and_run config/instrument_initialization.py\n",
    "OB1_pressureControllerCOM=\"020B9F6C\" #Serial Number from NI MAX Paste Here\n",
    "\n",
    "#Initializing Pressure Controller\n",
    "pressureController=c_int32()\n",
    "error=Elveflow64.OB1_Initialization(OB1_pressureControllerCOM.encode('ascii'),2,2,2,0,byref(pressureController)) \n",
    "if(error==0):\n",
    "    print(\"Pressure Controller Connection Started\")\n",
    "    print('Pressure Controller ID: %d' % pressureController.value)\n",
    "else: \n",
    "    print(\"error %d :\" % error)\n",
    "\n",
    "#Defining Channel Bindings according to current configuration\n",
    "cell_channel=1\n",
    "oil_channel=2\n",
    "bead_channel=3"
   ]
  },
  {
   "cell_type": "markdown",
   "metadata": {},
   "source": [
    "+ Now we will calibrate our OB1 Pressure Controller.\n",
    "+ Make sure the three pressure channels are plugged using the Luer plugs.<br><img src=\"img/IMG_4327.jpg\" height=\"50%\" width=\"50%\">\n",
    "+ Execute the cell below to begin the calibration.\n",
    "    + The calibration file will be stored in the config folder.\n",
    "    + This may take upto 10 minutes for the first time. Please be patient.\n",
    "    + The OB1 Display should show that it is Calibrating.<br><img src=\"img/IMG_4328.jpg\" height=\"50%\" width=\"50%\">"
   ]
  },
  {
   "cell_type": "code",
   "execution_count": 14,
   "metadata": {},
   "outputs": [
    {
     "name": "stdout",
     "output_type": "stream",
     "text": [
      "Calibration File Load Successful!\n"
     ]
    }
   ],
   "source": [
    "%%write_and_run config/pressure_controller_load_calibration_file.py\n",
    "#Make sure you Calibrate with the plugs in place if you are generating the file for the first time.\n",
    "#See OB1 user manual for details about calibration and the plug type to use.\n",
    "calibrationVector=(c_double*1000)()\n",
    "currentWorkingDirectory=os.getcwd()\n",
    "calibrationFilePath=currentWorkingDirectory + \"\\\\config\\OB1_CalibrationFile.txt\"\n",
    "fileExists=os.path.isfile(calibrationFilePath)\n",
    "\n",
    "if(fileExists):\n",
    "    error=Elveflow64.Elveflow_Calibration_Load(calibrationFilePath.encode('ascii'), byref(calibrationVector), 1000)\n",
    "    if(error==0):\n",
    "        print(\"Calibration File Load Successful!\")\n",
    "    else:\n",
    "        print(\"error %d :\" % error)\n",
    "\n",
    "else:\n",
    "    Elveflow64.OB1_Calib(pressureController.value, calibrationVector, 1000)\n",
    "    error=Elveflow64.Elveflow_Calibration_Save(calibrationFilePath.encode('ascii'), byref(calibrationVector), 1000)\n",
    "    if(error==0):    \n",
    "        print('Calibration saved in %s' % calibrationFilePath)\n",
    "    else:\n",
    "        print(\"error %d :\" % error)"
   ]
  },
  {
   "cell_type": "code",
   "execution_count": 15,
   "metadata": {},
   "outputs": [],
   "source": [
    "def set_oil_channel_pressure(oil_channel_pressure):\n",
    "    Elveflow64.OB1_Set_Press(pressureController.value,c_int32(oil_channel),c_double(oil_channel_pressure),byref(calibrationVector),len(calibrationVector))\n",
    "    \n",
    "def get_oil_channel_pressure():\n",
    "    getOilChannelPressure=c_double()\n",
    "    Elveflow64.OB1_Get_Press(pressureController.value,c_int32(oil_channel),1,byref(calibrationVector),byref(getOilChannelPressure),len(calibrationVector)) \n",
    "    return getOilChannelPressure.value\n",
    "\n",
    "def set_cell_channel_pressure(cell_channel_pressure):\n",
    "    Elveflow64.OB1_Set_Press(pressureController.value,c_int32(cell_channel),c_double(cell_channel_pressure),byref(calibrationVector),len(calibrationVector))\n",
    "\n",
    "def get_cell_channel_pressure():\n",
    "    getCellChannelPressure=c_double()\n",
    "    Elveflow64.OB1_Get_Press(pressureController.value,c_int32(cell_channel),1,byref(calibrationVector),byref(getCellChannelPressure),len(calibrationVector))\n",
    "    return getCellChannelPressure.value\n",
    "\n",
    "def set_bead_channel_pressure(bead_channel_pressure):\n",
    "    Elveflow64.OB1_Set_Press(pressureController.value,c_int32(bead_channel),c_double(bead_channel_pressure),byref(calibrationVector),len(calibrationVector))\n",
    "    \n",
    "def get_bead_channel_pressure():\n",
    "    getBeadChannelPressure=c_double()\n",
    "    Elveflow64.OB1_Get_Press(pressureController.value,c_int32(bead_channel),1,byref(calibrationVector),byref(getBeadChannelPressure),len(calibrationVector)) \n",
    "    return getBeadChannelPressure.value\n",
    "\n",
    "def reset_pressures():\n",
    "    set_cell_channel_pressure(get_cell_channel_pressure())\n",
    "    set_bead_channel_pressure(get_bead_channel_pressure())\n",
    "    set_oil_channel_pressure(get_oil_channel_pressure())"
   ]
  },
  {
   "cell_type": "markdown",
   "metadata": {},
   "source": [
    "+ Now lets try controlling our pressure controller using these python functions.\n",
    "+ Keep all three ports blocked.\n",
    "+ Execute the cell below. You will hear the three channels pressurize and then depressurize."
   ]
  },
  {
   "cell_type": "code",
   "execution_count": 16,
   "metadata": {},
   "outputs": [],
   "source": [
    "time.sleep(5)\n",
    "set_cell_channel_pressure(2000)\n",
    "set_bead_channel_pressure(2000)\n",
    "set_oil_channel_pressure(2000)\n",
    "time.sleep(5)\n",
    "set_cell_channel_pressure(0)\n",
    "set_bead_channel_pressure(0)\n",
    "set_oil_channel_pressure(0)"
   ]
  },
  {
   "cell_type": "markdown",
   "metadata": {},
   "source": [
    "+ Now Turn off the House Air Pressure.\n",
    "+ Execute the cell below to close the connection to the Pressure Controller.\n",
    "+ We will store this code in ```config/deviceShutdown.py```"
   ]
  },
  {
   "cell_type": "code",
   "execution_count": 17,
   "metadata": {},
   "outputs": [
    {
     "name": "stdout",
     "output_type": "stream",
     "text": [
      "Pressure Controller Connection Closed!\n"
     ]
    }
   ],
   "source": [
    "%%write_and_run config/deviceShutdown.py\n",
    "error=Elveflow64.OB1_Destructor(pressureController.value)\n",
    "if(error==0):\n",
    "    print(\"Pressure Controller Connection Closed!\")\n",
    "else:\n",
    "    print(\"error %d :\" % error)"
   ]
  },
  {
   "cell_type": "markdown",
   "metadata": {},
   "source": [
    "+ After the System is depressurized we can move our Pressure Controller to its final position.\n",
    "+ Disconnect the Pneumatic Tubing \n",
    "+ Turn off the Power Strip.\n",
    "+ Disconnect the USB\n",
    "+ Place the Pressure Controller on the rack next to your Computer as shown.<br><img src=\"img/IMG_4334.jpg\" height=\"50%\" width=\"50%\">\n",
    "+ Reconnect:\n",
    "    + The USB Cable to the USB Hub next to your Computer.\n",
    "    + and Route the AC Power Extension cord through the back to the power strip.\n",
    "    + and Route the Pneumatic Tubing through the back.<br><img src=\"img/IMG_4335.jpg\" height=\"50%\" width=\"50%\">\n",
    "\n",
    "### Setting up Valve Controllers\n",
    "+ You will need a  [USB 2.0 Type A to Type B Extension cable](https://www.amazon.com/dp/B00NH11KIK).\n",
    "+ We will connect and Place the three Valve Controllers you made on the rack above the bench as shown. \n",
    "    + Route the DC Power cable from the back to the Power Strip.<br><img src=\"img/IMG_4339.jpg\" height=\"50%\" width=\"50%\">\n",
    "+ Mark the Valve Controllers as 1, 2 and 3 with a marker as shown. <br><img src=\"img/IMG_4340.jpg\" height=\"50%\" width=\"50%\">\n",
    "+ Using the USB 2.0 Type A to Type B Extension cable connect the Valve Controller 1 to USB Hub next to the Computer.<br><img src=\"img/IMG_4341.jpg\" height=\"50%\" width=\"50%\">\n",
    "+ Identify the COM Port for Valve Controller 1 using the Arduino IDE.\n",
    "    + For our machine it was COM3\n",
    "+ Using the USB 2.0 Type A to Type B cable included with Elegoo UNO R3 connect the Valve Controller 2 to the USB Hub on rack towards the right.<br><img src=\"img/IMG_4342.jpg\" height=\"50%\" width=\"50%\">\n",
    "+ Identify the COM Port for Valve Controller 2 using the Arduino IDE.\n",
    "    + For our machine it was COM4\n",
    "+ Using the USB 2.0 Type A to Type B cable included with Elegoo UNO R3 connect the Valve Controller 3 to the USB Hub on rack towards the right.<br><img src=\"img/IMG_4343.jpg\" height=\"50%\" width=\"50%\">\n",
    "+ Identify the COM Port for Valve Controller 3 using the Arduino IDE.\n",
    "    + For our machine it was COM5\n",
    "+ Now we will intiate a Serial connection to our Valve Controllers.\n",
    "    + Populate the Variables below with the COM Port values from Arduino IDE\n",
    "+ Execute the cell below to initialize the connection to the Valve Controllers.\n",
    "    + We will append the ```config/instrument_initialization.py``` file."
   ]
  },
  {
   "cell_type": "code",
   "execution_count": 18,
   "metadata": {},
   "outputs": [
    {
     "name": "stdout",
     "output_type": "stream",
     "text": [
      "True\n",
      "{'baudrate': 9600, 'bytesize': 8, 'parity': 'N', 'stopbits': 1, 'xonxoff': False, 'dsrdtr': False, 'rtscts': False, 'timeout': 1, 'write_timeout': 0, 'inter_byte_timeout': None}\n",
      "True\n",
      "{'baudrate': 9600, 'bytesize': 8, 'parity': 'N', 'stopbits': 1, 'xonxoff': False, 'dsrdtr': False, 'rtscts': False, 'timeout': 1, 'write_timeout': 0, 'inter_byte_timeout': None}\n",
      "True\n",
      "{'baudrate': 9600, 'bytesize': 8, 'parity': 'N', 'stopbits': 1, 'xonxoff': False, 'dsrdtr': False, 'rtscts': False, 'timeout': 1, 'write_timeout': 0, 'inter_byte_timeout': None}\n"
     ]
    }
   ],
   "source": [
    "%%write_and_run -a config/instrument_initialization.py\n",
    "firstControllerCOM=\"COM3\"  #COM Port from Arduino IDE\n",
    "secondControllerCOM=\"COM4\" #COM Port from Arduino IDE\n",
    "thirdControllerCOM=\"COM5\"  #COM Port from Arduino IDE\n",
    "\n",
    "#Initializing Valve Controllers\n",
    "valve_controller1=c_int32()\n",
    "valve_controller1.value=1111\n",
    "\n",
    "firstController=serial.Serial(firstControllerCOM, timeout=1, write_timeout=0)\n",
    "time.sleep(5.0)\n",
    "print(firstController.is_open)\n",
    "print(firstController.get_settings())\n",
    "\n",
    "\n",
    "valve_controller2=c_int32()\n",
    "valve_controller2.value=2222#Assigning some number for third valve controller\n",
    "\n",
    "secondController=serial.Serial(secondControllerCOM, timeout=1, write_timeout=0)\n",
    "time.sleep(5.0)\n",
    "print(secondController.is_open)\n",
    "print(secondController.get_settings())\n",
    "\n",
    "\n",
    "valve_controller3=c_int32()\n",
    "valve_controller3.value=3333#Assigning some number for third valve controller\n",
    "\n",
    "thirdController=serial.Serial(thirdControllerCOM, timeout=1, write_timeout=0)\n",
    "time.sleep(5.0)\n",
    "print(thirdController.is_open)\n",
    "print(thirdController.get_settings())\n"
   ]
  },
  {
   "cell_type": "markdown",
   "metadata": {},
   "source": [
    "+ Next we will define the functions for setting the state of the Valves using the valve controllers.\n",
    "+ We will store the code for setting the valve in the file ```config/setValveControllers.py``` "
   ]
  },
  {
   "cell_type": "code",
   "execution_count": 19,
   "metadata": {},
   "outputs": [],
   "source": [
    "%%write_and_run config/setValveControllers.py\n",
    "#Creating a ctypes vector to store the valve states \n",
    "#Zero based indexing used. So first valve state is at index 0\n",
    "valveController1_state=(c_int32*8)(0)\n",
    "valveController2_state=(c_int32*8)(0)\n",
    "valveController3_state=(c_int32*8)(0)\n",
    "\n",
    "def set_first_controller(state_vector):\n",
    "    stringVector=\"\"\n",
    "    readString=\"\"\n",
    "    for digit in state_vector:\n",
    "        stringVector+=str(digit)\n",
    "    stringVector+=\"\\n\"\n",
    "    firstController.write(stringVector.encode())\n",
    "    try:\n",
    "        readString=firstController.readline().decode(\"utf-8\").strip()\n",
    "        if readString==stringVector.strip():\n",
    "            print(\"Valve Controller 1 State successfully changed!\")\n",
    "            print_array(state_vector)\n",
    "        else:\n",
    "            print(\"Valve Controller 1 Strings don't match. There is a problem!\")\n",
    "            print(\"Read String is: \",readString)\n",
    "    except Exception as e:\n",
    "        print(\"Valve Controller 1 Serial Read Error. Will Try again!\")\n",
    "        print(\"Reseting Pressures!\")\n",
    "        reset_pressures()\n",
    "        set_first_controller(state_vector)\n",
    "        \n",
    "def set_second_controller(state_vector):\n",
    "    stringVector=\"\"\n",
    "    readString=\"\"\n",
    "    for digit in state_vector:\n",
    "        stringVector+=str(digit)\n",
    "    stringVector+=\"\\n\"\n",
    "    secondController.write(stringVector.encode())\n",
    "    try:\n",
    "        readString=secondController.readline().decode(\"utf-8\").strip()\n",
    "        if readString==stringVector.strip():\n",
    "            print(\"Valve Controller 2 State successfully changed!\")\n",
    "            print_array(state_vector)\n",
    "        else:\n",
    "            print(\"Valve Controller 2 Strings don't match. There is a problem!\")\n",
    "            print(\"Read String is: \",readString)\n",
    "    except Exception as e:\n",
    "        print(\"Valve Controller 2 Serial Read Error. Will Try again!\")\n",
    "        print(\"Reseting Pressures!\")\n",
    "        reset_pressures()\n",
    "        set_second_controller(state_vector)\n",
    "\n",
    "def set_third_controller(state_vector):\n",
    "    stringVector=\"\"\n",
    "    readString=\"\"\n",
    "    for digit in state_vector:\n",
    "        stringVector+=str(digit)\n",
    "    stringVector+=\"\\n\"\n",
    "    thirdController.write(stringVector.encode())\n",
    "    try:\n",
    "        readString=thirdController.readline().decode(\"utf-8\").strip()\n",
    "        if readString==stringVector.strip():\n",
    "            print(\"Valve Controller 3 State successfully changed!\")\n",
    "            print_array(state_vector)\n",
    "        else:\n",
    "            print(\"Valve Controller 3 Strings don't match. There is a problem!\")\n",
    "            print(\"Read String is: \",readString)\n",
    "    except Exception as e:\n",
    "        print(\"Valve Controller 3 Serial Read Error. Will Try again!\")\n",
    "        print(\"Reseting Pressures!\")\n",
    "        reset_pressures()\n",
    "        set_third_controller(state_vector)\n",
    "\n",
    "#Defining function to print out all valve states\n",
    "def print_array(int_array):\n",
    "    for i in range(0,len(int_array)):\n",
    "        print(int_array[i], end= \" \")\n",
    "    print(\"\")\n",
    "\n",
    "#Defining functions to set valves to a specific state \n",
    "\n",
    "#WARNING! Only use the safe alternatives of these functions defined below\n",
    "def set_valves(Instr_ID,state_vector):\n",
    "    if Instr_ID is valve_controller1:\n",
    "        set_first_controller(state_vector)\n",
    "    elif Instr_ID is valve_controller2:\n",
    "        set_second_controller(state_vector)\n",
    "    elif Instr_ID is valve_controller3:\n",
    "        set_third_controller(state_vector)        \n",
    "        \n",
    "#Use safe alternative defined below\n",
    "def close_all_valves(Instr_ID,state_vector):\n",
    "    for i in range(0,len(state_vector)):\n",
    "        state_vector[i]=0\n",
    "    set_valves(Instr_ID,state_vector)\n",
    "    \n",
    "def reset_state_vector(state_vector):\n",
    "    for i in range(0,len(state_vector)):\n",
    "        state_vector[i]=0\n",
    "        \n",
    "def reset_all_state_vectors():\n",
    "    reset_state_vector(valveController1_state)\n",
    "    reset_state_vector(valveController2_state)\n",
    "    reset_state_vector(valveController3_state)\n",
    "\n",
    "## Need Load File\n",
    "def update_valve_states():\n",
    "    set_valves(valve_controller1,valveController1_state)\n",
    "    set_valves(valve_controller2,valveController2_state)\n",
    "    set_valves(valve_controller3,valveController3_state)\n",
    "\n",
    "def reset_valve_states():\n",
    "    close_all_valves(valve_controller1,valveController1_state)\n",
    "    close_all_valves(valve_controller2,valveController2_state)\n",
    "    close_all_valves(valve_controller3,valveController3_state)"
   ]
  },
  {
   "cell_type": "markdown",
   "metadata": {},
   "source": [
    "+ Now lets try setting the Valve Controllers\n",
    "+ We will do this by changing the State Vectors and then updating the valve states."
   ]
  },
  {
   "cell_type": "code",
   "execution_count": 20,
   "metadata": {},
   "outputs": [
    {
     "name": "stdout",
     "output_type": "stream",
     "text": [
      "Valve Controller 1 State successfully changed!\n",
      "1 0 0 0 0 0 0 0 \n",
      "Valve Controller 2 State successfully changed!\n",
      "1 0 0 0 0 0 0 0 \n",
      "Valve Controller 3 State successfully changed!\n",
      "1 0 0 0 0 0 0 0 \n"
     ]
    }
   ],
   "source": [
    "#Turning on the first Valve for all three Controllers\n",
    "valveController1_state[0]=1\n",
    "valveController2_state[0]=1\n",
    "valveController3_state[0]=1\n",
    "update_valve_states()\n",
    "time.sleep(5)"
   ]
  },
  {
   "cell_type": "markdown",
   "metadata": {},
   "source": [
    "+ We can reset the controllers as well"
   ]
  },
  {
   "cell_type": "code",
   "execution_count": 21,
   "metadata": {},
   "outputs": [
    {
     "name": "stdout",
     "output_type": "stream",
     "text": [
      "Valve Controller 1 State successfully changed!\n",
      "0 0 0 0 0 0 0 0 \n",
      "Valve Controller 2 State successfully changed!\n",
      "0 0 0 0 0 0 0 0 \n",
      "Valve Controller 3 State successfully changed!\n",
      "0 0 0 0 0 0 0 0 \n"
     ]
    }
   ],
   "source": [
    "reset_valve_states()"
   ]
  },
  {
   "cell_type": "markdown",
   "metadata": {},
   "source": [
    "+ Now lets close the connection to our Valve Controllers.\n",
    "+ We will append the ```config/deviceShutdown.py``` file."
   ]
  },
  {
   "cell_type": "code",
   "execution_count": 22,
   "metadata": {},
   "outputs": [
    {
     "name": "stdout",
     "output_type": "stream",
     "text": [
      "Valve Controller 1 Connection Closed!\n",
      "Valve Controller 2 Connection Closed!\n",
      "Valve Controller 3 Connection Closed!\n"
     ]
    }
   ],
   "source": [
    "%%write_and_run -a config/deviceShutdown.py\n",
    "\n",
    "firstController.close()\n",
    "if not firstController.isOpen():\n",
    "    print(\"Valve Controller 1 Connection Closed!\")\n",
    "else:\n",
    "    print(\"error! Count not close Valve Controller 1 connection.\")\n",
    "\n",
    "secondController.close()\n",
    "if not secondController.isOpen():\n",
    "    print(\"Valve Controller 2 Connection Closed!\")\n",
    "else:\n",
    "    print(\"error! Count not close Valve Controller 2 connection.\")\n",
    "\n",
    "thirdController.close()\n",
    "if not thirdController.isOpen():\n",
    "    print(\"Valve Controller 3 Connection Closed!\")\n",
    "else:\n",
    "    print(\"error! Count not close Valve Controller 3 connection.\")"
   ]
  },
  {
   "cell_type": "markdown",
   "metadata": {},
   "source": [
    "### Setting up Magnetic Stirrer\n",
    "+ We will setup the V&P Scientific Computer Controlled Magnetic Stirrer.<br><img src=\"img/IMG_4346.jpg\" height=\"50%\" width=\"50%\">\n",
    "+ Connect the Provided Data and Power Cables from the Black Controller Box to the Magnetic Stirrer as shown. <br><img src=\"img/IMG_4347.jpg\" height=\"50%\" width=\"50%\">\n",
    "+ Connect to the nearest USB Hub using the provided USB Cable.<br><img src=\"img/IMG_4348.jpg\" height=\"50%\" width=\"50%\">\n",
    "+ Connect to the Power Strip using the provided AC Power Cable.<br><img src=\"img/IMG_4349.jpg\" height=\"50%\" width=\"50%\">\n",
    "+ We will now connect and test the Magnetic Stirrer. You will need:\n",
    "    + [24mm PVDF Magnetic Stirring Disc](https://vp-sci.com/product/vp-772dp-n42-24-3/)  for 50ml Tubes from V&P Scientific\n",
    "    + [50ml Falcon Tubes](https://ecatalog.corning.com/life-sciences/b2c/US/en/Liquid-Handling/Tubes,-Liquid-Handling/Centrifuge-Tubes/Falcon%C2%AE-Conical-Centrifuge-Tubes/p/352098)\n",
    "    + 3D Printed 50ml Falcon Tube Holder.\n",
    "+ Add some tap water and magnetic disc to the 50ml Falcon Tube.<br><img src=\"img/IMG_4350.jpg\" height=\"50%\" width=\"50%\">\n",
    "+ Using Arduino IDE identify the COM Port for the Magnetic Stirrer.\n",
    "    + In our case it was COM12\n",
    "+ Execute the cell below to initialize the Magnetic Stirrer.\n",
    "    + This will also update the ```config/instrument_initialization.py``` file."
   ]
  },
  {
   "cell_type": "code",
   "execution_count": 23,
   "metadata": {},
   "outputs": [
    {
     "name": "stdout",
     "output_type": "stream",
     "text": [
      "COM12\n",
      "{'baudrate': 9600, 'bytesize': 8, 'parity': 'N', 'stopbits': 1, 'xonxoff': False, 'dsrdtr': False, 'rtscts': False, 'timeout': 1, 'write_timeout': 0, 'inter_byte_timeout': None}\n",
      "True\n"
     ]
    }
   ],
   "source": [
    "%%write_and_run -a config/instrument_initialization.py\n",
    "\n",
    "magneticStirrerCOM=\"COM12\" #Using Arduino IDE\n",
    "#Initializing magnetic stirrer\n",
    "ser = serial.Serial(magneticStirrerCOM, timeout=1, write_timeout=0)\n",
    "time.sleep(5)\n",
    "print(ser.name)\n",
    "print(ser.get_settings())\n",
    "print(ser.is_open)\n",
    "if not ser.is_open:\n",
    "    ser.open()\n",
    "    time.sleep(5)"
   ]
  },
  {
   "cell_type": "markdown",
   "metadata": {},
   "source": [
    "+ Now we will try controlling the magnetic stirrer using Jupyter Notebooks.\n",
    "    + Execute the cell below to watch a video of the process.\n",
    "    + After which you can execute the cells after the video."
   ]
  },
  {
   "cell_type": "code",
   "execution_count": 24,
   "metadata": {},
   "outputs": [
    {
     "data": {
      "text/html": [
       "<iframe width=\"800\" height=\"600\" src=\"https://www.youtube.com/embed/ff7pH2Nusm0?si=6UPNB0Qf3a2jlYut\" title=\"YouTube video player\" frameborder=\"0\" allow=\"accelerometer; autoplay; clipboard-write; encrypted-media; gyroscope; picture-in-picture; web-share\" referrerpolicy=\"strict-origin-when-cross-origin\" allowfullscreen></iframe>\n"
      ],
      "text/plain": [
       "<IPython.core.display.HTML object>"
      ]
     },
     "metadata": {},
     "output_type": "display_data"
    }
   ],
   "source": [
    "%%HTML\n",
    "<iframe width=\"800\" height=\"600\" src=\"https://www.youtube.com/embed/ff7pH2Nusm0?si=6UPNB0Qf3a2jlYut\" title=\"YouTube video player\" frameborder=\"0\" allow=\"accelerometer; autoplay; clipboard-write; encrypted-media; gyroscope; picture-in-picture; web-share\" referrerpolicy=\"strict-origin-when-cross-origin\" allowfullscreen></iframe>"
   ]
  },
  {
   "cell_type": "code",
   "execution_count": 25,
   "metadata": {},
   "outputs": [],
   "source": [
    "#Sets stirrer speed in rpm units\n",
    "def set_stirrer_speed(rpm):\n",
    "    buffer=ser.read(ser.inWaiting())\n",
    "    byteString=\"s \"+str(rpm)\n",
    "    ser.write(byteString.encode())\n",
    "    \n",
    "def stop_stirrer():\n",
    "    set_stirrer_speed(0)"
   ]
  },
  {
   "cell_type": "code",
   "execution_count": 26,
   "metadata": {},
   "outputs": [],
   "source": [
    "set_stirrer_speed(200)\n",
    "time.sleep(10)"
   ]
  },
  {
   "cell_type": "code",
   "execution_count": 27,
   "metadata": {},
   "outputs": [],
   "source": [
    "stop_stirrer()"
   ]
  },
  {
   "cell_type": "markdown",
   "metadata": {},
   "source": [
    "+ Execute the cell below to close the connection to the Magnetic Stirrer.\n",
    "    + This will also update the ```config/deviceShutdown.py``` file."
   ]
  },
  {
   "cell_type": "code",
   "execution_count": 28,
   "metadata": {},
   "outputs": [
    {
     "name": "stdout",
     "output_type": "stream",
     "text": [
      "Magnetic Stirrer Connection Closed!\n"
     ]
    }
   ],
   "source": [
    "%%write_and_run -a config/deviceShutdown.py\n",
    "\n",
    "def shutdown_stirrer():\n",
    "    buffer=ser.read(ser.inWaiting())\n",
    "    byteString=\"s \"+str(0)\n",
    "    ser.write(byteString.encode())\n",
    "    ser.close()\n",
    "    if not ser.is_open:\n",
    "        print(\"Magnetic Stirrer Connection Closed!\")\n",
    "\n",
    "shutdown_stirrer()"
   ]
  },
  {
   "cell_type": "markdown",
   "metadata": {},
   "source": [
    "+ Turn off the Power Strip.\n",
    "+ We will use a [160QT Sterlite Storage Container](https://www.homedepot.com/p/Sterilite-160-Qt-Wheeled-Storage-Box-14674K02/309750700) as a Secondary Container for our water bath.\n",
    "+ Place this Sterlite Container close to the Computer on the left edge of the Power Strip as shown. <br><img src=\"img/IMG_4354.jpg\" height=\"50%\" width=\"50%\">\n",
    "+ Put a [19QT Water Bath](https://www.amazon.com/dp/B01IFFTX5O/) inside the Sterlite Container.\n",
    "    + Also put the Magnetic Stirrer next to the Water Bath as shown.<br><img src=\"img/IMG_4355.jpg\" height=\"50%\" width=\"50%\">\n",
    "+ Put the Black Magnetic Stirrer Contoller on the rack above your bench as shown.\n",
    "    + Route the AC Power Cable from the back into the Power Strip.<br><img src=\"img/IMG_4358.jpg\" height=\"50%\" width=\"50%\">\n",
    "+ Connect the USB Cable for the Magnetic Stirrer Controller to the USB Hub Next to your Computer.<br><img src=\"img/IMG_4357.jpg\" height=\"50%\" width=\"50%\">\n",
    "\n",
    "### Setting up the Water Bath\n",
    "+ We bought a [800W Anova Sous Vide Temperature Controller](https://www.amazon.com/dp/B00UKPBXM4/).\n",
    "+ We attached it to our Water Bath in the Position Shown.\n",
    "    + We plugged in the Temperature Controller to the Power Strip.<br><img src=\"img/IMG_4359.jpg\" height=\"50%\" width=\"50%\">\n",
    "+ We turned the Power Strip On.\n",
    "+ Using the Anova App we changed the Temperature Unit for the Sous Vide Temperature Controller to Celcius.\n",
    "    + We then set the target Temperature to 37&deg;C.<br><img src=\"img/IMG_4361.jpg\" height=\"50%\" width=\"50%\">\n",
    "+ Attach five [3-Finger Clamps](https://www.amazon.com/dp/B00AWS3QV0) on the water bath as shown.\n",
    "    + We will use these clamps to hold 50ml Falcon Tubes for the Cell Channel in the water bath.\n",
    "    + Make sure the Magnetic Stirrer is right next to the Holding location for the Top right Clamp.<br><img src=\"img/IMG_4362.jpg\" height=\"50%\" width=\"50%\">\n",
    "+ (Optional) Since UC San Diego is in an earthquake zone we also secured the Sterlite Container with Bungee Cords as shown.\n",
    "\n",
    "|<br>|<br>|\n",
    "|-|-|\n",
    "|<img src=\"img/IMG_4402.jpg\">|<img src=\"img/IMG_4403.jpg\">|\n",
    "\n",
    "+ Remove and dry the Magnetic Stirring Disk from the 50ml Tube. \n",
    "    + Then put it in a [Ziploc Pouch](https://www.amazon.com/dp/B01IPIL5JS/). \n",
    "    + You can keep the other Magnetic Stirring Disks in this pouch as well.<br><img src=\"img/IMG_4428.jpg\" height=\"50%\" width=\"50%\">\n",
    "+ Put this pouch in the Sterlite Container as shown, for future use. <br><img src=\"img/IMG_4429.jpg\" height=\"50%\" width=\"50%\">\n",
    "\n",
    "### Setting up left Monitor Riser\n",
    "+ Put the 3D Printed Valve Holder on the shorter monitor riser in the orientation shown. <br><img src=\"img/IMG_4366.jpg\" height=\"50%\" width=\"50%\">\n",
    "+ Secure the Valve Holder to the Monitor riser using Labelling Tape as shown.<br><img src=\"img/IMG_4367.jpg\" height=\"50%\" width=\"50%\">\n",
    "+ Put the Oil and Cell Channel Flow Sensor Holder on the monitor riser as shown. <br><img src=\"img/IMG_4368.jpg\" height=\"50%\" width=\"50%\">\n",
    "+ Secure the Holder in place using Labelling Tape as shown.<br><img src=\"img/IMG_4369.jpg\" height=\"50%\" width=\"50%\">\n",
    "+ Put a [Glass Drying dish](https://www.fishersci.com/shop/products/glass-drying-dishes/15242A) below the Monitor Riser as shown.\n",
    "    + This Dish will be the secondary container for our Bleach bottle collecting the outflow from our Cell Channel Bypass valve.<br><img src=\"img/IMG_4370.jpg\" height=\"50%\" width=\"50%\">\n",
    "+ Put the 3D Printed Pipette Holder on the Sterlite Storage Container as shown.<br><img src=\"img/IMG_4371.jpg\" height=\"50%\" width=\"50%\">\n",
    "+ Screw on the 3D Printed Cap for a [500ml GL45 Glass Bottle](https://www.fishersci.com/shop/products/pyrex-reusable-media-storage-bottles-12/064141C) as shown.<br><img src=\"img/IMG_4372.jpg\" height=\"50%\" width=\"50%\">\n",
    "+ Put the GL45 Bottle under the Monitor Riser in the Glass Dish Secondary Container as shown.<br><img src=\"img/IMG_4373.jpg\" height=\"50%\" width=\"50%\">\n",
    "+ Put the 3D Printed 50ml Falcon Tube Holders in front of the Monitor Riser.<br><img src=\"img/IMG_4374.jpg\" height=\"50%\" width=\"50%\">\n",
    "+ Secure these Holders in Place using Labelling Tape.<br><img src=\"img/IMG_4375.jpg\" height=\"50%\" width=\"50%\">\n",
    "\n",
    "### Setting up the Cell and Oil Channel Flow Sensors\n",
    "+ We will setup the BFS Flow Sensors.<br><img src=\"img/IMG_4376.jpg\" height=\"50%\" width=\"50%\">\n",
    "+ We will first setup the Cell Channel Flow Sensor.\n",
    "+ Connect the Serial Connection and DC Power as shown.<br><img src=\"img/IMG_4379.jpg\" height=\"50%\" width=\"50%\">\n",
    "+ Connect the other side of the Serial Connection to the Serial to USB Adapter.\n",
    "    + Then Connect the USB Adapter to the USB Hub on your bench.<br><img src=\"img/IMG_4378.jpg\" height=\"50%\" width=\"50%\">\n",
    "+ Plug the DC Power Adapter into the Power Strip.<br><img src=\"img/IMG_4380.jpg\" height=\"50%\" width=\"50%\">\n",
    "+ Using NI Max Identify the COM Port. \n",
    "    + In our case it is COM13\n",
    "    + We will use the VISA Resource Name to connect to our flow sensor. This is ASRL13::INSTR<br><img src=\"img/Screenshot%202024-10-28%20214115.png\">\n",
    "+ Remove the Black rubber feet at the bottom of the flow sensor.<br><img src=\"img/IMG_4381.jpg\" height=\"50%\" width=\"50%\">\n",
    "+ We will now install four of these rubber feet to the bottom of the flow sensor.\n",
    "    + Each of these Rubber feet comes with a Bolt.\n",
    "    + You will also need a [3mm Hex Wrench](https://www.amazon.com/AmazonBasics-Hex-Allen-Wrench-Ball/dp/B0776C2D6H/) to Screw these Feet in.<br><img src=\"img/IMG_4382.jpg\" height=\"50%\" width=\"50%\">\n",
    "+ Install the four Rubber feet as shown.<br><img src=\"img/IMG_4383.jpg\" height=\"50%\" width=\"50%\">\n",
    "+ Label this Flow Sensor: Cell Channel Flow Sensor, using Labelling Tape.<br><img src=\"img/IMG_4384.jpg\" height=\"50%\" width=\"50%\">\n",
    "+ Put the Cell Channel Flow Sensor on the Left Side of the Holder on the Monitor Riser.<br><img src=\"img/IMG_4385.jpg\" height=\"50%\" width=\"50%\">\n",
    "+ The Power and USB are connected as shown.<br><img src=\"img/IMG_4386.jpg\" height=\"50%\" width=\"50%\">\n",
    "+ Follow the Same Steps for the Second BFS Flow Sensor and Label it as: Bead Channel Flow Sensor.<br><img src=\"img/IMG_4388.jpg\" height=\"50%\" width=\"50%\">\n",
    "+ Put it on the right side of the Sensor Holder as shown.<br><img src=\"img/IMG_4389.jpg\" height=\"50%\" width=\"50%\">\n",
    "+ Connect the Power and USB.<br><img src=\"img/IMG_4390.jpg\" height=\"50%\" width=\"50%\">\n",
    "+ Using NI Max Identify the COM Port. \n",
    "    + In our case it is COM14\n",
    "    + We will use the VISA Resource Name to connect to our flow sensor. This is ASRL14::INSTR<br><img src=\"img/Screenshot%202024-10-28%20214931.png\">\n",
    "+ The Flow Sensors come with these Fittings. Store them carefully as we will need them later.\n",
    "+ Execute the cell below to initialize the connection to our flow sensors and get flow rates values from them.\n",
    "    + This will also update the ```config/instrument_initialization.py``` file.\n",
    "+ Put the Compressed Air Gun on the Sterlite Container as shown for easier access.<br><img src=\"img/IMG_4575.jpg\" height=\"50%\" width=\"50%\">"
   ]
  },
  {
   "cell_type": "code",
   "execution_count": 29,
   "metadata": {},
   "outputs": [
    {
     "name": "stdout",
     "output_type": "stream",
     "text": [
      "Cell Channel Flow Meter ID: 3000\n",
      "error 0 :\n",
      "Oil Channel Flow Meter ID: 3001\n",
      "error 0 :\n",
      "Cell Channel Density:\n",
      "0.4997599124908447\n",
      "Cell Channel Flow rate:\n",
      "-1750.4286887357505\n",
      "Oil Channel Density:\n",
      "1.184064269065857\n",
      "Oil Channel Flow rate:\n",
      "-1968.7159802554222\n"
     ]
    }
   ],
   "source": [
    "%%write_and_run -a config/instrument_initialization.py\n",
    "\n",
    "#Initializing Flow Meters\n",
    "Cell_Channel_BFS_COM=\"ASRL13::INSTR\" # VISA Resource Name from NI Max\n",
    "Oil_Channel_BFS_COM=\"ASRL14::INSTR\" # VISA Resource Name from NI Max\n",
    "\n",
    "cellChannelFlowMeter=c_int32()\n",
    "oilChannelFlowMeter=c_int32()\n",
    "\n",
    "error=Elveflow64.BFS_Initialization(Cell_Channel_BFS_COM.encode('ascii'),byref(cellChannelFlowMeter))\n",
    "error=Elveflow64.BFS_Set_Filter(cellChannelFlowMeter,float(0.1))\n",
    "print('Cell Channel Flow Meter ID: %d' % cellChannelFlowMeter.value)\n",
    "print(\"error %d :\" % error) #Error 1073481728 is harmless and is just a warning\n",
    "\n",
    "error=Elveflow64.BFS_Initialization(Oil_Channel_BFS_COM.encode('ascii'),byref(oilChannelFlowMeter))\n",
    "error=Elveflow64.BFS_Set_Filter(oilChannelFlowMeter,float(0.1))\n",
    "print('Oil Channel Flow Meter ID: %d' % oilChannelFlowMeter.value)\n",
    "print(\"error %d :\" % error)\n",
    "\n",
    "#Density measurement is required so that correct flow measurement is returned.\n",
    "\n",
    "#Defining Return Variables\n",
    "cellChannelFlowDensity=c_double(-1)\n",
    "oilChannelFlowDensity=c_double(-1)\n",
    "\n",
    "cellChannelFlowRate=c_double(-1)\n",
    "oilChannelFlowRate=c_double(-1)\n",
    "\n",
    "#Getting Density and Flow values for Cell Channel\n",
    "error=Elveflow64.BFS_Get_Density(cellChannelFlowMeter,byref(cellChannelFlowDensity))\n",
    "print(\"Cell Channel Density:\")\n",
    "print(cellChannelFlowDensity.value)\n",
    "error=Elveflow64.BFS_Get_Flow(cellChannelFlowMeter.value,byref(cellChannelFlowRate))\n",
    "print(\"Cell Channel Flow rate:\")\n",
    "print(cellChannelFlowRate.value)\n",
    "\n",
    "#Getting Density and Flow values for Oil Channel\n",
    "error=Elveflow64.BFS_Get_Density(oilChannelFlowMeter,byref(oilChannelFlowDensity))\n",
    "print(\"Oil Channel Density:\")\n",
    "print(oilChannelFlowDensity.value)\n",
    "error=Elveflow64.BFS_Get_Flow(oilChannelFlowMeter.value,byref(oilChannelFlowRate))\n",
    "print(\"Oil Channel Flow rate:\")\n",
    "print(oilChannelFlowRate.value)"
   ]
  },
  {
   "cell_type": "markdown",
   "metadata": {},
   "source": [
    "+ Execute the cell below to close the connection to the Cell and Oil Channel Flow Sensors.\n",
    "    + This will also update the ```config/deviceShutdown.py``` file."
   ]
  },
  {
   "cell_type": "code",
   "execution_count": 30,
   "metadata": {},
   "outputs": [
    {
     "name": "stdout",
     "output_type": "stream",
     "text": [
      "Cell Channel Flow meter Connection Closed!\n",
      "Oil Channel Flow meter Connection Closed!\n"
     ]
    }
   ],
   "source": [
    "%%write_and_run -a config/deviceShutdown.py\n",
    "\n",
    "#Shutting Down Flow Oil and Cell Channel Flow Sensors\n",
    "error=Elveflow64.BFS_Destructor(cellChannelFlowMeter.value)\n",
    "if(error==0):\n",
    "    print(\"Cell Channel Flow meter Connection Closed!\")\n",
    "else:\n",
    "    print(\"error %d :\" % error)\n",
    "    \n",
    "error=Elveflow64.BFS_Destructor(oilChannelFlowMeter.value)\n",
    "if(error==0):\n",
    "    print(\"Oil Channel Flow meter Connection Closed!\")\n",
    "else:\n",
    "    print(\"error %d :\" % error)"
   ]
  },
  {
   "cell_type": "markdown",
   "metadata": {},
   "source": [
    "### Setting up Microscope\n",
    "+ Put the AE31 Microscope next to the Shorter Monitor Riser as shown.\n",
    "\n",
    "|Left Side|Right Side|\n",
    "|-|-|\n",
    "|<img src=\"img/IMG_4391.jpg\">|<img src=\"img/IMG_4392.jpg\">|\n",
    "\n",
    "+ Plug in the AC Power Cable into the Power Strip.<br><img src=\"img/IMG_4394.jpg\" height=\"50%\" width=\"50%\">\n",
    "+ Turn the Microscope On. <br><img src=\"img/IMG_4395.jpg\" height=\"50%\" width=\"50%\">\n",
    "+ Using Labelling Tape attach the 3D Printed iPhone Holder to the Microscope Objective.\n",
    "    + You can modify the files to fit your Phone. <br><img src=\"img/IMG_4396.jpg\" height=\"50%\" width=\"50%\">\n",
    "    \n",
    "### Setting up the XYZ and XY Robots\n",
    "+ Disconnect the USB and Power Cables from the XYZ Robot\n",
    "+ Put the XYZ Robot and Taller Monitor Riser next to the Microscope as shown.\n",
    "\n",
    "|<br>|<br>|\n",
    "|-|-|\n",
    "|<img src=\"img/IMG_4397.jpg\">|<img src=\"img/IMG_4398.jpg\">|\n",
    "\n",
    "+ Secure the legs of the XYZ Robot in place using Labelling Tape as shown.\n",
    "\n",
    "|Right Leg|Left Leg|\n",
    "|-|-|\n",
    "|<img src=\"img/IMG_4407.jpg\">|<img src=\"img/IMG_4408.jpg\">|\n",
    "\n",
    "+ Put the XY Robot in position such that the back of the Linear Rail is parallel to the left leg.\n",
    "    + The purpose of this placement is to allow free movement of the Linear Rail.\n",
    "\n",
    "|<br>|<br>|\n",
    "|-|-|\n",
    "|<img src=\"img/IMG_4417.jpg\">|<img src=\"img/IMG_4414.jpg\">|\n",
    "\n",
    "+ Execute the cell below to watch a video of the positioning."
   ]
  },
  {
   "cell_type": "code",
   "execution_count": 31,
   "metadata": {},
   "outputs": [
    {
     "data": {
      "text/html": [
       "<iframe width=\"800\" height=\"600\" src=\"https://www.youtube.com/embed/t5Qxu1TRRuk?si=nWq5D13l-IY05dNR\" title=\"YouTube video player\" frameborder=\"0\" allow=\"accelerometer; autoplay; clipboard-write; encrypted-media; gyroscope; picture-in-picture; web-share\" referrerpolicy=\"strict-origin-when-cross-origin\" allowfullscreen></iframe>\n"
      ],
      "text/plain": [
       "<IPython.core.display.HTML object>"
      ]
     },
     "metadata": {},
     "output_type": "display_data"
    }
   ],
   "source": [
    "%%HTML\n",
    "<iframe width=\"800\" height=\"600\" src=\"https://www.youtube.com/embed/t5Qxu1TRRuk?si=nWq5D13l-IY05dNR\" title=\"YouTube video player\" frameborder=\"0\" allow=\"accelerometer; autoplay; clipboard-write; encrypted-media; gyroscope; picture-in-picture; web-share\" referrerpolicy=\"strict-origin-when-cross-origin\" allowfullscreen></iframe>"
   ]
  },
  {
   "cell_type": "markdown",
   "metadata": {},
   "source": [
    "+ Remove the Monitor Riser temporarily and Secure the XY Robot and the Ice Box in place using Labelling Tape.\n",
    "+ Execute the cell below to watch a video of the secured XY Robot and Ice Box."
   ]
  },
  {
   "cell_type": "code",
   "execution_count": 32,
   "metadata": {},
   "outputs": [
    {
     "data": {
      "text/html": [
       "<iframe width=\"800\" height=\"600\" src=\"https://www.youtube.com/embed/sraLl1G57F8?si=2Nidj-OFolLfSx3a\" title=\"YouTube video player\" frameborder=\"0\" allow=\"accelerometer; autoplay; clipboard-write; encrypted-media; gyroscope; picture-in-picture; web-share\" referrerpolicy=\"strict-origin-when-cross-origin\" allowfullscreen></iframe>\n"
      ],
      "text/plain": [
       "<IPython.core.display.HTML object>"
      ]
     },
     "metadata": {},
     "output_type": "display_data"
    }
   ],
   "source": [
    "%%HTML\n",
    "<iframe width=\"800\" height=\"600\" src=\"https://www.youtube.com/embed/sraLl1G57F8?si=2Nidj-OFolLfSx3a\" title=\"YouTube video player\" frameborder=\"0\" allow=\"accelerometer; autoplay; clipboard-write; encrypted-media; gyroscope; picture-in-picture; web-share\" referrerpolicy=\"strict-origin-when-cross-origin\" allowfullscreen></iframe>"
   ]
  },
  {
   "cell_type": "markdown",
   "metadata": {},
   "source": [
    "+ Now place the second Ice Box as shown, such that the central axis for Waste Tube 1, Waste Tube 2, and Positions 4, 8, 12 and 16 are in the same plane.<br><img src=\"img/IMG_4418.jpg\" height=\"50%\" width=\"50%\">\n",
    "+ Execute the cell below to watch a video of the second ice box secured with labelling tape."
   ]
  },
  {
   "cell_type": "code",
   "execution_count": 33,
   "metadata": {},
   "outputs": [
    {
     "data": {
      "text/html": [
       "<iframe width=\"800\" height=\"600\" src=\"https://www.youtube.com/embed/H8A0E8uKts8?si=YhJPUffp-IDcbCci\" title=\"YouTube video player\" frameborder=\"0\" allow=\"accelerometer; autoplay; clipboard-write; encrypted-media; gyroscope; picture-in-picture; web-share\" referrerpolicy=\"strict-origin-when-cross-origin\" allowfullscreen></iframe>\n"
      ],
      "text/plain": [
       "<IPython.core.display.HTML object>"
      ]
     },
     "metadata": {},
     "output_type": "display_data"
    }
   ],
   "source": [
    "%%HTML\n",
    "<iframe width=\"800\" height=\"600\" src=\"https://www.youtube.com/embed/H8A0E8uKts8?si=YhJPUffp-IDcbCci\" title=\"YouTube video player\" frameborder=\"0\" allow=\"accelerometer; autoplay; clipboard-write; encrypted-media; gyroscope; picture-in-picture; web-share\" referrerpolicy=\"strict-origin-when-cross-origin\" allowfullscreen></iframe>"
   ]
  },
  {
   "cell_type": "markdown",
   "metadata": {},
   "source": [
    "+ Put the Monitor Riser Back. \n",
    "    + Execute the cell below to watch a video of the relative positioning of the XY Robot, XYZ Robot and Talled Monitor Riser."
   ]
  },
  {
   "cell_type": "code",
   "execution_count": 34,
   "metadata": {},
   "outputs": [
    {
     "data": {
      "text/html": [
       "<iframe width=\"800\" height=\"600\" src=\"https://www.youtube.com/embed/f2Y3IT-hyE8?si=MuAKWz4MflwhA_A4\" title=\"YouTube video player\" frameborder=\"0\" allow=\"accelerometer; autoplay; clipboard-write; encrypted-media; gyroscope; picture-in-picture; web-share\" referrerpolicy=\"strict-origin-when-cross-origin\" allowfullscreen></iframe>\n"
      ],
      "text/plain": [
       "<IPython.core.display.HTML object>"
      ]
     },
     "metadata": {},
     "output_type": "display_data"
    }
   ],
   "source": [
    "%%HTML\n",
    "<iframe width=\"800\" height=\"600\" src=\"https://www.youtube.com/embed/f2Y3IT-hyE8?si=MuAKWz4MflwhA_A4\" title=\"YouTube video player\" frameborder=\"0\" allow=\"accelerometer; autoplay; clipboard-write; encrypted-media; gyroscope; picture-in-picture; web-share\" referrerpolicy=\"strict-origin-when-cross-origin\" allowfullscreen></iframe>"
   ]
  },
  {
   "cell_type": "markdown",
   "metadata": {},
   "source": [
    "+ Secure the Monitor Riser to the AE31 Microscope Stage using Labelling Tape as shown.<br><img src=\"img/IMG_4421.jpg\" height=\"50%\" width=\"50%\">\n",
    "+ Connect the Power Supply for the XY Robot to the Power Strip.<br><img src=\"img/IMG_4422.jpg\" height=\"50%\" width=\"50%\">\n",
    "+ Using a [USB 2.0 Type A to Type B Extension cable](https://www.amazon.com/dp/B00NH11KIK) connect the XY Robot to the USB Hub on your Bench.<br><img src=\"img/IMG_4423.jpg\" height=\"50%\" width=\"50%\">\n",
    "+ Using a [USB 2.0 Type A to Type B Extension cable](https://www.amazon.com/dp/B00NH11KIK) connect the XYZ Robot to the USB Hub on the rack next to the Valve Controllers.\n",
    "    + Route the USB Cable behind the legs of the Monitor Riser as shown.<br><img src=\"img/IMG_4424.jpg\" height=\"50%\" width=\"50%\">\n",
    "+ Connect the Power Adapter for the XYZ Robot to the Power Strip as shown.\n",
    "    + Route the power cable behind the legs of the Monitor Riser as shown.<br><img src=\"img/IMG_4427.jpg\" height=\"50%\" width=\"50%\">\n",
    "+ Label the Ice Boxes as Ice Box 1 and Ice Box 2 as shown.<br><img src=\"img/IMG_4430.jpg\" height=\"50%\" width=\"50%\">\n",
    "+ Using Arduino IDE find the COM Ports for the XYZ and XY Robots.\n",
    "    + For our XYZ Robot it is COM15\n",
    "    + For our XY Robot it is COM9\n",
    "+ Execute the cell below to initialize the connection to the XYZ and XY Robots.\n",
    "    + This will also update the ```config/instrument_initialization.py``` file."
   ]
  },
  {
   "cell_type": "code",
   "execution_count": 35,
   "metadata": {},
   "outputs": [
    {
     "name": "stdout",
     "output_type": "stream",
     "text": [
      "COM15\n",
      "{'baudrate': 9600, 'bytesize': 8, 'parity': 'N', 'stopbits': 1, 'xonxoff': False, 'dsrdtr': False, 'rtscts': False, 'timeout': 1, 'write_timeout': 1, 'inter_byte_timeout': None}\n",
      "True\n",
      "COM9\n",
      "{'baudrate': 9600, 'bytesize': 8, 'parity': 'N', 'stopbits': 1, 'xonxoff': False, 'dsrdtr': False, 'rtscts': False, 'timeout': 1, 'write_timeout': 1, 'inter_byte_timeout': None}\n",
      "True\n"
     ]
    }
   ],
   "source": [
    "%%write_and_run -a config/instrument_initialization.py\n",
    "\n",
    "mainPlotterRobotCOM=\"COM15\" # COM Port for XYZ Robot\n",
    "smallDropletCollectionRobotCOM=\"COM9\" # COM Port for XY Robot\n",
    "\n",
    "#Initializing XYZ Robot\n",
    "plotter=serial.Serial(mainPlotterRobotCOM,timeout=1,write_timeout=1)\n",
    "time.sleep(5)\n",
    "print(plotter.name)\n",
    "print(plotter.get_settings())\n",
    "print(plotter.is_open)\n",
    "if not plotter.is_open:\n",
    "    plotter.open()\n",
    "    time.sleep(5)\n",
    "#Initializing XY Robot\n",
    "droplet_collector=serial.Serial(smallDropletCollectionRobotCOM,timeout=1,write_timeout=1)\n",
    "time.sleep(5)\n",
    "print(droplet_collector.name)\n",
    "print(droplet_collector.get_settings())\n",
    "print(droplet_collector.is_open)\n",
    "if not droplet_collector.is_open:\n",
    "    droplet_collector.open()\n",
    "    time.sleep(5)"
   ]
  },
  {
   "cell_type": "markdown",
   "metadata": {},
   "source": [
    "+ Execute the cell below to close the connection to the Robots.\n",
    "    + This will also update the ```config/deviceShutdown.py``` file."
   ]
  },
  {
   "cell_type": "code",
   "execution_count": 36,
   "metadata": {},
   "outputs": [
    {
     "name": "stdout",
     "output_type": "stream",
     "text": [
      "Connection to the XYZ Robot closed successfully!\n",
      "Connection to the XY Robot closed successfully!\n"
     ]
    }
   ],
   "source": [
    "%%write_and_run -a config/deviceShutdown.py\n",
    "\n",
    "#Shutting Down XYZ Robot\n",
    "plotter.write(\"H\\n\".encode())\n",
    "time.sleep(1.0)\n",
    "plotter.write(\"D\\n\".encode())\n",
    "plotter.close()\n",
    "if not plotter.isOpen():\n",
    "    print(\"Connection to the XYZ Robot closed successfully!\")\n",
    "else:\n",
    "    print(\"error! Could not close connection to the XYZ Robot.\")\n",
    "    \n",
    "#Shutting Down XY Robot\n",
    "droplet_collector.write(\"H\\n\".encode())\n",
    "time.sleep(1.0)\n",
    "droplet_collector.close()\n",
    "if not droplet_collector.isOpen():\n",
    "    print(\"Connection to the XY Robot closed successfully!\")\n",
    "else:\n",
    "    print(\"error! Could not close connection to the XY Robot.\")"
   ]
  },
  {
   "cell_type": "markdown",
   "metadata": {},
   "source": [
    "+ Next you should follow the instructions in the [Notebook for Setting the Coordinates for the XYZ Robot](instructions_for_setting_coordinates_for_xyz_robot.ipynb).\n",
    "\n",
    "### Setting up the second Valve Holder and the Bead Flow Sensor\n",
    "+ Place the Valve Holder on the Taller Monitor Riser in the Orientation shown.\n",
    "    + The side row of open slots for valves should be jutting out. This will leave open space below for the valves.\n",
    "    + Our Table was 14 inches wide and the Valve Holder was kept 1.75 inches away from the right edge.\n",
    "    + 1.25 inches of the Valve Holder was kept Jutting out from the front.\n",
    "|Front View|Side View: Side Row of Valve Slots should be jutting out|\n",
    "|-|-|\n",
    "|<img src=\"img/IMG_4442.jpg\">|<img src=\"img/IMG_4443.jpg\">|\n",
    "\n",
    "+ Secure the Valve Holder in place using Labelling Tape as shown.<br><img src=\"img/IMG_4444.jpg\" height=\"50%\" width=\"50%\">\n",
    "+ Put the Sensirion Flow Sensor in the Valve Holder as shown.\n",
    "    + The flow direction arrow should match the orientation shown in the image.<br><img src=\"img/IMG_4445.jpg\" height=\"75%\" width=\"75%\">\n",
    "+ Using a [USB 2.0 Mini B to A Extension Cable](https://www.amazon.com/gp/product/B00NH11N5A), connect the Flow Sensor to the USB Hub next to the Valve Controllers on the rack above your bench.<br><img src=\"img/IMG_4446.jpg\" height=\"75%\" width=\"75%\">\n",
    "+ Using Arduino IDE find the COM Port for the Sensirion Flow Sensor (Bead Channel Flow Sensor).\n",
    "    + For our sensor it is COM7\n",
    "+ Execute the cell below to initialize the connection to the Bead Channel Flow Sensor.\n",
    "    + This will also update the ```config/instrument_initialization.py``` file."
   ]
  },
  {
   "cell_type": "code",
   "execution_count": 37,
   "metadata": {},
   "outputs": [
    {
     "name": "stdout",
     "output_type": "stream",
     "text": [
      "COM7\n",
      "{'baudrate': 9600, 'bytesize': 8, 'parity': 'N', 'stopbits': 1, 'xonxoff': False, 'dsrdtr': False, 'rtscts': False, 'timeout': 1, 'write_timeout': 1, 'inter_byte_timeout': None}\n",
      "True\n"
     ]
    }
   ],
   "source": [
    "%%write_and_run -a config/instrument_initialization.py\n",
    "\n",
    "arduinoSensirionFlowMeterCOM=\"COM7\" #From Arduino IDE\n",
    "arduino_Bead_Flow_meter = serial.Serial(arduinoSensirionFlowMeterCOM, timeout=1, write_timeout=1)\n",
    "time.sleep(5)\n",
    "print(arduino_Bead_Flow_meter.name)\n",
    "print(arduino_Bead_Flow_meter.get_settings())\n",
    "print(arduino_Bead_Flow_meter.is_open)"
   ]
  },
  {
   "cell_type": "markdown",
   "metadata": {},
   "source": [
    "+ Execute the cell below to close the connection to the Bead Channel Flow Sensor.\n",
    "    + This will also update the ```config/deviceShutdown.py``` file."
   ]
  },
  {
   "cell_type": "code",
   "execution_count": 38,
   "metadata": {},
   "outputs": [
    {
     "name": "stdout",
     "output_type": "stream",
     "text": [
      "Bead Channel Flow meter Connection Closed!\n"
     ]
    }
   ],
   "source": [
    "%%write_and_run -a config/deviceShutdown.py\n",
    "\n",
    "arduino_Bead_Flow_meter.close()\n",
    "if not arduino_Bead_Flow_meter.isOpen():\n",
    "    print(\"Bead Channel Flow meter Connection Closed!\")\n",
    "else:\n",
    "    print(\"error! Could not close Bead Channel Flow meter connection.\")"
   ]
  },
  {
   "cell_type": "markdown",
   "metadata": {},
   "source": [
    "### Setting up the Vortices and their Relay Controller\n",
    "+ Label the Relays:\n",
    "    + Label the Relay Controlled by Pin 7 as Relay 1.\n",
    "    + Label the Relay Controlled by Pin 5 as Relay 2.<br><img src=\"img/IMG_4448.jpg\" height=\"50%\" width=\"50%\">\n",
    "+ Put the UNO R3 Microcontroller and Relay Controllers behind the Taller Monitor Riser and AE31 Microscope as shown.\n",
    "    + Plug the Relay Controllers into the Power Strip.<br><img src=\"img/IMG_4449.jpg\" height=\"50%\" width=\"50%\">\n",
    "+ Using a [USB 2.0 Type A to Type B Extension cable](https://www.amazon.com/dp/B00NH11KIK) connect the UNO R3 Microcontroller for the Relay Controllers to the USB Hub on your Bench.<br><img src=\"img/IMG_4450.jpg\" height=\"50%\" width=\"50%\">\n",
    "+ Using Arduino IDE find the COM Port for the Relay Controllers UNO R3.\n",
    "    + For our UNO R3 Microcontroller it was COM10.\n",
    "+ Label the Vortices as Vortex 1 and Vortex 2.\n",
    "    + Arrange these Vortices next to the XYZ Robot and Monitor Riser as shown.\n",
    "    + Part of the Vortex 2 head is between the legs of the Monitor Riser.\n",
    "    + The purpose of keeping these Vortices in this orientation is so we can use the same PTFE tubing length for all 50ml Reservoirs.<br><img src=\"img/IMG_4456.jpg\" height=\"75%\" width=\"75%\">\n",
    "+ Using the AC Power Cords plug Vortex 1 into Relay 1 and Vortex 2 into Relay 2.<br><img src=\"img/IMG_4458.jpg\" height=\"50%\" width=\"50%\">\n",
    "+ Execute the cell below to initialize the connection to the Vortex Relay Controller.\n",
    "    + This will also update the ```config/instrument_initialization.py``` file."
   ]
  },
  {
   "cell_type": "code",
   "execution_count": 39,
   "metadata": {},
   "outputs": [
    {
     "name": "stdout",
     "output_type": "stream",
     "text": [
      "COM10\n",
      "{'baudrate': 9600, 'bytesize': 8, 'parity': 'N', 'stopbits': 1, 'xonxoff': False, 'dsrdtr': False, 'rtscts': False, 'timeout': 1, 'write_timeout': 0, 'inter_byte_timeout': None}\n",
      "True\n"
     ]
    }
   ],
   "source": [
    "%%write_and_run -a config/instrument_initialization.py\n",
    "\n",
    "vortexRelayCOM=\"COM10\"\n",
    "vortexRelay=serial.Serial(vortexRelayCOM,timeout=1,write_timeout=0)\n",
    "time.sleep(5)\n",
    "print(vortexRelay.name)\n",
    "print(vortexRelay.get_settings())\n",
    "print(vortexRelay.is_open)\n",
    "if not vortexRelay.is_open:\n",
    "    vortexRelay.open()\n",
    "    time.sleep(5)"
   ]
  },
  {
   "cell_type": "markdown",
   "metadata": {},
   "source": [
    "+ Lets test our Vortices.\n",
    "+ Lets try turning the first vortex on for 10 seconds.\n",
    "+ Then we will turn off the first vortex and turn on the second vortex for 10 seconds.\n",
    "+ We will then turn both of them on for 10 seconds after which we will turn both off.\n",
    "+ Execute the cell below"
   ]
  },
  {
   "cell_type": "code",
   "execution_count": 40,
   "metadata": {},
   "outputs": [],
   "source": [
    "def stop_bead_vortex():\n",
    "    stop_both_vortices()\n",
    "    \n",
    "def start_bead_vortex():\n",
    "    vortexRelay.write(\"A1|B0\\n\".encode())\n",
    "                                \n",
    "#Use this method to stop the Bead Channel Vortex\n",
    "def stop_bead_vortex2():\n",
    "    stop_both_vortices()\n",
    "\n",
    "def start_bead_vortex2():\n",
    "    vortexRelay.write(\"A0|B1\\n\".encode())\n",
    "\n",
    "def start_both_vortices():\n",
    "    vortexRelay.write(\"A1|B1\\n\".encode())\n",
    "    \n",
    "def stop_both_vortices():\n",
    "    vortexRelay.write(\"A0|B0\\n\".encode())\n",
    "\n",
    "time.sleep(10)\n",
    "start_bead_vortex()\n",
    "time.sleep(10)\n",
    "start_bead_vortex2()\n",
    "time.sleep(10)\n",
    "start_both_vortices()\n",
    "time.sleep(10)\n",
    "stop_both_vortices()\n",
    "time.sleep(10)"
   ]
  },
  {
   "cell_type": "markdown",
   "metadata": {},
   "source": [
    "+ We will later manually adjust the Vortex speeds after puting 50ml Reservoirs inside the heads.\n",
    "+ Execute the cell below to watch a video of the Vortex test."
   ]
  },
  {
   "cell_type": "code",
   "execution_count": 41,
   "metadata": {},
   "outputs": [
    {
     "data": {
      "text/html": [
       "<iframe width=\"800\" height=\"600\" src=\"https://www.youtube.com/embed/jpxHyFy2_0k?si=IjLdjYzJ5_5yrHfZ\" title=\"YouTube video player\" frameborder=\"0\" allow=\"accelerometer; autoplay; clipboard-write; encrypted-media; gyroscope; picture-in-picture; web-share\" referrerpolicy=\"strict-origin-when-cross-origin\" allowfullscreen></iframe>\n"
      ],
      "text/plain": [
       "<IPython.core.display.HTML object>"
      ]
     },
     "metadata": {},
     "output_type": "display_data"
    }
   ],
   "source": [
    "%%HTML\n",
    "<iframe width=\"800\" height=\"600\" src=\"https://www.youtube.com/embed/jpxHyFy2_0k?si=IjLdjYzJ5_5yrHfZ\" title=\"YouTube video player\" frameborder=\"0\" allow=\"accelerometer; autoplay; clipboard-write; encrypted-media; gyroscope; picture-in-picture; web-share\" referrerpolicy=\"strict-origin-when-cross-origin\" allowfullscreen></iframe>"
   ]
  },
  {
   "cell_type": "markdown",
   "metadata": {},
   "source": [
    "+ Execute the cell below to close the connection to the Vortex Relay Controller.\n",
    "    + This will also update the ```config/deviceShutdown.py``` file."
   ]
  },
  {
   "cell_type": "code",
   "execution_count": 42,
   "metadata": {},
   "outputs": [
    {
     "name": "stdout",
     "output_type": "stream",
     "text": [
      "Connection to the Vortex Relay closed successfully!\n"
     ]
    }
   ],
   "source": [
    "%%write_and_run -a config/deviceShutdown.py\n",
    "\n",
    "vortexRelay.write(\"A0|B0\\n\".encode())\n",
    "vortexRelay.close()\n",
    "if not vortexRelay.isOpen():\n",
    "    print(\"Connection to the Vortex Relay closed successfully!\")\n",
    "else:\n",
    "    print(\"error! Could not close connection to the Vortex Relay.\")"
   ]
  },
  {
   "cell_type": "markdown",
   "metadata": {},
   "source": [
    "+ Put twelve 50ml Falcon Tubes in the heads of both vortices as shown.\n",
    "    + This helps loosen the Vortex heads for easier insertion and removal of the 50ml Tubes in the future.\n",
    "    + Leave the Tubes in place for a few days.<br><img src=\"img/IMG_4460.jpg\" height=\"50%\" width=\"50%\">\n",
    "    \n",
    "### Setting up the Fluid Layer\n",
    "+ We now need to setup the valve, fluid lines, manifolds and reservoirs.\n",
    "+ See the [Instructions for Setting up the Valve, Tubing and Reservoirs](instructions_for_setting_up_valves_tubing_and_reservoirs.ipynb) next to set this up."
   ]
  }
 ],
 "metadata": {
  "kernelspec": {
   "display_name": "Python 3 (ipykernel)",
   "language": "python",
   "name": "python3"
  },
  "language_info": {
   "codemirror_mode": {
    "name": "ipython",
    "version": 3
   },
   "file_extension": ".py",
   "mimetype": "text/x-python",
   "name": "python",
   "nbconvert_exporter": "python",
   "pygments_lexer": "ipython3",
   "version": "3.7.16"
  }
 },
 "nbformat": 4,
 "nbformat_minor": 4
}
