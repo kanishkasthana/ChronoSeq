{
 "cells": [
  {
   "cell_type": "markdown",
   "metadata": {},
   "source": [
    "## Instructions for Assembling XY Robot, Ice Box 1 and Ice Box 2\n",
    "\n",
    "### Brief Description\n",
    "+ The ChronoSeq device only produces high quality Droplets for a short period called the Sampling Duration. The remainder of the time is spent:\n",
    "    + Washing out any remaining cells or beads in the ChronoSeq device.\n",
    "    + Priming the Microfluidic chip.\n",
    "+ We need a way to deposit these high quality Droplets in a separate 50ml tube during the Sampling Duration. The remaining liquid flow-through needs to be deposited into a different 50ml Tube.\n",
    "+ To switch between the \"Good Collection Tube\" for the high quality droplets, and \"Bad Collection Tube\" for the remaining flow-through, we use the XY Robot.\n",
    "+ The XY Robot is mainly made of 3D Printed parts and two Servos.\n",
    "+ Both the XY Robot and XYZ Robot Deposit the liquid into tubes held in place using 3D Printed Lids.\n",
    "\n",
    "|Location of XY Robot in Schematic indicated with Red Box|\n",
    "|-|\n",
    "|<img src=\"img/Main%20Figure%20XY%20Robot.jpg\">|<img src=\"img/Main%20Figure%20XY%20Robot.jpg\">||\n",
    "\n",
    "### 3D Printing Parts\n",
    "\n",
    "+ We used a [Bambu Lab X1 Carbon](https://us.store.bambulab.com/products/x1-carbon?variant=42698346070152) to print the Parts.\n",
    "    + 0.4mm Nozzle\n",
    "    + Textured PEI Plate \n",
    "+ We generated several [3MF Files](CAD_Files/XY%20Robot) with all the Settings we used for the Print. You can open these files on the [Orca Slicer](https://github.com/SoftFever/OrcaSlicer/releases).\n",
    "+ The Original STEP Files and F3D Files can be found in the same directory.\n",
    "+ We also generated the [3MF and CAD files](CAD_Files/Ice%20Box%20Lids%20for%20Heathrow%20Scientific%20HS23271A) for the Ice Box Lids.\n",
    "+ We recommend using White Colored PLA for printing these Lids.\n",
    "+ We recommend getting a [3D Printing Accessories Kit](https://www.amazon.com/gp/product/B07VBNDF95/) if you haven't purchased one already.\n",
    "    + Its extremely helpful in removing supports and cleaning up the print.\n",
    "    \n",
    "### Ordering the Parts\n",
    "+ [MG90S 9g Servo](https://www.amazon.com/dp/B07L6FZVT1)\n",
    "+ [Heathrow Scientific Ice Boxes SKU:HS23271A](https://www.heathrowscientific.com/transformer-cube-tube-rack/)\n",
    "+ [5V 20W Power Supply](https://www.amazon.com/dp/B087LY41PV)\n",
    "+ [DC Power Supply Breakout Screw Terminal](https://www.amazon.com/dp/B01J1WZENK)\n",
    "+ [Servo Extension Cable Kit](https://www.amazon.com/dp/B07C18BXDV)\n",
    "+ [20Kg Servo](https://www.amazon.com/dp/B076CNKQX4)\n",
    "+ [Self Tapping Screw Set](https://www.amazon.com/dp/B0BMQ9Y8BH/)\n",
    "+ [Arduino UNO R3 Clone](https://www.amazon.com/dp/B01EWOE0UU/)\n",
    "+ [Metal Servo Horn Kit](https://www.amazon.com/dp/B00NOGMK3M/)\n",
    "+ [6 inch/150mm Adjustable Wrench](https://www.homedepot.com/p/Husky-6-in-Adjustable-Wrench-90127/313528127)\n",
    "+ [Dupont Jumper Cables](https://www.amazon.com/dp/B01EV70C78)\n",
    "+ [Electronics Screw Driver Set](https://www.amazon.com/dp/B09FFCGLHK)\n",
    "+ [M4 M3 M2.5 M2 Button Head Socket Cap Screws Bolts Nuts Washers Assortment Kit](https://www.amazon.com/dp/B098KXZNY6/)\n",
    "\n",
    "### Assembling the Ice Boxes\n",
    "+ Simply replace the Heathrow Scientific lids with the 3D Printed Lids.\n",
    "    + The printed lids will just pop in place.<br><img src=\"img/IMG_3921.jpg\" height=\"50%\" width=\"50%\">\n",
    "+ Label the 50ml and 15ml Lid Ice Boxes.\n",
    "    + Make sure the orientation matches the picture below.\n",
    "    + The 50ml Tube Positions are:\n",
    "        + Top Left: Bad Collection Tube\n",
    "        + Bottom Left: Good Collection Tube\n",
    "        + Top Right: Waste Tube 1\n",
    "        + Bottom Right: Waste Tube 2\n",
    "    + The 15ml Tube Positions are marked in increasing order with the first position being the bottom right and last positions being the top left.\n",
    "    + Mark the positions on the Lid with a [Permanent Marker](https://www.amazon.com/dp/B000I0TZO4) as follows.<br><img src=\"img/IMG_3922.jpg\" height=\"50%\" width=\"50%\">\n",
    "    \n",
    "### Assembling the XY Robot\n",
    "\n",
    "#### Assembling the Large Gear\n",
    "+ We will first assemble the Large 3D printed gear. You will need the following parts from the Metal Servo Horn Kit.<br><img src=\"img/IMG_3923.jpg\" height=\"50%\" width=\"50%\">\n",
    "+ Assemble as follows and then tighten the nuts using the Adjustable Wrench.<br><img src=\"img/IMG_3924.jpg\" height=\"50%\" width=\"50%\">\n",
    "+ Using another M3x10mm Screw attach the Assembled Large Gear to the 20Kg Servo.\n",
    "\n",
    "|<br>|<br>|\n",
    "|-|-|\n",
    "|<img src=\"img/IMG_3925.jpg\">|<img src=\"img/IMG_3926.jpg\">|\n",
    "\n",
    "#### Testing the 20Kg Servo\n",
    "\n",
    "+ We will now connect our Servo to our UNO R3 Board and computer to test it. You will need the following components:\n",
    "    + Female DC Barrel Breakout Screw Terminal\n",
    "    + Male to Male: Red, White and Two Black Jumper Wires\n",
    "    + Arduino UNO R3 Board and USB Cable\n",
    "    + Servo with the Assembled Horn\n",
    "    + 20W 5V Power Supply\n",
    "    + Phillips Head Screw Driver.<br><img src=\"img/IMG_3944.jpg\" height=\"50%\" width=\"50%\">\n",
    "+ Attach the Red Jumper Wire to the +VE Screw Terminal and the Two Black Jumper Wires to the -VE Screw Terminal of the DC Barrel Connector. <br><img src=\"img/IMG_3945.jpg\" height=\"50%\" width=\"50%\">\n",
    "+ Attach the free end of one of the Black Jumper Wires to the GND Terminal on the UNO R3 Board. <br><img src=\"img/IMG_3946.jpg\" height=\"50%\" width=\"50%\">\n",
    "+ Attach the other Black Jumer Wire to the Black Wire Female Terminal for the Servo.<br><img src=\"img/IMG_3947.jpg\" height=\"50%\" width=\"50%\">\n",
    "+ Attach the Red Jumper Wire to the Red Wire Female Terminal for the Servo. <br><img src=\"img/IMG_3948.jpg\" height=\"50%\" width=\"50%\">\n",
    "+ Attach one end of the White Jumper Wire to the White wire Female Terminal for the Servo, and the other end to Pin 11 on the UNO R3 Board. <br><img src=\"img/IMG_3949.jpg\" height=\"50%\" width=\"50%\">\n",
    "+ Now connect the UNO R3 to your computer via USB and the 20W DC Adapter to the DC Barrel Connector.<br><img src=\"img/IMG_3950.jpg\" height=\"50%\" width=\"50%\">\n",
    "+ Using the [Arduno IDE](https://www.arduino.cc/en/software) upload the [droplet_collector](droplet_collector/) sketch to the UNO R3 Board.\n",
    "    + Execute the cell below to watch a video of the process."
   ]
  },
  {
   "cell_type": "code",
   "execution_count": 1,
   "metadata": {},
   "outputs": [
    {
     "data": {
      "text/html": [
       "<iframe width=\"800\" height=\"600\" src=\"https://www.youtube.com/embed/ZY7oguigeaw?si=GicKcmROvM5wW54X\" title=\"YouTube video player\" frameborder=\"0\" allow=\"accelerometer; autoplay; clipboard-write; encrypted-media; gyroscope; picture-in-picture; web-share\" referrerpolicy=\"strict-origin-when-cross-origin\" allowfullscreen></iframe>"
      ],
      "text/plain": [
       "<IPython.core.display.HTML object>"
      ]
     },
     "metadata": {},
     "output_type": "display_data"
    }
   ],
   "source": [
    "%%HTML\n",
    "<iframe width=\"800\" height=\"600\" src=\"https://www.youtube.com/embed/ZY7oguigeaw?si=GicKcmROvM5wW54X\" title=\"YouTube video player\" frameborder=\"0\" allow=\"accelerometer; autoplay; clipboard-write; encrypted-media; gyroscope; picture-in-picture; web-share\" referrerpolicy=\"strict-origin-when-cross-origin\" allowfullscreen></iframe>"
   ]
  },
  {
   "cell_type": "markdown",
   "metadata": {},
   "source": [
    "#### Attaching the Servo to the XY Robot Main Body\n",
    "+ Disconnect or Remove the following:\n",
    "    + Now disconnect the DC Power and USB. \n",
    "    + Also disonnect the three jumper wires connected to your Servo.\n",
    "    + Remove the Servo Horn. <br><img src=\"img/IMG_3954.jpg\" height=\"50%\" width=\"50%\">\n",
    "+ You will need the following components to attach the Servo to the main body.<br><img src=\"img/IMG_3955.jpg\" height=\"75%\" width=\"75%\">\n",
    "+ Execute the cell below to watch a video of the process."
   ]
  },
  {
   "cell_type": "code",
   "execution_count": 2,
   "metadata": {},
   "outputs": [
    {
     "data": {
      "text/html": [
       "<iframe width=\"800\" height=\"600\" src=\"https://www.youtube.com/embed/Swz0Y9IQSYM?si=0lKPx28TD1u4yCaH\" title=\"YouTube video player\" frameborder=\"0\" allow=\"accelerometer; autoplay; clipboard-write; encrypted-media; gyroscope; picture-in-picture; web-share\" referrerpolicy=\"strict-origin-when-cross-origin\" allowfullscreen></iframe>"
      ],
      "text/plain": [
       "<IPython.core.display.HTML object>"
      ]
     },
     "metadata": {},
     "output_type": "display_data"
    }
   ],
   "source": [
    "%%HTML\n",
    "<iframe width=\"800\" height=\"600\" src=\"https://www.youtube.com/embed/Swz0Y9IQSYM?si=0lKPx28TD1u4yCaH\" title=\"YouTube video player\" frameborder=\"0\" allow=\"accelerometer; autoplay; clipboard-write; encrypted-media; gyroscope; picture-in-picture; web-share\" referrerpolicy=\"strict-origin-when-cross-origin\" allowfullscreen></iframe>"
   ]
  },
  {
   "cell_type": "markdown",
   "metadata": {},
   "source": [
    "#### Attaching the second smaller servo mount to the XY Robot body\n",
    "+ Disconnect or Remove the following:\n",
    "    + Now disconnect the DC Power and USB. \n",
    "    + Also disonnect the three jumper wires connected to your Servo.\n",
    "+ You will need the following components to connect the smaller servo mount to your XY Robot Body.<br><img src=\"img/IMG_3961.jpg\" height=\"50%\" width=\"50%\">\n",
    "+ Execute the cell below to watch a video of the assembly process.\n",
    "    + Update: the video mentions a Six teeth gap. A four teeth gap for longer rail is much better."
   ]
  },
  {
   "cell_type": "code",
   "execution_count": 3,
   "metadata": {},
   "outputs": [
    {
     "data": {
      "text/html": [
       "<iframe width=\"800\" height=\"600ß\" src=\"https://www.youtube.com/embed/3rkkOVA7_hY?si=j4Cj_ArSvgFfxjcT\" title=\"YouTube video player\" frameborder=\"0\" allow=\"accelerometer; autoplay; clipboard-write; encrypted-media; gyroscope; picture-in-picture; web-share\" referrerpolicy=\"strict-origin-when-cross-origin\" allowfullscreen></iframe>"
      ],
      "text/plain": [
       "<IPython.core.display.HTML object>"
      ]
     },
     "metadata": {},
     "output_type": "display_data"
    }
   ],
   "source": [
    "%%HTML\n",
    "<iframe width=\"800\" height=\"600ß\" src=\"https://www.youtube.com/embed/3rkkOVA7_hY?si=j4Cj_ArSvgFfxjcT\" title=\"YouTube video player\" frameborder=\"0\" allow=\"accelerometer; autoplay; clipboard-write; encrypted-media; gyroscope; picture-in-picture; web-share\" referrerpolicy=\"strict-origin-when-cross-origin\" allowfullscreen></iframe>"
   ]
  },
  {
   "cell_type": "markdown",
   "metadata": {},
   "source": [
    "#### Attaching Pipette Tips for Securing PTFE Tubing\n",
    "+ We will use the same methodology for attaching the Pipette tip [as described for the XYZ Robot](instructions_for_assembling_xyz_robot.ipynb#Using-a-Pipette-Tips-to-Secure-1/16\"-OD-PTFE-Tubing-in-Place).\n",
    "+ The attached tip should look like this after overnight curing.<br><img src=\"img/IMG_3969.jpg\" height=\"50%\" width=\"50%\">\n",
    "\n",
    "#### Positioning the Linear rail for the smaller servo\n",
    "+ We need to connect the smaller servo to our circuit to attach the Linear rail.\n",
    "+ Connect the Servo as follows and make sure the DC Power is connected.\n",
    "    + Make sure the USB is also connected to your computer.\n",
    "    + White Jumper connects to the Orange Wire header.\n",
    "    + Black Jumper connects to the Brown Wire header.\n",
    "    + Red Jumper connects to the Red Wire header.\n",
    "    + You will also need:\n",
    "        + A hex wrench.\n",
    "        + Your 3D printed mini gear.\n",
    "        + M2.5x6mm Screw <br><img src=\"img/IMG_3971.jpg\" height=\"50%\" width=\"50%\">\n",
    "+ Execute the cell below to watch a video of the process."
   ]
  },
  {
   "cell_type": "code",
   "execution_count": 4,
   "metadata": {},
   "outputs": [
    {
     "data": {
      "text/html": [
       "<iframe width=\"800\" height=\"600\" src=\"https://www.youtube.com/embed/VJpTJnRzS0A?si=T2ip4jd6t5EH4I_d\" title=\"YouTube video player\" frameborder=\"0\" allow=\"accelerometer; autoplay; clipboard-write; encrypted-media; gyroscope; picture-in-picture; web-share\" referrerpolicy=\"strict-origin-when-cross-origin\" allowfullscreen></iframe>"
      ],
      "text/plain": [
       "<IPython.core.display.HTML object>"
      ]
     },
     "metadata": {},
     "output_type": "display_data"
    }
   ],
   "source": [
    "%%HTML\n",
    "<iframe width=\"800\" height=\"600\" src=\"https://www.youtube.com/embed/VJpTJnRzS0A?si=T2ip4jd6t5EH4I_d\" title=\"YouTube video player\" frameborder=\"0\" allow=\"accelerometer; autoplay; clipboard-write; encrypted-media; gyroscope; picture-in-picture; web-share\" referrerpolicy=\"strict-origin-when-cross-origin\" allowfullscreen></iframe>"
   ]
  },
  {
   "cell_type": "markdown",
   "metadata": {},
   "source": [
    "#### Final assembly\n",
    "+ We will need the following components for the final assembly for our XY Robot.\n",
    "    + We will connect the control (white jumper) for our second smaller servo to Pin 9 on the UNO R3 Board.<br><img src=\"img/IMG_3973.jpg\" height=\"50%\" width=\"50%\">\n",
    "+ Execute the cell below to watch a video of the process."
   ]
  },
  {
   "cell_type": "code",
   "execution_count": 5,
   "metadata": {},
   "outputs": [
    {
     "data": {
      "text/html": [
       "<iframe width=\"800\" height=\"600\" src=\"https://www.youtube.com/embed/Y0F2rObZfUk?si=zKk_Nwn4RqftdBhV\" title=\"YouTube video player\" frameborder=\"0\" allow=\"accelerometer; autoplay; clipboard-write; encrypted-media; gyroscope; picture-in-picture; web-share\" referrerpolicy=\"strict-origin-when-cross-origin\" allowfullscreen></iframe>"
      ],
      "text/plain": [
       "<IPython.core.display.HTML object>"
      ]
     },
     "metadata": {},
     "output_type": "display_data"
    }
   ],
   "source": [
    "%%HTML\n",
    "<iframe width=\"800\" height=\"600\" src=\"https://www.youtube.com/embed/Y0F2rObZfUk?si=zKk_Nwn4RqftdBhV\" title=\"YouTube video player\" frameborder=\"0\" allow=\"accelerometer; autoplay; clipboard-write; encrypted-media; gyroscope; picture-in-picture; web-share\" referrerpolicy=\"strict-origin-when-cross-origin\" allowfullscreen></iframe>"
   ]
  },
  {
   "cell_type": "markdown",
   "metadata": {},
   "source": [
    "+ Next we will attach the 30cm Servo extension cable to our smaller servo and secure it in place. <br><img src=\"img/IMG_3981.jpg\" height=\"50%\" width=\"50%\">\n",
    "+ Attach the extension cable as shown. <br><img src=\"img/IMG_3982.jpg\" height=\"50%\" width=\"50%\">\n",
    "+ Secure the joint in place using [Labelling Tape](https://www.fishersci.com/shop/products/fisherbrand-labeling-tape-7/p-309069).<br><img src=\"img/IMG_3983.jpg\" height=\"50%\" width=\"50%\">\n",
    "\n",
    "#### Positioning the XY Robot relative to the 50ml Ice Box\n",
    "+ You will need [1/16\" ID 0.5mm ID PTFE tubing {CAT NO. JR-T-4183-M25}](https://www.vici.com/profiles/prof_ps.php) \n",
    "    + Email precision@vici.com for a Quote. Tell them your credit card details for payment.\n",
    "+ Cut a 30cm Piece of PTFE Tubing using a [Stanley Razor Blade](https://www.grainger.com/product/STANLEY-Razor-Blade-1-1-2-in-Bladde-4A807).\n",
    "+ Push the cut tubing to the position shown through the Pipette Tip on the Linear Rail.<br><img src=\"img/IMG_3988.jpg\" height=\"50%\" width=\"50%\">\n",
    "+ Now put two [50ml Falcon Tubes](https://ecatalog.corning.com/life-sciences/b2c/US/en/Liquid-Handling/Tubes,-Liquid-Handling/Centrifuge-Tubes/Falcon%C2%AE-Conical-Centrifuge-Tubes/p/352098) in the positions shown.\n",
    "    + Also make sure the sides of the Ice Box and the XY Robot Body are in the same plane.<br><img src=\"img/IMG_3989.jpg\" height=\"50%\" width=\"50%\">\n",
    "+ You can help secure them in place, relative to each other, using Labelling Tape. <br><img src=\"img/IMG_3991.jpg\" height=\"50%\" width=\"50%\">"
   ]
  },
  {
   "cell_type": "markdown",
   "metadata": {},
   "source": [
    "#### Controlling the XY Robot through Serial Commands Via Jupyter Notebooks\n",
    "+ We can identify the COM Port by connecting and then disconnecting the UNO R3 Board via USB. By checking which new COM Port shows up in Arduino IDE.\n",
    "    + In our case the port is COM9.<br><img src=\"img/Screenshot%202024-09-28%20162024.png\">\n",
    "+ Close the Arduino IDE before moving to the next step.\n",
    "    + Execute the cells below to test controlling the robot via Jupyter notebooks."
   ]
  },
  {
   "cell_type": "code",
   "execution_count": 6,
   "metadata": {},
   "outputs": [
    {
     "name": "stdout",
     "output_type": "stream",
     "text": [
      "COM10\n",
      "{'baudrate': 9600, 'bytesize': 8, 'parity': 'N', 'stopbits': 1, 'xonxoff': False, 'dsrdtr': False, 'rtscts': False, 'timeout': 1, 'write_timeout': 1, 'inter_byte_timeout': None}\n",
      "True\n"
     ]
    }
   ],
   "source": [
    "import serial\n",
    "import time\n",
    "smallDropletCollectionRobotCOM=\"COM10\"\n",
    "droplet_collector=serial.Serial(smallDropletCollectionRobotCOM,timeout=1,write_timeout=1)\n",
    "time.sleep(5)\n",
    "print(droplet_collector.name)\n",
    "print(droplet_collector.get_settings())\n",
    "print(droplet_collector.is_open)\n",
    "if not droplet_collector.is_open:\n",
    "    droplet_collector.open()\n",
    "    time.sleep(5)"
   ]
  },
  {
   "cell_type": "code",
   "execution_count": 7,
   "metadata": {},
   "outputs": [],
   "source": [
    "class droplet_collection():\n",
    "    in_tube=False\n",
    "    current_time_delay_from_home=1000\n",
    "    at_home=True\n",
    "    def __init__(self,servo_angle1,servo_angle2,time_taken_from_home=1000):\n",
    "        self.servo_angle1=servo_angle1\n",
    "        self.servo_angle2=servo_angle2\n",
    "        self.time_taken_from_home=time_taken_from_home\n",
    "    def goToCoordinates(self):\n",
    "        if droplet_collection.in_tube==False and droplet_collection.at_home==True:\n",
    "            droplet_collector.write((\"A\"+str(self.servo_angle1)+\"|W\"+str(self.time_taken_from_home)+\"|B\"+str(self.servo_angle2)+\"\\n\").encode())\n",
    "            droplet_collection.in_tube=True\n",
    "            droplet_collection.current_time_delay_from_home=self.time_taken_from_home\n",
    "            droplet_collection.at_home=False\n",
    "        elif droplet_collection.in_tube==False and droplet_collection.at_home==False:\n",
    "            time_diff=abs(droplet_collection.current_time_delay_from_home-self.time_taken_from_home)\n",
    "            droplet_collector.write((\"A\"+str(self.servo_angle1)+\"|W\"+str(time_diff)+\"|B\"+str(self.servo_angle2)+\"\\n\").encode())\n",
    "            droplet_collection.in_tube=True\n",
    "            droplet_collection.current_time_delay_from_home=self.time_taken_from_home\n",
    "            droplet_collection.at_home=False\n",
    "\n",
    "        else:\n",
    "            time_diff=abs(droplet_collection.current_time_delay_from_home-self.time_taken_from_home)\n",
    "            droplet_collector.write((\"B0|W500|A\"+str(self.servo_angle1)+\"|W\"+str(time_diff)+\"|B\"+str(self.servo_angle2)+\"\\n\").encode())\n",
    "            droplet_collection.in_tube=True\n",
    "            droplet_collection.current_time_delay_from_home=self.time_taken_from_home\n",
    "            droplet_collection.at_home=False\n",
    "    \n",
    "    def goToCoordinatesFast(self):\n",
    "        self.goToCoordinates()\n",
    "        \n",
    "    def goToCoordinatesSlowly(self):\n",
    "        if droplet_collection.in_tube==False and droplet_collection.at_home==True:\n",
    "            droplet_collector.write((\"X\"+str(self.servo_angle1)+\"|Y\"+str(self.servo_angle2)+\"\\n\").encode())\n",
    "            droplet_collection.in_tube=True\n",
    "            droplet_collection.current_time_delay_from_home=self.time_taken_from_home\n",
    "            droplet_collection.at_home=False\n",
    "        elif droplet_collection.in_tube==False and droplet_collection.at_home==False:\n",
    "            droplet_collector.write((\"X\"+str(self.servo_angle1)+\"|Y\"+str(self.servo_angle2)+\"\\n\").encode())\n",
    "            droplet_collection.in_tube=True\n",
    "            droplet_collection.current_time_delay_from_home=self.time_taken_from_home\n",
    "            droplet_collection.at_home=False\n",
    "\n",
    "        else:\n",
    "            #time_diff=abs(droplet_collection.current_time_delay_from_home-self.time_taken_from_home)\n",
    "            droplet_collector.write((\"Y0|X\"+str(self.servo_angle1)+\"|Y\"+str(self.servo_angle2)+\"\\n\").encode())\n",
    "            droplet_collection.in_tube=True\n",
    "            droplet_collection.current_time_delay_from_home=self.time_taken_from_home\n",
    "            droplet_collection.at_home=False\n",
    "        \n",
    "    def goToCoordinatesKeepTubeUp(self):\n",
    "        if droplet_collection.in_tube==False:\n",
    "            droplet_collector.write((\"A\"+str(self.servo_angle1)+\"\\n\").encode())\n",
    "            droplet_collection.in_tube=False\n",
    "            droplet_collection.at_home=False\n",
    "            droplet_collection.current_time_delay_from_home=self.time_taken_from_home\n",
    "        else:\n",
    "            droplet_collector.write((\"B0|W500|A\"+str(self.servo_angle1)+\"\\n\").encode())\n",
    "            droplet_collection.in_tube=False\n",
    "            droplet_collection.at_home=False\n",
    "            droplet_collection.current_time_delay_from_home=self.time_taken_from_home\n",
    "    def goHome(self):\n",
    "        droplet_collection.droplet_collector_go_home()\n",
    "    \n",
    "    def droplet_collector_go_home():\n",
    "        if droplet_collection.in_tube==False:\n",
    "            droplet_collector.write((\"H\\n\").encode())\n",
    "            droplet_collection.in_tube=False\n",
    "            droplet_collection.at_home=True\n",
    "        else:\n",
    "            droplet_collector.write((\"B0|W500|H\\n\").encode())\n",
    "            droplet_collection.in_tube=False\n",
    "            droplet_collection.at_home=True\n",
    "\n",
    "droplet_collection.droplet_collector_go_home()\n",
    "good_collection_tube=droplet_collection(180,180,1000)\n",
    "bad_collection_tube=droplet_collection(60,180,350)"
   ]
  },
  {
   "cell_type": "markdown",
   "metadata": {},
   "source": [
    "+ Now we will move our Robot to either the Good or Bad Collection Tubes.\n",
    "+ Moving to Good Collection Tube first."
   ]
  },
  {
   "cell_type": "code",
   "execution_count": 8,
   "metadata": {},
   "outputs": [],
   "source": [
    "time.sleep(5.0)\n",
    "good_collection_tube.goToCoordinates()"
   ]
  },
  {
   "cell_type": "markdown",
   "metadata": {},
   "source": [
    "+ The image below shows roughly what position we want the end of the PTFE to be at for the Good Collection Tube. \n",
    "    + Adjust the vertical position of the PTFE Tubing or Rotate it so that your Tip position is similar.\n",
    "    + We want the tip of the PTFE Tubing to be just a few millimeters above the wall of the 50ml Falcon Tube **without Touching the wall**.<br><img src=\"img/IMG_3992.jpg\" height=\"50%\" width=\"50%\">\n",
    "+ Next we will move the XY Robot to the Bad Collection Tube."
   ]
  },
  {
   "cell_type": "code",
   "execution_count": 9,
   "metadata": {},
   "outputs": [],
   "source": [
    "time.sleep(5.0)\n",
    "bad_collection_tube.goToCoordinates()"
   ]
  },
  {
   "cell_type": "markdown",
   "metadata": {},
   "source": [
    "+ The image below shows approximately where you should expect the end of the PTFE tubing to be at for the Bad Collection Tube.\n",
    "    + It should be fine as long as its somewhere inside the mouth of the Bad Collection Tube.\n",
    "    + No need to adjust the Tubing position unless absolutely necessary. \n",
    "    + The position of the Tubing is more important for the Good Collection Tube.<br><img src=\"img/IMG_3993.jpg\" height=\"50%\" width=\"50%\">\n",
    "+ Now lets try moving to the Good Collection Tube slowly.\n",
    "    + Its important to move slowly to prevent unneccessary vibrations that affect the Droplet Generation when operating the ChronoSeq Device."
   ]
  },
  {
   "cell_type": "code",
   "execution_count": 10,
   "metadata": {},
   "outputs": [],
   "source": [
    "time.sleep(5.0)\n",
    "droplet_collection.droplet_collector_go_home()\n",
    "time.sleep(5.0)\n",
    "bad_collection_tube.goToCoordinatesKeepTubeUp()\n",
    "time.sleep(5.0)\n",
    "good_collection_tube.goToCoordinatesSlowly()"
   ]
  },
  {
   "cell_type": "markdown",
   "metadata": {},
   "source": [
    "+ Execute the cell below to see the XY Robot in action when controlled via Jupyter notebook."
   ]
  },
  {
   "cell_type": "code",
   "execution_count": 11,
   "metadata": {},
   "outputs": [
    {
     "data": {
      "text/html": [
       "<iframe width=\"800\" height=\"600\" src=\"https://www.youtube.com/embed/gi6tJWHJPQo?si=jHh4roSvbA0x1nwC\" title=\"YouTube video player\" frameborder=\"0\" allow=\"accelerometer; autoplay; clipboard-write; encrypted-media; gyroscope; picture-in-picture; web-share\" referrerpolicy=\"strict-origin-when-cross-origin\" allowfullscreen></iframe>"
      ],
      "text/plain": [
       "<IPython.core.display.HTML object>"
      ]
     },
     "metadata": {},
     "output_type": "display_data"
    }
   ],
   "source": [
    "%%HTML\n",
    "<iframe width=\"800\" height=\"600\" src=\"https://www.youtube.com/embed/gi6tJWHJPQo?si=jHh4roSvbA0x1nwC\" title=\"YouTube video player\" frameborder=\"0\" allow=\"accelerometer; autoplay; clipboard-write; encrypted-media; gyroscope; picture-in-picture; web-share\" referrerpolicy=\"strict-origin-when-cross-origin\" allowfullscreen></iframe>"
   ]
  },
  {
   "cell_type": "markdown",
   "metadata": {},
   "source": [
    "+ Now we will close our connection to our XY Robot."
   ]
  },
  {
   "cell_type": "code",
   "execution_count": 12,
   "metadata": {},
   "outputs": [],
   "source": [
    "time.sleep(10.0)\n",
    "droplet_collection.droplet_collector_go_home()\n",
    "time.sleep(5.0)\n",
    "droplet_collector.close()"
   ]
  }
 ],
 "metadata": {
  "kernelspec": {
   "display_name": "Python 3",
   "language": "python",
   "name": "python3"
  },
  "language_info": {
   "codemirror_mode": {
    "name": "ipython",
    "version": 3
   },
   "file_extension": ".py",
   "mimetype": "text/x-python",
   "name": "python",
   "nbconvert_exporter": "python",
   "pygments_lexer": "ipython3",
   "version": "3.6.6"
  }
 },
 "nbformat": 4,
 "nbformat_minor": 5
}
