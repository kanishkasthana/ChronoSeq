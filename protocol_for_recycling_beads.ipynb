{
 "cells": [
  {
   "cell_type": "markdown",
   "metadata": {},
   "source": [
    "<a id=\"prepare_priming\"></a>"
   ]
  },
  {
   "cell_type": "markdown",
   "metadata": {},
   "source": [
    "# Protocol for Recycling Beads for Chrono-Seq Device and Preparing Solutions\n",
    "\n",
    "### Best Practices:\n",
    "1. Remember to put back the reagents back to their storage location at 4&deg;C or -20&deg;C once you are done with using them.\n",
    "2. Get fresh new microtips/sterile-disposable pipettes after each step, unless mentioned otherwise. \n",
    "      + Important to avoid cross-contamination.\n",
    "\n",
    "### Equipment Used:\n",
    "+  Our lab uses the refrigerated [Sorval ST8R Centrifuge](https://www.thermofisher.com/order/catalog/product/75007200). You can find [CAD files to print some of the parts here](CAD_Files/Sorval%20ST8R%20CAD%20Models).\n",
    "    + We bought the 50ml Inserts and Printed the Rest.\n",
    "    + You can modify the CAD files to print the 50ml Inserts as well. \n",
    "    + Use PLA or TPU for the prints.\n",
    "+ [CELLTREAT Pipette Controller](https://www.fishersci.com/shop/products/pipet-controller-120v-1-cs/50550475)\n",
    "    + [Replacement Filters](https://www.celltreat.com/product/230206/)\n",
    "+ [Eppendorf Pipettes 6-Pack](https://www.eppendorf.com/us-en/eShop-Products/Liquid-Handling/Manual-Pipettes-Dispensers/Eppendorf-Research-plus-p-3123000942)\n",
    "+ Pipette Tips:\n",
    "    + [Genesee Scientific 200/20&mu;l Tips](https://geneseesci.com/shop-online/product-details/23-150RS/olympus-plastics-23-150rs-200ul-olympus-premium-pipet-tips-low-binding-racked-sterile-10-racks-of-96-tips---unit)\n",
    "    + [Rainin 1000&mu;l Tips](https://www.shoprainin.com/Pipette-Tips/Universal-Pipette-Tips/Hinged-Cover-Racks/Pipette-Tips-RT-UNV-1000%C2%B5L-LS-768A-8/p/30389169)\n",
    "    + [Genesee Scientific 10&mu;l Tips](https://geneseesci.com/shop-online/product-details/23-130RS/olympus-plastics-23-130rs-10-and-#xb5l-olympus-premium-pipet-tips-low-binding-racked-sterile-10-racks-of-96-tips-unit)\n",
    "+ Larger Volume Pipettes:\n",
    "    + [5ml Pipette](https://www.fishersci.com/shop/products/stripette-paper-wrapped-disposable-polystyrene-serological-pipettes-7/07200573)\n",
    "    + [10ml Pipette](https://www.fishersci.com/shop/products/sterile-polystyrene-disposable-serological-pipets-magnifier-stripe-10/1367811F)\n",
    "    + [25ml Pipette](https://www.fishersci.com/shop/products/stripette-paper-wrapped-disposable-polystyrene-serological-pipettes-7/07200575)\n",
    "    + [50ml Pipette](https://www.fishersci.com/shop/products/sterile-polystyrene-disposable-serological-pipets-magnifier-stripe-10/1367811F)\n",
    "+ Disposable Sterile Falcon Tubes:\n",
    "    + [50ml Tubes](https://ecatalog.corning.com/life-sciences/b2c/US/en/Liquid-Handling/Tubes,-Liquid-Handling/Centrifuge-Tubes/Falcon%C2%AE-Conical-Centrifuge-Tubes/p/352098)\n",
    "    + [15ml Tubes](https://ecatalog.corning.com/life-sciences/b2c/US/en/Liquid-Handling/Tubes,-Liquid-Handling/Centrifuge-Tubes/Falcon%C2%AE-Conical-Centrifuge-Tubes/p/352097)\n",
    "+ [Disposable Sterile 250ml GL45 Bottles, Individually Wrapped](https://www.fishersci.com/shop/products/corning-pet-storage-bottles-square-cap-4/07201601)\n",
    "\n",
    "### Protocol for Preparing Priming Solutions for Chrono-Seq Device.\n",
    "+ Turn on the UV for the Cell Culture Hood and wait 15 minutes.\n",
    "+ Make more 6X SSC Buffer from [20X Stock](https://www.fishersci.com/shop/products/ambion-ssc-20x-3/AM9763) while you are waiting. Use these [250ml Plastic Bottles](https://www.fishersci.com/shop/products/corning-pet-storage-bottles-square-cap-4/07201601).\n",
    "+ Turn on the Cell Culture hood and clean your work area. From this point onwards work aseptically inside the Cell culture hood.\n",
    "+ Inside the Cell Culture hood, make 1X Lysis buffer from the [3.33X Lysis Buffer Stock](protocol_for_preparing_3.33X_lysis_buffer_stock.ipynb). You can make 50ml of 1X Lysis buffer by mixing 15 ml of 3.33X Buffer with 35ml of [Distilled Water](https://www.fishersci.com/shop/products/invitrogen-ultrapure-dnase-rnase-free-distilled-water-2/10977023). Please use specially labeled Distilled Water bottles which should only be opened inside the Cell culture hood. <br><img src=\"img/IMG_2200.jpg\" width=\"75%\" height=\"75%\">\n",
    "+ With the Cap closed shake the 1X Lysis buffer vigorously.\n",
    "+ Filter the 1X Lysis buffer using a [40&mu;m Falcon Cell Strainer (Blue Color)](https://www.fishersci.com/shop/products/falcon-cell-strainers-4/087711).\n",
    "+ How many timepoints or injections are you running for your experiment? Change ```number_of_timepoints_or_injections``` below to Calculate how many of each Tube you need to prepare: \n",
    ">**Optional Note**: I recommend adding +1 to ```number_of_timepoints_or_injections``` as a backup in case something goes wrong:"
   ]
  },
  {
   "cell_type": "code",
   "execution_count": 1,
   "metadata": {},
   "outputs": [
    {
     "name": "stdout",
     "output_type": "stream",
     "text": [
      "You need to prepare at least 6 50ml Falcon Tubes with 2ml of Lysis buffer each for this experiment.\n",
      "You also need to prepare at least 3  50ml Falcon Tubes with 5ml of Distilled Water each for this experiment.\n"
     ]
    }
   ],
   "source": [
    "number_of_timepoints_or_injections=3 #how many? Include at least one backup in case of Failed Injection.\n",
    "print(\"You need to prepare at least\",2*number_of_timepoints_or_injections,\"50ml Falcon Tubes with 2ml of Lysis buffer each for this experiment.\")\n",
    "print(\"You also need to prepare at least\",number_of_timepoints_or_injections,\" 50ml Falcon Tubes with 5ml of Distilled Water each for this experiment.\")"
   ]
  },
  {
   "cell_type": "markdown",
   "metadata": {},
   "source": [
    "+ Transfer 2ml of Lysis buffer each the calculated number of 50ml Falcon tubes.\n",
    "+ Filter a little more than the total Calculated amount of Distilled water with a 40&mu;m Cell Strainer. \n",
    "+ Transfer 5ml of Distilled water each to 50ml Falcon tubes.\n",
    "<a id=\"bead_recycle\"></a>"
   ]
  },
  {
   "cell_type": "markdown",
   "metadata": {},
   "source": [
    "### Protocol for Recycling Beads.\n",
    "+ Collect all the Tubes with Recovered beads of the **same type,batch or timepoint** from your previous Experiments. \n",
    "> &sext; **Important Note**: Do not mix different types of beads such as ChronoSeq and Dropseq beads. Also don't mix different timepoints together. It is important you process them for recycling separately.\n",
    "+ Now combine the beads into a single 50ml Falcon Tube inside the Cell Culture Hood. Wash the Tubes with 1X Lysis buffer to get as many beads out as possible.\n",
    "+ Use Compressed Air to Remove any particles from the 50ml Falcon Tubes used for all the steps below.\n",
    "    + Remove the Particles before moving onto the next step.\n",
    "    + Execute the Cell Below to Watch a Video of the Process."
   ]
  },
  {
   "cell_type": "code",
   "execution_count": 2,
   "metadata": {},
   "outputs": [
    {
     "data": {
      "text/html": [
       "<iframe width=\"800\" height=\"600\" src=\"https://www.youtube.com/embed/BZua7OioLm0?si=6kGb2lyEvrFbnQA4\" title=\"YouTube video player\" frameborder=\"0\" allow=\"accelerometer; autoplay; clipboard-write; encrypted-media; gyroscope; picture-in-picture; web-share\" referrerpolicy=\"strict-origin-when-cross-origin\" allowfullscreen></iframe>"
      ],
      "text/plain": [
       "<IPython.core.display.HTML object>"
      ]
     },
     "metadata": {},
     "output_type": "display_data"
    }
   ],
   "source": [
    "%%HTML\n",
    "<iframe width=\"800\" height=\"600\" src=\"https://www.youtube.com/embed/BZua7OioLm0?si=6kGb2lyEvrFbnQA4\" title=\"YouTube video player\" frameborder=\"0\" allow=\"accelerometer; autoplay; clipboard-write; encrypted-media; gyroscope; picture-in-picture; web-share\" referrerpolicy=\"strict-origin-when-cross-origin\" allowfullscreen></iframe>"
   ]
  },
  {
   "cell_type": "markdown",
   "metadata": {},
   "source": [
    "+ Now Filter these beads twice with the [70&mu;m Pluriselect Filters (white Color)](https://www.fishersci.com/shop/products/70-um-50-pcs-sterile-strain/NC1527905). From this step onwards its is very important to make sure no particles get into the Lysis buffer with the beads.\n",
    "+ Spin down the Beads. The Centrifuge should be set to 1000xg for 1.5 minutes with Soft Deceleration Enabled at 21&deg;C.\n",
    "+ Inside the Cell Culture hood, make the total volume approximately 10ml without disturbing the beads.\n",
    "+ Shake the 50ml Tube gently by hand to evenly resuspend the beads.\n",
    "    + Take a P200 and set it to 20&mu;l. Now using <b>Sterile/Particle-Free</b> 200&mu;l Tips take a sample and transfer it to a [Hemocytometer](https://www.fishersci.com/shop/products/c-chip-disposable-hemacytometers-9/22600115) for counting.\n",
    "    + Make sure the beads are [evenly suspended in the Hemocytometer](https://mccarrolllab.org/drop-seq-troubleshootingtutorial-with-pictures-videos/screen-shot-2016-01-08-at-7-06-14-pm/).\n",
    "+ Estimate the Total Volume of Beads in Lysis buffer using a <b>Sterile/Particle-Free</b> 10ml Pipette.\n",
    "+ Calculate the Final Volume of Lysis buffer needed for concentration of 450beads/&mu;l. \n",
    "+ Spin the Beads down. The Centrifuge should be set to 1000xg for 1.5 minutes with Soft Deceleration Enabled at 21&deg;C.\n",
    "+ Remove/Add lysis buffer to get the final desired concentration of 450beads/&mu;l.\n",
    "    + If you are adding lysis buffer make sure you filter it with a 40&mu;m Cell Strainer before adding.\n",
    "+ Remember to add the following Labels to this Final Tube:\n",
    "    + Date\n",
    "    + The Timepoint/Seq-number/Bead-Type\n",
    "    + The concentration of beads: 450 beads/&mu;l\n",
    "    + Media in which the beads are suspended: 1X Lysis buffer\n",
    "    + Final volume of beads in the Tube.\n",
    "    \n",
    "> This is a **STOPPING STEP**. You can store these beads in 1X Lysis Buffer at 4&deg;C.\n",
    "\n",
    "### Protocol for Preparing Bead Tubes for Timepoints/Injections\n",
    "+ You should work inside the Cell Culture hood to avoid introduction of Dust particles or Debris.\n",
    "> &sext; **Important Note**: Do not mix different types of beads such as ChronoSeq and Dropseq beads. Also don't mix different timepoints together. It is important you process them separately.\n",
    "+ For each separate timepoint/bead type (such as Dropseq beads):\n",
    "    + Label a **Sterile/Particle-Free** 50ml Falcon Tube with the Bead-Type/Timepoint, the date, the batch and the bead Reservoir Number it will be loaded into for the ChronoSeq Device.\n",
    "    + Shake the beads each time to make sure the beads have a <b>uniform concentration </b> then, transfer 1ml of Beads each to Separate 50ml Falcon Tubes. Use Sterile/Particle-Free [Rainin 1000&mu;l](https://www.shoprainin.com/Pipette-Tips/Universal-Pipette-Tips/Hinged-Cover-Racks/Pipette-Tips-RT-UNV-1000%C2%B5L-LS-768A-8/p/30389169) Pipette tips.\n",
    "    > &sext; **Important Note**:Try be be as close to 1ml of Beads as possible. Less than 0.8ml of Beads can introduce bubbles into the Chrono-Seq device and cause blockages.\n",
    "    + Put the Beads inside the refrigerator at 4&deg;C before the experiment.\n",
    "    + Remember to spin down the beads before you load them into the Chrono-Seq device.\n",
    "\n",
    "\n",
    "<style>\n",
    "    @media print {\n",
    "    a[href]::after {\n",
    "        content: none !important;\n",
    "        }\n",
    "    }\n",
    "</style>"
   ]
  }
 ],
 "metadata": {
  "kernelspec": {
   "display_name": "Python 3 (ipykernel)",
   "language": "python",
   "name": "python3"
  },
  "language_info": {
   "codemirror_mode": {
    "name": "ipython",
    "version": 3
   },
   "file_extension": ".py",
   "mimetype": "text/x-python",
   "name": "python",
   "nbconvert_exporter": "python",
   "pygments_lexer": "ipython3",
   "version": "3.7.16"
  }
 },
 "nbformat": 4,
 "nbformat_minor": 4
}
