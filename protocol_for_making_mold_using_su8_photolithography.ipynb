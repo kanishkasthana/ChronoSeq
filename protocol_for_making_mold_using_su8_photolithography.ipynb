{
 "cells": [
  {
   "cell_type": "markdown",
   "id": "61cd9c8b",
   "metadata": {},
   "source": [
    "### Protocol for Creation of Mold on Silicon Wafer at [Nano3 Facility at UC San Diego](https://nano3.calit2.net/):\n",
    "+ Protocol adapted from [Nano3 PDMS Molding Course](https://nano3.calit2.net/courses/).\n",
    "#### Location for Items and Instruments in the Photolithography Lab at Nano3:\n",
    "+ The main walkway between the two sides (Room 1413 and Room 1417) of the Photolithography lab has a Steel rack. In this rack you will find the following items provide by Nano3:\n",
    "    + [SU-8 2100](https://kayakuam.com/wp-content/uploads/2019/08/SDS_SU-8-2000-Series-Resists_-_GB.pdf):  **HAZARDOUS READ SDS**\n",
    "    + Empty Dark Brown Nalgene Bottles for Photoresist storage.\n",
    "    + Labels for the Nalgene Bottles\n",
    "+ You can find the following Solvents provided by Nano3 in the Flammables cabinet in Room 1413:\n",
    "    + [Acetone](https://www.fishersci.com/msds?productName=AC177170100&productDescription=ACETONE%2C+PURE%2C+99%2B%25+10LT&catNo=AC17717-0100&vendorId=VN00032119&storeId=10652): **HAZARDOUS READ SDS**\n",
    "    + Isopropanol (Propan-2-ol)\n",
    "    + [SU-8 Developer](https://kayakuam.com/wp-content/uploads/2019/08/SDS_SU-8-Developer_-_EU.pdf): **HAZARDOUS READ SDS**\n",
    "+ You can find the following in Room 1417:\n",
    "    + Heavy Duty Aluminium Foil.\n",
    "    + Kapton (Polyimide) Tape.\n",
    "    + A [Level](https://www.grainger.com/product/WESTWARD-Torpedo-Level-9-in-Lg-4MRW9) Magnetically attached to the Fume Hood above the Hotplates.\n",
    "    + Hotplates\n",
    "    + Wafer Spinners\n",
    "    + One Open style Fume Hood with a Waste Bottle for Organic Solvents.\n",
    "    + A fume hood with a sash, ultrasound cleaner, wafer spinner and Compressed Nitrogen Gun.\n",
    "    + A Fume hood where SU-8 Developer can be used for Developing your wafer.\n",
    "    + Disposable Gloves rack\n",
    "    + Hazardous Waste Bin\n",
    "    + Clean Room Wipes: Both paper and cloth\n",
    "+ You can find the following in Room 1413:\n",
    "    + EVG 620 Mask Aligner\n",
    "    + A second Fume Hood where SU-8 Developer can be used for Developing your wafer.\n",
    "    + Second Open style Fume Hood with a Waste Bottle for Organic Solvents.\n",
    "    + Disposable Gloves rack\n",
    "    + Hazardous Waste Bin\n",
    "    + Clean Room Wipes: Both paper and cloth\n",
    "\n",
    "#### Seal the inner layer of your gloves.\n",
    "+ Chemicals can easily come in contact with your skin if you don't seal the inner layer of your gloves.\n",
    "+ Use Tape to Seal the Inner layer of your gloves to the sleeves of your cleanroom Smock.\n",
    "+ Put on a Second layer of Gloves above the sealed layer.\n",
    "+ Execute the Cell Below to Watch a Video of the Process."
   ]
  },
  {
   "cell_type": "code",
   "execution_count": 1,
   "id": "acf79755",
   "metadata": {},
   "outputs": [
    {
     "data": {
      "text/html": [
       "<iframe width=\"800\" height=\"600\" src=\"https://www.youtube.com/embed/MGIrGmxYp94?si=On4IS5O388sNBHaT\" title=\"YouTube video player\" frameborder=\"0\" allow=\"accelerometer; autoplay; clipboard-write; encrypted-media; gyroscope; picture-in-picture; web-share\" referrerpolicy=\"strict-origin-when-cross-origin\" allowfullscreen></iframe>\n"
      ],
      "text/plain": [
       "<IPython.core.display.HTML object>"
      ]
     },
     "metadata": {},
     "output_type": "display_data"
    }
   ],
   "source": [
    "%%HTML\n",
    "<iframe width=\"800\" height=\"600\" src=\"https://www.youtube.com/embed/MGIrGmxYp94?si=On4IS5O388sNBHaT\" title=\"YouTube video player\" frameborder=\"0\" allow=\"accelerometer; autoplay; clipboard-write; encrypted-media; gyroscope; picture-in-picture; web-share\" referrerpolicy=\"strict-origin-when-cross-origin\" allowfullscreen></iframe>"
   ]
  },
  {
   "cell_type": "markdown",
   "id": "2c551394",
   "metadata": {},
   "source": [
    "#### Preparation\n",
    "+ You need Prior Authorization to use the EVG620 and the Dektak XT. Make sure you have the prior authorizations and training well in advance.\n",
    "+ At least three weeks before you begin the mold making process you should pour SU-8 2100 into Dark Nalgene bottles.\n",
    "    + Label the Nalgene bottles with the date you poured the resist and the expiry date. \n",
    "    + **It’s important to do this early** because SU-8 2100 is a very thick resist and can easily trap air bubbles which will make the Photoresist spin coat very uneven after pouring it onto the silicon wafer.\n",
    "    + Air bubbles in the resist will lead to significant variation in the depth of the microfluidic channels downstream. Three weeks is generally enough time for these bubbles to disappear. You will get much higher quality molds if you do this in advance.\n",
    "    + Fill about 2/3 of each Nalgene Bottle with SU-8 2100.\n",
    "    + Try not to spill any resist on the lip of the bottle or into the cap. This resist can dry and form flakes that can ruin your photoresit coating.\n",
    "    + Clean any resist on the lip or cap with a Cloth Cleanroom wipe soaked in Acetone. \n",
    "    + Don't let any Acetone into the main SU-8 Bottle or Nalgene Bottle by accident. \n",
    "    + Clean any resist spilled on the main SU-8 Bottle or Nalgene bottle on the sides with a Cloth Cleanroom wipe Soaked in Acetone. \n",
    "    + Execute the Cell Below to Watch a video of the Process.\n",
    "\n",
    "|<br>|<br>|\n",
    "|-|-|\n",
    "|<img src=\"img/IMG_2517.jpg\">|<img src=\"img/IMG_2518.jpg\">|\n",
    "|<img src=\"img/IMG_2519.jpg\">|<img src=\"img/IMG_2512.jpg\">|"
   ]
  },
  {
   "cell_type": "code",
   "execution_count": 2,
   "id": "372ed975",
   "metadata": {},
   "outputs": [
    {
     "data": {
      "text/html": [
       "<iframe width=\"800\" height=\"600\" src=\"https://www.youtube.com/embed/DtM_YYoQ6QQ?si=j1A8ad-imf4P7Aml\" title=\"YouTube video player\" frameborder=\"0\" allow=\"accelerometer; autoplay; clipboard-write; encrypted-media; gyroscope; picture-in-picture; web-share\" allowfullscreen></iframe>\n"
      ],
      "text/plain": [
       "<IPython.core.display.HTML object>"
      ]
     },
     "metadata": {},
     "output_type": "display_data"
    }
   ],
   "source": [
    "%%HTML\n",
    "<iframe width=\"800\" height=\"600\" src=\"https://www.youtube.com/embed/DtM_YYoQ6QQ?si=j1A8ad-imf4P7Aml\" title=\"YouTube video player\" frameborder=\"0\" allow=\"accelerometer; autoplay; clipboard-write; encrypted-media; gyroscope; picture-in-picture; web-share\" allowfullscreen></iframe>"
   ]
  },
  {
   "cell_type": "markdown",
   "id": "a4df7feb",
   "metadata": {},
   "source": [
    "+ Make sure you clean any spilled photoresist from the main SU-8 Bottle with Cloth cleanroom wipes soaked in Acetone. Dried Photoresist can make the bottle Hard to Open."
   ]
  },
  {
   "cell_type": "code",
   "execution_count": 3,
   "id": "ee98a66a",
   "metadata": {},
   "outputs": [
    {
     "data": {
      "text/html": [
       "<iframe width=\"800\" height=\"600\" src=\"https://www.youtube.com/embed/T-_N4qQJcMA?si=7JAcaYELEs2TmvNT\" title=\"YouTube video player\" frameborder=\"0\" allow=\"accelerometer; autoplay; clipboard-write; encrypted-media; gyroscope; picture-in-picture; web-share\" allowfullscreen></iframe>\n"
      ],
      "text/plain": [
       "<IPython.core.display.HTML object>"
      ]
     },
     "metadata": {},
     "output_type": "display_data"
    }
   ],
   "source": [
    "%%HTML\n",
    "<iframe width=\"800\" height=\"600\" src=\"https://www.youtube.com/embed/T-_N4qQJcMA?si=7JAcaYELEs2TmvNT\" title=\"YouTube video player\" frameborder=\"0\" allow=\"accelerometer; autoplay; clipboard-write; encrypted-media; gyroscope; picture-in-picture; web-share\" allowfullscreen></iframe>"
   ]
  },
  {
   "cell_type": "markdown",
   "id": "58bd0d27",
   "metadata": {},
   "source": [
    "+  Make a reservation for the [EVG 620](https://nano3.calit2.net/equipment/machine.php?eid=66) for 3 hours using the [FOM Reservation System](https://nano3fom.eng.ucsd.edu/fom/welcome) in advance.\n",
    "+ Order the Photolithography mask by emailing [cam@artnetpro.com](mailto:cam@artnetpro.com) the [CAD File](CAD_Files/Microfluidic%20Chip%20Manufacture/2D%20CAD%20Model%20for%20Chip/HighResistanceWideChannelV14.dwg) for the Microfluidic chip. Ask them to print at 25400 DPI Emulsion Down. \n",
    "+ [Print](https://www.amazon.com/Pro-Removable-Certified-8-66x8-66x9-84in-220x220x250mm/dp/B07GYRQVYV/) the [3D models](CAD_Files/Microfluidic%20Chip%20Manufacture/3D%20CAD%20Models) for your wafer spin coater system using [PLA](https://www.amazon.com/gp/product/B07PGZNM34/). Modify the diameter of the models if necessary for free using [Fusion360](https://www.autodesk.com/products/fusion-360/education). You can also order the [3D models online](https://www.hubs.com/) if you don’t want to print them yourself. Its best to [print them yourself](https://www.youtube.com/watch?v=_EfWVUJjBdA) as this gives you more flexibility and allows for more rapid prototyping. The Models work for the two most common chuck sizes for Wafer Spinners.<br><img src=\"img/IMG_2520.jpg\" width=\"25%\" height=\"25%\">\n",
    "+ Order Prime Grade wafers from [University Wafer Item Number 1575](https://order.universitywafer.com/default.aspx?cat=Silicon). If the wafers are too old, then the quality of the mold will also suffer. Make sure you order enough wafers but don’t use wafers older than 5 months.\n",
    "\n",
    "#### Spin Coating Setup\n",
    "\n",
    "+ Select three wafer hotplates in Room 1413 and clean any residual photoresist using cleanroom wipes and acetone. Use the [Scraper blades](https://www.grainger.com/product/KRAFT-TOOL-Scraper-Blade-3-4-in-Blade-35EM72?searchQuery=35EM72) to scrape any leftover resist off. \n",
    "+ Use a Level and to make sure two of the three hotplates are completely horizontal. \n",
    "    + This is important to avoid the thick resist from flowing during the baking steps.\n",
    "    + Check the level along the width and breadth of the hotplate by turning your level by 90 degrees.\n",
    "    + Adjust the leg screws on the Hotplates to make them level.\n",
    "    \n",
    "|<br>|<br>|\n",
    "|-|-|\n",
    "|<img src=\"img/IMG_2515.jpg\">|<img src=\"img/IMG_2516.jpg\">|\n",
    "\n",
    "+ Next you need to setup up your cooling surface.\n",
    "    + Put the four [Adjustable legs](https://www.amazon.com/BQLZR-Stainless-Kitchen-Adjustable-Furniture/dp/B00KQH8HMU) under the [Aluminum sheet](https://www.amazon.com/RMP-Aluminum-Sheet-0-125-Thickness/dp/B00HRHB5XA/). \n",
    "    + Then use your level to check the Aluminum sheet is completely level along both X and Y directions using your level. Adjust the legs if necessary.\n",
    "    \n",
    "|<br>|<br>|<br>|\n",
    "|-|-|-|\n",
    "|<img src=\"img/IMG_2523.jpg\">|<img src=\"img/IMG_2524.jpg\">|<img src=\"img/IMG_2522.jpg\">|\n",
    "\n",
    "+ Set the two levelled hotplates to **95&deg;C and 65&deg;C. Set the third hotplate to 180&deg;C.**\n",
    "+ Wait for the temperatures to stabilize and verify the temperature using the [Infrared thermometer](https://www.amazon.com/dp/B00837ZGRY/).\n",
    "<br><img src=\"img/Screenshot 2024-03-11 at 10.03.10 AM.png\" width=\"50%\" height=\"50%\">\n",
    "+ Log on to the EVG 620 [using FOM](https://nano3fom.eng.ucsd.edu/fom/welcome). \n",
    "+ Dehydration Bake of Wafer before Spin Coat:\n",
    "    + Now take one wafer out of your wafer carrier using the [Wafer Tweezers](https://www.grainger.com/product/EREM-Tweezer-3-4In-Silicon-Wafer-24G718).\n",
    "    + Visually inspect for dust particles. Use a compressed nitrogen gun to blow any dust off. \n",
    "    + Also inspect the bottom for any particles. \n",
    "    + Carefully place this wafer on the 180&deg;C hotplate.\n",
    "    + Use both Wafer Tweezers and the second pair of [Tweezers](https://www.grainger.com/product/GENERAL-Tweezer-6-in-Lg-3G959) as support to prevent the wafer from flying off.\n",
    "    + Set a [Timer](https://www.fishersci.com/shop/products/fisher-scientific-traceable-four-channel-countdown-alarm-timer-stopwatches-1/1464917) for 10 minutes.\n",
    "    + Execute the cell below to Watch a video of the process."
   ]
  },
  {
   "cell_type": "code",
   "execution_count": 4,
   "id": "8871b911",
   "metadata": {},
   "outputs": [
    {
     "data": {
      "text/html": [
       "<iframe width=\"800\" height=\"600\" src=\"https://www.youtube.com/embed/AFq13kJhgIs?si=ZMuJH2bu97Ne4jOj\" title=\"YouTube video player\" frameborder=\"0\" allow=\"accelerometer; autoplay; clipboard-write; encrypted-media; gyroscope; picture-in-picture; web-share\" allowfullscreen></iframe>\n"
      ],
      "text/plain": [
       "<IPython.core.display.HTML object>"
      ]
     },
     "metadata": {},
     "output_type": "display_data"
    }
   ],
   "source": [
    "%%HTML\n",
    "<iframe width=\"800\" height=\"600\" src=\"https://www.youtube.com/embed/AFq13kJhgIs?si=ZMuJH2bu97Ne4jOj\" title=\"YouTube video player\" frameborder=\"0\" allow=\"accelerometer; autoplay; clipboard-write; encrypted-media; gyroscope; picture-in-picture; web-share\" allowfullscreen></iframe>"
   ]
  },
  {
   "cell_type": "markdown",
   "id": "455a07ca",
   "metadata": {},
   "source": [
    "+ Use Both Tweezers to prevent the Wafer from Flying off\n",
    "    + A layer of air beneath the Silicon Wafer makes it slide on the Hotplate as you put it on.\n",
    "    + Use Both Tweezers to keep the Silicon Wafer on the Hotplate till the air gap goes away.\n",
    "    + Avoid Touching the Top Polished side of the wafer as this can introduce scratches and unwanted particles.\n",
    "    + Clean unscratached wafers produce better molds."
   ]
  },
  {
   "cell_type": "code",
   "execution_count": 5,
   "id": "c5a83e02",
   "metadata": {},
   "outputs": [
    {
     "data": {
      "text/html": [
       "<iframe width=\"800\" height=\"600\" src=\"https://www.youtube.com/embed/7_1Rn9AQp6s?si=1SNWm8PalLAZ7E94\" title=\"YouTube video player\" frameborder=\"0\" allow=\"accelerometer; autoplay; clipboard-write; encrypted-media; gyroscope; picture-in-picture; web-share\" allowfullscreen></iframe>\n"
      ],
      "text/plain": [
       "<IPython.core.display.HTML object>"
      ]
     },
     "metadata": {},
     "output_type": "display_data"
    }
   ],
   "source": [
    "%%HTML\n",
    "<iframe width=\"800\" height=\"600\" src=\"https://www.youtube.com/embed/7_1Rn9AQp6s?si=1SNWm8PalLAZ7E94\" title=\"YouTube video player\" frameborder=\"0\" allow=\"accelerometer; autoplay; clipboard-write; encrypted-media; gyroscope; picture-in-picture; web-share\" allowfullscreen></iframe>"
   ]
  },
  {
   "cell_type": "markdown",
   "id": "324b40e1",
   "metadata": {},
   "source": [
    "+ After 10 minutes remove the wafer using the wafer tweezers and the second pair of tweezers as support.\n",
    "+ Place on the cooling surface for 5 minutes. Use the second pair of tweezers as support again.\n",
    "+ Next, we need to spin-coat the wafer with SU-8 2100. "
   ]
  },
  {
   "cell_type": "code",
   "execution_count": 6,
   "id": "25864ac2",
   "metadata": {},
   "outputs": [
    {
     "data": {
      "text/html": [
       "<iframe width=\"800\" height=\"600\" src=\"https://www.youtube.com/embed/WT9xPyiXvQ4?si=GUskXOXAX09XZ0qV\" title=\"YouTube video player\" frameborder=\"0\" allow=\"accelerometer; autoplay; clipboard-write; encrypted-media; gyroscope; picture-in-picture; web-share\" allowfullscreen></iframe>\n"
      ],
      "text/plain": [
       "<IPython.core.display.HTML object>"
      ]
     },
     "metadata": {},
     "output_type": "display_data"
    }
   ],
   "source": [
    "%%HTML\n",
    "<iframe width=\"800\" height=\"600\" src=\"https://www.youtube.com/embed/WT9xPyiXvQ4?si=GUskXOXAX09XZ0qV\" title=\"YouTube video player\" frameborder=\"0\" allow=\"accelerometer; autoplay; clipboard-write; encrypted-media; gyroscope; picture-in-picture; web-share\" allowfullscreen></iframe>"
   ]
  },
  {
   "cell_type": "markdown",
   "id": "a104fc45",
   "metadata": {},
   "source": [
    "#### Spin Coating with SU-8 2100 Photoresist\n",
    "+ Take out one of the bottles you poured three weeks ago.\n",
    "+ Clean the wafer spinner with acetone and cloth cleanroom wipes before use. Make sure there is no sticky photoresist residue on the chuck or the spinner surface.\n",
    "+ Fold a large piece of the Heavy Duty Aluminum foil to create a pocked for Catching excess photoresist.\n",
    "    + Make sure the Aluminum foil doesn't impede the movement of the Chuck or the Wafer.\n",
    "    + Execute Cell below to Watch a Video of the Process.\n",
    ">  &sext;**WARNING**: Make sure the Aluminum foil doesn't get tangled with the wafer. Make sure there is some distance between the Aluminum foil and the wafer after loading it. The Aluminum foil should also not be easily detached by the wind generated by the spining wafer."
   ]
  },
  {
   "cell_type": "code",
   "execution_count": 7,
   "id": "01b013b2",
   "metadata": {},
   "outputs": [
    {
     "data": {
      "text/html": [
       "<iframe width=\"800\" height=\"600\" src=\"https://www.youtube.com/embed/a3a4FQ85768?si=srbhOFwk8wzMCeQf\" title=\"YouTube video player\" frameborder=\"0\" allow=\"accelerometer; autoplay; clipboard-write; encrypted-media; gyroscope; picture-in-picture; web-share\" allowfullscreen></iframe>\n"
      ],
      "text/plain": [
       "<IPython.core.display.HTML object>"
      ]
     },
     "metadata": {},
     "output_type": "display_data"
    }
   ],
   "source": [
    "%%HTML\n",
    "<iframe width=\"800\" height=\"600\" src=\"https://www.youtube.com/embed/a3a4FQ85768?si=srbhOFwk8wzMCeQf\" title=\"YouTube video player\" frameborder=\"0\" allow=\"accelerometer; autoplay; clipboard-write; encrypted-media; gyroscope; picture-in-picture; web-share\" allowfullscreen></iframe>"
   ]
  },
  {
   "cell_type": "markdown",
   "id": "612766f4",
   "metadata": {},
   "source": [
    "+ It’s important to use the Spin coater with a lid. During the spin steps a lot of foamy photoresist residue can fly around and land on your wafer. This will make the photoresist coating uneven.\n",
    "+ Cover the lid for the wafer spinner with Aluminium foil as well.\n",
    "    + Punch a hole in the center to allow some air flow.\n",
    "    + Execute Cell Below to Watch the Video."
   ]
  },
  {
   "cell_type": "code",
   "execution_count": 8,
   "id": "4d0c0840",
   "metadata": {},
   "outputs": [
    {
     "data": {
      "text/html": [
       "<iframe width=\"800\" height=\"600\" src=\"https://www.youtube.com/embed/4cIgLX1iMq8?si=pxp-WyFSQCM03tTg\" title=\"YouTube video player\" frameborder=\"0\" allow=\"accelerometer; autoplay; clipboard-write; encrypted-media; gyroscope; picture-in-picture; web-share\" allowfullscreen></iframe>\n"
      ],
      "text/plain": [
       "<IPython.core.display.HTML object>"
      ]
     },
     "metadata": {},
     "output_type": "display_data"
    }
   ],
   "source": [
    "%%HTML\n",
    "<iframe width=\"800\" height=\"600\" src=\"https://www.youtube.com/embed/4cIgLX1iMq8?si=pxp-WyFSQCM03tTg\" title=\"YouTube video player\" frameborder=\"0\" allow=\"accelerometer; autoplay; clipboard-write; encrypted-media; gyroscope; picture-in-picture; web-share\" allowfullscreen></iframe>"
   ]
  },
  {
   "cell_type": "markdown",
   "id": "f7d37044",
   "metadata": {},
   "source": [
    "+ Save and load the following program for the Spinner:\n",
    "     + Spin Step 1: 500RPM for 10 seconds, acceleration 100RPM/s\n",
    "     + Spin Step 2: 3100RPM for 30 seconds, acceleration 300RPM/s\n",
    "+ Load the wafer on the chuck and use the 3D-printed alignment tool to center the wafer onto the chuck. Apply vacuum and do a spin test to make sure the wafer is Center aligned."
   ]
  },
  {
   "cell_type": "code",
   "execution_count": 9,
   "id": "d8623127",
   "metadata": {},
   "outputs": [
    {
     "data": {
      "text/html": [
       "<iframe width=\"800\" height=\"600\" src=\"https://www.youtube.com/embed/gTgpvaySXp8?si=Y6G_dsaKtCD0hvH9\" title=\"YouTube video player\" frameborder=\"0\" allow=\"accelerometer; autoplay; clipboard-write; encrypted-media; gyroscope; picture-in-picture; web-share\" allowfullscreen></iframe>\n"
      ],
      "text/plain": [
       "<IPython.core.display.HTML object>"
      ]
     },
     "metadata": {},
     "output_type": "display_data"
    }
   ],
   "source": [
    "%%HTML\n",
    "<iframe width=\"800\" height=\"600\" src=\"https://www.youtube.com/embed/gTgpvaySXp8?si=Y6G_dsaKtCD0hvH9\" title=\"YouTube video player\" frameborder=\"0\" allow=\"accelerometer; autoplay; clipboard-write; encrypted-media; gyroscope; picture-in-picture; web-share\" allowfullscreen></iframe>"
   ]
  },
  {
   "cell_type": "markdown",
   "id": "87981139",
   "metadata": {},
   "source": [
    "+ Pour the Photoresist onto the Wafer:\n",
    "    + Next open your small Nalgene bottle with the SU-8 2100.\n",
    "    + Make sure there are no particles on the lip of the bottle.\n",
    "    + Use a cloth cleanroom wipe soaked in Acetone to remove them.\n",
    "    + These dried photoresist particles can coat your wafer and make an uneven pattern.\n",
    "    + You can also pour from the side of the bottle that doesn't have any dried Photoresist particles on the lip.\n",
    "    + Slowly pour the photoresist, keeping the bottle very close to the surface of the wafer without touching the wafer with the lip of the bottle. \n",
    "    + Once the photoresist makes an approximately 2.5-inch puddle, move the photoresist container radially to the side and close the bottle.\n",
    "    + Avoid the resist from folding over on itself by keeping the bottle close to the surface of the wafer and making a radial movement as shown in the video below.\n",
    "    + If you did everything right, there should be no bubbles and no particles in the photoresist puddle.\n",
    "    + Execute the Cell Below to Watch a video."
   ]
  },
  {
   "cell_type": "code",
   "execution_count": 10,
   "id": "ac056121",
   "metadata": {},
   "outputs": [
    {
     "data": {
      "text/html": [
       "<iframe width=\"800\" height=\"600\" src=\"https://www.youtube.com/embed/YtrFbsIotOY?si=a4xtYTucB2yWYKoQ\" title=\"YouTube video player\" frameborder=\"0\" allow=\"accelerometer; autoplay; clipboard-write; encrypted-media; gyroscope; picture-in-picture; web-share\" allowfullscreen></iframe>\n"
      ],
      "text/plain": [
       "<IPython.core.display.HTML object>"
      ]
     },
     "metadata": {},
     "output_type": "display_data"
    }
   ],
   "source": [
    "%%HTML\n",
    "<iframe width=\"800\" height=\"600\" src=\"https://www.youtube.com/embed/YtrFbsIotOY?si=a4xtYTucB2yWYKoQ\" title=\"YouTube video player\" frameborder=\"0\" allow=\"accelerometer; autoplay; clipboard-write; encrypted-media; gyroscope; picture-in-picture; web-share\" allowfullscreen></iframe>"
   ]
  },
  {
   "cell_type": "markdown",
   "id": "b3f45fe9",
   "metadata": {},
   "source": [
    "+ Close the lid and quickly run the spin program that you saved on the spinner.\n",
    "    + Execute the Cell Below to Watch a Video.\n",
    "> &sext;**CAUTION**: Very high spin speed for the wafer. Don't touch the wafer while it is spining."
   ]
  },
  {
   "cell_type": "code",
   "execution_count": 11,
   "id": "d4fccb03",
   "metadata": {},
   "outputs": [
    {
     "data": {
      "text/html": [
       "<iframe width=\"800\" height=\"600\" src=\"https://www.youtube.com/embed/PVrDaXJjRP4?si=fgfQlx-jiuZ_QT15\" title=\"YouTube video player\" frameborder=\"0\" allow=\"accelerometer; autoplay; clipboard-write; encrypted-media; gyroscope; picture-in-picture; web-share\" allowfullscreen></iframe>\n"
      ],
      "text/plain": [
       "<IPython.core.display.HTML object>"
      ]
     },
     "metadata": {},
     "output_type": "display_data"
    }
   ],
   "source": [
    "%%HTML\n",
    "<iframe width=\"800\" height=\"600\" src=\"https://www.youtube.com/embed/PVrDaXJjRP4?si=fgfQlx-jiuZ_QT15\" title=\"YouTube video player\" frameborder=\"0\" allow=\"accelerometer; autoplay; clipboard-write; encrypted-media; gyroscope; picture-in-picture; web-share\" allowfullscreen></iframe>"
   ]
  },
  {
   "cell_type": "markdown",
   "id": "5738210a",
   "metadata": {},
   "source": [
    "+ The wafer will have a nice flat coating with an edge bead. This is normal. The photolithography mask has been designed with this edge bead in mind.\n",
    "+ Using one hand remove the wafer from the spinner. Spread your hand out to hold the wafer securely. Your gloves will become sticky and covered in photoresist on this hand.\n",
    "+ Now add acetone to some cloth cleanroom wipes and wipe the bottom of the wafer. \n",
    "    + Wipe in radial movements. Start wiping from the center and then move out radially towards the edge of the wafer.\n",
    "    + Make sure not to get any acetone on the top of the wafer as this can ruin the photoresist coat easily.\n",
    "    + If you use too much acetone small droplets can easily accidently find their way on the top surface of the wafer. \n",
    "    + Do this process quickly and don't tilt the wafer for too long or the photoresist layer might start flowing from one side of the wafer to another. This flow can lead to uneven photoresist thickness.\n",
    "    + Keep the Wafer away from the Acetone by raising it above your head while you are soaking the Cloth wipe in Acetone.\n",
    "    + Now we need to soft bake. \n",
    "+ Using your hands place the coated wafer on the 65&deg;C hotplate. Set a timer for 5 minutes."
   ]
  },
  {
   "cell_type": "code",
   "execution_count": 12,
   "id": "e0709b80",
   "metadata": {},
   "outputs": [
    {
     "data": {
      "text/html": [
       "<iframe width=\"800\" height=\"600\" src=\"https://www.youtube.com/embed/HGHHAM2j9k4?si=PbIHRywJfulw-w1L\" title=\"YouTube video player\" frameborder=\"0\" allow=\"accelerometer; autoplay; clipboard-write; encrypted-media; gyroscope; picture-in-picture; web-share\" allowfullscreen></iframe>\n"
      ],
      "text/plain": [
       "<IPython.core.display.HTML object>"
      ]
     },
     "metadata": {},
     "output_type": "display_data"
    }
   ],
   "source": [
    "%%HTML\n",
    "<iframe width=\"800\" height=\"600\" src=\"https://www.youtube.com/embed/HGHHAM2j9k4?si=PbIHRywJfulw-w1L\" title=\"YouTube video player\" frameborder=\"0\" allow=\"accelerometer; autoplay; clipboard-write; encrypted-media; gyroscope; picture-in-picture; web-share\" allowfullscreen></iframe>"
   ]
  },
  {
   "cell_type": "markdown",
   "id": "8efae75d",
   "metadata": {},
   "source": [
    "#### Soft Bake\n",
    "\n",
    "+ Replace the outer gloves you are wearing:\n",
    "    + First remove your outer gloves and throw them into the Hazardous waste bin.\n",
    "    + Put on a new pair of outer gloves.\n",
    "    + Generally, its good practice to replace your gloves when you have any chemical or solvent on it.\n",
    "+ Using the Wafer Tweezer transfer the coated wafer to the 95&deg;C hotplate. Use the second pair of tweezers for support to prevent the wafer from flying off.\n",
    "+ Set a timer for 20 minutes."
   ]
  },
  {
   "cell_type": "code",
   "execution_count": 13,
   "id": "e0523a98",
   "metadata": {},
   "outputs": [
    {
     "data": {
      "text/html": [
       "<iframe width=\"800\" height=\"600\" src=\"https://www.youtube.com/embed/0LYKhkiX_mo?si=eDAN4WzEIwlR20lu\" title=\"YouTube video player\" frameborder=\"0\" allow=\"accelerometer; autoplay; clipboard-write; encrypted-media; gyroscope; picture-in-picture; web-share\" allowfullscreen></iframe>\n"
      ],
      "text/plain": [
       "<IPython.core.display.HTML object>"
      ]
     },
     "metadata": {},
     "output_type": "display_data"
    }
   ],
   "source": [
    "%%HTML\n",
    "<iframe width=\"800\" height=\"600\" src=\"https://www.youtube.com/embed/0LYKhkiX_mo?si=eDAN4WzEIwlR20lu\" title=\"YouTube video player\" frameborder=\"0\" allow=\"accelerometer; autoplay; clipboard-write; encrypted-media; gyroscope; picture-in-picture; web-share\" allowfullscreen></iframe>"
   ]
  },
  {
   "cell_type": "markdown",
   "id": "c1b83315",
   "metadata": {},
   "source": [
    "+ Clean and dry your Wafer **tweezers** with Acetone soaked cleanroom cloth wipes.\n",
    "+ Using Wafer tweezers remove the wafer from the 95&deg;C hotplate.\n",
    "+ Put the wafer on the level cooling surface. Use the second pair of tweezers for support to prevent the wafer from flying off.\n",
    "+ Set a timer for 5 minutes.\n",
    "+ Now your soft baked wafer is ready for exposure."
   ]
  },
  {
   "cell_type": "code",
   "execution_count": 14,
   "id": "1f5d17e1",
   "metadata": {},
   "outputs": [
    {
     "data": {
      "text/html": [
       "<iframe width=\"800\" height=\"600\" src=\"https://www.youtube.com/embed/fvBcsPTOCS4?si=Jxy6wVbwDE_YsYkj\" title=\"YouTube video player\" frameborder=\"0\" allow=\"accelerometer; autoplay; clipboard-write; encrypted-media; gyroscope; picture-in-picture; web-share\" allowfullscreen></iframe>\n"
      ],
      "text/plain": [
       "<IPython.core.display.HTML object>"
      ]
     },
     "metadata": {},
     "output_type": "display_data"
    }
   ],
   "source": [
    "%%HTML\n",
    "<iframe width=\"800\" height=\"600\" src=\"https://www.youtube.com/embed/fvBcsPTOCS4?si=Jxy6wVbwDE_YsYkj\" title=\"YouTube video player\" frameborder=\"0\" allow=\"accelerometer; autoplay; clipboard-write; encrypted-media; gyroscope; picture-in-picture; web-share\" allowfullscreen></iframe>"
   ]
  },
  {
   "cell_type": "markdown",
   "id": "4b611666",
   "metadata": {},
   "source": [
    "#### **Optional**: How to Stick your Printed Photomask onto a Empty Glass Sheet for Exposure:\n",
    "+ If you don't want to stick your transparency onto a glass sheet you can always order a Glass Photomask.\n",
    "+ Take the transparency you received from Artnet pro out. \n",
    "+ Also take the [5 inch glass sheet](https://www.mcmaster.com/8476K15/) out and place both on a cloth cleanroom wipe.\n",
    "+ Prepare a Storage Case for this Glass Sheet:\n",
    "    + Take the [6 inch storage case](https://www.mcmaster.com/1133N3/) out and make a small concentric square inside the storage case using the [EPDM Foam Strip](https://www.mcmaster.com/8694K111/).\n",
    "    + Make this square pattern both on the top and bottom inside surface of the storage case. \n",
    "+ Clean and blow dry one side of the glass sheet using Cleanroom cloth wipes.\n",
    "+ Prepare the Photomask for the EVG 620:\n",
    "    + Cut the transparency down in size such that the center of the circle is aligned with the center of the glass sheet.\n",
    "    + Now tape the top of the transparency to the glass sheet using Kapton Tape.\n",
    "    + The Kapton tape should not touch the edges of the glass sheet.\n",
    "    + Tape the transparency with the emulsion side(printed side) facing towards you. If you tape it the wrong side, then your pattern on the wafer will be quite blurry.\n",
    "    + Lift the transparency on the opposite side without any tape and clean the surface in contact with the glass using a cloth cleanroom wipe. Also clean the glass surface.\n",
    "        + You can also use IPA or Compressed Nitrogen to Clean if necessary.\n",
    "    + Now carefully tape the opposite end of the transparency. Visually inspect for any remaining particles of dust or debris before you put the tape on. \n",
    "    + Now clean the top emulsion side of the transparency with a cloth cleanroom wipe. Also clean the untapped side of the carrier glass sheet.\n",
    "    + Your Photomask is now ready for Exposure.\n",
    "    \n",
    "|Transparency Taped to Glass Sheet: Tape should not touch or go over the edges of the glass|Final Product Stored inside its Storage Container|\n",
    "|-|-|\n",
    "|<img src=\"img/IMG_2531.jpg\">|<img src=\"img/IMG_2521.jpg\">|\n",
    "\n",
    "#### Exposure using the EVG 620\n",
    "+ Login to the EVG 620. Password and Username should be written on a sheet in the logbook for the EVG620.\n",
    "+ Once you login the machine initializes."
   ]
  },
  {
   "cell_type": "code",
   "execution_count": 15,
   "id": "3bb4d1c2",
   "metadata": {},
   "outputs": [
    {
     "data": {
      "text/html": [
       "<iframe width=\"800\" height=\"600\" src=\"https://www.youtube.com/embed/T0ajl49NggY?si=akiLSGBLmjMxSLnP\" title=\"YouTube video player\" frameborder=\"0\" allow=\"accelerometer; autoplay; clipboard-write; encrypted-media; gyroscope; picture-in-picture; web-share\" allowfullscreen></iframe>\n"
      ],
      "text/plain": [
       "<IPython.core.display.HTML object>"
      ]
     },
     "metadata": {},
     "output_type": "display_data"
    }
   ],
   "source": [
    "%%HTML\n",
    "<iframe width=\"800\" height=\"600\" src=\"https://www.youtube.com/embed/T0ajl49NggY?si=akiLSGBLmjMxSLnP\" title=\"YouTube video player\" frameborder=\"0\" allow=\"accelerometer; autoplay; clipboard-write; encrypted-media; gyroscope; picture-in-picture; web-share\" allowfullscreen></iframe>"
   ]
  },
  {
   "cell_type": "markdown",
   "id": "6ef1ec8d",
   "metadata": {},
   "source": [
    "+ According to the [Datasheet](https://kayakuam.com/wp-content/uploads/2019/09/SU-82000DataSheet2100and2150Ver5.pdf), total UV exposure for the wafer of around 100&mu;m Thickness should be 240 mJ/cm<sup>2</sup>. For the EVG 620 the lamp is 13mW. So, the total exposure time is about 18.5 seconds. Do the calculation for your specific instrument or tell the instrument you want 240mJ/cm<sup>2</sup>.\n",
    "+ You need to load a User Recipe to get started. I use:\n",
    "    + Vacuum Contact\n",
    "    + 4 inch Chuck setting.\n",
    "    + 7 inch mask holder setting.\n",
    "    + 240mJ/cm<sup>2</sup>\n",
    "    + See a picture of the Recipe below:\n",
    "<br><img src=\"img/Screenshot 2024-03-11 at 12.26.04 PM.png\">\n",
    "+ Click on Run.\n",
    "+ The emulsion side of the transparency taped onto the glass sheet should be facing down. \n",
    "+ You want the emulsion side(printed side) to be in contact with your soft baked wafer."
   ]
  },
  {
   "cell_type": "code",
   "execution_count": 16,
   "id": "35cbb4bc",
   "metadata": {},
   "outputs": [
    {
     "data": {
      "text/html": [
       "<iframe width=\"800\" height=\"600\" src=\"https://www.youtube.com/embed/pOgf-TrG1xk?si=lML-6MjrWPcEcd4R\" title=\"YouTube video player\" frameborder=\"0\" allow=\"accelerometer; autoplay; clipboard-write; encrypted-media; gyroscope; picture-in-picture; web-share\" allowfullscreen></iframe>\n"
      ],
      "text/plain": [
       "<IPython.core.display.HTML object>"
      ]
     },
     "metadata": {},
     "output_type": "display_data"
    }
   ],
   "source": [
    "%%HTML\n",
    "<iframe width=\"800\" height=\"600\" src=\"https://www.youtube.com/embed/pOgf-TrG1xk?si=lML-6MjrWPcEcd4R\" title=\"YouTube video player\" frameborder=\"0\" allow=\"accelerometer; autoplay; clipboard-write; encrypted-media; gyroscope; picture-in-picture; web-share\" allowfullscreen></iframe>"
   ]
  },
  {
   "cell_type": "markdown",
   "id": "3c5051a1",
   "metadata": {},
   "source": [
    "+ Make sure there are no particles on or in the Mask.\n",
    "    + Check the Top, the bottom and the area between the Transparency and Glass.\n",
    "+ Then insert the Mask into the EVG620 for Wedge Compensation."
   ]
  },
  {
   "cell_type": "code",
   "execution_count": 17,
   "id": "eec34363",
   "metadata": {},
   "outputs": [
    {
     "data": {
      "text/html": [
       "<iframe width=\"800\" height=\"600\" src=\"https://www.youtube.com/embed/W5sR5XYigE8?si=LY4Z_3tBdsPUaLPo\" title=\"YouTube video player\" frameborder=\"0\" allow=\"accelerometer; autoplay; clipboard-write; encrypted-media; gyroscope; picture-in-picture; web-share\" allowfullscreen></iframe>\n"
      ],
      "text/plain": [
       "<IPython.core.display.HTML object>"
      ]
     },
     "metadata": {},
     "output_type": "display_data"
    }
   ],
   "source": [
    "%%HTML\n",
    "<iframe width=\"800\" height=\"600\" src=\"https://www.youtube.com/embed/W5sR5XYigE8?si=LY4Z_3tBdsPUaLPo\" title=\"YouTube video player\" frameborder=\"0\" allow=\"accelerometer; autoplay; clipboard-write; encrypted-media; gyroscope; picture-in-picture; web-share\" allowfullscreen></iframe>"
   ]
  },
  {
   "cell_type": "markdown",
   "id": "2e87d2f6",
   "metadata": {},
   "source": [
    "+ Blow away any dried Photoresist particles on the Soft baked wafer using a Compressed Nitrogen Gun.\n",
    "+ Next load the soft baked wafer using the Wafer tweezers into the EVG620\n",
    "    + Use the Raised Edges in the Chuck to Align the wafer along its Primary Flat.\n",
    "    + Avoid touching the coated part of the wafer, try to handle it by only pushing along its edge."
   ]
  },
  {
   "cell_type": "code",
   "execution_count": 18,
   "id": "83bb5b10",
   "metadata": {},
   "outputs": [
    {
     "data": {
      "text/html": [
       "<iframe width=\"800\" height=\"600\" src=\"https://www.youtube.com/embed/kjeypGli10g?si=0hLTFJWns-3NCwip\" title=\"YouTube video player\" frameborder=\"0\" allow=\"accelerometer; autoplay; clipboard-write; encrypted-media; gyroscope; picture-in-picture; web-share\" allowfullscreen></iframe>\n"
      ],
      "text/plain": [
       "<IPython.core.display.HTML object>"
      ]
     },
     "metadata": {},
     "output_type": "display_data"
    }
   ],
   "source": [
    "%%HTML\n",
    "<iframe width=\"800\" height=\"600\" src=\"https://www.youtube.com/embed/kjeypGli10g?si=0hLTFJWns-3NCwip\" title=\"YouTube video player\" frameborder=\"0\" allow=\"accelerometer; autoplay; clipboard-write; encrypted-media; gyroscope; picture-in-picture; web-share\" allowfullscreen></iframe>"
   ]
  },
  {
   "cell_type": "markdown",
   "id": "688dd688",
   "metadata": {},
   "source": [
    "+ Align the Wafer with the Boundary of the Printed Pattern on the Photomask using the Alignment Knobs.\n",
    "+ Expose the wafer.\n",
    "> &sext;**CAUTION**: Strong UV Radiation. Don't look at the EVG 620 UV Lamp Directly during Exposure. You can use appropriate eye protection if you HAVE to look."
   ]
  },
  {
   "cell_type": "code",
   "execution_count": 19,
   "id": "ec63a46a",
   "metadata": {},
   "outputs": [
    {
     "data": {
      "text/html": [
       "<iframe width=\"800\" height=\"600\" src=\"https://www.youtube.com/embed/eNljA1rdWkg?si=IQpTUSADiMN0Q4ls\" title=\"YouTube video player\" frameborder=\"0\" allow=\"accelerometer; autoplay; clipboard-write; encrypted-media; gyroscope; picture-in-picture; web-share\" allowfullscreen></iframe>\n"
      ],
      "text/plain": [
       "<IPython.core.display.HTML object>"
      ]
     },
     "metadata": {},
     "output_type": "display_data"
    }
   ],
   "source": [
    "%%HTML\n",
    "<iframe width=\"800\" height=\"600\" src=\"https://www.youtube.com/embed/eNljA1rdWkg?si=IQpTUSADiMN0Q4ls\" title=\"YouTube video player\" frameborder=\"0\" allow=\"accelerometer; autoplay; clipboard-write; encrypted-media; gyroscope; picture-in-picture; web-share\" allowfullscreen></iframe>"
   ]
  },
  {
   "cell_type": "markdown",
   "id": "f66a6b06",
   "metadata": {},
   "source": [
    "#### Post-Exposure Bake\n",
    "+ Remove the exposed wafer from the EVG620 using Wafer Tweezers.\n",
    "+ Put the wafer on the 65&deg;C hotplate using the Wafer Tweezers. Use the second pair of tweezers for support to prevent the wafer from flying off.\n",
    "+ Set a timer for 5 minutes."
   ]
  },
  {
   "cell_type": "code",
   "execution_count": 20,
   "id": "e400f541",
   "metadata": {},
   "outputs": [
    {
     "data": {
      "text/html": [
       "<iframe width=\"800\" height=\"600\" src=\"https://www.youtube.com/embed/3d-IJIkYWjg?si=LTZD9rfwzyaxK_5X\" title=\"YouTube video player\" frameborder=\"0\" allow=\"accelerometer; autoplay; clipboard-write; encrypted-media; gyroscope; picture-in-picture; web-share\" allowfullscreen></iframe>\n"
      ],
      "text/plain": [
       "<IPython.core.display.HTML object>"
      ]
     },
     "metadata": {},
     "output_type": "display_data"
    }
   ],
   "source": [
    "%%HTML\n",
    "<iframe width=\"800\" height=\"600\" src=\"https://www.youtube.com/embed/3d-IJIkYWjg?si=LTZD9rfwzyaxK_5X\" title=\"YouTube video player\" frameborder=\"0\" allow=\"accelerometer; autoplay; clipboard-write; encrypted-media; gyroscope; picture-in-picture; web-share\" allowfullscreen></iframe>"
   ]
  },
  {
   "cell_type": "markdown",
   "id": "2f8e1c58",
   "metadata": {},
   "source": [
    "+ Clean and dry your Wafer **tweezers** with Acetone soaked cleanroom cloth wipes.\n",
    "+ If you did everything correctly you should see a pattern emerging on the wafer within 15 seconds of putting it on the 65&deg;C hotplate.\n",
    "+ Using the Wafer Tweezer transfer the coated wafer to the 95&deg;C hotplate. Use the second pair of tweezers for support to prevent the wafer from flying off.\n",
    "+ Set a timer for 10 minutes. "
   ]
  },
  {
   "cell_type": "code",
   "execution_count": 22,
   "id": "f380c394",
   "metadata": {},
   "outputs": [
    {
     "data": {
      "text/html": [
       "<iframe width=\"800\" height=\"600\" src=\"https://www.youtube.com/embed/v4SIq8XYA4Y?si=dZDFY1QKmRYKUOvH\" title=\"YouTube video player\" frameborder=\"0\" allow=\"accelerometer; autoplay; clipboard-write; encrypted-media; gyroscope; picture-in-picture; web-share\" allowfullscreen></iframe>\n"
      ],
      "text/plain": [
       "<IPython.core.display.HTML object>"
      ]
     },
     "metadata": {},
     "output_type": "display_data"
    }
   ],
   "source": [
    "%%HTML\n",
    "<iframe width=\"800\" height=\"600\" src=\"https://www.youtube.com/embed/v4SIq8XYA4Y?si=dZDFY1QKmRYKUOvH\" title=\"YouTube video player\" frameborder=\"0\" allow=\"accelerometer; autoplay; clipboard-write; encrypted-media; gyroscope; picture-in-picture; web-share\" allowfullscreen></iframe>"
   ]
  },
  {
   "cell_type": "markdown",
   "id": "cf6a6813",
   "metadata": {},
   "source": [
    "+ Clean and dry your Wafer **tweezers** with Acetone soaked cleanroom cloth wipes.\n",
    "+ Using Wafer tweezers remove from the wafer from hotplate.\n",
    "+ Put the wafer on the level cooling surface. Use the second pair of tweezers for support to prevent the wafer from flying off.\n",
    "+ Set a timer for 5 minutes."
   ]
  },
  {
   "cell_type": "code",
   "execution_count": 23,
   "id": "38c7715f",
   "metadata": {},
   "outputs": [
    {
     "data": {
      "text/html": [
       "<iframe width=\"800\" height=\"600\" src=\"https://www.youtube.com/embed/DCO2jsNcNJ8?si=273mBVIvsJyoG-lt\" title=\"YouTube video player\" frameborder=\"0\" allow=\"accelerometer; autoplay; clipboard-write; encrypted-media; gyroscope; picture-in-picture; web-share\" allowfullscreen></iframe>\n"
      ],
      "text/plain": [
       "<IPython.core.display.HTML object>"
      ]
     },
     "metadata": {},
     "output_type": "display_data"
    }
   ],
   "source": [
    "%%HTML\n",
    "<iframe width=\"800\" height=\"600\" src=\"https://www.youtube.com/embed/DCO2jsNcNJ8?si=273mBVIvsJyoG-lt\" title=\"YouTube video player\" frameborder=\"0\" allow=\"accelerometer; autoplay; clipboard-write; encrypted-media; gyroscope; picture-in-picture; web-share\" allowfullscreen></iframe>"
   ]
  },
  {
   "cell_type": "markdown",
   "id": "2e627d80",
   "metadata": {},
   "source": [
    "#### Remove the Mask from the EVG620\n",
    "+ Exit the Program to Remove the Mask from the EVG620.\n",
    "+ Zero all the Adjustment Knobs.\n",
    "+ Store the Mask in its Storage container with the pattern facing up.\n",
    "+ Park your Tray on the EVG620, close the window and then Logoff on FOM.\n",
    "+ Watch the Video Below."
   ]
  },
  {
   "cell_type": "code",
   "execution_count": 24,
   "id": "3bd4487d",
   "metadata": {},
   "outputs": [
    {
     "data": {
      "text/html": [
       "<iframe width=\"800\" height=\"600\" src=\"https://www.youtube.com/embed/6mA7CZMi8t4?si=XnY1qVd06Ov1ST24\" title=\"YouTube video player\" frameborder=\"0\" allow=\"accelerometer; autoplay; clipboard-write; encrypted-media; gyroscope; picture-in-picture; web-share\" allowfullscreen></iframe>\n"
      ],
      "text/plain": [
       "<IPython.core.display.HTML object>"
      ]
     },
     "metadata": {},
     "output_type": "display_data"
    }
   ],
   "source": [
    "%%HTML\n",
    "<iframe width=\"800\" height=\"600\" src=\"https://www.youtube.com/embed/6mA7CZMi8t4?si=XnY1qVd06Ov1ST24\" title=\"YouTube video player\" frameborder=\"0\" allow=\"accelerometer; autoplay; clipboard-write; encrypted-media; gyroscope; picture-in-picture; web-share\" allowfullscreen></iframe>"
   ]
  },
  {
   "cell_type": "markdown",
   "id": "51c12efa",
   "metadata": {},
   "source": [
    "#### Developing the Wafer\n",
    "+ Now you need to remove the photoresist from the regions which were not exposed. This is called developing the wafer.\n",
    "+ You will need three [Crystallizing glass dishes](https://www.fishersci.com/shop/products/pyrex-crystallizing-dishes-8/08741E),cloth cleanroom wipes, a SU-8 Developer squeeze bottle and a Isopropanol squeeze bottle. The Squeeze bottles can generally be found somewhere in one of the Fume hoods in Room 1413 or 1417.\n",
    "+ Put the three glass dishes inside the Fume hood where SU-8 Developer can be used for Developing your wafer.\n",
    "    + Clean these Glass Dishes with a Cloth Cleanroom wipe to remove any particles. Use Compressed Nitrogen Gun if necessary.\n",
    "+ Gently Pour SU-8 Developer into two glass dishes. Pour about 1cm deep SU-8 Developer.\n",
    "    + Avoid splashing.\n",
    "> &sext;**CAUTION**: Do not get any developer on your body or skin. Also avoid any getting on your gloves. Immediately take the outer glove off and replace it with another glove if you accidently get some on it. Gentle swirling should avoid any SU-8 developer from spilling and splashing. Avoid breathing in the fume by keeping your head away from the Fume hood and the SU-8 Developer. Read the SDS."
   ]
  },
  {
   "cell_type": "code",
   "execution_count": 25,
   "id": "3dedb965",
   "metadata": {},
   "outputs": [
    {
     "data": {
      "text/html": [
       "<iframe width=\"800\" height=\"600\" src=\"https://www.youtube.com/embed/B1SAtc-LgWQ?si=VVTJCcjgzP9QVjlg\" title=\"YouTube video player\" frameborder=\"0\" allow=\"accelerometer; autoplay; clipboard-write; encrypted-media; gyroscope; picture-in-picture; web-share\" allowfullscreen></iframe>\n"
      ],
      "text/plain": [
       "<IPython.core.display.HTML object>"
      ]
     },
     "metadata": {},
     "output_type": "display_data"
    }
   ],
   "source": [
    "%%HTML\n",
    "<iframe width=\"800\" height=\"600\" src=\"https://www.youtube.com/embed/B1SAtc-LgWQ?si=VVTJCcjgzP9QVjlg\" title=\"YouTube video player\" frameborder=\"0\" allow=\"accelerometer; autoplay; clipboard-write; encrypted-media; gyroscope; picture-in-picture; web-share\" allowfullscreen></iframe>"
   ]
  },
  {
   "cell_type": "markdown",
   "id": "985088c8",
   "metadata": {},
   "source": [
    "+ Now place the Exposed wafer inside the First glass dish with SU-8 Developer gently using Wafer Tweezers.\n",
    "+ Gently swirl the glass dish for 8 minutes. Alternate between clockwise and anticlockwise rotation every few minutes.\n",
    "> &sext;**CAUTION**: Do not get any developer on your body or skin. Also avoid any getting on your gloves. Immediately take the outer glove off and replace it with another glove if you accidently get some on it. Gentle swirling should avoid any SU-8 developer from spilling and splashing. Avoid breathing in the fume by keeping your head away from the Fume hood and the SU-8 Developer. Read the SDS."
   ]
  },
  {
   "cell_type": "code",
   "execution_count": 26,
   "id": "7d9e944a",
   "metadata": {},
   "outputs": [
    {
     "data": {
      "text/html": [
       "<iframe width=\"800\" height=\"600\" src=\"https://www.youtube.com/embed/zCClmz4TKX4?si=5Lmwi2IfhQ-2QMJl\" title=\"YouTube video player\" frameborder=\"0\" allow=\"accelerometer; autoplay; clipboard-write; encrypted-media; gyroscope; picture-in-picture; web-share\" allowfullscreen></iframe>\n"
      ],
      "text/plain": [
       "<IPython.core.display.HTML object>"
      ]
     },
     "metadata": {},
     "output_type": "display_data"
    }
   ],
   "source": [
    "%%HTML\n",
    "<iframe width=\"800\" height=\"600\" src=\"https://www.youtube.com/embed/zCClmz4TKX4?si=5Lmwi2IfhQ-2QMJl\" title=\"YouTube video player\" frameborder=\"0\" allow=\"accelerometer; autoplay; clipboard-write; encrypted-media; gyroscope; picture-in-picture; web-share\" allowfullscreen></iframe>"
   ]
  },
  {
   "cell_type": "markdown",
   "id": "b7937328",
   "metadata": {},
   "source": [
    "+ After 8 minutes all the unexposed photoresist should have dissolved in the SU-8 developer.\n",
    "+ Now transfer the wafer to the second glass dish with SU-8 Developer gently using Wafer Tweezers. Swirl for 2 minutes."
   ]
  },
  {
   "cell_type": "code",
   "execution_count": 27,
   "id": "f9610a36",
   "metadata": {},
   "outputs": [
    {
     "data": {
      "text/html": [
       "<iframe width=\"800\" height=\"600\" src=\"https://www.youtube.com/embed/I7LkQ-fq9hA?si=M4FZrhYecTN6xVd0\" title=\"YouTube video player\" frameborder=\"0\" allow=\"accelerometer; autoplay; clipboard-write; encrypted-media; gyroscope; picture-in-picture; web-share\" allowfullscreen></iframe>\n"
      ],
      "text/plain": [
       "<IPython.core.display.HTML object>"
      ]
     },
     "metadata": {},
     "output_type": "display_data"
    }
   ],
   "source": [
    "%%HTML\n",
    "<iframe width=\"800\" height=\"600\" src=\"https://www.youtube.com/embed/I7LkQ-fq9hA?si=M4FZrhYecTN6xVd0\" title=\"YouTube video player\" frameborder=\"0\" allow=\"accelerometer; autoplay; clipboard-write; encrypted-media; gyroscope; picture-in-picture; web-share\" allowfullscreen></iframe>"
   ]
  },
  {
   "cell_type": "markdown",
   "id": "3d67cc23",
   "metadata": {},
   "source": [
    "+ Now hold the wafer above the second dish with your wafer tweezers and irrigate the wafer with the SU-8 Developer Squeeze bottle for 1 minute.\n",
    "+ Now hold the wafer over the third empty glass dish using wafer tweezers without it touching the dish.\n",
    "+ Irrigate the wafer with Isopropanol using a Squeeze bottle.\n",
    "    + Wash the wafer till all the SU-8 developer has been removed.\n",
    "    + Wash both sides.\n",
    "    + Don't forget the liquid hiding behind the wafer tweezers.\n",
    "+ Now blow dry the wafer inside the fume hood using a compressed Nitrogen/Air gun over cloth cleanroom wipes.\n",
    "    + Don't forget the liquid hiding behind the wafer tweezers."
   ]
  },
  {
   "cell_type": "code",
   "execution_count": 28,
   "id": "e16b9105",
   "metadata": {},
   "outputs": [
    {
     "data": {
      "text/html": [
       "<iframe width=\"800\" height=\"600\" src=\"https://www.youtube.com/embed/1foa0WU8tL4?si=eS2mBn0I2_7zkH3Y\" title=\"YouTube video player\" frameborder=\"0\" allow=\"accelerometer; autoplay; clipboard-write; encrypted-media; gyroscope; picture-in-picture; web-share\" allowfullscreen></iframe>\n"
      ],
      "text/plain": [
       "<IPython.core.display.HTML object>"
      ]
     },
     "metadata": {},
     "output_type": "display_data"
    }
   ],
   "source": [
    "%%HTML\n",
    "<iframe width=\"800\" height=\"600\" src=\"https://www.youtube.com/embed/1foa0WU8tL4?si=eS2mBn0I2_7zkH3Y\" title=\"YouTube video player\" frameborder=\"0\" allow=\"accelerometer; autoplay; clipboard-write; encrypted-media; gyroscope; picture-in-picture; web-share\" allowfullscreen></iframe>"
   ]
  },
  {
   "cell_type": "markdown",
   "id": "855b7a12",
   "metadata": {},
   "source": [
    "+ Put this Dried and Developed Wafer back into the Wafer Carrier using Wafer Tweezers.\n",
    "+ Clean up. Make sure you properly dispose of any waste. Use the Organic Solvents Waste bottle for SU-8 Developer and Isopropanol waste. Check the waste tag before you pour.\n",
    "+ When you pour the Waste into the Bottle make sure any spills along the sides of the Dish are also caught by the Funnel directing liquid into the Waste Bottle.\n",
    "    + You don't want the Solvent Waste to enter the Regular Drainage system.\n",
    "+ Place a lot of Paper Cleanroom Wipes on the Fume Hood Surface. You will wash your Glass Dishes and then place them on these Paper wipes to prevent liquid going into the Fume Hood.\n",
    "+ Dry and Wipe the Inside of the Glass Dishes with Paper Towels and then Store them in their designated Storage area.\n",
    "+ Also store all remaining items in their designated storage area."
   ]
  },
  {
   "cell_type": "code",
   "execution_count": 29,
   "id": "d94c9a68",
   "metadata": {},
   "outputs": [
    {
     "data": {
      "text/html": [
       "<iframe width=\"800\" height=\"600\" src=\"https://www.youtube.com/embed/umSVRF06bZc?si=IzjGkwPWoa3sqE58\" title=\"YouTube video player\" frameborder=\"0\" allow=\"accelerometer; autoplay; clipboard-write; encrypted-media; gyroscope; picture-in-picture; web-share\" allowfullscreen></iframe>\n"
      ],
      "text/plain": [
       "<IPython.core.display.HTML object>"
      ]
     },
     "metadata": {},
     "output_type": "display_data"
    }
   ],
   "source": [
    "%%HTML\n",
    "<iframe width=\"800\" height=\"600\" src=\"https://www.youtube.com/embed/umSVRF06bZc?si=IzjGkwPWoa3sqE58\" title=\"YouTube video player\" frameborder=\"0\" allow=\"accelerometer; autoplay; clipboard-write; encrypted-media; gyroscope; picture-in-picture; web-share\" allowfullscreen></iframe>"
   ]
  },
  {
   "cell_type": "markdown",
   "id": "64758ba6",
   "metadata": {},
   "source": [
    "#### Metrology With DektakXT\n",
    "+ Your mold is now ready. We just need to check the height.\n",
    "+ Logon to the DektakXT on FOM.\n",
    "+ Use the DektakXT surface profilometer to check the height of our wafer features. 5mg force with  Hills and Valleys setting.\n",
    "+ Your wafers should be between 104&mu;m to 109&mu;m in height. Try to hit this target range. As height is important for the inertial ordering effect of the microfluidic chip design and for stable droplet formation without jetting.\n",
    "+ Watch the Video below on How to Take a Measurement"
   ]
  },
  {
   "cell_type": "code",
   "execution_count": 30,
   "id": "1838df55",
   "metadata": {},
   "outputs": [
    {
     "data": {
      "text/html": [
       "<iframe width=\"800\" height=\"600\" src=\"https://www.youtube.com/embed/xmLz0N2-xhA?si=iZ8jexnO03Wo7QHt\" title=\"YouTube video player\" frameborder=\"0\" allow=\"accelerometer; autoplay; clipboard-write; encrypted-media; gyroscope; picture-in-picture; web-share\" allowfullscreen></iframe>\n"
      ],
      "text/plain": [
       "<IPython.core.display.HTML object>"
      ]
     },
     "metadata": {},
     "output_type": "display_data"
    }
   ],
   "source": [
    "%%HTML\n",
    "<iframe width=\"800\" height=\"600\" src=\"https://www.youtube.com/embed/xmLz0N2-xhA?si=iZ8jexnO03Wo7QHt\" title=\"YouTube video player\" frameborder=\"0\" allow=\"accelerometer; autoplay; clipboard-write; encrypted-media; gyroscope; picture-in-picture; web-share\" allowfullscreen></iframe>"
   ]
  },
  {
   "cell_type": "markdown",
   "id": "d612f8c4",
   "metadata": {},
   "source": [
    "+ Logoff DektakXT from FOM before you leave."
   ]
  }
 ],
 "metadata": {
  "kernelspec": {
   "display_name": "Python 3 (ipykernel)",
   "language": "python",
   "name": "python3"
  },
  "language_info": {
   "codemirror_mode": {
    "name": "ipython",
    "version": 3
   },
   "file_extension": ".py",
   "mimetype": "text/x-python",
   "name": "python",
   "nbconvert_exporter": "python",
   "pygments_lexer": "ipython3",
   "version": "3.7.16"
  }
 },
 "nbformat": 4,
 "nbformat_minor": 5
}
