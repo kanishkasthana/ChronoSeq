{
 "cells": [
  {
   "cell_type": "markdown",
   "metadata": {},
   "source": [
    "### Protocol for suspending ChronoSeq/Dropseq  Beads stored in Ethanol to 1X Lysis Buffer\n",
    "\n",
    "#### Storage of ChronoSeq or Dropseq beads\n",
    "+ You should receive your beads suspended in Ethanol.\n",
    "+ Store these beads in a new box at -20&deg;C before you start your experiments or for long term storage. Label the box with the Date you received the beads, the bead type and the batch number.\n",
    "\n",
    "#### Prepare Lysis Buffer Stock\n",
    "+ We suggest preparing [3.33X Lysis Buffer Stock using this protocol,](protocol_for_preparing_3.33X_lysis_buffer_stock.ipynb) before you get started.\n",
    "### Best Practices:\n",
    "1. Remember to put back the reagents back to their storage location at 4&deg;C or -20&deg;C once you are done with using them.\n",
    "2. Get fresh new microtips/sterile-disposable pipettes after each step, unless mentioned otherwise. \n",
    "      + Important to avoid cross-contamination.\n",
    "\n",
    "### Equipment Used:\n",
    "+  Our lab uses the refrigerated [Sorval ST8R Centrifuge](https://www.thermofisher.com/order/catalog/product/75007200). You can find [CAD files to print some of the parts here](CAD_Files/Sorval%20ST8R%20CAD%20Models).\n",
    "    + We bought the 50ml Inserts and Printed the Rest.\n",
    "    + You can modify the CAD files to print the 50ml Inserts as well. \n",
    "    + Use PLA or TPU for the prints.\n",
    "+ Microcentrifuge we used was the [Fisherbrand™ accuSpin™ Micro 17/17R Microcentrifuge](https://www.fishersci.com/shop/products/fisherbrand-accuspin-micro-17r-microcentrifuge/13100675)\n",
    "+ [CELLTREAT Pipette Controller](https://www.fishersci.com/shop/products/pipet-controller-120v-1-cs/50550475)\n",
    "    + [Replacement Filters](https://www.celltreat.com/product/230206/)\n",
    "+ [Labnet Vortex](https://www.stellarscientific.com/labnet-vx-200-s0200-low-profile-lab-vortex-mixer-115v/)\n",
    "+ [Eppendorf Pipettes 6-Pack](https://www.eppendorf.com/us-en/eShop-Products/Liquid-Handling/Manual-Pipettes-Dispensers/Eppendorf-Research-plus-p-3123000942)\n",
    "+ Pipette Tips:\n",
    "    + [Genesee Scientific 200/20&mu;l Tips](https://geneseesci.com/shop-online/product-details/23-150RS/olympus-plastics-23-150rs-200ul-olympus-premium-pipet-tips-low-binding-racked-sterile-10-racks-of-96-tips---unit)\n",
    "    + [Rainin 1000&mu;l Tips](https://www.shoprainin.com/Pipette-Tips/Universal-Pipette-Tips/Hinged-Cover-Racks/Pipette-Tips-RT-UNV-1000%C2%B5L-LS-768A-8/p/30389169)\n",
    "    + [Genesee Scientific 10&mu;l Tips](https://geneseesci.com/shop-online/product-details/23-130RS/olympus-plastics-23-130rs-10-and-#xb5l-olympus-premium-pipet-tips-low-binding-racked-sterile-10-racks-of-96-tips-unit)\n",
    "+ Larger Volume Pipettes:\n",
    "    + [5ml Pipette](https://www.fishersci.com/shop/products/stripette-paper-wrapped-disposable-polystyrene-serological-pipettes-7/07200573)\n",
    "    + [10ml Pipette](https://www.fishersci.com/shop/products/sterile-polystyrene-disposable-serological-pipets-magnifier-stripe-10/1367811F)\n",
    "    + [25ml Pipette](https://www.fishersci.com/shop/products/stripette-paper-wrapped-disposable-polystyrene-serological-pipettes-7/07200575)\n",
    "    + [50ml Pipette](https://www.fishersci.com/shop/products/sterile-polystyrene-disposable-serological-pipets-magnifier-stripe-10/1367811F)\n",
    "+ Disposable Sterile Falcon Tubes:\n",
    "    + [50ml Tubes](https://ecatalog.corning.com/life-sciences/b2c/US/en/Liquid-Handling/Tubes,-Liquid-Handling/Centrifuge-Tubes/Falcon%C2%AE-Conical-Centrifuge-Tubes/p/352098)\n",
    "    + [15ml Tubes](https://ecatalog.corning.com/life-sciences/b2c/US/en/Liquid-Handling/Tubes,-Liquid-Handling/Centrifuge-Tubes/Falcon%C2%AE-Conical-Centrifuge-Tubes/p/352097)\n",
    "+ [Disposable Sterile 250ml GL45 Bottles, Individually Wrapped](https://www.fishersci.com/shop/products/corning-pet-storage-bottles-square-cap-4/07201601)\n",
    "\n",
    "#### Vacuum System Setup and Assembly\n",
    "+ Assemble the Vacuum setup shown in the images below. You will need the following: \n",
    "    + [1 litre GL-45 Glass Bottle](https://www.amazon.com/Corning-1395-1L-1000ml-Storage-Bottle/dp/B07WDYHRW8)\n",
    "    + [Pluriselect Connector Ring (Green Color)](https://www.fishersci.com/shop/products/connector-ring/NC0790867) \n",
    "    + [3D Printed Cap for GL-45 Bottle](CAD_Files/GL45_Cap)\n",
    "    + [15&mu;m Pluriselect Filter (Dark Gray Color)](https://www.fishersci.com/shop/products/plur-strainer-15-micron-25-pk/NC1203375)\n",
    "    + [Vacuum Pump](https://www.amazon.com/gp/product/B085FPPMMR/) \n",
    "    + [Push Connect fitting kit](https://www.amazon.com/gp/product/B07RJ1BYKV/)\n",
    "    + [Luer Lock Barb Male Adapter](https://www.idex-hs.com/store/product-detail/barbed_to_male_luer_lock_adapter_for_use_with_soft_walled_tubing_polypropylene_for_use_with_3_32_2_4_mm_id_tubing_each/p-851)\n",
    "    + [Luer Lock Barb Female Adapter](https://www.idex-hs.com/store/product-detail/barbed_to_female_luer_lock_adapter_for_use_with_soft_walled_tubing_each_for_use_with_3_32_2_4_mm_id_tubing_polypropylene/p-858)\n",
    "    + [3-Way Stop-Cock](https://www.amazon.com/Zocakee-Stopcocks-Connections-Sterile-Individual/dp/B09DP6QPH4/)\n",
    "    + [VICI 3 Port Bottle Cap](https://www.vicijour.com/products/vici-caps-gl45-threads?variant=43022885388475)\n",
    "    + [0.45&mu;m Syringe Filter](https://www.fishersci.com/shop/products/millex-hv-sterile-syringe-filter-unit-pvdf-0-45-m/SLHV004SL)\n",
    "    + [Delrin Plug 1/4-28 UNF](https://www.idex-hs.com/store/product-detail/plug_delrin_1_4_28_flat_bottom/p-309)\n",
    "    + [Tygon Tubing 3/32\" ID x 7/32\" OD x 1/16\" Wall](https://www.mcmaster.com/6516T52/)\n",
    "    + [1/4-28 UNF to Barb Adapter](https://www.idex-hs.com/store/product-detail/swivel_barb_adapter_for_use_with_soft_walled_tubing_polypropylene_each_for_3_32_2_4_mm_id_tubing/d-647)\n",
    "    + Adjustable Wrench\n",
    "<br><br>Use Teflon Tape from Fittings Kit to get a better seal if necessary:\n",
    "<br><img src=\"img/IMG_2216.jpg\" width=\"75%\" height=\"75%\">\n",
    "<br><img src=\"img/IMG_2218.jpg\" width=\"75%\" height=\"75%\">\n",
    "<br><img src=\"img/IMG_2219.jpg\" width=\"75%\" height=\"75%\">\n",
    "<br><img src=\"img/IMG_2213.jpg\" width=\"75%\" height=\"75%\">\n",
    "<br><img src=\"img/IMG_2220.jpg\" width=\"75%\" height=\"75%\">\n",
    "<br><img src=\"img/IMG_2226.jpg\" width=\"75%\" height=\"75%\">"
   ]
  },
  {
   "cell_type": "code",
   "execution_count": 1,
   "metadata": {},
   "outputs": [
    {
     "data": {
      "text/html": [
       "<iframe width=\"800\" height=\"600\" src=\"https://www.youtube.com/embed/ZLpKiHjuOIU\" title=\"YouTube video player\" frameborder=\"0\" allow=\"accelerometer; autoplay; clipboard-write; encrypted-media; gyroscope; picture-in-picture; web-share\" allowfullscreen></iframe>\n"
      ],
      "text/plain": [
       "<IPython.core.display.HTML object>"
      ]
     },
     "metadata": {},
     "output_type": "display_data"
    }
   ],
   "source": [
    "%%HTML\n",
    "<iframe width=\"800\" height=\"600\" src=\"https://www.youtube.com/embed/ZLpKiHjuOIU\" title=\"YouTube video player\" frameborder=\"0\" allow=\"accelerometer; autoplay; clipboard-write; encrypted-media; gyroscope; picture-in-picture; web-share\" allowfullscreen></iframe>"
   ]
  },
  {
   "cell_type": "markdown",
   "metadata": {},
   "source": [
    "+ Use Compressed Air to Remove any particles from the 50ml Falcon Tubes used for all the steps below.\n",
    "    + Remove the Particles before moving onto the next step.\n",
    "    + Execute the Cell Below to Watch a Video of the Process."
   ]
  },
  {
   "cell_type": "code",
   "execution_count": 2,
   "metadata": {},
   "outputs": [
    {
     "data": {
      "text/html": [
       "<iframe width=\"800\" height=\"600\" src=\"https://www.youtube.com/embed/BZua7OioLm0?si=6kGb2lyEvrFbnQA4\" title=\"YouTube video player\" frameborder=\"0\" allow=\"accelerometer; autoplay; clipboard-write; encrypted-media; gyroscope; picture-in-picture; web-share\" referrerpolicy=\"strict-origin-when-cross-origin\" allowfullscreen></iframe>\n"
      ],
      "text/plain": [
       "<IPython.core.display.HTML object>"
      ]
     },
     "metadata": {},
     "output_type": "display_data"
    }
   ],
   "source": [
    "%%HTML\n",
    "<iframe width=\"800\" height=\"600\" src=\"https://www.youtube.com/embed/BZua7OioLm0?si=6kGb2lyEvrFbnQA4\" title=\"YouTube video player\" frameborder=\"0\" allow=\"accelerometer; autoplay; clipboard-write; encrypted-media; gyroscope; picture-in-picture; web-share\" referrerpolicy=\"strict-origin-when-cross-origin\" allowfullscreen></iframe>"
   ]
  },
  {
   "cell_type": "markdown",
   "metadata": {},
   "source": [
    "#### Processing Protocol for Suspending ChronoSeq Beads in 1X Lysis Buffer\n",
    "+ Turn on the UV for the Cell Culture Hood and wait 15 minutes.\n",
    "+ Now turn the airflow for the Cell Culture Hood on and then turn off the UV.\n",
    "+ It is important to only process one Seq-Number/Timepoint at a time. Mixing the Beads defeats the purpose of ChronoSeq experiments, as you lose the time-series information you were trying to capture. Therefore be careful to keep only one Seq-Number/Timepoint in the Cell Culture Hood. \n",
    "+ If you are suspending Dropseq beads only and there are no timepoints, then you should process only 6 million beads at a time. \n",
    "    + One Vial from Chemgenes generaly contains 6 million beads:\n",
    "        + These Dropseq beads can be combined into a single Falcon Tube only after they have been suspended in 1X Lysis buffer separately.\n",
    "        + Dropseq Beads from different manufacturers should not be mixed together.\n",
    "        + Only one Vial should be processed at a time because a large bead concentration can block the 70&mu;m Pluriselect Strainer in later steps. Having only one Vial ensures this filter will not get blocked.\n",
    "    + One Vial from LGC Genomics may contain more than 6 million beads.\n",
    "        + In this case please prepare a Falcon Tube with 5ml of Ethanol as described below.\n",
    "        + Split the beads in the vial into smaller aliquots stored in additional vials or Tubes.\n",
    "        + The pipette tip(s) for making these aliquots should not be discarded.\n",
    "        + Wash these pipette tips in the Falcon Tube with 5ml of Ethanol to avoid loosing any beads.\n",
    "        + Read the steps below to get an idea on how to do this.\n",
    "        + Remember to work in the Cell Culture Hood/ Biosafety Cabinet.\n",
    "+ Using a [40&mu;m Cell Strainer](https://www.fishersci.com/shop/products/falcon-cell-strainers-4/087711), prepare 10ml 100% Ethanol for each Seq-Number/Timepoint you will prepare. For example, if you are preparing 4 Seq-Numbers/Timepoints then you should filter 40ml of Ethanol with a 40&mu;m Cell Strainer and then Transfer 10ml to three different [50ml Falcon Tubes](https://www.fishersci.com/shop/products/falcon-50ml-conical-centrifuge-tubes-2/1495949A). The Ethanol Bottle should only be opened inside the Cell Culture Hood. Make sure you label the Bottle to make sure this is clear. Moreover, this Ethanol should only be used for processing these beads.\n",
    "+ Label each Falcon Tube from above with the Seq-Number/Timepoint it will be used for washing.\n",
    "+ Now attach the 15&mu;m Pluriselct Filter (Dark Gray Color) to the Connector ring.\n",
    "+ Make sure the Vacuum Pump is turned on. There is a switch on the pump.\n",
    "+ Using the 3-Way Stopcock <b>Turn on the Vacuum</b> for the Pluriselect Connector Ring.\n",
    "+ Use only <b>Sterile/Particle-Free</b> [Rainin 1000&mu;l Tips](https://www.shoprainin.com/Pipette-Tips/Universal-Pipette-Tips/Hinged-Cover-Racks/Pipette-Tips-RT-UNV-1000%C2%B5L-LS-768A-8/p/30389169) for these next steps. Make sure you use these tips only inside the Cell Culture Hood. Label the Box for the Tips to make sure this is clear.\n",
    "<br><img src=\"img/IMG_2227.jpg\" width=\"75%\" height=\"75%\">"
   ]
  },
  {
   "cell_type": "code",
   "execution_count": 3,
   "metadata": {},
   "outputs": [
    {
     "data": {
      "text/html": [
       "<iframe width=\"800\" height=\"600\" src=\"https://www.youtube.com/embed/QNo502RRKGo\" title=\"YouTube video player\" frameborder=\"0\" allow=\"accelerometer; autoplay; clipboard-write; encrypted-media; gyroscope; picture-in-picture; web-share\" allowfullscreen></iframe>\n"
      ],
      "text/plain": [
       "<IPython.core.display.HTML object>"
      ]
     },
     "metadata": {},
     "output_type": "display_data"
    }
   ],
   "source": [
    "%%HTML\n",
    "<iframe width=\"800\" height=\"600\" src=\"https://www.youtube.com/embed/QNo502RRKGo\" title=\"YouTube video player\" frameborder=\"0\" allow=\"accelerometer; autoplay; clipboard-write; encrypted-media; gyroscope; picture-in-picture; web-share\" allowfullscreen></iframe>"
   ]
  },
  {
   "cell_type": "markdown",
   "metadata": {},
   "source": [
    "+ Set a P1000 to 500&mu;l and pipette up 500&mu;l of Ethanol for your Seq-Number/Timepoint. Use the Ethanol from the Tube you labeled with the same Seq-Number/Timpoint you made earlier. \n",
    "+ <b>Without Touching any part of the Storage Tube</b> for this Seq-Number add 500&mu;l from <b>Above</b>.\n",
    "+ Get rid of this tip.\n",
    "+ Set your P1000 to 1000&mu;l.\n",
    "+ Using a Fresh Tip evenly suspend the Beads in the Storage Tube.\n",
    "+ Using the Same Tip, Transfer the Beads to the 15&mu;m Pluriselect Filter. Do not discard the tip and spill any beads.\n",
    "+ Immerse this tip in the Ethanol for this Seq Number/Timepoint and pipette up and down. This transfers the beads stuck in the tip to the ethanol.\n",
    "+ Using the same tip Pipette up 1000ul of Ethanol from this Tube.\n",
    "+ Transfer this 1000&mu;l of Ethanol to the Original Storage Tube for this Seq-Number/Timepoint.\n",
    "+ Shake the Storage Tube \n",
    "+ Pipette up the 1000&mu;l inside the Storage tube and transfer it to the 15&mu;m Pluriselect Filter.\n",
    "+ Repeat the previous 4 Steps one more time.\n",
    "+ Now transfer the remaining Ethanol to the 15&mu;m Pluriselect Filter using a [10ml Pipette](https://www.fishersci.com/shop/products/stripette-paper-wrapped-disposable-polystyrene-serological-pipettes-7/07200574)."
   ]
  },
  {
   "cell_type": "code",
   "execution_count": 4,
   "metadata": {},
   "outputs": [
    {
     "data": {
      "text/html": [
       "<iframe width=\"800\" height=\"600\" src=\"https://www.youtube.com/embed/zTEp-HeeR7c\" title=\"YouTube video player\" frameborder=\"0\" allow=\"accelerometer; autoplay; clipboard-write; encrypted-media; gyroscope; picture-in-picture; web-share\" allowfullscreen></iframe>\n"
      ],
      "text/plain": [
       "<IPython.core.display.HTML object>"
      ]
     },
     "metadata": {},
     "output_type": "display_data"
    }
   ],
   "source": [
    "%%HTML\n",
    "<iframe width=\"800\" height=\"600\" src=\"https://www.youtube.com/embed/zTEp-HeeR7c\" title=\"YouTube video player\" frameborder=\"0\" allow=\"accelerometer; autoplay; clipboard-write; encrypted-media; gyroscope; picture-in-picture; web-share\" allowfullscreen></iframe>"
   ]
  },
  {
   "cell_type": "markdown",
   "metadata": {},
   "source": [
    "+ Turn the Vacuum off using the 3-Way Stopcock.\n",
    "+ Using a fresh [5ml Pipette](https://www.fishersci.com/shop/products/stripette-paper-wrapped-disposable-polystyrene-serological-pipettes-7/07200573) pipette up 3ml of [Distilled water](https://www.fishersci.com/shop/products/invitrogen-ultrapure-dnase-rnase-free-distilled-water-2/10977023). This Distilled Water bottle should ONLY be opened inside the Cell Culture Hood. Label the bottle to make sure this is clear.\n",
    "+ Using this 3ml of Water, irrigate the inner wall of the 15&mu;m Filter to dislodge any beads stuck there. Get rid of the Pipette.\n",
    "+ Turn the Vacuum on. Wait 5 Seconds.\n",
    "+ Turn off the Vacuum. You have now successfully washed the beads with Water.\n",
    "+ Repeat the previous 4 Steps one more time.\n",
    "+ Slightly loosen the 15&mu;m Pluriselect Filter from the Connector Ring.\n",
    "+ Get a fresh 50ml Falcon Tube and remove the cap.\n",
    "+ Place the 50ml Tube upside down on the 15&mu;m Filter.\n",
    "+ Remove the 15&mu;m filter from the connector ring while holding the 50ml Tube in place.\n",
    "+ Flip the 50ml tube and 15&mu;m filter together 180 degrees such that the 50ml tube is now rightside up. Watch Video above for more clarity.\n",
    "+ Now using a Fresh 5ml Pipette transfer 5ml of Distilled water to the opposite side of the 15&mu;m Filter to get the Beads into the 50ml Tube.\n",
    "+ Repeat the previous step one more time. You should have approximately 10ml of Water and beads in the tube now.\n",
    "+ Close the 50ml Tube and Spin it down using a Centrifudge at 1500xg for 1 minute."
   ]
  },
  {
   "cell_type": "code",
   "execution_count": 5,
   "metadata": {},
   "outputs": [
    {
     "data": {
      "text/html": [
       "<iframe width=\"800\" height=\"600\" src=\"https://www.youtube.com/embed/wVz7loY29Z0\" title=\"YouTube video player\" frameborder=\"0\" allow=\"accelerometer; autoplay; clipboard-write; encrypted-media; gyroscope; picture-in-picture; web-share\" allowfullscreen></iframe>\n"
      ],
      "text/plain": [
       "<IPython.core.display.HTML object>"
      ]
     },
     "metadata": {},
     "output_type": "display_data"
    }
   ],
   "source": [
    "%%HTML\n",
    "<iframe width=\"800\" height=\"600\" src=\"https://www.youtube.com/embed/wVz7loY29Z0\" title=\"YouTube video player\" frameborder=\"0\" allow=\"accelerometer; autoplay; clipboard-write; encrypted-media; gyroscope; picture-in-picture; web-share\" allowfullscreen></iframe>"
   ]
  },
  {
   "cell_type": "markdown",
   "metadata": {},
   "source": [
    "+ Now back inside the Cell Culture Hood, estimate the Volume of the Bead Suspension in Water using a Fresh 10ml Pipette.\n",
    "+ Using a Fresh 5ml Pipette, add more water to make the Final Volume 14mls."
   ]
  },
  {
   "cell_type": "code",
   "execution_count": 6,
   "metadata": {},
   "outputs": [
    {
     "data": {
      "text/html": [
       "<iframe width=\"800\" height=\"600\" src=\"https://www.youtube.com/embed/6bGM96RGP_I\" title=\"YouTube video player\" frameborder=\"0\" allow=\"accelerometer; autoplay; clipboard-write; encrypted-media; gyroscope; picture-in-picture; web-share\" allowfullscreen></iframe>\n"
      ],
      "text/plain": [
       "<IPython.core.display.HTML object>"
      ]
     },
     "metadata": {},
     "output_type": "display_data"
    }
   ],
   "source": [
    "%%HTML\n",
    "<iframe width=\"800\" height=\"600\" src=\"https://www.youtube.com/embed/6bGM96RGP_I\" title=\"YouTube video player\" frameborder=\"0\" allow=\"accelerometer; autoplay; clipboard-write; encrypted-media; gyroscope; picture-in-picture; web-share\" allowfullscreen></iframe>"
   ]
  },
  {
   "cell_type": "markdown",
   "metadata": {},
   "source": [
    "+ Using a 10ml Pipette add 6ml of [3.33X Lysis buffer](protocol_for_preparing_3.33X_lysis_buffer_stock.ipynb) to the 14ml of beads. Mix well using the same pipette. We now have 20ml beads suspended in 1X Lysis buffer.\n",
    "+ Filter the beads twice using [70&mu;m Pluriselect Filters (white color)](https://www.fishersci.com/shop/products/70-um-50-pcs-sterile-strain/NC1527905).\n",
    "    + Agitate the Beads if necessary to make sure they are evenly suspended before filtering.\n",
    "    + Use two separate filters.\n",
    "    + You have two options:\n",
    "        + You can either stack the filters on top of each other in a Single Falcon Tube\n",
    "        + Or you can add a fresh filter on two separate Falcon Tubes.\n",
    "        + Pour by hand over the filters without spilling.\n",
    "+ Spin down the beads. 1000xg for 1.5 Minutes with Soft Decceleration 21&deg;C Temperature. \n",
    "+ Remove 10ml of Lysis Buffer without disturbing the beads. Use a 10ml Pipette.\n",
    "+ Set a P200 to 20&mu;l.\n",
    "    + Using a P200 instead of P20 increases the chance of getting evenly distibuted beads inside the Hemocytometer (see below).\n",
    "+ Swirl the 50ml Tube to get a <b>Uniform Concentration</b> of beads. Be careful to not create a lot of bubbles.\n",
    "    + Spin the beads down at 2500xg for 1 minutes to get rid of the bubbles if there are too many of them.\n",
    "+ Using <b>Sterile/Particle-Free</b> 200&mu;l Tips, quickly take a sample and transfer it to a [Fuchs-Rosenthal Hemocytometer](https://www.fishersci.com/shop/products/c-chip-disposable-hemacytometers-9/22600115).\n",
    "> **Important Note**: If you wait too long before transfering the beads then the beads can settle down to the bottom of the tip. Therefore transfer the beads quickly to the Hemocytometer. Make sure the beads are [evenly distributed throughout the Hemocytometer chamber](https://mccarrolllab.org/drop-seq-troubleshootingtutorial-with-pictures-videos/screen-shot-2016-01-08-at-7-06-14-pm/). Count 5 Squares. 5 squares gives you the Number of Beads per &mu;l.\n",
    "+ Execute the cell below to watch a video of the process."
   ]
  },
  {
   "cell_type": "code",
   "execution_count": 7,
   "metadata": {},
   "outputs": [
    {
     "data": {
      "text/html": [
       "<iframe width=\"800\" height=\"600\" src=\"https://www.youtube.com/embed/yMaHxovHWb0?si=uNE_igubxHAKcujK\" title=\"YouTube video player\" frameborder=\"0\" allow=\"accelerometer; autoplay; clipboard-write; encrypted-media; gyroscope; picture-in-picture; web-share\" referrerpolicy=\"strict-origin-when-cross-origin\" allowfullscreen></iframe>\n"
      ],
      "text/plain": [
       "<IPython.core.display.HTML object>"
      ]
     },
     "metadata": {},
     "output_type": "display_data"
    }
   ],
   "source": [
    "%%HTML\n",
    "<iframe width=\"800\" height=\"600\" src=\"https://www.youtube.com/embed/yMaHxovHWb0?si=uNE_igubxHAKcujK\" title=\"YouTube video player\" frameborder=\"0\" allow=\"accelerometer; autoplay; clipboard-write; encrypted-media; gyroscope; picture-in-picture; web-share\" referrerpolicy=\"strict-origin-when-cross-origin\" allowfullscreen></iframe>"
   ]
  },
  {
   "cell_type": "markdown",
   "metadata": {},
   "source": [
    "+ Estimate the Final Volume using a 10ml Pipette.\n",
    "+ Calculate the Final Volume needed to get beads at a Final concentration of 450beads/&mu;l. \n",
    "+ Spin down the beads. 1000xg for 1.5 Minutes with Soft Decceleration 21&deg;C Temperature.\n",
    "+ Remove/Add lysis buffer to get the final desired concentration of 450beads/&mu;l.\n",
    "    + If you are adding lysis buffer make sure you filter it with a 40&mu;m Cell Strainer before adding.\n",
    "+ Remember to add the following Labels to this Final Tube:\n",
    "    + Date\n",
    "    + The Timepoint/Seq-number/Bead-Type\n",
    "    + The concentration of beads: 450 beads/&mu;l\n",
    "    + Media in which the beads are suspended: 1X Lysis buffer\n",
    "    + Manufacturer and Lot Number(s)\n",
    "    + Final volume of beads in the Tube.\n",
    "+ Store the Orignal Storage Tubes (from the Manufacturer) for the Beads back into the box in -20&deg;C.\n",
    "+ Store the Final Tube of beads suspended in 1X Lysis buffer at 4&deg;C.\n",
    "+ Get the next Seq-Number/Timepoint for processing.\n",
    "+ You can now start with the next Seq-Number/Timepoint. \n",
    "+ Once you have processed all the Seq-Numbers/Timepoints, store the Ethanol on my Bench and not inside the Cell Culture Hood.\n",
    "+ Put everything back in its correct place and make sure the caps are **screwed on tight** for the liquids.\n",
    "+ Switch off the Vacuum pump.\n",
    "+ Turn off the Cell Culture Hood.\n",
    "> This is a **STOPPING STEP**. You can store these beads in 1X Lysis Buffer at 4&deg;C.\n",
    "\n",
    "### Protocol for Preparing Tubes for Priming and Timepoints/Injections (Optional)\n",
    "> **IMPORTANT**: Follow this protocol only if your Beads can directly be used without any modifications needed. Otherwise you will need to [modify your beads using this protocol](protocol_for_single_cell_scale_up_chronoseqv4_dropseq_bead_modification.ipynb) before they are ready for injection. \n",
    "\n",
    "+ You should work inside the Cell Culture hood to avoid introduction of Dust particles or Debris.\n",
    "> &sext; **Important Note**: Do not mix different types of beads such as ChronoSeq and Dropseq beads. Also don't mix different timepoints together. It is important you process them separately.\n",
    "+ For each separate timepoint/bead type (such as Dropseq beads):\n",
    "    + Label a **Sterile/Particle-Free** 50ml Falcon Tube with the Bead-Type/Timepoint, the date, the batch and the bead Reservoir Number it will be loaded into for the ChronoSeq Device.\n",
    "    + Shake the beads each time to make sure the beads have a <b>uniform concentration </b> then, transfer 1ml of Beads each to Separate 50ml Falcon Tubes. Use Sterile/Particle-Free [Rainin 1000&mu;l](https://www.shoprainin.com/Pipette-Tips/Universal-Pipette-Tips/Hinged-Cover-Racks/Pipette-Tips-RT-UNV-1000%C2%B5L-LS-768A-8/p/30389169) Pipette tips.\n",
    "    > &sext; **Important Note**:Try be be as close to 1ml of Beads as possible. Less than 0.8ml of Beads can introduce bubbles into the Chrono-Seq device and cause blockages.\n",
    "    + Put the Beads inside the refrigerator at 4&deg;C before the experiment.\n",
    "    + Prepare remaining tubes for Priming the Chronoseq device. The first section of [this protocol has instructions](protocol_for_recycling_beads.ipynb#prepare_priming).\n",
    "    + Remember to spin down the beads before you load them into the Chrono-Seq device.\n",
    "\n",
    "<style>\n",
    "    @media print {\n",
    "    a[href]::after {\n",
    "        content: none !important;\n",
    "        }\n",
    "    }\n",
    "</style>"
   ]
  }
 ],
 "metadata": {
  "kernelspec": {
   "display_name": "Python 3",
   "language": "python",
   "name": "python3"
  },
  "language_info": {
   "codemirror_mode": {
    "name": "ipython",
    "version": 3
   },
   "file_extension": ".py",
   "mimetype": "text/x-python",
   "name": "python",
   "nbconvert_exporter": "python",
   "pygments_lexer": "ipython3",
   "version": "3.8.16"
  }
 },
 "nbformat": 4,
 "nbformat_minor": 4
}
