{
 "cells": [
  {
   "cell_type": "code",
   "execution_count": 1,
   "id": "9ec1662e",
   "metadata": {},
   "outputs": [
    {
     "name": "stdout",
     "output_type": "stream",
     "text": [
      "C:\\Users\\kanis\\Documents\\ChronoSeq\\config\n"
     ]
    }
   ],
   "source": [
    "import os\n",
    "cwd = os.getcwd()\n",
    "print(cwd)"
   ]
  },
  {
   "cell_type": "code",
   "execution_count": 2,
   "id": "d0fffd96",
   "metadata": {},
   "outputs": [],
   "source": [
    "from bs4 import BeautifulSoup\n",
    "\n",
    "# Open and read the HTML file\n",
    "with open(r\"C:/Users/kanis/Documents/ChronoSeq/instructions_for_setting_up_valves_tubing_and_reservoirs.html\", \"r\",encoding=\"utf8\") as file:\n",
    "    html_content = file.read()"
   ]
  },
  {
   "cell_type": "code",
   "execution_count": 3,
   "id": "cad67dd2",
   "metadata": {},
   "outputs": [
    {
     "name": "stdout",
     "output_type": "stream",
     "text": [
      "instructions_for_setting_up_valves_tubing_and_reservoirs\n"
     ]
    }
   ],
   "source": [
    "# Create a BeautifulSoup object\n",
    "soup = BeautifulSoup(html_content, \"html.parser\")\n",
    "\n",
    "# Now you can start parsing the HTML\n",
    "# For example, to print the title of the page:\n",
    "print(soup.title.string)"
   ]
  },
  {
   "cell_type": "code",
   "execution_count": 4,
   "id": "d217006e",
   "metadata": {},
   "outputs": [],
   "source": [
    "# Find all div elements with class 'jp-CodeMirrorEditor'\n",
    "video_cells = soup.find_all('div', class_='jp-CodeMirrorEditor')\n",
    "    \n",
    "# Iterate through cells and remove those containing video elements\n",
    "for cell in video_cells:\n",
    "    if cell.find('video') or '%%HTML' in cell.text:\n",
    "        cell.decompose()\n",
    "        \n",
    "# Remove YouTube iframe containers\n",
    "iframes = soup.find_all('iframe')\n",
    "for iframe in iframes:\n",
    "    iframe.decompose()"
   ]
  },
  {
   "cell_type": "code",
   "execution_count": 5,
   "id": "87cb27d1",
   "metadata": {},
   "outputs": [],
   "source": [
    "for a in soup.find_all('a'):\n",
    "    text = a.string\n",
    "    if text:\n",
    "        if text.endswith('¶'):\n",
    "            new_text = text[:-1]  # Remove the last character if it's a period\n",
    "        else:\n",
    "            new_text = text  # Keep the text as is if it doesn't end with a period\n",
    "        a.string.replace_with(new_text)\n",
    "    a.unwrap()"
   ]
  },
  {
   "cell_type": "code",
   "execution_count": 6,
   "id": "ddc89f56",
   "metadata": {},
   "outputs": [],
   "source": [
    "text_to_remove=\"https://www.pygame.org/contribute.html\"\n",
    "for element in soup.find_all(text=True):\n",
    "        if text_to_remove in element:\n",
    "            # Replace the text with empty string\n",
    "            element.replace_with(element.replace(text_to_remove, ''))"
   ]
  },
  {
   "cell_type": "code",
   "execution_count": 7,
   "id": "af65edf1",
   "metadata": {},
   "outputs": [],
   "source": [
    "modified_html=str(soup)"
   ]
  },
  {
   "cell_type": "code",
   "execution_count": 8,
   "id": "fdd52673",
   "metadata": {},
   "outputs": [],
   "source": [
    "# Save the modified HTML to a new file\n",
    "with open(r\"C:/Users/kanis/Documents/ChronoSeq/instructions_for_setting_up_valves_tubing_and_reservoirs.html\", 'w',encoding=\"utf8\") as file:\n",
    "    file.write(modified_html)"
   ]
  }
 ],
 "metadata": {
  "kernelspec": {
   "display_name": "Python 3 (ipykernel)",
   "language": "python",
   "name": "python3"
  },
  "language_info": {
   "codemirror_mode": {
    "name": "ipython",
    "version": 3
   },
   "file_extension": ".py",
   "mimetype": "text/x-python",
   "name": "python",
   "nbconvert_exporter": "python",
   "pygments_lexer": "ipython3",
   "version": "3.7.16"
  }
 },
 "nbformat": 4,
 "nbformat_minor": 5
}
