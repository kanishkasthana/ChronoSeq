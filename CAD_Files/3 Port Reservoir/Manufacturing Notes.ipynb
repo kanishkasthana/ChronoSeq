{
 "cells": [
  {
   "cell_type": "markdown",
   "id": "d144d354",
   "metadata": {},
   "source": [
    "### Ordering, Design, Manufacturing and Assembly Instructions for Cap:\n",
    "+ Part contains a Two Custom Coils which I estimated using Trial and error.\n",
    "    + The Two Coils Are 180 Degrees apart. The [Screenshot](CAD_Files/3%20Port%20Reservoir/Screenshot%202024-05-18%20at%206.41.43%E2%80%AFPM.png) should give you the dimensions of the first coil. <br><img src=\"Screenshot%202024-05-18%20at%206.41.43%E2%80%AFPM.png\" height=\"50%\" width=\"50%\">\n",
    "    + I then moved these coils and fillet them before fusing them with the main body in the Model.\n",
    "    + The F3D File should have the complete design history. \n",
    "    + I have also provided Intermediate Versions of the STEP file to help if you don't have Autodesk Fusion. \n",
    "+ You can also modify the design to make a two port version. \n",
    "    + One of the Sketches in the F3D file should allow you to make the two port version.\n",
    "+ I ordered these parts from [RapidDirect](https://www.rapiddirect.com/)\n",
    "    + CNC Machining / Aluminum 6061-T6 / As machined (Ra1.6) \n",
    "    + I orderd both: As Machined and Anodized parts.\n",
    "    + I recommend anodizing since you can autoclave the parts if necessary. \n",
    "        + Anodizing Type II (Black, Glossy)\n",
    "    + General tolerance: ISO2768M\n",
    "    + Tightest tolerance: ISO2768F\n",
    "    + Threads and tapped holes: Standard threads\n",
    "        + In the notes please do mention: 1/4-28 UNF 1B(Loose Fit) is needed.\n",
    "        + I've also included a Drawing document but did not mention details of the Custom Thread. Please do include the Dimensions of the Custom Coils in the Notes\n",
    "    + You can also send them the intermediate files and the Screenshot with the Dimensions of the Coils to RapidDirect.\n",
    "+ Cost\n",
    "    + I ordered 60 Caps and the total came to about 11 USD per cap including shipping in May 2024.\n",
    "    + Commercial Versions of these reservoirs cost about 120 USD or more. I recommend having them made with these CAD files to save money.\n",
    "+ Finished Part Videos. You can watch videos of the Machined Finished Parts here:\n",
    "    + [Anodized Version](https://youtube.com/shorts/v9XiYWVvN5w)\n",
    "    + [As-Machined Version](https://youtube.com/shorts/2mlBNOAA4LQ)\n",
    "    + Both Parts Work Equally Well. But I recommend getting the Anodized version.\n",
    "    + 30 Anodized Caps should be enough for one ChronoSeq device.\n",
    "+ Adding Gasket/O-Ring\n",
    "    + O-Ring Gasket Was Ordered from [Primal23Industrial](https://www.primal23industrial.com/1-14-OD-X-34-ID-X-116-Thickness-Neoprene-Rubber-Washers--Endeavor-Series_p_195.html)\n",
    "    + Place this O-Ring at the Bottom of the Cap so it seals the Gap between the 50ml Falcon Tube and the CNC Machined Cap.\n",
    "    + You can also order [from Amazon](https://www.amazon.com/Pack-Neoprene-Rubber-Washers-Thickness/dp/B017858EKC)\n",
    "        + E12534116-100 1 1/4 OD X 3/4 ID X 1/16 Thickness Neoprene Rubber Washers - Endeavor Series Select Pack Quantity: 100 Pack. Cost about 20$.\n",
    "+ Additional Parts:\n",
    "    + To Block one of the Ports you can use a [Delrin Plug.](https://www.idex-hs.com/store/product-detail/plug_delrin_1_4_28_flat_bottom/p-309)\n",
    "    + You can Connect Pneumatic Tubing Using a [Barb](https://www.idex-hs.com/store/product-detail/swivel_barb_adapter_for_use_with_soft_walled_tubing_polypropylene_each_for_3_32_2_4_mm_id_tubing/d-647).\n",
    "    + You can connect 1/16\" OD tubing to the CAP using a [Nut](https://www.idex-hs.com/store/product-detail/flangeless_male_nut_delrin_1_4_28_flat_bottom_for_1_16_od_green/p-205) and [Ferrule](https://www.idex-hs.com/store/product-detail/flangeless_ferrule_tefzel_etfe_1_4_28_flat_bottom_for_1_16_od_blue_10_pack/p-200x).\n",
    "+ Leak Test Video:\n",
    "    + [In this Video](https://youtu.be/IXwhfJeW9Ks?si=vd2weQe9szzjqPMl) the Fully Assembled Part was Submerged in Water and there were no leaks when pressurized to 2 Bar.\n",
    "+ Optional Additive Manufacturing Version:\n",
    "    + You can also print these parts using an FDM Printer but removing supports can be tricky.\n",
    "        + You can use [a toolkit like this](https://www.amazon.com/Rustark-Accessories-Cleaning-Tweezers-Finishing/dp/B07VBNDF95) to help with support removal.\n",
    "    + SLA (Resin) Prints with a 50&mu;m layer height is recommended.\n",
    "    + In addition you will need to add [another O-Ring in the 1/4-28 UNF Ports](https://www.mcmaster.com/2418T11/) to prevent gas leaks, especially for the FDM Printed Version.\n",
    "        + Oil-Resistant Soft Buna-N O-Rings, 1/16 Fractional Width, Dash Number 004, Packs of 100\n",
    "    + The Ferrule should be in contact with the additional O-Ring to Prevent Leaks for the FDM Version.\n",
    "+ Tolerance Compensation for FDM and SLA Prints\n",
    "    + Tolerance compensation was needed for the FDM Version of the CAP. I used a XY Tolerance Compensation of 0.15mm\n",
    "    + The [3MF File](CAD_Files/3%20Port%20Reservoir/3%20Port%20Cap%20XY%20Compensation.3mf) and was printed on a [Bambu Lab X1 Carbon](https://us.store.bambulab.com/products/x1-carbon?variant=42698346070152).\n",
    "        + You can load the 3MF File into the [Orca Slicer](https://github.com/SoftFever/OrcaSlicer/releases) directly to inherit the print settings.\n",
    "    + For the [Bambu Lab X1 Carbon](https://us.store.bambulab.com/products/x1-carbon?variant=42698346070152) we had:\n",
    "        + 0.4mm Nozzle\n",
    "        + Textured PEI Plate \n",
    "    + For the Resin Prints Tolerance compensation might also be needed. But I haven't tried it. Instead I:\n",
    "        + Used a [Tap](https://www.mcmaster.com/2687A83/) and [Tap Wrench](https://www.mcmaster.com/25605A75/) to shave off excess plastic from the print."
   ]
  },
  {
   "cell_type": "code",
   "execution_count": 1,
   "id": "2089fac1",
   "metadata": {},
   "outputs": [
    {
     "data": {
      "text/html": [
       "<video width=\"800\" height=\"600\" controls>\n",
       "  <source src=\"FDM_Timelapse.mp4\" type=\"video/mp4\">\n",
       "</video>\n"
      ],
      "text/plain": [
       "<IPython.core.display.HTML object>"
      ]
     },
     "metadata": {},
     "output_type": "display_data"
    }
   ],
   "source": [
    "%%HTML\n",
    "<video width=\"800\" height=\"600\" controls>\n",
    "  <source src=\"FDM_Timelapse.mp4\" type=\"video/mp4\">\n",
    "</video>"
   ]
  }
 ],
 "metadata": {
  "kernelspec": {
   "display_name": "Python 3 (ipykernel)",
   "language": "python",
   "name": "python3"
  },
  "language_info": {
   "codemirror_mode": {
    "name": "ipython",
    "version": 3
   },
   "file_extension": ".py",
   "mimetype": "text/x-python",
   "name": "python",
   "nbconvert_exporter": "python",
   "pygments_lexer": "ipython3",
   "version": "3.7.16"
  }
 },
 "nbformat": 4,
 "nbformat_minor": 5
}
