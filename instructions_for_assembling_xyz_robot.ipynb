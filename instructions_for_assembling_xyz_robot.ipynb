{
 "cells": [
  {
   "cell_type": "markdown",
   "id": "8b03f8db",
   "metadata": {},
   "source": [
    "## Instructions for Assembling XYZ Robot\n",
    "\n",
    "### Brief Description \n",
    "\n",
    "+ For each new injection of beads for the ChronoSeq Device:\n",
    "    + We need to make sure the beads from the previous injection are recovered and removed from the Bead Channel.\n",
    "    + By removing the beads we can ensure the Cells being injected in the the microfluidic chip are Tagged by the Correct Time-Tagged Beads.\n",
    "    + In addition we don't want to waste the substantial number of expensive Time-Tagged beads already in the Bead Channel by recovering them for use in later experiments.\n",
    "    + Therefore we deposit the recovered beads in labeled 50ml and 15ml Tubes using the XYZ Robot and the Bead Bypass Valve.\n",
    "+ To Build the XYZ Robot we will modify a [GRBL](https://github.com/gnea/grbl/wiki) [CoreXY Pen-Plotter](https://www.doesbot.com/corexy-pen-plotter/45-doesbot-a4-working-area-xy-plotter-printer-handwriting-writer-drawing-robot-kit-corexy-structure-assemble-needed-diy-cnc.html).\n",
    "+ Although we modified the Doesbot plotter there are many other similar plotters available online and the provided [CAD Files](CAD_Files/XYZ%20Robot) can easily be modified for those other Plotters. Most Pen Plotters meant for A4 Size Paper should work.\n",
    "\n",
    "| Location of XYZ Robot in Schematic |\n",
    "|-|\n",
    "|<img src=\"img/Main%20Figure%20XYZ%20Robot.jpg\">|\n",
    "\n",
    "### 3D Printing Parts\n",
    "\n",
    "+ We used a [Bambu Lab X1 Carbon](https://us.store.bambulab.com/products/x1-carbon?variant=42698346070152) to print the Parts.\n",
    "    + 0.4mm Nozzle\n",
    "    + Textured PEI Plate \n",
    "+ We generated several [3MF Files](CAD_Files/XYZ%20Robot) with all the Settings we used for the Print. You can open these files on the [Orca Slicer](https://github.com/SoftFever/OrcaSlicer/releases).\n",
    "+ The Original STEP Files and F3D Files can be found in the same directory.\n",
    "+ We recommend getting a [3D Printing Accessories Kit](https://www.amazon.com/gp/product/B07VBNDF95/) if you haven't purchased one already.\n",
    "    + Its extremely helpful in removing supports and cleaning up the print.\n",
    "    \n",
    "### Ordering the Parts\n",
    "\n",
    "+ You can order the Doesbot AX4 from either [Amazon](https://www.amazon.com/dp/B0BHW97N9W) or directly from the [Doesbot website](https://www.doesbot.com/corexy-pen-plotter/45-doesbot-a4-working-area-xy-plotter-printer-handwriting-writer-drawing-robot-kit-corexy-structure-assemble-needed-diy-cnc.html).\n",
    "+ [Limit Switch PCBs](https://www.amazon.com/dp/B07TWKH7F7).\n",
    "+ [Self Tapping Screw Set](https://www.amazon.com/dp/B0BMQ9Y8BH/)\n",
    "    + We used M3 10mm Screws and M2 10mm Screws.\n",
    "+ [An Electronics Screwdriver set](https://www.amazon.com/dp/B09FFCGLHK).\n",
    "+ [USB A to USB B Cable](https://www.amazon.com/dp/B00NH11KIK)\n",
    "+ Extra [MG90S 9g Servo](https://www.amazon.com/dp/B07L6FZVT1) if necessary.\n",
    "+ [Socket Cap Bolts Screws Nuts Assortment Kit](https://www.amazon.com/dp/B08QD86364)\n",
    "+ [M5 2020 Aluminum Profile T Nuts](https://www.amazon.com/dp/B07V1HX9GS/)\n",
    "+ [Hex Wrench Metric and Inch Set](https://www.amazon.com/AmazonBasics-Hex-Allen-Wrench-Ball/dp/B0776C2D6H/)\n",
    "+ [M5 Sockets Head Bolt Kit](https://www.amazon.com/dp/B0BMQ5L141)\n",
    "+ [Tweezer Kit](https://www.amazon.com/gp/product/B07ZBZ7MSF/)\n",
    "+ [2 Pieces 8mm Diameter 450mm Length Rods](https://www.amazon.com/gp/product/B07DPHDMDT/)\n",
    "+ Extra [GT2 Timing Belt](https://www.amazon.com/gp/product/B08974S1CC/) if necessary.\n",
    "+ [Digital Vernier Calipers](https://www.amazon.com/gp/product/B017KUC6XQ/) to check dimensions.\n",
    "+ [Jumper Cables](https://www.amazon.com/dp/B01EV70C78)\n",
    "### Assembling the Robot\n",
    "\n",
    "#### Assembling the Centeral Cross Slide\n",
    "+ Instructions adapted from [Original](doesbot/AX4%20Drawing%20Robot%20Assembly%20Instructions.pdf) Doesbot [assembly instructions](https://www.doesbot.com/index.php?controller=attachment&id_attachment=17).\n",
    "+ You will need the following Parts for Assembling the Cross-Slide. <br><img src=\"img/IMG_3628.jpg\" height=\"50%\" width=\"50%\">\n",
    "+ Using the Zip-Ties Secure the Linear Bearings to the Bottom Cross Slide.<br><img src=\"img/IMG_3630.jpg\" height=\"50%\" width=\"50%\">\n",
    "+ Using the Cutters from the 3D Printing Accessories Kit, cut the ends of the Zip-Ties.<br><img src=\"img/IMG_3636.jpg\" height=\"50%\" width=\"50%\">\n",
    "+ Do the same for the 3D Printed Top Cross Slide. \n",
    "    + Make sure the orientation of the Linear Bearings is Correct.\n",
    "    + The Text should be on the Opposite Side to the Linear Bearings.\n",
    "    \n",
    "| Secure the Linear Bearings using Zip-Ties | 3D Printed Text Should be on the Opposite Side|\n",
    "|-|-|\n",
    "|<img src=\"img/IMG_3632.jpg\">|<img src=\"img/IMG_3633.jpg\">|\n",
    "\n",
    "+ With all the Linear Bearings attached the Top Cross Slide should look like this.<br><img src=\"img/IMG_3634.jpg\" height=\"50%\" width=\"50%\">\n",
    "+ Using the Cutters from the 3D Printing Accessories Kit, cut the ends of the Zip-Ties.<br><img src=\"img/IMG_3635.jpg\" height=\"50%\" width=\"50%\">\n",
    "+ Push the M4x40mm Cross Screws through the Bottom Cross Slide.<br><img src=\"img/IMG_3637.jpg\" height=\"50%\" width=\"50%\">\n",
    "+ Place four &#8960;4x7mm Round Plastic Column pieces on Top.<br><img src=\"img/IMG_3638.jpg\" height=\"50%\" width=\"50%\">\n",
    "+ Place four F624 Flange Bearings on top with the Flange facing downwards. The Flange is the wider part of the Bearing.<br><img src=\"img/IMG_3639.jpg\" height=\"50%\" width=\"50%\">\n",
    "+ Place another four F624 Flange Bearings on top with the Flange facing upwards. <br><img src=\"img/IMG_3640.jpg\" height=\"50%\" width=\"50%\">\n",
    "+ Place another four &#8960;4x7mm Round Plastic Column pieces on Top.<br><img src=\"img/IMG_3641.jpg\" height=\"50%\" width=\"50%\">\n",
    "+ Now Place the Assembled 3D Printed Top Cross Slide on Top. The Text should be visible and facing upwards in the orientation shown.<br><img src=\"img/IMG_3642.jpg\" height=\"50%\" width=\"50%\">\n",
    "+ Using the 3.0 Ph0 Head and the Screwdriver from the Electronics Screwdriver Set:\n",
    "    + Put M4 Hex Nuts on Top.\n",
    "    + Hold the Nuts with your hands and tighten the screws from the other side.\n",
    "    + Do not overtighten.\n",
    "    + Execute the Cell Below to Watch a Video of the process.<br><img src=\"img/IMG_3644.jpg\" height=\"50%\" width=\"50%\">"
   ]
  },
  {
   "cell_type": "code",
   "execution_count": 1,
   "id": "8a1ff938",
   "metadata": {},
   "outputs": [
    {
     "data": {
      "text/html": [
       "<iframe width=\"800\" height=\"600\" src=\"https://www.youtube.com/embed/Ca5o3hkrSwA?si=Ne49SfWFjsm5dMI8\" title=\"YouTube video player\" frameborder=\"0\" allow=\"accelerometer; autoplay; clipboard-write; encrypted-media; gyroscope; picture-in-picture; web-share\" referrerpolicy=\"strict-origin-when-cross-origin\" allowfullscreen></iframe>\n"
      ],
      "text/plain": [
       "<IPython.core.display.HTML object>"
      ]
     },
     "metadata": {},
     "output_type": "display_data"
    }
   ],
   "source": [
    "%%HTML\n",
    "<iframe width=\"800\" height=\"600\" src=\"https://www.youtube.com/embed/Ca5o3hkrSwA?si=Ne49SfWFjsm5dMI8\" title=\"YouTube video player\" frameborder=\"0\" allow=\"accelerometer; autoplay; clipboard-write; encrypted-media; gyroscope; picture-in-picture; web-share\" referrerpolicy=\"strict-origin-when-cross-origin\" allowfullscreen></iframe>"
   ]
  },
  {
   "cell_type": "markdown",
   "id": "ce70ebc2",
   "metadata": {},
   "source": [
    "+ You will need the following Parts for Attaching the Limit Switches to the Assembled Cross Slide. <br><img src=\"img/IMG_3648.jpg\" height=\"50%\" width=\"50%\">\n",
    "+ Use your Hands and the Hex Wrench to Attach the Limit Switches.Execute the Cell Below to Watch a Video of the process:"
   ]
  },
  {
   "cell_type": "code",
   "execution_count": 2,
   "id": "70728247",
   "metadata": {},
   "outputs": [
    {
     "data": {
      "text/html": [
       "<iframe width=\"800\" height=\"600\" src=\"https://www.youtube.com/embed/ppYSZmjUukY?si=xGZ0W8fq5oYfmQ85\" title=\"YouTube video player\" frameborder=\"0\" allow=\"accelerometer; autoplay; clipboard-write; encrypted-media; gyroscope; picture-in-picture; web-share\" referrerpolicy=\"strict-origin-when-cross-origin\" allowfullscreen></iframe>\n"
      ],
      "text/plain": [
       "<IPython.core.display.HTML object>"
      ]
     },
     "metadata": {},
     "output_type": "display_data"
    }
   ],
   "source": [
    "%%HTML\n",
    "<iframe width=\"800\" height=\"600\" src=\"https://www.youtube.com/embed/ppYSZmjUukY?si=xGZ0W8fq5oYfmQ85\" title=\"YouTube video player\" frameborder=\"0\" allow=\"accelerometer; autoplay; clipboard-write; encrypted-media; gyroscope; picture-in-picture; web-share\" referrerpolicy=\"strict-origin-when-cross-origin\" allowfullscreen></iframe>"
   ]
  },
  {
   "cell_type": "markdown",
   "id": "630e429a",
   "metadata": {},
   "source": [
    "+ The Cross Slide should look like this after attaching the Limit Switches.<br><img src=\"img/IMG_3653.jpg\" height=\"50%\" width=\"50%\">\n",
    "\n",
    "#### Assembling the Left and Right Stepper Motor Pedestals\n",
    "\n",
    "+ You will need the following Parts for Assembling the Side Panel of the Pedestal.<br><img src=\"img/IMG_3654.jpg\" height=\"50%\" width=\"50%\">\n",
    "+ Use the Arrows on the Side Panel to make sure the orientation matches. The Arrows should be pointing forward and to the right. <br><img src=\"img/IMG_3655.jpg\" height=\"50%\" width=\"50%\">\n",
    "+ Push the M3x20 Screws Through the Side Panel as shown.<br><img src=\"img/IMG_3656.jpg\" height=\"50%\" width=\"50%\">\n",
    "+ Put the pieces shown on top.<br><img src=\"img/IMG_3657.jpg\" height=\"50%\" width=\"50%\">\n",
    "+ Put the remaining pieces on top. <br><img src=\"img/IMG_3658.jpg\" height=\"50%\" width=\"50%\">\n",
    "+ As shown in a previous video, Using the 3.0 Ph0 Head and the Screwdriver from the Electronics Screwdriver Set:\n",
    "    + Put M3 Hex Nuts on Top.\n",
    "    + Hold the Nuts with your hands and tighten the screws from the other side.\n",
    "    + Do not overtighten. <br><img src=\"img/IMG_3660.jpg\" height=\"50%\" width=\"50%\">\n",
    "+ Put the M4 Square Nuts in the Slots shown on the right and left. <br><img src=\"img/IMG_3661.jpg\" height=\"50%\" width=\"50%\">\n",
    "+ Use the M4x12 Cross Screws to Holds the Square Nuts in Position. \n",
    "    + You might have to slide the nuts a little up or down in their slot.\n",
    "    + This is to make sure the M4 Screw is aligned with the hole in the Square nut.\n",
    "    \n",
    "| Top View of assembled M4 Nut and Screw |  Side View of assembled M4 Nut and Screw|\n",
    "|-|-|\n",
    "|<img src=\"img/IMG_3663.jpg\">|<img src=\"img/IMG_3662.jpg\">|\n",
    "\n",
    "+ Follow the same steps for the second side pedestal panel. The two sides should now look like this. <br><img src=\"img/IMG_3664.jpg\" height=\"50%\" width=\"50%\">\n",
    "+ Now we need to attach or stepper moter to the top panel of the pedestal. You will need the following parts. <br><img src=\"img/IMG_3666.jpg\" height=\"50%\" width=\"50%\">\n",
    "+ Using the Phillips Head Screwdriver, screw the Top panel to the Stepper Motor.\n",
    "    + The Electical Connection Pins and Rectangular Slots should be on the same side.<br><img src=\"img/IMG_3667.jpg\" height=\"50%\" width=\"50%\">\n",
    "+ Following the same steps, do this for the second stepper motor and top panel.<br><img src=\"img/IMG_3685.jpg\" height=\"50%\" width=\"50%\">\n",
    "+ Next we will attach our Side Pannel to 2020 Aluminum Extrusions for Support. You will need the following parts.<br><img src=\"img/IMG_3672.jpg\" height=\"50%\" width=\"50%\">\n",
    "+ Make sure the orientation is correct before you screw everything in. The threads should be pointing towards you. <br><img src=\"img/IMG_3673.jpg\" height=\"50%\" width=\"50%\">\n",
    "+ Execute the Cell Below to watch a Video of the process."
   ]
  },
  {
   "cell_type": "code",
   "execution_count": 3,
   "id": "8f4dab21",
   "metadata": {},
   "outputs": [
    {
     "data": {
      "text/html": [
       "<iframe width=\"800\" height=\"600\" src=\"https://www.youtube.com/embed/uwFnuTbKBMI?si=FAS2oX-pzww6NWx1\" title=\"YouTube video player\" frameborder=\"0\" allow=\"accelerometer; autoplay; clipboard-write; encrypted-media; gyroscope; picture-in-picture; web-share\" referrerpolicy=\"strict-origin-when-cross-origin\" allowfullscreen></iframe>\n"
      ],
      "text/plain": [
       "<IPython.core.display.HTML object>"
      ]
     },
     "metadata": {},
     "output_type": "display_data"
    }
   ],
   "source": [
    "%%HTML\n",
    "<iframe width=\"800\" height=\"600\" src=\"https://www.youtube.com/embed/uwFnuTbKBMI?si=FAS2oX-pzww6NWx1\" title=\"YouTube video player\" frameborder=\"0\" allow=\"accelerometer; autoplay; clipboard-write; encrypted-media; gyroscope; picture-in-picture; web-share\" referrerpolicy=\"strict-origin-when-cross-origin\" allowfullscreen></iframe>"
   ]
  },
  {
   "cell_type": "markdown",
   "id": "0dff536e",
   "metadata": {},
   "source": [
    "+ Make sure the side panel bottom and the Aluminum Extrusion bottom are in the same plane. <br><img src=\"img/IMG_3676.jpg\" height=\"50%\" width=\"50%\">\n",
    "+ We will now attach the Top Panel with the Stepper Motor to the Side Panel for the Pedestal. You will need to following parts.<br><img src=\"img/IMG_3684.jpg\" height=\"50%\" width=\"50%\">\n",
    "+ Execute the Cell Below to Watch a Video of the Process."
   ]
  },
  {
   "cell_type": "code",
   "execution_count": 4,
   "id": "99e4e797",
   "metadata": {},
   "outputs": [
    {
     "data": {
      "text/html": [
       "<iframe width=\"800\" height=\"600\" src=\"https://www.youtube.com/embed/HmJP4HB_h6U?si=oBu2SMqeAgPqaA1X\" title=\"YouTube video player\" frameborder=\"0\" allow=\"accelerometer; autoplay; clipboard-write; encrypted-media; gyroscope; picture-in-picture; web-share\" referrerpolicy=\"strict-origin-when-cross-origin\" allowfullscreen></iframe>\n"
      ],
      "text/plain": [
       "<IPython.core.display.HTML object>"
      ]
     },
     "metadata": {},
     "output_type": "display_data"
    }
   ],
   "source": [
    "%%HTML\n",
    "<iframe width=\"800\" height=\"600\" src=\"https://www.youtube.com/embed/HmJP4HB_h6U?si=oBu2SMqeAgPqaA1X\" title=\"YouTube video player\" frameborder=\"0\" allow=\"accelerometer; autoplay; clipboard-write; encrypted-media; gyroscope; picture-in-picture; web-share\" referrerpolicy=\"strict-origin-when-cross-origin\" allowfullscreen></iframe>"
   ]
  },
  {
   "cell_type": "markdown",
   "id": "b64c49be",
   "metadata": {},
   "source": [
    "+ We now need to further secure the Top Panel to the Side Panel for the Pedestal. For this you will need the following parts.<br><img src=\"img/IMG_3686.jpg\" height=\"50%\" width=\"50%\">\n",
    "+ The Final Assembly should look like this. Execute the Cell Below to Watch a Video of the Process. <br><img src=\"img/IMG_3688.jpg\" height=\"50%\" width=\"50%\">"
   ]
  },
  {
   "cell_type": "code",
   "execution_count": 2,
   "id": "c3d71699",
   "metadata": {},
   "outputs": [
    {
     "data": {
      "text/html": [
       "<iframe width=\"800\" height=\"600\" src=\"https://www.youtube.com/embed/CJFpv_chTI0?si=-J44G_Kx6DUwwj3H\" title=\"YouTube video player\" frameborder=\"0\" allow=\"accelerometer; autoplay; clipboard-write; encrypted-media; gyroscope; picture-in-picture; web-share\" referrerpolicy=\"strict-origin-when-cross-origin\" allowfullscreen></iframe>\n"
      ],
      "text/plain": [
       "<IPython.core.display.HTML object>"
      ]
     },
     "metadata": {},
     "output_type": "display_data"
    }
   ],
   "source": [
    "%%HTML\n",
    "<iframe width=\"800\" height=\"600\" src=\"https://www.youtube.com/embed/CJFpv_chTI0?si=-J44G_Kx6DUwwj3H\" title=\"YouTube video player\" frameborder=\"0\" allow=\"accelerometer; autoplay; clipboard-write; encrypted-media; gyroscope; picture-in-picture; web-share\" referrerpolicy=\"strict-origin-when-cross-origin\" allowfullscreen></iframe>"
   ]
  },
  {
   "cell_type": "markdown",
   "id": "70c47972",
   "metadata": {},
   "source": [
    "+ Follow the same steps to assemble both the right and left side Pedestals.<br><img src=\"img/IMG_3689.jpg\" height=\"50%\" width=\"50%\">\n",
    "\n",
    "#### Rear Axis Mount Assembly\n",
    "\n",
    "+ You will need the following parts to assemble the Read Axis Mount.<br><img src=\"img/IMG_3691.jpg\" height=\"50%\" width=\"50%\">\n",
    "+ Push the M4x30 Cross Screw through the Acrylic piece as shown. <br><img src=\"img/IMG_3692.jpg\" height=\"50%\" width=\"50%\">\n",
    "+ Put the &#8960;4x2mm Round Plastic Column on Top. <br><img src=\"img/IMG_3693.jpg\" height=\"50%\" width=\"50%\">\n",
    "+ Put the F624 Flange Bearing on top with the Flange on the bottom. <br><img src=\"img/IMG_3694.jpg\" height=\"50%\" width=\"50%\">\n",
    "+ Put another F624 Flange Bearing on top with the Flange on the top. <br><img src=\"img/IMG_3695.jpg\" height=\"50%\" width=\"50%\">\n",
    "+ Put another &#8960;4x2mm Round Plastic Column on Top. <br><img src=\"img/IMG_3696.jpg\" height=\"50%\" width=\"50%\">\n",
    "+ Put the Second Acrylic Piece on Top as shown.<br><img src=\"img/IMG_3697.jpg\" height=\"50%\" width=\"50%\">\n",
    "+ Loosely Screw the M4 Hex Nut on Top.<br><img src=\"img/IMG_3698.jpg\" height=\"50%\" width=\"50%\">\n",
    "+ Next we will assemble the Rear Plate for mouting the part we assembled above. You will need the following parts for this. <br><img src=\"img/IMG_3699.jpg\" height=\"50%\" width=\"50%\">\n",
    "+ Make sure the Orientation of the Acylic Piece matches what is shown.\n",
    "    + The Arrows should be pointing away from you and towards the left.\n",
    "    + Then push in the four M3x20 Screws as shown. <br><img src=\"img/IMG_3700.jpg\" height=\"50%\" width=\"50%\">\n",
    "+ Put the Acrylic pieces shown on top. <br><img src=\"img/IMG_3701.jpg\" height=\"50%\" width=\"50%\">\n",
    "+ Then put the remaining Acrylic pieces shown on top. <br><img src=\"img/IMG_3702.jpg\" height=\"50%\" width=\"50%\">\n",
    "+ Similar to shown previously, Screw the M3 Nuts on.\n",
    "    + Hold the Nuts and tighten from the other side using PH0 Phillips head Screwdriver. <br><img src=\"img/IMG_3703.jpg\" height=\"50%\" width=\"50%\">\n",
    "+ Put the M4 Square Nuts in the Slots shown on the right and left. <br><img src=\"img/IMG_3704.jpg\" height=\"50%\" width=\"50%\">\n",
    "+ Use the M4x12 Cross Screws to Holds the Square Nuts in Position. \n",
    "    + You might have to slide the nuts a little up or down in their slot.\n",
    "    + This is to make sure the M4 Screw is aligned with the hole in the Square nut.\n",
    "    \n",
    "| Top View of assembled M4 Nut and Screw |  Left Side View of assembled M4 Nut and Screw| Right Side Video of assembled M4 Nut and Screw|\n",
    "|-|-|-|\n",
    "|<img src=\"img/IMG_3705.jpg\">|<img src=\"img/IMG_3706.jpg\">|<img src=\"img/IMG_3707.jpg\">|\n",
    "\n",
    "+ We will now join the Rear Plate with the Rear Axle Mount. \n",
    "    + Make sure the orientation of the Rear Plate Matches\n",
    "    + The arrows should be pointing away from you and towards the right.\n",
    "    + You will need the following parts. <br><img src=\"img/IMG_3709.jpg\" height=\"50%\" width=\"50%\">\n",
    "+ Insert the Axle Mount into the Rear Plate as shown. The Nut for the Axle Mount should be facing you. <br><img src=\"img/IMG_3710.jpg\" height=\"50%\" width=\"50%\">\n",
    "+ Insert the M3 Nuts and Tighten the Screws for the four slots between the Axle Mount and Read Plate. <br><img src=\"img/IMG_3711.jpg\" height=\"50%\" width=\"50%\">\n",
    "+ Tighten the Axis Screw you left loose previously.\n",
    "    + Use a Phillips Head 3.0.\n",
    "    + Hold the Nut on the other side with your other hand to provide a counter-torque. <br><img src=\"img/IMG_3713.jpg\" height=\"50%\" width=\"50%\">\n",
    "\n",
    "#### Front Axis Mount Assembly\n",
    "\n",
    "+ You will need the following parts to assemble the Front Axis Mount. <br><img src=\"img/IMG_3717.jpg\" height=\"50%\" width=\"50%\">\n",
    "+ Make sure the Orientation of the Acylic Piece matches what is shown.\n",
    "    + The Arrows should be pointing away from you and towards the right.\n",
    "    + Then push in the four M3x20 Screws as shown. <br><img src=\"img/IMG_3722.jpg\" height=\"50%\" width=\"50%\">\n",
    "+ Put the Acrylic pieces shown on top. <br><img src=\"img/IMG_3721.jpg\" height=\"50%\" width=\"50%\">\n",
    "+ Then put the remaining Acrylic pieces shown on top. <br><img src=\"img/IMG_3720.jpg\" height=\"50%\" width=\"50%\">\n",
    "+ Similar to shown previously, Screw the M3 Nuts on.\n",
    "    + Hold the Nuts and tighten from the other side using PH0 Phillips head Screwdriver. <br><img src=\"img/IMG_3723.jpg\" height=\"50%\" width=\"50%\">\n",
    "+ Put the M4 Square Nuts in the Slots shown on the right and left. <br><img src=\"img/IMG_3724.jpg\" height=\"50%\" width=\"50%\">\n",
    "+ Use the M4x12 Cross Screws to Holds the Square Nuts in Position. \n",
    "    + You might have to slide the nuts a little up or down in their slot.\n",
    "    + This is to make sure the M4 Screw is aligned with the hole in the Square nut.\n",
    "    \n",
    "| Top View of assembled M4 Nut and Screw |  Left Side View of assembled M4 Nut and Screw| Right Side Video of assembled M4 Nut and Screw|\n",
    "|-|-|-|\n",
    "|<img src=\"img/IMG_3725.jpg\">|<img src=\"img/IMG_3727.jpg\">|<img src=\"img/IMG_3726.jpg\">|\n",
    "\n",
    "#### Attaching 3D Printed Z Axis Servo Assembly to Front Axis Mount\n",
    "\n",
    "+ You will need the following parts to attach the 3D Printed Parts to the Front Axis Mount.<br><img src=\"img/IMG_3728.jpg\" height=\"50%\" width=\"50%\">\n",
    "+ The final assembly should look like the following. Execute the Cell Below to watch a video of the process.\n",
    "    + Front View. Make sure the Orientation Matches. <br><img src=\"img/IMG_3730.jpg\" height=\"50%\" width=\"50%\">\n",
    "    + Back View.<br><img src=\"img/IMG_3731.jpg\" height=\"50%\" width=\"50%\">"
   ]
  },
  {
   "cell_type": "code",
   "execution_count": 6,
   "id": "27e0f1ed",
   "metadata": {},
   "outputs": [
    {
     "data": {
      "text/html": [
       "<iframe width=\"800\" height=\"600\" src=\"https://www.youtube.com/embed/FXEYt6oFKC0\" title=\"YouTube video player\" frameborder=\"0\" allow=\"accelerometer; autoplay; clipboard-write; encrypted-media; gyroscope; picture-in-picture; web-share\" referrerpolicy=\"strict-origin-when-cross-origin\" allowfullscreen></iframe>\n"
      ],
      "text/plain": [
       "<IPython.core.display.HTML object>"
      ]
     },
     "metadata": {},
     "output_type": "display_data"
    }
   ],
   "source": [
    "%%HTML\n",
    "<iframe width=\"800\" height=\"600\" src=\"https://www.youtube.com/embed/FXEYt6oFKC0\" title=\"YouTube video player\" frameborder=\"0\" allow=\"accelerometer; autoplay; clipboard-write; encrypted-media; gyroscope; picture-in-picture; web-share\" referrerpolicy=\"strict-origin-when-cross-origin\" allowfullscreen></iframe>"
   ]
  },
  {
   "cell_type": "markdown",
   "id": "258fa125",
   "metadata": {},
   "source": [
    "#### Attaching Servo Gear and Linear Rail to Front Axis Mount\n",
    "+ You will need to following parts to assemble the 3D Printed Mini Gear onto the Servo.\n",
    "    + The Doesbot kit should include the extension cable already attached and taped to the servo motor. \n",
    "    + If the joint is not taped or you use a replacement Servo, make sure to tape this joint to prevent contact errors.<br><img src=\"img/IMG_3790.jpg\" height=\"50%\" width=\"50%\">\n",
    "+ Hold the Gear in Place while tightening the screw. <br><img src=\"img/IMG_3791.jpg\" height=\"50%\" width=\"50%\">\n",
    "+ The assembled Servo should look like this. <br><img src=\"img/IMG_3793.jpg\" height=\"50%\" width=\"50%\">\n",
    "+ Next we need to attach the Servo and Linear rail to the Front Axis Mount. You will need the following parts for this assembly.<br><img src=\"img/IMG_3795.jpg\" height=\"50%\" width=\"50%\">\n",
    "+ Execute the Cell Below to Watch a Video of the Process."
   ]
  },
  {
   "cell_type": "code",
   "execution_count": 7,
   "id": "5ac921ef",
   "metadata": {},
   "outputs": [
    {
     "data": {
      "text/html": [
       "<iframe width=\"800\" height=\"600\" src=\"https://www.youtube.com/embed/PjlSYiQZlqQ?si=NLqHWcjsFoTzWi8S\" title=\"YouTube video player\" frameborder=\"0\" allow=\"accelerometer; autoplay; clipboard-write; encrypted-media; gyroscope; picture-in-picture; web-share\" referrerpolicy=\"strict-origin-when-cross-origin\" allowfullscreen></iframe>\n"
      ],
      "text/plain": [
       "<IPython.core.display.HTML object>"
      ]
     },
     "metadata": {},
     "output_type": "display_data"
    }
   ],
   "source": [
    "%%HTML\n",
    "<iframe width=\"800\" height=\"600\" src=\"https://www.youtube.com/embed/PjlSYiQZlqQ?si=NLqHWcjsFoTzWi8S\" title=\"YouTube video player\" frameborder=\"0\" allow=\"accelerometer; autoplay; clipboard-write; encrypted-media; gyroscope; picture-in-picture; web-share\" referrerpolicy=\"strict-origin-when-cross-origin\" allowfullscreen></iframe>"
   ]
  },
  {
   "cell_type": "markdown",
   "id": "1a13f68c",
   "metadata": {},
   "source": [
    "+ Next you need to make sure the screw for mounting the gear to the servo is tight.\n",
    "    + If the screw is loose the gear will keep rotate freely and the linear rail will move up and down freely.\n",
    "    + Tightening the screw should prevent free movement of the linear rail.\n",
    "    + Execute the cell below to watch a video of the process."
   ]
  },
  {
   "cell_type": "code",
   "execution_count": 8,
   "id": "2b59e29e",
   "metadata": {},
   "outputs": [
    {
     "data": {
      "text/html": [
       "<iframe width=\"800\" height=\"600\" src=\"https://www.youtube.com/embed/BPy2oqiKcA0?si=IXMXUMIgS1LAgnQm\" title=\"YouTube video player\" frameborder=\"0\" allow=\"accelerometer; autoplay; clipboard-write; encrypted-media; gyroscope; picture-in-picture; web-share\" referrerpolicy=\"strict-origin-when-cross-origin\" allowfullscreen></iframe>\n"
      ],
      "text/plain": [
       "<IPython.core.display.HTML object>"
      ]
     },
     "metadata": {},
     "output_type": "display_data"
    }
   ],
   "source": [
    "%%HTML\n",
    "<iframe width=\"800\" height=\"600\" src=\"https://www.youtube.com/embed/BPy2oqiKcA0?si=IXMXUMIgS1LAgnQm\" title=\"YouTube video player\" frameborder=\"0\" allow=\"accelerometer; autoplay; clipboard-write; encrypted-media; gyroscope; picture-in-picture; web-share\" referrerpolicy=\"strict-origin-when-cross-origin\" allowfullscreen></iframe>"
   ]
  },
  {
   "cell_type": "markdown",
   "id": "2dd0237b",
   "metadata": {},
   "source": [
    "#### Left and Right Pedestal Assembly\n",
    "+ We will now connect the Left and Right Pedestals. You will need the following components for this.<br><img src=\"img/IMG_3800.jpg\" height=\"50%\" width=\"50%\">\n",
    "+ Using the Phillips Head screw the Aluminum Extrusion Rod to both the right and left pedestals as shown.\n",
    "\n",
    "|Left Pedestal|Right Pedestal|\n",
    "|-|-|\n",
    "|<img src=\"img/IMG_3802.jpg\">|<img src=\"img/IMG_3803.jpg\">|\n",
    "\n",
    "#### Assemble with Central Cross Slide\n",
    "+ Now we will connect the Cross slide with the Pedestal Assembly. You will need the following components for this.\n",
    "    + Two 8mm Diamter 450mm length rods are available with the Doesbot kit.\n",
    "    + The other two are from the Amazon Link provided at the start.<br><img src=\"img/IMG_3841.jpg\" height=\"50%\" width=\"50%\">\n",
    "+ Turn the Pedestal Assembly upside down and loosen the screws as shown for both the left and right side pedestals. \n",
    "\n",
    "|Right Front Screw|Right Back Screw|\n",
    "|-|-|\n",
    "|<img src=\"img/IMG_3805.jpg\">|<img src=\"img/IMG_3806.jpg\">|\n",
    "\n",
    "+ Push the rods through the opening on the right side as shown. <br><img src=\"img/IMG_3809.jpg\" height=\"50%\" width=\"50%\">\n",
    "+ Push the central cross slide through the two rods as shown. <br><img src=\"img/IMG_3810.jpg\" height=\"50%\" width=\"50%\">\n",
    "+ Push the rods all the way through the opening on the left side as shown. \n",
    "    + Make sure the top and bottom surfaces of the rods are in the same plane as the back of the left and right pedestals.<br><img src=\"img/IMG_3811.jpg\" height=\"50%\" width=\"50%\">\n",
    "+ Turn the Pedestal assembly upside down and tighten all four screws as shown for both the left and right side pedestals.<br><img src=\"img/IMG_3812.jpg\" height=\"50%\" width=\"50%\">\n",
    "+ The Central cross slide can now freely move along the X axis. Execute the cell below to watch a video of the process. "
   ]
  },
  {
   "cell_type": "code",
   "execution_count": 9,
   "id": "5dd24bcf",
   "metadata": {},
   "outputs": [
    {
     "data": {
      "text/html": [
       "<iframe width=\"800\" height=\"600\" src=\"https://www.youtube.com/embed/A7pUYTj-wic?si=dbczwky1H5vIfhym\" title=\"YouTube video player\" frameborder=\"0\" allow=\"accelerometer; autoplay; clipboard-write; encrypted-media; gyroscope; picture-in-picture; web-share\" referrerpolicy=\"strict-origin-when-cross-origin\" allowfullscreen></iframe>\n"
      ],
      "text/plain": [
       "<IPython.core.display.HTML object>"
      ]
     },
     "metadata": {},
     "output_type": "display_data"
    }
   ],
   "source": [
    "%%HTML\n",
    "<iframe width=\"800\" height=\"600\" src=\"https://www.youtube.com/embed/A7pUYTj-wic?si=dbczwky1H5vIfhym\" title=\"YouTube video player\" frameborder=\"0\" allow=\"accelerometer; autoplay; clipboard-write; encrypted-media; gyroscope; picture-in-picture; web-share\" referrerpolicy=\"strict-origin-when-cross-origin\" allowfullscreen></iframe>"
   ]
  },
  {
   "cell_type": "markdown",
   "id": "5d5e3a35",
   "metadata": {},
   "source": [
    "#### Assemble Front and Rear Axis Mount\n",
    "+ Now add the Y Axis rods through the cross slide as shown.<br><img src=\"img/IMG_3840.jpg\" height=\"50%\" width=\"50%\">\n",
    "+ Loosen the screws on the sides for the Rear Axis Mount. <br><img src=\"img/IMG_3816.jpg\" height=\"50%\" width=\"50%\">\n",
    "+ Attach the Rear Axis Mount to the Y Axis rods as shown.\n",
    "    + Make sure the flat surfaces on the rods are in the same plane as the Rear Axis Mount.<br><img src=\"img/IMG_3826.jpg\" height=\"50%\" width=\"50%\">\n",
    "+ Tighten the screws on the sides to secure the Rear Axis Mount in place. <br><img src=\"img/IMG_3827.jpg\" height=\"50%\" width=\"50%\">\n",
    "+ Loosen the screws on the sides for the Front Axis Mount. <br><img src=\"img/IMG_3821.jpg\" height=\"50%\" width=\"50%\">\n",
    "+ Rotate the Robot 180 degrees and then attach the Front Axis Mount to the rods as show.\n",
    "    + Make sure the flat surfaces on the rods are in the same plance as the Front Axis Mount.<br><img src=\"img/IMG_3822.jpg\" height=\"50%\" width=\"50%\">\n",
    "+ Tighten the screws on the sides to secure the Front Axis Mount in place. <br><img src=\"img/IMG_3824.jpg\" height=\"50%\" width=\"50%\">\n",
    "+ The Linear Rail on the Front Axis Mount can now be moved freely in the XY Plane. Execute the cell below to watch a video of the process."
   ]
  },
  {
   "cell_type": "code",
   "execution_count": 10,
   "id": "d4306092",
   "metadata": {},
   "outputs": [
    {
     "data": {
      "text/html": [
       "<iframe width=\"800\" height=\"600\" src=\"https://www.youtube.com/embed/vWC7Dn3ono8?si=7u_oBKN-Z5m70x-8\" title=\"YouTube video player\" frameborder=\"0\" allow=\"accelerometer; autoplay; clipboard-write; encrypted-media; gyroscope; picture-in-picture; web-share\" referrerpolicy=\"strict-origin-when-cross-origin\" allowfullscreen></iframe>\n"
      ],
      "text/plain": [
       "<IPython.core.display.HTML object>"
      ]
     },
     "metadata": {},
     "output_type": "display_data"
    }
   ],
   "source": [
    "%%HTML\n",
    "<iframe width=\"800\" height=\"600\" src=\"https://www.youtube.com/embed/vWC7Dn3ono8?si=7u_oBKN-Z5m70x-8\" title=\"YouTube video player\" frameborder=\"0\" allow=\"accelerometer; autoplay; clipboard-write; encrypted-media; gyroscope; picture-in-picture; web-share\" referrerpolicy=\"strict-origin-when-cross-origin\" allowfullscreen></iframe>"
   ]
  },
  {
   "cell_type": "markdown",
   "id": "80bf3b90",
   "metadata": {},
   "source": [
    "#### Attaching the Height Raisers for the Left and Right Pedestals\n",
    "+ You will need the following components to raise the height of the XYZ Robot.<br><img src=\"img/IMG_3833.jpg\" height=\"50%\" width=\"50%\">\n",
    "+ We will first tighten the screws holding the Z Axis servo in place. \n",
    "    + Using the Blue Cutter hold the screw in place to provide a counter torque.\n",
    "    + Tighten the screw from the other side using the 1.27mm Hex Wrench.<br><img src=\"img/IMG_3845.jpg\" height=\"50%\" width=\"50%\">\n",
    "+ Execute the cell below to watch a video of how to attach the 3D printed height raisers to the XYZ Robot left and right pedestals."
   ]
  },
  {
   "cell_type": "code",
   "execution_count": 11,
   "id": "ac038ea3",
   "metadata": {},
   "outputs": [
    {
     "data": {
      "text/html": [
       "<iframe width=\"800\" height=\"600\" src=\"https://www.youtube.com/embed/GuQ31nuUHzY?si=fkr41ZrQxGJ-MVeo\" title=\"YouTube video player\" frameborder=\"0\" allow=\"accelerometer; autoplay; clipboard-write; encrypted-media; gyroscope; picture-in-picture; web-share\" referrerpolicy=\"strict-origin-when-cross-origin\" allowfullscreen></iframe>\n"
      ],
      "text/plain": [
       "<IPython.core.display.HTML object>"
      ]
     },
     "metadata": {},
     "output_type": "display_data"
    }
   ],
   "source": [
    "%%HTML\n",
    "<iframe width=\"800\" height=\"600\" src=\"https://www.youtube.com/embed/GuQ31nuUHzY?si=fkr41ZrQxGJ-MVeo\" title=\"YouTube video player\" frameborder=\"0\" allow=\"accelerometer; autoplay; clipboard-write; encrypted-media; gyroscope; picture-in-picture; web-share\" referrerpolicy=\"strict-origin-when-cross-origin\" allowfullscreen></iframe>"
   ]
  },
  {
   "cell_type": "markdown",
   "id": "249d6a36",
   "metadata": {},
   "source": [
    "#### Threading the GT2 Timing Belt Through the XYZ Robot\n",
    "+ All our parts are connected but there is no way for the Stepper Motors to control the movement of our robot.\n",
    "+ We need to connect a Timing Belt through the Stepper motors and thread it through the X and Y axes. \n",
    "+ Please see the Doesbot assembly documentation for additional details on how this belt is threaded. \n",
    "+ You will need the following Parts to get started. \n",
    "    + The timing belt included with the Doesbot kit works quite well. 2m of Timing belt is sufficient for our case.\n",
    "    + You will also need a set of Tweezers to help pull the belt through narrow gaps.<br><img src=\"img/IMG_3880.jpg\" height=\"50%\" width=\"50%\">\n",
    "+ Execute the cell below to watch a video of the Timing Belt threading process."
   ]
  },
  {
   "cell_type": "code",
   "execution_count": 12,
   "id": "74783b17",
   "metadata": {},
   "outputs": [
    {
     "data": {
      "text/html": [
       "<iframe width=\"800\" height=\"600\" src=\"https://www.youtube.com/embed/AziFLNQE4DY?si=j5LqXo-Px71VFJRs\" title=\"YouTube video player\" frameborder=\"0\" allow=\"accelerometer; autoplay; clipboard-write; encrypted-media; gyroscope; picture-in-picture; web-share\" referrerpolicy=\"strict-origin-when-cross-origin\" allowfullscreen></iframe>\n"
      ],
      "text/plain": [
       "<IPython.core.display.HTML object>"
      ]
     },
     "metadata": {},
     "output_type": "display_data"
    }
   ],
   "source": [
    "%%HTML\n",
    "<iframe width=\"800\" height=\"600\" src=\"https://www.youtube.com/embed/AziFLNQE4DY?si=j5LqXo-Px71VFJRs\" title=\"YouTube video player\" frameborder=\"0\" allow=\"accelerometer; autoplay; clipboard-write; encrypted-media; gyroscope; picture-in-picture; web-share\" referrerpolicy=\"strict-origin-when-cross-origin\" allowfullscreen></iframe>"
   ]
  },
  {
   "cell_type": "markdown",
   "id": "76757f65",
   "metadata": {},
   "source": [
    "+ Next we will make sure the four bolts on the central cross slide are tightly secured.\n",
    "    + Hold the nut in place to provide a counter-torque using the Calipers or a wrench.\n",
    "    + Tighten the bolts on the bottom using the Phillps head screwdriver.<br><img src=\"img/IMG_3881.jpg\" height=\"50%\" width=\"50%\">"
   ]
  },
  {
   "cell_type": "markdown",
   "id": "301904a3",
   "metadata": {},
   "source": [
    "#### Connecting the Wiring and Testing the Components of the XYZ Robot\n",
    "+ The Control Board included with the Doesbot kit comes with two heatsinks.\n",
    "    + Peel the Film from the Bottom of the heatsinks and attach them to the Stepper Motor drivers as shown.\n",
    "\n",
    "|Control Board and Heatsinks|Heatsinks attached to the Stepper Motor Driver ICs on the Control Board|\n",
    "|-|-|\n",
    "|<img src=\"img/IMG_3859.jpg\">|<img src=\"img/IMG_3860.jpg\">|\n",
    "\n",
    "+ Connect the Control Board included with the Doesbot kit via USB to your computer.<br><img src=\"img/IMG_3861.jpg\" height=\"50%\" width=\"50%\">\n",
    "+ We will start by first testing our Z Axis Servo. This is the servo connected to the linear rail.\n",
    "    + The Jumper cables for the servo should be labelled.\n",
    "    + Connect the Jumper cables to their respective pins on the Control Board. <br><img src=\"img/IMG_3864.jpg\" height=\"50%\" width=\"50%\">\n",
    "    + Connect the included 12V Power supply.\n",
    "+ Next we will upload the [Doesbot sketch](doesbot/) using the [Arduino IDE](https://www.arduino.cc/en/software) and test our Servo.\n",
    "    + Execute the cell below to watch a video of the process."
   ]
  },
  {
   "cell_type": "code",
   "execution_count": 13,
   "id": "4800bbe2",
   "metadata": {},
   "outputs": [
    {
     "data": {
      "text/html": [
       "<iframe width=\"800\" height=\"600\" src=\"https://www.youtube.com/embed/DzaNyuvrcw8?si=745Qyv2A5HPedlcn\" title=\"YouTube video player\" frameborder=\"0\" allow=\"accelerometer; autoplay; clipboard-write; encrypted-media; gyroscope; picture-in-picture; web-share\" referrerpolicy=\"strict-origin-when-cross-origin\" allowfullscreen></iframe>\n"
      ],
      "text/plain": [
       "<IPython.core.display.HTML object>"
      ]
     },
     "metadata": {},
     "output_type": "display_data"
    }
   ],
   "source": [
    "%%HTML\n",
    "<iframe width=\"800\" height=\"600\" src=\"https://www.youtube.com/embed/DzaNyuvrcw8?si=745Qyv2A5HPedlcn\" title=\"YouTube video player\" frameborder=\"0\" allow=\"accelerometer; autoplay; clipboard-write; encrypted-media; gyroscope; picture-in-picture; web-share\" referrerpolicy=\"strict-origin-when-cross-origin\" allowfullscreen></iframe>"
   ]
  },
  {
   "cell_type": "markdown",
   "id": "28574776",
   "metadata": {},
   "source": [
    "+ Next insert the Linear rail back. Execute the cell below to watch a video of the process."
   ]
  },
  {
   "cell_type": "code",
   "execution_count": 14,
   "id": "05c8fb3d",
   "metadata": {},
   "outputs": [
    {
     "data": {
      "text/html": [
       "<iframe width=\"800\" height=\"600\" src=\"https://www.youtube.com/embed/p3d7iKRlRm8?si=TRBQfe-IwbTXat56\" title=\"YouTube video player\" frameborder=\"0\" allow=\"accelerometer; autoplay; clipboard-write; encrypted-media; gyroscope; picture-in-picture; web-share\" referrerpolicy=\"strict-origin-when-cross-origin\" allowfullscreen></iframe>\n"
      ],
      "text/plain": [
       "<IPython.core.display.HTML object>"
      ]
     },
     "metadata": {},
     "output_type": "display_data"
    }
   ],
   "source": [
    "%%HTML\n",
    "<iframe width=\"800\" height=\"600\" src=\"https://www.youtube.com/embed/p3d7iKRlRm8?si=TRBQfe-IwbTXat56\" title=\"YouTube video player\" frameborder=\"0\" allow=\"accelerometer; autoplay; clipboard-write; encrypted-media; gyroscope; picture-in-picture; web-share\" referrerpolicy=\"strict-origin-when-cross-origin\" allowfullscreen></iframe>"
   ]
  },
  {
   "cell_type": "markdown",
   "id": "63f83e59",
   "metadata": {},
   "source": [
    "+ We will now connect the X and Y axis limit switches to our Control Board.\n",
    "    + The Cables are included with the Limit Switches.\n",
    "    + You will need additional Jumper wires to make the connection.\n",
    "    + Execute the cell below to watch a video of the process."
   ]
  },
  {
   "cell_type": "code",
   "execution_count": 15,
   "id": "eb38116a",
   "metadata": {},
   "outputs": [
    {
     "data": {
      "text/html": [
       "<iframe width=\"800\" height=\"600\" src=\"https://www.youtube.com/embed/cpaFZN4TgHo?si=IT_S-Q2Kym6T5sQ0\" title=\"YouTube video player\" frameborder=\"0\" allow=\"accelerometer; autoplay; clipboard-write; encrypted-media; gyroscope; picture-in-picture; web-share\" referrerpolicy=\"strict-origin-when-cross-origin\" allowfullscreen></iframe>\n"
      ],
      "text/plain": [
       "<IPython.core.display.HTML object>"
      ]
     },
     "metadata": {},
     "output_type": "display_data"
    }
   ],
   "source": [
    "%%HTML\n",
    "<iframe width=\"800\" height=\"600\" src=\"https://www.youtube.com/embed/cpaFZN4TgHo?si=IT_S-Q2Kym6T5sQ0\" title=\"YouTube video player\" frameborder=\"0\" allow=\"accelerometer; autoplay; clipboard-write; encrypted-media; gyroscope; picture-in-picture; web-share\" referrerpolicy=\"strict-origin-when-cross-origin\" allowfullscreen></iframe>"
   ]
  },
  {
   "cell_type": "markdown",
   "id": "3028fcf1",
   "metadata": {},
   "source": [
    "+ Next we will connect the left and right stepper motors to our board and test various commands.\n",
    "+ Execute the cell below to watch a video of the process. "
   ]
  },
  {
   "cell_type": "code",
   "execution_count": 3,
   "id": "a43c8907",
   "metadata": {},
   "outputs": [
    {
     "data": {
      "text/html": [
       "<iframe width=\"800\" height=\"600\" src=\"https://www.youtube.com/embed/N3V3dKkm8Ko?si=MvzGb-DvAMLpEIci\" title=\"YouTube video player\" frameborder=\"0\" allow=\"accelerometer; autoplay; clipboard-write; encrypted-media; gyroscope; picture-in-picture; web-share\" referrerpolicy=\"strict-origin-when-cross-origin\" allowfullscreen></iframe>\n"
      ],
      "text/plain": [
       "<IPython.core.display.HTML object>"
      ]
     },
     "metadata": {},
     "output_type": "display_data"
    }
   ],
   "source": [
    "%%HTML\n",
    "<iframe width=\"800\" height=\"600\" src=\"https://www.youtube.com/embed/N3V3dKkm8Ko?si=MvzGb-DvAMLpEIci\" title=\"YouTube video player\" frameborder=\"0\" allow=\"accelerometer; autoplay; clipboard-write; encrypted-media; gyroscope; picture-in-picture; web-share\" referrerpolicy=\"strict-origin-when-cross-origin\" allowfullscreen></iframe>"
   ]
  },
  {
   "cell_type": "markdown",
   "id": "c4c6c1af",
   "metadata": {},
   "source": [
    "#### Controlling the Robot through Serial Commands via Jupyter Notebooks\n",
    "+ We can identify the COM Port by connecting and then disconnecting the Control Board via USB. By checking which new COM Port shows up in Arduino IDE.\n",
    "    + In our case the port is COM6.<br><img src=\"img/Screenshot%202024-09-12%20203236.png\">\n",
    "+ Close the Arduino IDE before moving to the next step.\n",
    "    + Execute the cells below to test controlling the robot via Jupyter notebooks."
   ]
  },
  {
   "cell_type": "code",
   "execution_count": null,
   "id": "1e4d1bc5",
   "metadata": {},
   "outputs": [],
   "source": [
    "import serial\n",
    "import time\n",
    "mainPlotterRobotCOM=\"COM6\"\n",
    "plotter=serial.Serial(mainPlotterRobotCOM,timeout=1,write_timeout=1)\n",
    "time.sleep(5)\n",
    "print(plotter.name)\n",
    "print(plotter.get_settings())\n",
    "print(plotter.is_open)\n",
    "if not plotter.is_open:\n",
    "    plotter.open()\n",
    "    time.sleep(5)"
   ]
  },
  {
   "cell_type": "code",
   "execution_count": null,
   "id": "539b142d",
   "metadata": {},
   "outputs": [],
   "source": [
    "#We can send the robot home\n",
    "plotter.write(\"H\\n\".encode())\n",
    "time.sleep(5.0)"
   ]
  },
  {
   "cell_type": "code",
   "execution_count": null,
   "id": "1ecaac8f",
   "metadata": {},
   "outputs": [],
   "source": [
    "#Lets move to multiple coordinates with and then go back home.\n",
    "plotter.write(\"G-5000,-5000|G-2500,-2500|G-7500,-7500|H\\n\".encode())\n",
    "time.sleep(15.0)"
   ]
  },
  {
   "cell_type": "markdown",
   "id": "dab08501",
   "metadata": {},
   "source": [
    "+ Now we have assembled and successfully tested our XYZ Robot. We can also control it via Jupyter notebooks.\n",
    "+ Execute the cell below to close the connection to the XYZ Robot."
   ]
  },
  {
   "cell_type": "code",
   "execution_count": null,
   "id": "a8bf6eba",
   "metadata": {},
   "outputs": [],
   "source": [
    "plotter.close()"
   ]
  },
  {
   "cell_type": "markdown",
   "id": "f84cbd93",
   "metadata": {},
   "source": [
    "### Replace right pedestal height raiser with new raiser and Organize cables\n",
    "+ We will need two M3x6mm Self Tapping Screws to attach the Control Board to the Right pedestal Height raiser.\n",
    "    + Make sure you print the Model with the two mounting holes.<br><img src=\"img/IMG_3885.jpg\" height=\"50%\" width=\"50%\">\n",
    "+ Replace the Right pedestal height raiser with the replacement raiser and screw the control board in as shown.\n",
    "\n",
    "|<br>|<br>|\n",
    "|-|-|\n",
    "|<img src=\"img/IMG_3886.jpg\">|<img src=\"img/IMG_3887.jpg\">|\n",
    "\n",
    "+ Thread the Servo cable from the front for better cable management.<br><img src=\"img/IMG_3888.jpg\" height=\"50%\" width=\"50%\">\n",
    "+ Thread the left Stepper Motor Cable through the Center of 2020 Aluminum extrusion connect the left and right pedestals.\n",
    "    + Then secure the cable in place using Zip ties.\n",
    "    + Remember to cut the protruding end of the Zip ties after you are done.\n",
    "\n",
    "|<br>|<br>|<br>|\n",
    "|-|-|-|\n",
    "|<img src=\"img/IMG_3889.jpg\">|<img src=\"img/IMG_3890.jpg\">|<img src=\"img/IMG_3892.jpg\">|\n",
    "\n",
    "+ Secure the cables from the limit switches to the Top of the Central Cross Slide.\n",
    "    + By Zip tieing them to the bottom right zip ties on the Cross Slide.\n",
    "    + By using Zip ties at regular intervals to avoid the cables from getting tangled.\n",
    "    + Cut the protruding excess zip tie ends.<br><img src=\"img/IMG_3891.jpg\" height=\"50%\" width=\"50%\">\n",
    "    \n",
    "+ [Tape](https://www.fishersci.com/shop/products/fisherbrand-labeling-tape-7/p-309069) the Jumper wire connection from the Limit switches to the Control Board to prevent unwanted contact errors.<br><img src=\"img/IMG_3894.jpg\" height=\"50%\" width=\"50%\">\n",
    "\n",
    "#### Using a Pipette Tips to Secure 1/16\" OD PTFE Tubing in Place\n",
    "+ You will need [1/16\" ID 0.5mm ID PTFE tubing {CAT NO. JR-T-4183-M25}](https://www.vici.com/profiles/prof_ps.php) \n",
    "    + Email precision@vici.com for a Quote. Tell them your credit card details for payment.\n",
    "+ Cut a 30cm Piece of PTFE Tubing using a [Stanley Razor Blade](https://www.grainger.com/product/STANLEY-Razor-Blade-1-1-2-in-Blade-4A807).\n",
    "+ I recommend getting these Pipette Tips:\n",
    "     + [Genesee Scientific 200/20&mu;l Tips](https://geneseesci.com/shop-online/product-details/23-150RS/olympus-plastics-23-150rs-200ul-olympus-premium-pipet-tips-low-binding-racked-sterile-10-racks-of-96-tips---unit)\n",
    "+ Next make sure the Linear Rail for your Front Axis Mount is at the correct position.\n",
    "    + This should be the position when the Tube is down \"T0\". \n",
    "    + There should be six teeth above the top surface of the 3D printed mount.\n",
    "    + The base of the seventh tooth should be in the same plane at the 3D printed mount. <br><img src=\"img/IMG_3902.jpg\" height=\"50%\" width=\"50%\">\n",
    "+ You will need [clear Silicone Adhesive](https://www.amazon.com/dp/B0002BBX3U) to attach the Pipette Tips to the Linear Rails.\n",
    "+ Execute the cell below to watch a video of the process."
   ]
  },
  {
   "cell_type": "code",
   "execution_count": 1,
   "id": "8577e687",
   "metadata": {},
   "outputs": [
    {
     "data": {
      "text/html": [
       "<iframe width=\"800\" height=\"600\" src=\"https://www.youtube.com/embed/gTlfDnKuvek?si=EYNy-YdKv7w8HFz7\" title=\"YouTube video player\" frameborder=\"0\" allow=\"accelerometer; autoplay; clipboard-write; encrypted-media; gyroscope; picture-in-picture; web-share\" referrerpolicy=\"strict-origin-when-cross-origin\" allowfullscreen></iframe>\n"
      ],
      "text/plain": [
       "<IPython.core.display.HTML object>"
      ]
     },
     "metadata": {},
     "output_type": "display_data"
    }
   ],
   "source": [
    "%%HTML\n",
    "<iframe width=\"800\" height=\"600\" src=\"https://www.youtube.com/embed/gTlfDnKuvek?si=EYNy-YdKv7w8HFz7\" title=\"YouTube video player\" frameborder=\"0\" allow=\"accelerometer; autoplay; clipboard-write; encrypted-media; gyroscope; picture-in-picture; web-share\" referrerpolicy=\"strict-origin-when-cross-origin\" allowfullscreen></iframe>"
   ]
  },
  {
   "cell_type": "markdown",
   "id": "4630f32a",
   "metadata": {},
   "source": [
    "+ You can add more Silicone Adhesive to help secure the Tip even more.\n",
    "    + Leave overnight to cure whenever you add more adhesive.<br><img src=\"img/IMG_3913.jpg\" height=\"50%\" width=\"50%\">"
   ]
  }
 ],
 "metadata": {
  "kernelspec": {
   "display_name": "Python 3 (ipykernel)",
   "language": "python",
   "name": "python3"
  },
  "language_info": {
   "codemirror_mode": {
    "name": "ipython",
    "version": 3
   },
   "file_extension": ".py",
   "mimetype": "text/x-python",
   "name": "python",
   "nbconvert_exporter": "python",
   "pygments_lexer": "ipython3",
   "version": "3.7.16"
  }
 },
 "nbformat": 4,
 "nbformat_minor": 5
}
