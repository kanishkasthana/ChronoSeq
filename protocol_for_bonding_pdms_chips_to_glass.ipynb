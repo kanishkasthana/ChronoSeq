{
 "cells": [
  {
   "cell_type": "markdown",
   "id": "c996fe4e",
   "metadata": {},
   "source": [
    "### Protocol for Bonding PDMS Microfluidic Chips to Glass Slides at Nano3 Facility at UC San Diego"
   ]
  },
  {
   "cell_type": "markdown",
   "id": "66ccbae8",
   "metadata": {},
   "source": [
    "#### Purpose of Protocol\n",
    "+ We need to seal the PDMS on the side of the Microfluidic pattern so we can run liquids through the Chip.\n",
    "\n",
    "#### Preheat the Tepla Asher in Prepration for Bonding\n",
    "+  Make a reservation of the Tepla Asher for 3 hours using the [FOM Reservation System](https://nano3fom.eng.ucsd.edu/fom/welcome).\n",
    "+ Log on to the Tepla Asher. You should find the machine in Idle. Press Abort to Exit <br><img src=\"img/Screenshot 2023-06-12 at 11.58.21 PM.png\" width=\"75%\" height=\"75%\">\n",
    "+ Slowly Rotate the Vent Knob 90 Degrees counter-clockwise to the Open Position Labelled on the Machine with the Arrow. <br><img src=\"img/Screenshot 2023-06-13 at 12.04.11 AM.png\" width=\"75%\" height=\"75%\"> <br> Final Position: <br><img src=\"img/Screenshot 2023-06-13 at 12.10.08 AM.png\" width=\"75%\" height=\"75%\">\n",
    "\n",
    "+ Open the Top Portion to reset the device. Then close the Vent valve by Rotating Clockwise. <br><img src=\"img/Screenshot 2023-06-13 at 12.12.37 AM.png\" width=\"75%\" height=\"75%\">\n",
    "\n",
    "+ Press ENT on the Keypad to reach the Menu. <br><img src=\"img/Screenshot 2023-06-13 at 12.15.43 AM.png\" width=\"75%\" height=\"75%\">\n",
    "\n",
    "\n",
    "+ Select the MANUAL Mode using the Keypad and Press ENT. <br><img src=\"img/Screenshot 2023-06-13 at 12.18.19 AM.png\" width=\"75%\" height=\"75%\">\n",
    "\n",
    "+ Set GAS 1 Flow Rate to the maximum flow rate of 110. <br><img src=\"img/IMG_2164.jpg\" width=\"75%\" height=\"75%\">\n",
    "\n",
    "+ Pump Down the System by Selecting VACUUM and then press ENT. <br><img src=\"img/IMG_2163.jpg\" width=\"75%\" height=\"75%\">\n",
    "\n",
    "+ Wait till the PRESSURE reaches less than 0.100 mbar. <br><img src=\"img/IMG_2165.jpg\" width=\"75%\" height=\"75%\">\n",
    "\n",
    "+ Select GAS 1 and press ENT.  <br><img src=\"img/IMG_2166.jpg\" width=\"75%\" height=\"75%\"><br>Wait for the PRESSURE to stabilize  <br><img src=\"img/IMG_2167.jpg\" width=\"75%\" height=\"75%\">\n",
    "\n",
    "+ Select MW to set the Power Level and set it to 200. <br><img src=\"img/IMG_2168.jpg\" width=\"75%\" height=\"75%\"><br>Now go back to MW and Press ENT to turn to power on <br><img src=\"img/IMG_2169.jpg\" width=\"75%\" height=\"75%\"><br>\n",
    "\n",
    "+ After a few minutes you should see a purple glow inside the Main Chamber indicating the Plasma is now on.\n",
    "    + Keep the Power on for 10 Minutes. This much time is needed to Heat up the machine coils for producing the Plasma consistently.\n",
    "    + Turn the ceiling light above the Tepla Asher off to see the plasma more clearly. \n",
    "    + I suggest keeping the light above the Tepla off till all the chips have been bonded. <br><img src=\"img/IMG_2171.jpg\" width=\"75%\" height=\"75%\">\n",
    "+ Select VENT and press ENT. Now slowly Open the Vent Valve and Rotate it to the Open position as mentioned previously. See Video Below."
   ]
  },
  {
   "cell_type": "code",
   "execution_count": 1,
   "id": "50f1bf9c",
   "metadata": {},
   "outputs": [
    {
     "data": {
      "text/html": [
       "<iframe width=\"800\" height=\"600\" src=\"https://www.youtube.com/embed/kgCzeb23YNM\" title=\"YouTube video player\" frameborder=\"0\" allow=\"accelerometer; autoplay; clipboard-write; encrypted-media; gyroscope; picture-in-picture; web-share\" allowfullscreen></iframe>\n"
      ],
      "text/plain": [
       "<IPython.core.display.HTML object>"
      ]
     },
     "metadata": {},
     "output_type": "display_data"
    }
   ],
   "source": [
    "%%HTML \n",
    "<iframe width=\"800\" height=\"600\" src=\"https://www.youtube.com/embed/kgCzeb23YNM\" title=\"YouTube video player\" frameborder=\"0\" allow=\"accelerometer; autoplay; clipboard-write; encrypted-media; gyroscope; picture-in-picture; web-share\" allowfullscreen></iframe>"
   ]
  },
  {
   "cell_type": "markdown",
   "id": "deffb821",
   "metadata": {},
   "source": [
    "#### Setup the Area for Bonding\n",
    "+ Now Clean the Area around the Tepla throughly using Cloth Wipes and IPA. \n",
    "    + You will need a [Glass Crystalization Dish](https://www.fishersci.com/shop/products/pyrex-crystallizing-dishes-8/08741e) a [FisherBrand Petri Dish](https://www.fishersci.com/shop/products/petri-dishes-clear-lid-2/FB0875714) and the Cover of another Petri Dish. You can find these stored in our lab's storage area next to the Photolithography lab.\n",
    "    + **There should be a ring shape in the center of the dish cover.** <br><img src=\"img/IMG_2180.jpg\" width=\"75%\" height=\"75%\"> \n",
    "\n",
    "+ You will also need clean [75mm Glass Slides](https://www.fishersci.com/shop/products/premium-plain-glass-microscope-slides/125441). Search the Cleanroom and Get enough glass slides for our Bonding. These are provided by the Cleanroom and generally available in many places around the Cleanroom.\n",
    "\n",
    "+ Set one Hotplate to 85&deg;C in the Photolithography lab and put a cloth wipe and a [200g weight](https://www.amazon.com/American-Weigh-Scales-200WGT-Calibration/dp/B002ULILIK) on it. The 200g weight can also be found in our lab's storage area. <br><img src=\"img/Screenshot 2023-06-14 at 12.28.58 AM.png\" width=\"75%\" height=\"75%\"> \n",
    "\n",
    "+ Load a Crystallization dish upside down inside the TePla. On top of this crystallization dish, place a closed plastic FisherBrand Petri Dish. Make sure the Orange O-Ring is seated properly in the top portion of the Tepla. <br><img src=\"img/IMG_2152.jpg\" width=\"75%\" height=\"75%\">  <br><img src=\"img/IMG_2151_Edit.jpeg\" width=\"75%\" height=\"75%\"> \n",
    "\n",
    "+ Now take the Top cover of another different Petri dish(From now referred to as Top Dish). We will use this Top Dish as a carrier for our glass slides and PDMS Chips inside the Tepla."
   ]
  },
  {
   "cell_type": "markdown",
   "id": "ac710a39",
   "metadata": {},
   "source": [
    "#### Repeat the Steps in the Following Section Till all the Chips are Bonded\n",
    "+ Turn off the VENT by pressing ENT. Also close the Vent Valve by rotating clockwise.\n",
    "+ Clean the Top Dish thoroughly with a cloth cleanroom wipe. \n",
    "+ Clean the work area around the TePla thoroughly. Use Isopropanol and wipe all dust and debris off. This dust can easily jump onto the microfluidic chip and cause problems with bonding.\n",
    "+ Clean the [Tweezers](https://www.grainger.com/product/GENERAL-Tweezer-6-in-Lg-3G959) with the cleanroom wipes.\n",
    "<br><img src=\"img/IMG_2150.jpg\" width=\"75%\" height=\"75%\"> \n",
    "\n",
    "+ Select one of the new boxes of 75mm Premium glass slides.\n",
    "+ Select two pristine slides from the box. Visually inspect the glass slides to make sure there are no major scratches or debris on the slides before selection. Discard the glass slide if it doesn’t look good. <br><img src=\"img/IMG_2154.jpg\" width=\"75%\" height=\"75%\"> \n",
    "+ Put the Top Dish upside down after thoroughly cleaning it. The lip of the dish should be facing you.\n",
    "+ Now place these pristine glass sides inside the Top Dish. <br><img src=\"img/IMG_2155.jpg\" width=\"75%\" height=\"75%\"> \n",
    "+ Now take two microfluidic chips prepared earlier using your hands and clean the top surface twice using [Scotch Magic Tape](https://www.amazon.com/gp/product/B0000DH8HQ/) before putting them alongside each of the glass slides in the Top Dish. Clean the microfluidic chips with tape by completely covering the patterned surface with fresh tape without any air bubbles. Then strip this tape off and put in on some cloth wipes. Strip the tape off perpendicular to the direction of the chip to avoid getting any dust on the chip. <br><img src=\"img/IMG_2156.jpg\" width=\"75%\" height=\"75%\"> <br><img src=\"img/IMG_2157.jpg\" width=\"75%\" height=\"75%\"> \n",
    "+ Use your hands to transfer the chips as the tweezers can easily slip and cause scratches on the surface of the pattern.\n",
    "    + The pattern of the microfluidic chips should be facing up towards you inside the Top Dish.\n",
    "    + Take care to not move your hand over the glass or the chips while loading them onto the Top dish.\n",
    "    + Particles stuck to your gloves can fall down and moving your hand over the glass or chips increases the probability that these particles will land on them.<br><img src=\"img/IMG_2158.jpg\" width=\"75%\" height=\"75%\"><br><img src=\"img/IMG_2160.jpg\" width=\"75%\" height=\"75%\">\n",
    "+ Visually inspect everything on the Top Dish is clean and dust free. Then load the Top Dish on the Petri Dish already inside the TePla. <br><img src=\"img/IMG_2161.jpg\" width=\"75%\" height=\"75%\">"
   ]
  },
  {
   "cell_type": "code",
   "execution_count": 1,
   "id": "b0c1498a",
   "metadata": {},
   "outputs": [
    {
     "data": {
      "text/html": [
       "<iframe width=\"800\" height=\"600\" src=\"https://www.youtube.com/embed/Ctn1i9butUo\" title=\"YouTube video player\" frameborder=\"0\" allow=\"accelerometer; autoplay; clipboard-write; encrypted-media; gyroscope; picture-in-picture; web-share\" allowfullscreen></iframe>\n"
      ],
      "text/plain": [
       "<IPython.core.display.HTML object>"
      ]
     },
     "metadata": {},
     "output_type": "display_data"
    }
   ],
   "source": [
    "%%HTML \n",
    "<iframe width=\"800\" height=\"600\" src=\"https://www.youtube.com/embed/Ctn1i9butUo\" title=\"YouTube video player\" frameborder=\"0\" allow=\"accelerometer; autoplay; clipboard-write; encrypted-media; gyroscope; picture-in-picture; web-share\" allowfullscreen></iframe>"
   ]
  },
  {
   "cell_type": "markdown",
   "id": "415a7b40",
   "metadata": {},
   "source": [
    "+ Now apply the VACUUM till the PRESSURE inside is less than 0.100 mbar.\n",
    "+ Now turn on the GAS 1 flow and wait for it to stabilize.\n",
    "+ Now turn on the Power. Check for Plasma ignition. You should see a purple color inside the TePla chamber.\n",
    "+ Once you see that the plasma has ignited keep the Plasma on for 20 Seconds. Use the Clock on the Tepla to Countdown to 20 Seconds.\n",
    "    + If you don't see the Plasma ignition after a few minutes follow the Troubleshooting Box Below.<br><img src=\"img/IMG_2172.jpg\" width=\"75%\" height=\"75%\">\n",
    "> PLASMA IGNITION TROUBLESHOOTING:\n",
    "> + Sometimes the Plasma doesn't ignite at a Flow rate of 110 for GAS 1 after muliple Plasma On/Off cycles for the TePla\n",
    "> + Increase the Gas Flow rate in increments of 10 till you see the Purple Plasma Ignition. \n",
    "> + Use the Clock on the Tepla to Countdown to 20 Seconds. At the same time quickly decrease the Gas Flow rate to 110. \n",
    "> + Execute the Cell Below to watch what to do if the Plasma doesn't ignite.\n",
    "> + In this video the Gas Flow rate was set to 170 to facilitate Plasma Ignition.\n",
    "> + Flow Rate was quickly decreased to increase the plasma intensity.\n",
    "> + Plasma intensity is inversely related to Gas Flow rate at the same Power Level."
   ]
  },
  {
   "cell_type": "code",
   "execution_count": 2,
   "id": "4042727b",
   "metadata": {},
   "outputs": [
    {
     "data": {
      "text/html": [
       "<iframe width=\"560\" height=\"315\" src=\"https://www.youtube.com/embed/edEGiMYjqBs?si=qZMJJAtTKDoifuuI\" title=\"YouTube video player\" frameborder=\"0\" allow=\"accelerometer; autoplay; clipboard-write; encrypted-media; gyroscope; picture-in-picture; web-share\" allowfullscreen></iframe>\n"
      ],
      "text/plain": [
       "<IPython.core.display.HTML object>"
      ]
     },
     "metadata": {},
     "output_type": "display_data"
    }
   ],
   "source": [
    "%%HTML\n",
    "<iframe width=\"560\" height=\"315\" src=\"https://www.youtube.com/embed/edEGiMYjqBs?si=qZMJJAtTKDoifuuI\" title=\"YouTube video player\" frameborder=\"0\" allow=\"accelerometer; autoplay; clipboard-write; encrypted-media; gyroscope; picture-in-picture; web-share\" allowfullscreen></iframe>"
   ]
  },
  {
   "cell_type": "markdown",
   "id": "6feae5ae",
   "metadata": {},
   "source": [
    "+ Immediately VENT the chamber after this. It takes approximately 25 seconds to vent. Slowly turn the Vent valve otherwise the fast airflow can make the glass slides fly around inside the chamber.\n",
    "+ Open the Chamber and quickly remove the Top Dish.\n",
    "+ The bonding needs to be done within 1 minute so you will need to act fast.\n",
    "+ Use the tweezers and carefully pick up a microfluidic chip.\n",
    "+ Now take the microfluidic chip and Drop it on the glass slide. See video below to see the whole process in action. Do not try to push it down with your hands. This will distort the pattern.\n",
    "+ You need to release the microfluidic chip over the glass slide. It needs to fall on its own. Use both hands to stabilize your tremors if you can’t easily hit your target slide. This part is tricky and needs practice.\n",
    "\n",
    "+ You cannot pick the chip up and try again if you don't succeed. Discard the chip and try again for the next batch.\n",
    "+ Once the chip lands on the glass slide you will notice a fast-moving front develops from the first point of contact to the rest of the chip. This is the air between the microfluidic chip and glass moving out. Do not try to force the process let it happen naturally.\n",
    "+ Do this process for both microfluidic chips and glass slides.\n",
    "+ Now check the first slide for any remaining bubbles trapped between the microfluidic chip and glass slide.\n",
    "+ Wait for the bubbles to disappear on their own. If they don't disappear within 45 seconds then use your tweezers to massage the area. The bubble should mostly disappear after your massage. Trapped particles can also lead to bubbles formation. If you see particles then get rid of the Chip. "
   ]
  },
  {
   "cell_type": "code",
   "execution_count": 3,
   "id": "3cc2a5c2",
   "metadata": {},
   "outputs": [
    {
     "data": {
      "text/html": [
       "<iframe width=\"800\" height=\"600\" src=\"https://www.youtube.com/embed/j1KaNZIcmls\" title=\"YouTube video player\" frameborder=\"0\" allow=\"accelerometer; autoplay; clipboard-write; encrypted-media; gyroscope; picture-in-picture; web-share\" allowfullscreen></iframe>\n"
      ],
      "text/plain": [
       "<IPython.core.display.HTML object>"
      ]
     },
     "metadata": {},
     "output_type": "display_data"
    }
   ],
   "source": [
    "%%HTML \n",
    "<iframe width=\"800\" height=\"600\" src=\"https://www.youtube.com/embed/j1KaNZIcmls\" title=\"YouTube video player\" frameborder=\"0\" allow=\"accelerometer; autoplay; clipboard-write; encrypted-media; gyroscope; picture-in-picture; web-share\" allowfullscreen></iframe>"
   ]
  },
  {
   "cell_type": "code",
   "execution_count": 4,
   "id": "f9e36cf9",
   "metadata": {},
   "outputs": [
    {
     "data": {
      "text/html": [
       "<iframe width=\"800\" height=\"600\" src=\"https://www.youtube.com/embed/Ks4-yoAfQFQ\" title=\"YouTube video player\" frameborder=\"0\" allow=\"accelerometer; autoplay; clipboard-write; encrypted-media; gyroscope; picture-in-picture; web-share\" allowfullscreen></iframe>\n"
      ],
      "text/plain": [
       "<IPython.core.display.HTML object>"
      ]
     },
     "metadata": {},
     "output_type": "display_data"
    }
   ],
   "source": [
    "%%HTML\n",
    "<iframe width=\"800\" height=\"600\" src=\"https://www.youtube.com/embed/Ks4-yoAfQFQ\" title=\"YouTube video player\" frameborder=\"0\" allow=\"accelerometer; autoplay; clipboard-write; encrypted-media; gyroscope; picture-in-picture; web-share\" allowfullscreen></iframe>"
   ]
  },
  {
   "cell_type": "code",
   "execution_count": 5,
   "id": "07d3222a",
   "metadata": {},
   "outputs": [
    {
     "data": {
      "text/html": [
       "<iframe width=\"800\" height=\"600\" src=\"https://www.youtube.com/embed/cHnrYkN_Z_U\" title=\"YouTube video player\" frameborder=\"0\" allow=\"accelerometer; autoplay; clipboard-write; encrypted-media; gyroscope; picture-in-picture; web-share\" allowfullscreen></iframe>\n"
      ],
      "text/plain": [
       "<IPython.core.display.HTML object>"
      ]
     },
     "metadata": {},
     "output_type": "display_data"
    }
   ],
   "source": [
    "%%HTML\n",
    "<iframe width=\"800\" height=\"600\" src=\"https://www.youtube.com/embed/cHnrYkN_Z_U\" title=\"YouTube video player\" frameborder=\"0\" allow=\"accelerometer; autoplay; clipboard-write; encrypted-media; gyroscope; picture-in-picture; web-share\" allowfullscreen></iframe>"
   ]
  },
  {
   "cell_type": "markdown",
   "id": "10efc8f5",
   "metadata": {},
   "source": [
    "+ Now transfer both the bonded chips to another petri dish and put two 200g weighs on top of the chips.\n",
    "+ Bring these bonded chips to the Hotplate and place them on top of the Cloth wipe. Now cover the chips with another cloth cleanroom wipe on top and put two 200g weights on top of the chips below the cloth wipe.\n",
    "+ Leave the microfluidic chips on the Hotplate for at least 10 minutes.\n",
    "+ Remove the bonded chips and cover the top PDMS chip with Scotch tape as shown in the video. The tape needs to be longer in length than the glass slide for easy removal. Do not try to tuck the tape under the chip. This will only make you life harder. \n",
    "+ Your chips are now ready for treatment with Aquapel."
   ]
  },
  {
   "cell_type": "code",
   "execution_count": 6,
   "id": "07dedbfa",
   "metadata": {},
   "outputs": [
    {
     "data": {
      "text/html": [
       "<iframe width=\"800\" height=\"600\" src=\"https://www.youtube.com/embed/ric15so4E3Y\" title=\"YouTube video player\" frameborder=\"0\" allow=\"accelerometer; autoplay; clipboard-write; encrypted-media; gyroscope; picture-in-picture; web-share\" allowfullscreen></iframe>\n"
      ],
      "text/plain": [
       "<IPython.core.display.HTML object>"
      ]
     },
     "metadata": {},
     "output_type": "display_data"
    }
   ],
   "source": [
    "%%HTML\n",
    "<iframe width=\"800\" height=\"600\" src=\"https://www.youtube.com/embed/ric15so4E3Y\" title=\"YouTube video player\" frameborder=\"0\" allow=\"accelerometer; autoplay; clipboard-write; encrypted-media; gyroscope; picture-in-picture; web-share\" allowfullscreen></iframe>"
   ]
  },
  {
   "cell_type": "code",
   "execution_count": 7,
   "id": "cebc41c0",
   "metadata": {},
   "outputs": [
    {
     "data": {
      "text/html": [
       "<iframe width=\"800\" height=\"600\" src=\"https://www.youtube.com/embed/AfIv2SLstdk\" title=\"YouTube video player\" frameborder=\"0\" allow=\"accelerometer; autoplay; clipboard-write; encrypted-media; gyroscope; picture-in-picture; web-share\" allowfullscreen></iframe>\n"
      ],
      "text/plain": [
       "<IPython.core.display.HTML object>"
      ]
     },
     "metadata": {},
     "output_type": "display_data"
    }
   ],
   "source": [
    "%%HTML\n",
    "<iframe width=\"800\" height=\"600\" src=\"https://www.youtube.com/embed/AfIv2SLstdk\" title=\"YouTube video player\" frameborder=\"0\" allow=\"accelerometer; autoplay; clipboard-write; encrypted-media; gyroscope; picture-in-picture; web-share\" allowfullscreen></iframe>"
   ]
  },
  {
   "cell_type": "markdown",
   "id": "21bf83a4",
   "metadata": {},
   "source": [
    "#### Cleanup\n",
    "+ Get rid of all the trash and keep the items in their correct location.\n",
    "+ The Petri dishes with the bonded Chips should be correctly labeled with the Date, Version number and your name.\n",
    "+ Keep these Petri Dishes outside the Cleanroom storage box since we will now treat them with Aquapel.\n",
    "\n",
    "+ Turn the VENT off on the Tepla, close the Vent valve and set the machine to IDLE mode. Press ENT to go back to the main menu and select IDLE MODE. <br><img src=\"img/Screenshot 2023-06-14 at 1.25.51 AM.png\" width=\"75%\" height=\"75%\">\n",
    "\n",
    "+ Log off the Tepla Asher on FOM. \n",
    "\n",
    "### Troubleshooting Poor Bonding/Delamination During Aquapel Treatment\n",
    "+ Depending on the Season, Location or Batch of PDMS, there might be too much moisture absorbed into the PDMS Chips.\n",
    "    + Moisture severly impacts bonding strength.\n",
    "+ To improve bonding efficiency:  \n",
    "    + Dehydration Bake the Unbonded PDMS Chips at 120&deg;C in a Convection Oven overnight.\n",
    "    + Make sure the pattern is facing up.\n",
    "    + Chips should be already cut and the holes punched for better airflow. <br><img src=\"img/IMG_3361.jpg\" width=\"75%\" height=\"75%\">\n",
    "+ During Bonding step you might have to Glide your tweezers along top of the Chip to remove air from the Glass-PDMS Interface.\n",
    "    + Gliding Helps prevent distortion in the pattern during bonding.\n",
    "    + Massaging the Chip with your Tweezers to get rid of any remaining air bubbles also helps.\n",
    "    + These steps are necessary because the overnight heating might change the curvature of the chips leading to non-spontaneous removal of the air bubbles.\n",
    "    \n",
    "<style>\n",
    "    @media print {\n",
    "    a[href]::after {\n",
    "        content: none !important;\n",
    "        }\n",
    "    }\n",
    "</style>"
   ]
  }
 ],
 "metadata": {
  "kernelspec": {
   "display_name": "Python 3 (ipykernel)",
   "language": "python",
   "name": "python3"
  },
  "language_info": {
   "codemirror_mode": {
    "name": "ipython",
    "version": 3
   },
   "file_extension": ".py",
   "mimetype": "text/x-python",
   "name": "python",
   "nbconvert_exporter": "python",
   "pygments_lexer": "ipython3",
   "version": "3.7.16"
  }
 },
 "nbformat": 4,
 "nbformat_minor": 5
}
