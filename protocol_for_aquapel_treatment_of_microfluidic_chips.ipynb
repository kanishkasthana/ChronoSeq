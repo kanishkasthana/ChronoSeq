{
 "cells": [
  {
   "cell_type": "markdown",
   "metadata": {},
   "source": [
    "## Protocol for Aquapel Treatment of PDMS-Glass Bonded ChronoSeq-V14 Microfluidic Chips\n",
    "\n",
    "#### Purpose of Protocol\n",
    "+ Droplet Generation does not work without Aquapel Treatment of the Glass Bonded PDMS Microfluidic Chips.\n",
    "+ Aquapel has a Fluorinated Active ingredient that works well with Fluorinated Oil/Sufractants used in Droplet Microfluidics.\n",
    "+ This protocol has an additional benefit of Filtering out poorly bonded PDMS chips or identifying a bad batch of PDMS.\n",
    "\n",
    "#### Prepare Fume Hood and Incubator\n",
    "+ Prepare the Fume Hood:\n",
    "    + Turn on the Fume Hood light.\n",
    "    + Before you begin, clean you Fume hood:\n",
    "        + Discard any previous [absorbent mats](https://us.vwr.com/store/product/11988983/aqui-padtm-benchtop-absorbent-mat-therapak) in the Fume Hood in a large Blue Bin for Waste Contaminated with Chemicals. <br><img src=\"img/IMG_0808.jpeg\" width=\"50%\" height=\"50%\">\n",
    "        + Spray the Working Area with 70% Ethanol.\n",
    "        + Use Paper Towels to Wipe the Area Clean.\n",
    "        + Discard the Paper Towels in the large Blue Bin for Waste Contaminated with Chemicals.\n",
    "    + Lay down four [absorbent mats](https://us.vwr.com/store/product/11988983/aqui-padtm-benchtop-absorbent-mat-therapak) inside the fume hood. These should quickly absorb any spills.\n",
    "    + Make sure there is enough space to work.\n",
    "    \n",
    "|Clean the Hood with Ethanol Spray and Wipe Clean | Lay Down Absorbent Mats |\n",
    "|-|-|\n",
    "|<img src=\"img/IMG_2402.jpg\">|<img src=\"img/IMG_2403.jpg\">|\n",
    "\n",
    "+ Set a Laboratory incubator or oven to 65&deg;C. <br><img src=\"img/IMG_2437.jpg\" width=\"50%\" height=\"50%\">\n",
    "\n",
    "#### Pneumatics Assembly\n",
    "\n",
    "+ Connect the house air to [6mm Pneumatic tubing](https://www.amazon.com/gp/product/B07RJ1BYKV/).\n",
    "    + This 6mm Tubing should be labeled \"For Fume Hood\".\n",
    "\n",
    "|Label the 6mm Pneumatic Tubing as \"For Fume Hood\" | Connect it to House Air |\n",
    "|-|-|\n",
    "|<img src=\"img/IMG_2407.jpg\">|<img src=\"img/IMG_2408.jpg\">|\n",
    "\n",
    "\n",
    "+ Connect the 6mm Pneumatic Tubing to Tygon Tubing\n",
    "    + Push the Luer-Lock side of a [P851-Luer to Barb Adapter](https://www.idex-hs.com/store/product-detail/barbed_to_male_luer_lock_adapter_for_use_with_soft_walled_tubing_polypropylene_for_use_with_3_32_2_4_mm_id_tubing_each/p-851) into the 6mm tubing. \n",
    "    + Push the 6mm Tubing in a right-left twisting motion till it touches the inner wall of the Luer portion of the Adapter.\n",
    "    + Now Push the  [3/32\" ID Tygon Tubing](https://www.mcmaster.com/6516T52/) onto the Barb Side of the Luer-Barb Adapter. \n",
    "\n",
    "|This is what the Connection between the 6mm Pneumatic Tubing with the Tygon Tubing using the Luer-Barb Adapter look like |\n",
    "|-|\n",
    "|<img src=\"img/IMG_2445.jpeg\">|\n",
    "\n",
    "+ Unroll Enough Tygon Tubing to reach the Fume Hood:\n",
    "    + Now cut a long enough segment of Tygon tubing that you can reach the Fume hood from the compressed air system location.\n",
    "    + Avoid tripping hazards by securely routing the tubing along the walls to the fume hood.\n",
    "    + Use large [Scissors](https://www.amazon.com/dp/B01BRGU8R0) to cut the Tygon tubing.\n",
    "\n",
    "|Tygon Tubing Going from Pressure Source to Fume Hood | Tygon Tubing Going from Pressure Source to Fume Hood Continued.. |\n",
    "|-|-|\n",
    "|<img src=\"img/IMG_0807.jpg\">|<img src=\"img/IMG_0808.jpeg\">|\n",
    "\n",
    "+ Connect the Tygon tubing to a [3-way Stopcock](https://www.amazon.com/Zocakee-Stopcocks-Connections-Sterile-Individual/dp/B09DP6QPH4/) inside the Fume hood using the P851-Luer to Barb Adapter.\n",
    "    + There are two Male Luer Locks and One Female Luer Lock on the 3-Way Stopcock.\n",
    "    + This Stopcock can be used to Turn the Air Pressure off or Redirect Air Flow towards the Female Luer Lock Direction or Male Luer Lock Direction.\n",
    "    + Connect Two P851- Luer to Barb Adapters on the Male Luer Locks on the Stopcock.\n",
    "        + One Side Connect the Tygon Tubing coming from the House Air supply.\n",
    "        + On the Second Side Connect a Short Tygon Segment.\n",
    "\n",
    "| Tygon Connections Using the Luer Barb Adapter | Short Tygon Tubing for Second Male Luer Connection|\n",
    "|-|-|\n",
    "|<img src=\"img/IMG_2414.jpg\">|<img src=\"img/Screenshot 2023-11-14 at 4.38.29 PM.png\">|\n",
    "\n",
    "+ Now using this [Luer to 1/4-28 Adapter](https://www.idex-hs.com/store/product-detail/luer_adapter_1_4_28_female_to_female_luer_tefzel_etfe_/p-678), a [Nut](https://www.idex-hs.com/store/product-detail/flangeless_male_nut_delrin_1_4_28_flat_bottom_for_1_16_od_blue/p-206) and [Ferrule](https://www.idex-hs.com/store/product-detail/flangeless_ferrule_tefzel_etfe_1_4_28_flat_bottom_for_1_16_od_blue_10_pack/p-200x) you can connect the [1/16\" ID 0.5mm ID PTFE tubing {CAT NO. JR-T-4183-M25}](https://www.vici.com/profiles/prof_ps.php) {email precision@vici.com  for a Quote} to the 3-way stopcock. \n",
    "    + This tubing will be used to blow any liquid out of the Microfluidic chips.\n",
    "    + Cut about 1 meter of PTFE tubing using a [Stanley Razor Blade](https://www.grainger.com/product/STANLEY-Razor-Blade-1-1-2-in-Blade-4A807).\n",
    "    + Connect to the Female Luer on the 3-Way Stopcock. Screw all the way in.\n",
    "\n",
    "| Components| Assembled| Connected To 3-Way Stopcock|\n",
    "|-|-|-|\n",
    "|<img src=\"img/Adapters_Edit.jpg\">|<img src=\"img/IMG_2412.jpg\">|<img src=\"img/IMG_2413.jpg\">|\n",
    "\n",
    "+ Make Sure the Stopcock is in the Closed Position same as the image above.\n",
    "+ Turn on the House Air. Make sure there are no leaks. <br><img src=\"img/IMG_2041.jpg\" width=\"50%\" height=\"50%\">\n",
    "\n",
    "#### Prepare Syringe Assemblies\n",
    "\n",
    "+ Now cut two segments of about 50cm segments of the [1mm OD FEP tubing from VICI metronics {CAT NO. MT-F-40020}](https://www.vicimetronics.com/pages/contact-us) using Stanley Razor blades.\n",
    "+ Using the [Luer to 1/4-28 Adapter](https://www.idex-hs.com/store/product-detail/luer_adapter_1_4_28_female_to_female_luer_tefzel_etfe_/p-678), [Nut](https://www.idex-hs.com/store/product-detail/flangeless_male_nut_delrin_1_4_28_flat_bottom_for_1_16_od_blue/p-206), [Ferrule](https://www.idex-hs.com/store/product-detail/flangeless_ferrule_tefzel_etfe_1_4_28_flat_bottom_for_1_16_od_blue_10_pack/p-200x) and [Nanotight Adapter](https://www.idex-hs.com/store/product-detail/nanotight_sleeve_purple_1_16_od_x_042_id_x_1_6_/f-252) you can connect to a [Glass Syringe](https://www.amazon.com/gp/product/B07PVGCN6R/).\n",
    "    + Prepare **Two Syringe Assemblies**. Label one as \"Aquapel\" and the second one \"FC-40\".\n",
    "    + The FEP tubing should be sticking out slightly \n",
    "    + Make sure the seal is tight.\n",
    "    \n",
    "| 1mm OD FEP Tubing Should Stick Out Slightly | Main Components Before Assembly |\n",
    "|-|-|\n",
    "|<img src=\"img/IMG_2399.jpg\">|<img src=\"img/IMG_2398.jpg\">|\n",
    "\n",
    "| Screw Everything In | Label The Syringe |\n",
    "|-|-|\n",
    "|<img src=\"img/IMG_2397.jpg\">|<img src=\"img/IMG_2396.jpg\">|\n",
    "\n",
    "+ Turn on the Compressed Air for the Short Tygon Section of the 3-Way Stopcock inside the Fume Hood. \n",
    "+ For **Both Syringes**:\n",
    "    + Remove the Plunger from the Syringe Body.\n",
    "    + Use Compressed Air to Blow Dust out from Inside the Syringe Body.\n",
    "    + Use Compressed Air to also Blow Dust off the Syringe Plunger.\n",
    "    + Insert the Plunger back into the Syringe Body.\n",
    "    + Turn off the Compressed Air using the 3-Way Stopcock.\n",
    "\n",
    "#### FC-40 Syringe\n",
    "+ Place a Black Bin with the Correct Waste Tag inside the Fume Hood. We will discard all Aquapel and FC-40 Contaminated Items in this Bin.\n",
    "+ Filter 6ml of [FC-40 {Cat No. F9755-100ML}](https://www.sigmaaldrich.com/US/en/product/sigma/f9755) using a [40&mu;m Cell Strainer](https://www.fishersci.com/shop/products/falcon-cell-strainers-4/087711).\n",
    "+ Remove the plunger from the FC-40 Glass syringe and use a pipette to transfer the Filtered FC-40 into the Syringe Body. \n",
    "+ Reattach the plunger, flip the syringe and blow the air out. \n",
    "    + Keep pushing the plunger down still a little bit of FC-40 Comes out.\n",
    "    + Use the absorbent pad to catch any spilt FC-40.\n",
    "    + Execute the Cell Below to Watch a Video of the Process"
   ]
  },
  {
   "cell_type": "code",
   "execution_count": 1,
   "metadata": {},
   "outputs": [
    {
     "data": {
      "text/html": [
       "<iframe width=\"800\" height=\"600\" src=\"https://www.youtube.com/embed/ZCFe1tpc51c?si=bPKcZLcgjvDhJ5f1\" title=\"YouTube video player\" frameborder=\"0\" allow=\"accelerometer; autoplay; clipboard-write; encrypted-media; gyroscope; picture-in-picture; web-share\" allowfullscreen></iframe>\n"
      ],
      "text/plain": [
       "<IPython.core.display.HTML object>"
      ]
     },
     "metadata": {},
     "output_type": "display_data"
    }
   ],
   "source": [
    "%%HTML \n",
    "<iframe width=\"800\" height=\"600\" src=\"https://www.youtube.com/embed/ZCFe1tpc51c?si=bPKcZLcgjvDhJ5f1\" title=\"YouTube video player\" frameborder=\"0\" allow=\"accelerometer; autoplay; clipboard-write; encrypted-media; gyroscope; picture-in-picture; web-share\" allowfullscreen></iframe>"
   ]
  },
  {
   "cell_type": "markdown",
   "metadata": {},
   "source": [
    "+ Change your Gloves. Discard the previous pair into the Black Hazardous Waste Bin.\n",
    "\n",
    "#### Aquapel Syringe\n",
    "\n",
    ">  &#x26A0;**WARNING**: Aquapel is Toxic. Avoid Breathing in the Fumes by Working in the Fume hood and Follow all precautions below.\n",
    ">    + Wear double Nitrile Gloves.\n",
    ">    + Read the Aquapel SDS.\n",
    ">    + Regularly change your gloves if you spill any liquid on them.\n",
    ">    + Dispose of Hazardous waste properly in Waste Tagged containers.\n",
    "+ Tape the First Layer of Gloves to your labcoat to avoid exposing your skin accidentally.\n",
    "    + Execute the cell below to watch the video.\n",
    "    + Put on a second layer of gloves on top after you have taped the first layer."
   ]
  },
  {
   "cell_type": "code",
   "execution_count": 2,
   "metadata": {},
   "outputs": [
    {
     "data": {
      "text/html": [
       "<iframe width=\"560\" height=\"315\" src=\"https://www.youtube.com/embed/T7JGnFHAbhU?si=7X8rGl0iXm3G1dOH\" title=\"YouTube video player\" frameborder=\"0\" allow=\"accelerometer; autoplay; clipboard-write; encrypted-media; gyroscope; picture-in-picture; web-share\" allowfullscreen></iframe>\n"
      ],
      "text/plain": [
       "<IPython.core.display.HTML object>"
      ]
     },
     "metadata": {},
     "output_type": "display_data"
    }
   ],
   "source": [
    "%%HTML\n",
    "<iframe width=\"560\" height=\"315\" src=\"https://www.youtube.com/embed/T7JGnFHAbhU?si=7X8rGl0iXm3G1dOH\" title=\"YouTube video player\" frameborder=\"0\" allow=\"accelerometer; autoplay; clipboard-write; encrypted-media; gyroscope; picture-in-picture; web-share\" allowfullscreen></iframe>"
   ]
  },
  {
   "cell_type": "markdown",
   "metadata": {},
   "source": [
    "+ Now carefully cut the Aquapel ampule out of the [Aquapel applicator](https://www.amazon.com/dp/B004NFW5EC/) using a [Stanley Razor Blade](https://www.grainger.com/product/STANLEY-Razor-Blade-1-1-2-in-Blade-4A807). \n",
    "    + Don’t apply too much force or the glass can break.\n",
    "    + Try not to press down on the Fins to avoid breaking the glass prematurely.\n",
    "    + Use the technique shown in the video to Pop the Ampule out without damaging it.\n",
    "    + Execute Cell below to watch the video."
   ]
  },
  {
   "cell_type": "code",
   "execution_count": 3,
   "metadata": {},
   "outputs": [
    {
     "data": {
      "text/html": [
       "<iframe width=\"560\" height=\"315\" src=\"https://www.youtube.com/embed/z8sPT_TWX4I?si=GhxNJIgRr0OY2gBO\" title=\"YouTube video player\" frameborder=\"0\" allow=\"accelerometer; autoplay; clipboard-write; encrypted-media; gyroscope; picture-in-picture; web-share\" allowfullscreen></iframe>\n"
      ],
      "text/plain": [
       "<IPython.core.display.HTML object>"
      ]
     },
     "metadata": {},
     "output_type": "display_data"
    }
   ],
   "source": [
    "%%HTML\n",
    "<iframe width=\"560\" height=\"315\" src=\"https://www.youtube.com/embed/z8sPT_TWX4I?si=GhxNJIgRr0OY2gBO\" title=\"YouTube video player\" frameborder=\"0\" allow=\"accelerometer; autoplay; clipboard-write; encrypted-media; gyroscope; picture-in-picture; web-share\" allowfullscreen></iframe>"
   ]
  },
  {
   "cell_type": "markdown",
   "metadata": {},
   "source": [
    "+ Discard the Empty Applicator into the Hazardous Waste Black Bin.\n",
    "+ Clean the Aquapel Ampule with 70% Ethanol and Paper Towels.\n",
    "    + Make sure there are no Fibers or particles on the glass surface.\n",
    "    + Dry the Ampule thoroughly and your Gloves with Paper towel to make sure no Ethanol is left.\n",
    "    + Now put this Ampule inside a [50ml Falcon tube](https://ecatalog.corning.com/life-sciences/b2c/US/en/Liquid-Handling/Tubes,-Liquid-Handling/Centrifuge-Tubes/Falcon%C2%AE-Conical-Centrifuge-Tubes/p/352098).\n",
    "    + Execute the Cell Below to Watch the Video."
   ]
  },
  {
   "cell_type": "code",
   "execution_count": 4,
   "metadata": {},
   "outputs": [
    {
     "data": {
      "text/html": [
       "<iframe width=\"800\" height=\"600\" src=\"https://www.youtube.com/embed/5-be_1YvLCU?si=aIuYa6A7qYPmY00y\" title=\"YouTube video player\" frameborder=\"0\" allow=\"accelerometer; autoplay; clipboard-write; encrypted-media; gyroscope; picture-in-picture; web-share\" allowfullscreen></iframe>\n"
      ],
      "text/plain": [
       "<IPython.core.display.HTML object>"
      ]
     },
     "metadata": {},
     "output_type": "display_data"
    }
   ],
   "source": [
    "%%HTML\n",
    "<iframe width=\"800\" height=\"600\" src=\"https://www.youtube.com/embed/5-be_1YvLCU?si=aIuYa6A7qYPmY00y\" title=\"YouTube video player\" frameborder=\"0\" allow=\"accelerometer; autoplay; clipboard-write; encrypted-media; gyroscope; picture-in-picture; web-share\" allowfullscreen></iframe>"
   ]
  },
  {
   "cell_type": "markdown",
   "metadata": {},
   "source": [
    "+ Break the Glass Ampule:\n",
    "    + Wear a **Face shield for protection** and use the Glass sliding windows on the Fume hood to shield you from any flying glass debris.\n",
    "    + Break the Glass Ampule using [Needle Nose pliers](https://www.amazon.com/Stanley-84-114-Piece-6-Inch-Diagonal/dp/B0006HVU4W/) inside the Fume hood. \n",
    "    + The 50ml tube will catch any Aquapel solution that spills out of the Ampule.\n",
    "    + Execute the Cell Below to Watch the Video."
   ]
  },
  {
   "cell_type": "code",
   "execution_count": 5,
   "metadata": {},
   "outputs": [
    {
     "data": {
      "text/html": [
       "<iframe width=\"800\" height=\"600\" src=\"https://www.youtube.com/embed/ZN6y4esvqok?si=oHs9JCPdGLNOPrRL\" title=\"YouTube video player\" frameborder=\"0\" allow=\"accelerometer; autoplay; clipboard-write; encrypted-media; gyroscope; picture-in-picture; web-share\" allowfullscreen></iframe>\n"
      ],
      "text/plain": [
       "<IPython.core.display.HTML object>"
      ]
     },
     "metadata": {},
     "output_type": "display_data"
    }
   ],
   "source": [
    "%%HTML\n",
    "<iframe width=\"800\" height=\"600\" src=\"https://www.youtube.com/embed/ZN6y4esvqok?si=oHs9JCPdGLNOPrRL\" title=\"YouTube video player\" frameborder=\"0\" allow=\"accelerometer; autoplay; clipboard-write; encrypted-media; gyroscope; picture-in-picture; web-share\" allowfullscreen></iframe>"
   ]
  },
  {
   "cell_type": "markdown",
   "metadata": {},
   "source": [
    "+ Change your Gloves.\n",
    "+ Filter the Aquapel using a 40&mu;m Cell Strainer.\n",
    "+ Discard into the Black Black Hazardous Waste Bin with a Waste Tag:\n",
    "    + The 50ml Tube with the Broken Aquapel Ampule.\n",
    "    + Any remaining Broken Glass\n",
    "    + The 40&mu;m Cell Strainer.\n",
    "    + Your Gloves.\n",
    "+ Put on a New pair of Gloves. Discard the previous pair into the Black Hazardous Waste Bin.\n",
    "+ Clean the Needle Nose Pliers with 70% Ethanol and Wipe with Paper Towels.\n",
    "+ Put the Pliers Back to their Storage Location on your Bench.\n",
    "+ Change your Gloves.\n",
    "+ Remove the plunger from the Aquapel Glass syringe and use a pipette to transfer the Filtered Aquapel into the Syringe Body. \n",
    "+ Reattach the plunger, flip the syringe and blow the air out. \n",
    "    + Keep pushing the plunger down till a little bit of Aquapel Comes out.\n",
    "    + Use the absorbent pad to catch any spilt Aquapel.\n",
    "    + Execute the Cell Below to Watch a Video of the Process"
   ]
  },
  {
   "cell_type": "code",
   "execution_count": 6,
   "metadata": {},
   "outputs": [
    {
     "data": {
      "text/html": [
       "<iframe width=\"800\" height=\"600\" src=\"https://www.youtube.com/embed/ZCFe1tpc51c?si=bPKcZLcgjvDhJ5f1\" title=\"YouTube video player\" frameborder=\"0\" allow=\"accelerometer; autoplay; clipboard-write; encrypted-media; gyroscope; picture-in-picture; web-share\" allowfullscreen></iframe>\n"
      ],
      "text/plain": [
       "<IPython.core.display.HTML object>"
      ]
     },
     "metadata": {},
     "output_type": "display_data"
    }
   ],
   "source": [
    "%%HTML \n",
    "<iframe width=\"800\" height=\"600\" src=\"https://www.youtube.com/embed/ZCFe1tpc51c?si=bPKcZLcgjvDhJ5f1\" title=\"YouTube video player\" frameborder=\"0\" allow=\"accelerometer; autoplay; clipboard-write; encrypted-media; gyroscope; picture-in-picture; web-share\" allowfullscreen></iframe>"
   ]
  },
  {
   "cell_type": "markdown",
   "metadata": {},
   "source": [
    "+ Change your Gloves. Discard the previous pair into the Black Hazardous Waste Bin.\n",
    "\n",
    "#### Treatment of Microfluidic Chips with Aquapel\n",
    "\n",
    "<br><img src=\"img/IMG_2114.jpg\">\n",
    "+ Remove the Scotch Tape from all 10 Microfluidic chips and line them up inside the Fume hood on the Absorbent mat.<br><img src=\"img/IMG_2436.jpg\" width=\"50%\" height=\"50%\">\n",
    "+ How to do Aquapel Treatment for a Chip:\n",
    "    + Now flip the Aquapel Syringe upside down and with one hand insert the FEP tubing into the Oil Inlet and with the other hand.\n",
    "    + Push the Syringe down towards the ground to push the Aquapel into the chip.\n",
    "    + The Aquapel will first come out of the Outlet hole. Keep pushing till you see some Aquapel also come out from the Bead inlet hole.\n",
    "    + It generally takes a substantial amount of force to make the Aquapel come out of the Bead Channel. If the Aquapel comes out very easily this is a sign the chip was bonded poorly.\n",
    "    + Delaminated chips can easily be detected as discussed in the next section of the protocol.\n",
    "    + Now insert the FEP tubing into the Cell channel inlet and push any remaining air bubbles out of the Outlet hole.\n",
    "    + Execute the Cell Below to Watch a Video of the Process."
   ]
  },
  {
   "cell_type": "code",
   "execution_count": 7,
   "metadata": {},
   "outputs": [
    {
     "data": {
      "text/html": [
       "<iframe width=\"800\" height=\"600\" src=\"https://www.youtube.com/embed/EshID8qx8eo?si=-ccbjnVUfqcC8AXn\" title=\"YouTube video player\" frameborder=\"0\" allow=\"accelerometer; autoplay; clipboard-write; encrypted-media; gyroscope; picture-in-picture; web-share\" allowfullscreen></iframe>\n"
      ],
      "text/plain": [
       "<IPython.core.display.HTML object>"
      ]
     },
     "metadata": {},
     "output_type": "display_data"
    }
   ],
   "source": [
    "%%HTML\n",
    "<iframe width=\"800\" height=\"600\" src=\"https://www.youtube.com/embed/EshID8qx8eo?si=-ccbjnVUfqcC8AXn\" title=\"YouTube video player\" frameborder=\"0\" allow=\"accelerometer; autoplay; clipboard-write; encrypted-media; gyroscope; picture-in-picture; web-share\" allowfullscreen></iframe>"
   ]
  },
  {
   "cell_type": "markdown",
   "metadata": {},
   "source": [
    "+ Do this for all Ten Microfluidic Chips.\n",
    "+ Wait 1 minute.\n",
    "+ Wipe all Ten chips with [Paper towels](https://www.kcprofessional.com/en-us/products/restroom-and-hygiene/paper-towels/folded-paper/slimfold/scott-pro-plus-slimfold-towels/04442) to absorb most of the Aquapel.<br><img src=\"img/IMG_2443.jpg\" width=\"50%\" height=\"50%\">\n",
    "+ Discard the paper towels in a Hazardous Waste Bin with a Waste Tag.\n",
    "+ Change your gloves. Discard them into the Black Hazardous Waste Bin.\n",
    "+ Now turn the compressed air on in the PTFE tubing by turning the 3-way stopcock.\n",
    "+ We will now blow most of the Aquapel out of the chips using the Compressed Air.\n",
    "+ Gently glide the 1/16” PTFE tubing over all 4 holes to expel the Aquapel out from the chip:\n",
    "    + **DO NOT INSERT THE PTFE tubing** into the holes.\n",
    "    + This can dislodge particles of PDMS and cause a blockage later.\n",
    "    + You only want to **glide across each hole without insertion**.\n",
    "    + Execute the Cell Below Watch a Video of the Process.\n",
    "\n",
    "#### NOTE ON DELAMINATION: \n",
    "+ Delamination might happen at this step for poorly bonded Chips. Discard chips that Delaminate.\n",
    "+ Delaminated Chips will have an air bubble connecting Different channels such as Oil and Cell Channels.\n",
    "+ Tilt the Chip to look for these Air bubbles in Delaminated Chips.\n",
    "+ See the [Troubleshooting Section in the PDMS bonding notebook](protocol_for_bonding_pdms_chips_to_glass.ipynb#Troubleshooting-Poor-Bonding/Delamination-During-Aquapel-Treatment) for help.\n",
    "+ Unfortunately PDMS is a finicky material and there can be significant differences between batches in terms of bonding efficiency. We have had anything from 15% to 100% Yeilds between different batches. \n",
    "+ To combat these reliability issues we will try to make injection molded Microfluidic chips available in the future.\n",
    "+ If you find a batch of PDMS that works really well for you, we suggest you make a lot of chips at the same time using that batch.\n",
    "\n",
    "| Before Delamination | After Delamination |\n",
    "|-|-|\n",
    "|<img src=\"img/IMG_3367.jpg\">|<img src=\"img/IMG_3365.jpg\">|"
   ]
  },
  {
   "cell_type": "code",
   "execution_count": 8,
   "metadata": {},
   "outputs": [
    {
     "data": {
      "text/html": [
       "<iframe width=\"800\" height=\"600\" src=\"https://www.youtube.com/embed/bqIuMIx2sh8?si=nFCw24uZsAuLW0Ri\" title=\"YouTube video player\" frameborder=\"0\" allow=\"accelerometer; autoplay; clipboard-write; encrypted-media; gyroscope; picture-in-picture; web-share\" allowfullscreen></iframe>\n"
      ],
      "text/plain": [
       "<IPython.core.display.HTML object>"
      ]
     },
     "metadata": {},
     "output_type": "display_data"
    }
   ],
   "source": [
    "%%HTML\n",
    "<iframe width=\"800\" height=\"600\" src=\"https://www.youtube.com/embed/bqIuMIx2sh8?si=nFCw24uZsAuLW0Ri\" title=\"YouTube video player\" frameborder=\"0\" allow=\"accelerometer; autoplay; clipboard-write; encrypted-media; gyroscope; picture-in-picture; web-share\" allowfullscreen></iframe>"
   ]
  },
  {
   "cell_type": "markdown",
   "metadata": {},
   "source": [
    "+ Turn the compressed air off using the 3-way Stopcock.\n",
    "+ Change your gloves. Discard them into the Black Hazardous Waste Bin.\n",
    "\n",
    "#### Expel remaining Aquapel using FC-40 Treatment\n",
    "\n",
    "+ Now take the FC-40 syringe and insert the FEP tubing into the Oil inlet hole. Push the syringe down till you see liquid come out from the Outlet hole.\n",
    "+ Now insert the FEP tubing into the Cell inlet hole:\n",
    "    + Push the Syringe down till you see liquid come out from the Outlet hole.\n",
    "    + The remaining air bubbles should be expelled.\n",
    "+ Now insert the FEP tubing into the Bead inlet hole:\n",
    "    + Push the Syringe down till you see liquid come out from the Outlet hole.\n",
    "    + The remaining air bubbles should be expelled.\n",
    "+ Execute the Cell Below to Watch a Video of the Process."
   ]
  },
  {
   "cell_type": "code",
   "execution_count": 9,
   "metadata": {},
   "outputs": [
    {
     "data": {
      "text/html": [
       "<iframe width=\"800\" height=\"600\" src=\"https://www.youtube.com/embed/NWVpkkBnvjw?si=Du49e9DohfKAX0b1\" title=\"YouTube video player\" frameborder=\"0\" allow=\"accelerometer; autoplay; clipboard-write; encrypted-media; gyroscope; picture-in-picture; web-share\" allowfullscreen></iframe>\n"
      ],
      "text/plain": [
       "<IPython.core.display.HTML object>"
      ]
     },
     "metadata": {},
     "output_type": "display_data"
    }
   ],
   "source": [
    "%%HTML\n",
    "<iframe width=\"800\" height=\"600\" src=\"https://www.youtube.com/embed/NWVpkkBnvjw?si=Du49e9DohfKAX0b1\" title=\"YouTube video player\" frameborder=\"0\" allow=\"accelerometer; autoplay; clipboard-write; encrypted-media; gyroscope; picture-in-picture; web-share\" allowfullscreen></iframe>"
   ]
  },
  {
   "cell_type": "markdown",
   "metadata": {},
   "source": [
    "+ Do the FC-40 treatment for all 10 chips.\n",
    "+ Now wipe all the chips with Paper Towels to absorb most of the FC-40. <br><img src=\"img/IMG_2443.jpg\" width=\"50%\" height=\"50%\">\n",
    "+ Discard the paper towels in a Hazardous Waste Bin with a Waste Tag.\n",
    "+ Change your gloves. Discard them into the Black Hazardous Waste Bin.\n",
    "+ Now turn the compressed air on in the PTFE tubing by turning the 3-way stopcock.\n",
    "+ Now just like the Aquapel expulsion steps, you want to glide across each hole without inserting the PTFE tubing.\n",
    "    + **DO NOT INSERT THE PTFE tubing** into the holes.\n",
    "    + This can dislodge particles of PDMS and cause a blockage later.\n",
    "    + You only want to **glide across each hole without insertion**.\n",
    "    + You should see most of the Liquid being blown out through the Outlet Hole.\n",
    "    + Execute the Cell Below to Watch a Video of the Process."
   ]
  },
  {
   "cell_type": "code",
   "execution_count": 10,
   "metadata": {},
   "outputs": [
    {
     "data": {
      "text/html": [
       "<iframe width=\"800\" height=\"600\" src=\"https://www.youtube.com/embed/bqIuMIx2sh8?si=nFCw24uZsAuLW0Ri\" title=\"YouTube video player\" frameborder=\"0\" allow=\"accelerometer; autoplay; clipboard-write; encrypted-media; gyroscope; picture-in-picture; web-share\" allowfullscreen></iframe>\n"
      ],
      "text/plain": [
       "<IPython.core.display.HTML object>"
      ]
     },
     "metadata": {},
     "output_type": "display_data"
    }
   ],
   "source": [
    "%%HTML\n",
    "<iframe width=\"800\" height=\"600\" src=\"https://www.youtube.com/embed/bqIuMIx2sh8?si=nFCw24uZsAuLW0Ri\" title=\"YouTube video player\" frameborder=\"0\" allow=\"accelerometer; autoplay; clipboard-write; encrypted-media; gyroscope; picture-in-picture; web-share\" allowfullscreen></iframe>"
   ]
  },
  {
   "cell_type": "markdown",
   "metadata": {},
   "source": [
    "+ Now do this for all 10 Microfluidic chips.\n",
    "+ Change your gloves. Discard them into the Black Hazardous Waste Bin.\n",
    "\n",
    "#### Bake to Remove remaining solvent and then store\n",
    "+ Line the Chips up in the Cover and Main Dish of the  Micofluidic Chips Storage Dish.\n",
    "    + Make sure the PDMS is fully exposed to Airflow.\n",
    "    + No Glass should block or be on the PDMS surface.\n",
    "    + PDMS should have good airflow for Effective Removal of any remaining FC-40\n",
    "\n",
    "<br><img src=\"img/IMG_2446.JPG\" width=\"50%\" height=\"50%\">\n",
    "\n",
    "\n",
    "+ Bake the chips at 65&deg;C for 20 mins inside the Lab Incubator or Oven.\n",
    "\n",
    "| <br> | <br> |\n",
    "|-|-|\n",
    "|<img src=\"img/IMG_2437.jpg\">|<img src=\"img/IMG_2451.jpg\">|\n",
    "\n",
    "+ Take the Chips out and Cover them immediately with [Scotch Magic Tape](https://www.amazon.com/Scotch-Dispensers-Applications-Invisible-Engineered/dp/B0000DH8HQ/). **DO NOT tuck the tape under the glass.**\n",
    "    + Watch a Video of the Process by Executing the Cell Below."
   ]
  },
  {
   "cell_type": "code",
   "execution_count": 11,
   "metadata": {},
   "outputs": [
    {
     "data": {
      "text/html": [
       "<iframe width=\"800\" height=\"600\" src=\"https://www.youtube.com/embed/CHmnzHu_d2k?si=TjOuUQLGAj4lYbdw\" title=\"YouTube video player\" frameborder=\"0\" allow=\"accelerometer; autoplay; clipboard-write; encrypted-media; gyroscope; picture-in-picture; web-share\" allowfullscreen></iframe>\n"
      ],
      "text/plain": [
       "<IPython.core.display.HTML object>"
      ]
     },
     "metadata": {},
     "output_type": "display_data"
    }
   ],
   "source": [
    "%%HTML \n",
    "<iframe width=\"800\" height=\"600\" src=\"https://www.youtube.com/embed/CHmnzHu_d2k?si=TjOuUQLGAj4lYbdw\" title=\"YouTube video player\" frameborder=\"0\" allow=\"accelerometer; autoplay; clipboard-write; encrypted-media; gyroscope; picture-in-picture; web-share\" allowfullscreen></iframe>"
   ]
  },
  {
   "cell_type": "markdown",
   "metadata": {},
   "source": [
    "+ Label the Storage Dish with the Date of Aquapel Treatment.\n",
    "+ Change your gloves. Discard them into the Black Hazardous Waste Bin.\n",
    "\n",
    "#### Remove any remaining Liquid in the Syringes.\n",
    "+ Inside the Fume Hood:\n",
    "    + Transfer any Remaining Aquapel into a 50ml Falcon Tube.\n",
    "    + Remove the Plunger and Capture any remaining Aquapel into the 50ml Tube.\n",
    "    + Discard the Tube into the Black Hazardous Waste Bin.\n",
    "+ Change your gloves. Discard them into the Black Hazardous Waste Bin.\n",
    "+ Transfer any Remaining FC-40 Back into its Storage Container \n",
    "    + Remove the Fitting Before Transfer <br><img src=\"img/Screenshot 2023-11-15 at 12.31.56 AM.png\" width=\"66%\" height=\"66%\">\n",
    "+ Reattach the Fittings for the FC-40 Syringe.\n",
    "\n",
    "#### Wash with Ethanol and then Dry with Compressed Air\n",
    "\n",
    "+ Move back to the Fume Hood\n",
    "+ One by One for **both Syringes**:\n",
    "    + Remove the plunger \n",
    "    + Spray the inside of the Glass Syringe and Plunger with 70% Ethanol.\n",
    "    + Use the Short Tygon Segment to Blow compressed air for drying the Syringe Body and Plunger.\n",
    "    + Execute the Cell Below to Watch a Video of the Process for one of Syringes."
   ]
  },
  {
   "cell_type": "code",
   "execution_count": 12,
   "metadata": {},
   "outputs": [
    {
     "data": {
      "text/html": [
       "<iframe width=\"800\" height=\"600\" src=\"https://www.youtube.com/embed/FLy_lB3I5kc?si=oBjWqVHEkf5Nlk6G\" title=\"YouTube video player\" frameborder=\"0\" allow=\"accelerometer; autoplay; clipboard-write; encrypted-media; gyroscope; picture-in-picture; web-share\" allowfullscreen></iframe>\n"
      ],
      "text/plain": [
       "<IPython.core.display.HTML object>"
      ]
     },
     "metadata": {},
     "output_type": "display_data"
    }
   ],
   "source": [
    "%%HTML\n",
    "<iframe width=\"800\" height=\"600\" src=\"https://www.youtube.com/embed/FLy_lB3I5kc?si=oBjWqVHEkf5Nlk6G\" title=\"YouTube video player\" frameborder=\"0\" allow=\"accelerometer; autoplay; clipboard-write; encrypted-media; gyroscope; picture-in-picture; web-share\" allowfullscreen></iframe>"
   ]
  },
  {
   "cell_type": "markdown",
   "metadata": {},
   "source": [
    "+ Change your gloves. Discard them into the Black Hazardous Waste Bin.\n",
    "#### Cleanup \n",
    "+ Store the Syringe Body and Plungers Separately on your Bench. <br><img src=\"img/IMG_2459.jpg\" width=\"50%\" height=\"50%\">\n",
    "+ Turn off the House Air.<br><img src=\"img/IMG_2041.jpg\" width=\"50%\" height=\"50%\">\n",
    "+ Discard all absorbent mats in the Fume Hood in a large Blue Bin for Waste Contaminated with Chemicals. <br><img src=\"img/IMG_0808.jpeg\" width=\"50%\" height=\"50%\">\n",
    "+ Lay down four new [absorbent mats](https://us.vwr.com/store/product/11988983/aqui-padtm-benchtop-absorbent-mat-therapak) inside the fume hood.\n",
    "+ Turn off the Fume Hood Lights.\n",
    "+ Put the Black Hazardous Waste Bin back to its Storage Location.\n"
   ]
  }
 ],
 "metadata": {
  "kernelspec": {
   "display_name": "Python 3 (ipykernel)",
   "language": "python",
   "name": "python3"
  },
  "language_info": {
   "codemirror_mode": {
    "name": "ipython",
    "version": 3
   },
   "file_extension": ".py",
   "mimetype": "text/x-python",
   "name": "python",
   "nbconvert_exporter": "python",
   "pygments_lexer": "ipython3",
   "version": "3.7.16"
  }
 },
 "nbformat": 4,
 "nbformat_minor": 4
}
