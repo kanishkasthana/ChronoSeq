{
 "cells": [
  {
   "cell_type": "markdown",
   "id": "0c00a276",
   "metadata": {},
   "source": [
    "## Instructions for Assembling LG16-1000D Sensirion Flow Sensor\n",
    "\n",
    "### Brief Description and Working Principle\n",
    "\n",
    "+ We need precise control of Flow Rates going into our Microfluidic Chip for Droplet Generation.\n",
    "    + Flow Rates can be changed by Changing the Gas Pressure in each Channel.\n",
    "    + Flow Rates are measured using Flow Sensors/Flow Meters.\n",
    "+ We need 3 Flow Meters for each injection Channel: Bead, Cell and Oil Channels.\n",
    "+ The Sensirion [LG16-1000D](https://sensirion.com/products/catalog/LG16-1000D) Flow Sensor tells us Flow rates in the 0-1000&mu;l range.\n",
    "+ The Flow Sensor works by measuring heat transfer. \n",
    "+ This heat transfer can vary depending on the Dissolved Chemicals or Fluid Being used, therefore this sensor needs to be Calibrated before use.\n",
    "+ We have already calculated some Calibration values for this Sensor but it might be useful to Check the Calibration.\n",
    "+ We will learn how to check this Calibration in a separate notebook.\n",
    "+ We use the Sensirion Flow Sensor for the Bead Channel Only.\n",
    "+ There is a Thin Glass Capillary inside the Flow Sensor, overtightening can cause this to break. Please follow any [precautions mentioned in the datasheet](https://sensirion.com/media/documents/690EAAD4/61658721/Sensirion_Liquid_Flow_Meters_LG16_xxxxD_Datasheet.pdf).\n",
    "\n",
    "| Location of Flow Sensors in Schematic | Location of Sensirion Flow Sensor in Schematic |\n",
    "|-|-|\n",
    "|<img src=\"img/Latest%20Main%20Figure%20Flow%20Sensors%201.jpg\">|<img src=\"img/Latest%20Main%20Figure%20Flow%20Sensors.jpg\">|\n",
    "\n",
    "### 3D Printing Sensor Housing\n",
    "\n",
    "+ We used a [Bambu Lab X1 Carbon](https://us.store.bambulab.com/products/x1-carbon?variant=42698346070152) to print the Housing.\n",
    "    + 0.4mm Nozzle\n",
    "    + Textured PEI Plate \n",
    "+ We generated a [3MF File](CAD_Files/Sensirion%20LG16-1000D%20Flow%20Sensor/LG16-1000D%20Sensirion%20Housing%20With%20Arduino%20Nano.3mf) with all the Settings we used for the Print. You can open this file on the [Orca Slicer](https://github.com/SoftFever/OrcaSlicer/releases).\n",
    "+ The Original STEP Files and F3D Files can be found in [this directory](CAD_Files/Sensirion%20LG16-1000D%20Flow%20Sensor).\n",
    "+ We recommend getting a [3D Printing Accessories Kit](https://www.amazon.com/gp/product/B07VBNDF95/) if you haven't purchased one already.\n",
    "    + Its extremely helpful in removing supports and cleaning up the print.\n",
    "+ You can watch the Timelapse Video Below:"
   ]
  },
  {
   "cell_type": "code",
   "execution_count": 1,
   "id": "33aaea8d",
   "metadata": {},
   "outputs": [
    {
     "data": {
      "text/html": [
       "<video width=\"800\" height=\"600\" controls>\n",
       "  <source src=\"img/video_2024-07-26_07-01-26.mp4\" type=\"video/mp4\">\n",
       "</video>\n"
      ],
      "text/plain": [
       "<IPython.core.display.HTML object>"
      ]
     },
     "metadata": {},
     "output_type": "display_data"
    }
   ],
   "source": [
    "%%HTML\n",
    "<video width=\"800\" height=\"600\" controls>\n",
    "  <source src=\"img/video_2024-07-26_07-01-26.mp4\" type=\"video/mp4\">\n",
    "</video>"
   ]
  },
  {
   "cell_type": "markdown",
   "id": "6a562cbb",
   "metadata": {},
   "source": [
    "### Ordering the Parts\n",
    "+ You can order the LG16-1000D Flow Sensor from either [Digikey](https://www.digikey.com/en/products/detail/sensirion-ag/LG16-1000D/11568855) or [Mouser](https://www.mouser.com/ProductDetail/Sensirion/LG16-1000D-1000-ul-min?qs=xZ%2FP%252Ba9zWqakiDmqzvSsnA%3D%3D).\n",
    "    + We Payed 500$ Before Tax in May 2024 through University of California Negotiated Pricing on Digikey.\n",
    "+ [Mini Self Threading Screws](https://www.amazon.com/dp/B0894C5Y5Z).\n",
    "    + We used the M2 5mm Screws and M1.64 3.74mm Screws\n",
    "+ [M3 Self Tapping Screw set](https://www.amazon.com/dp/B0BMQ9Y8BH/).\n",
    "    + We used the M3 8mm Screws\n",
    "+ [An Electronics Screwdriver set](https://www.amazon.com/dp/B09FFCGLHK).\n",
    "+ [Arduino Nano](https://www.amazon.com/dp/B0097AU5OU)\n",
    "+ [Molex PicoBlade 1.25 to Dupont 2.54mm Jumper Adapter Cables](https://www.amazon.com/dp/B07PWZTC88)\n",
    "+ [USB A to Mini USB B Cable](https://www.amazon.com/dp/B00NH11N5A/)\n",
    "\n",
    "### Wiring and Uploading Sketch\n",
    "+ As mentioned in [the Datasheet](https://sensirion.com/media/documents/690EAAD4/61658721/Sensirion_Liquid_Flow_Meters_LG16_xxxxD_Datasheet.pdf), the LG16-1000D Flow Sensor uses the I<sup>2</sup>C Communication Protocol to Send Data.\n",
    "+ We can use an Arduino Nano Microcontroller to read this data and then send it to our Computer via USB.\n",
    "+ According to the Datasheet there are 4 Active Pins on the Sensor and 1 which is not in use. The active pins are:\n",
    "    + SDA: This pin is used for Sending and Receiving Data.\n",
    "    + SCL: Clock pin, used for sending the clock signal for Synchronizing the Arduino and Sensor.\n",
    "    + VDD: +5V DC Input Pin.\n",
    "    + GND: Ground Pin.\n",
    "\n",
    "| Labeled Image of Sensor with Pins Labeled| Pinout Diagram in Datasheet |\n",
    "|-|-|\n",
    "|<img src=\"img/IMG_3595.jpg\">|<img src=\"img/Screenshot%202024-07-25%20at%205.22.52%E2%80%AFPM.png\">|\n",
    "\n",
    "+ According to the Arduino I<sup>2</sup>C [Documentation](https://www.arduino.cc/reference/en/language/functions/communication/wire/):\n",
    "    + A4 Pin is Default for SDA on the Nano.\n",
    "    + A5 Pin is Default for SCL on the Nano.\n",
    "+ Using a 4 Pin Molex to Female Dupon Jumper Cable:\n",
    "    + Connect the SDA (Red)Jumper to the A4 Pin on the Arduino.\n",
    "    + Connect the SCL (White)Jumper to the A5 Pin on the Arduino.\n",
    "    + Connect the VDD (Blue)Jumper to the 5V Pin on the Arduino.\n",
    "    + Connect the GND (Black)Jumper to the GND Pin on the Arduino.\n",
    "\n",
    "| Connect the Arduino to the Sensor| A4 is for SDA and A5 is for SCL |\n",
    "|-|-|\n",
    "|<img src=\"img/IMG_3601.jpg\">|<img src=\"img/IMG_3602.jpg\">|   \n",
    "\n",
    "+ Connect your Arduino Nano to your Computer using a USB Mini B to USB A Cable. <br><img src=\"img/IMG_3603.jpg\" height=\"50%\" width=\"50%\">\n",
    "+ We have [forked the Sensirion Arduino Library](https://github.com/kanishkasthana/arduino-liquid-flow-snippets) and made some modifications to easily get the data from the Sensor.\n",
    "+ Open the [Example 03 Sketch](arduino-liquid-flow-snippets/example_03_read_scalefactor_and_unit) in the [Arduino IDE](https://www.arduino.cc/en/software) and upload it to your Arduino Nano.\n",
    "+ Execute the Cell Below to Watch a Video of the Process."
   ]
  },
  {
   "cell_type": "code",
   "execution_count": 2,
   "id": "673019a9",
   "metadata": {},
   "outputs": [
    {
     "data": {
      "text/html": [
       "<iframe width=\"800\" height=\"600\" src=\"https://www.youtube.com/embed/uNjWOinYsms?si=XAR_2zqnOr8F-Ozr\" title=\"YouTube video player\" frameborder=\"0\" allow=\"accelerometer; autoplay; clipboard-write; encrypted-media; gyroscope; picture-in-picture; web-share\" referrerpolicy=\"strict-origin-when-cross-origin\" allowfullscreen></iframe>\n"
      ],
      "text/plain": [
       "<IPython.core.display.HTML object>"
      ]
     },
     "metadata": {},
     "output_type": "display_data"
    }
   ],
   "source": [
    "%%HTML\n",
    "<iframe width=\"800\" height=\"600\" src=\"https://www.youtube.com/embed/uNjWOinYsms?si=XAR_2zqnOr8F-Ozr\" title=\"YouTube video player\" frameborder=\"0\" allow=\"accelerometer; autoplay; clipboard-write; encrypted-media; gyroscope; picture-in-picture; web-share\" referrerpolicy=\"strict-origin-when-cross-origin\" allowfullscreen></iframe>"
   ]
  },
  {
   "cell_type": "markdown",
   "id": "d676c6f0",
   "metadata": {},
   "source": [
    "### Assembling the Housing\n",
    "+ Using the 2mm Phillips Head (PH00):\n",
    "    + Screw Two M2 5mm Self Threading Screws into the Sensor mounting holes to secure it to the Bottom Housing. <br><img src=\"img/IMG_3606.jpg\" height=\"75%\" width=\"75%\">\n",
    "    + Screw Four M1.64 3.74mm Screws into the Arduino Nano mounting holes to secure it to the Bottom Housing. <br><img src=\"img/IMG_3609.jpg\" height=\"75%\" width=\"75%\">\n",
    "+ Place the loose wires inside the Bottom Housing and Place the Top Housing on the Bottom Housing.\n",
    "    + Make sure the wires don't obstruct the Top housing from Sitting flat against the Bottom Housing.<br><img src=\"img/IMG_3610.jpg\" height=\"75%\" width=\"75%\"> \n",
    "+ Using the 3mm Phillips Head (PH0):\n",
    "    + Screw Four M3 8mm Self Threading Screws into the Top Housing to secure it to the Bottom Housing.<br><img src=\"img/IMG_3611.jpg\" height=\"75%\" width=\"75%\"> \n",
    "+ Execute the Cell Below to Watch a Video of what the final product looks like:"
   ]
  },
  {
   "cell_type": "code",
   "execution_count": 3,
   "id": "e08a875f",
   "metadata": {},
   "outputs": [
    {
     "data": {
      "text/html": [
       "<iframe width=\"800\" height=\"600\" src=\"https://www.youtube.com/embed/HiPDJiEU-a0?si=lQvxD__1ARV8tmb3\" title=\"YouTube video player\" frameborder=\"0\" allow=\"accelerometer; autoplay; clipboard-write; encrypted-media; gyroscope; picture-in-picture; web-share\" referrerpolicy=\"strict-origin-when-cross-origin\" allowfullscreen></iframe>\n"
      ],
      "text/plain": [
       "<IPython.core.display.HTML object>"
      ]
     },
     "metadata": {},
     "output_type": "display_data"
    }
   ],
   "source": [
    "%%HTML\n",
    "<iframe width=\"800\" height=\"600\" src=\"https://www.youtube.com/embed/HiPDJiEU-a0?si=lQvxD__1ARV8tmb3\" title=\"YouTube video player\" frameborder=\"0\" allow=\"accelerometer; autoplay; clipboard-write; encrypted-media; gyroscope; picture-in-picture; web-share\" referrerpolicy=\"strict-origin-when-cross-origin\" allowfullscreen></iframe>"
   ]
  },
  {
   "cell_type": "markdown",
   "id": "82ff7201",
   "metadata": {},
   "source": [
    "+ Execute the Cell Below to Watch a Video of what the final product looks like without the Protective nuts blocking the ports."
   ]
  },
  {
   "cell_type": "code",
   "execution_count": 4,
   "id": "85d36729",
   "metadata": {},
   "outputs": [
    {
     "data": {
      "text/html": [
       "<iframe width=\"800\" height=\"600\" src=\"https://www.youtube.com/embed/Zoi-bUeLWCg?si=Zvi9YNC_1nitU7VC\" title=\"YouTube video player\" frameborder=\"0\" allow=\"accelerometer; autoplay; clipboard-write; encrypted-media; gyroscope; picture-in-picture; web-share\" referrerpolicy=\"strict-origin-when-cross-origin\" allowfullscreen></iframe>\n"
      ],
      "text/plain": [
       "<IPython.core.display.HTML object>"
      ]
     },
     "metadata": {},
     "output_type": "display_data"
    }
   ],
   "source": [
    "%%HTML\n",
    "<iframe width=\"800\" height=\"600\" src=\"https://www.youtube.com/embed/Zoi-bUeLWCg?si=Zvi9YNC_1nitU7VC\" title=\"YouTube video player\" frameborder=\"0\" allow=\"accelerometer; autoplay; clipboard-write; encrypted-media; gyroscope; picture-in-picture; web-share\" referrerpolicy=\"strict-origin-when-cross-origin\" allowfullscreen></iframe>"
   ]
  },
  {
   "cell_type": "markdown",
   "id": "5034ce6f",
   "metadata": {},
   "source": [
    "### Getting the Sensor Data using Python in Jupyter Notebooks\n",
    "+ Put the Protective Caps Back on and Connect your Flow Sensor Via USB to your Computer.\n",
    "+ You can Identify the COM Port by Connecting and then Disconnecting the Controller and then checking which new COM Port Shows up in Arduino IDE.\n",
    "    + In our case we can see the Port is COM7<br><img src=\"img/Screenshot%202024-07-26%20143446.png\">\n",
    "+ Close the Arduino IDE. Closing the IDE Severs the Connection to the Sensor. Only one program can connect to the Sensor at a Time.\n",
    "+ We will now Connect to the Sensor using PySerial."
   ]
  },
  {
   "cell_type": "code",
   "execution_count": 5,
   "id": "a071d260",
   "metadata": {},
   "outputs": [
    {
     "name": "stdout",
     "output_type": "stream",
     "text": [
      "COM7\n",
      "{'baudrate': 9600, 'bytesize': 8, 'parity': 'N', 'stopbits': 1, 'xonxoff': False, 'dsrdtr': False, 'rtscts': False, 'timeout': 1, 'write_timeout': 1, 'inter_byte_timeout': None}\n",
      "True\n"
     ]
    }
   ],
   "source": [
    "import serial\n",
    "import time\n",
    "arduinoSensirionFlowMeterCOM=\"COM7\"\n",
    "\n",
    "arduino_Bead_Flow_meter = serial.Serial(arduinoSensirionFlowMeterCOM, timeout=1, write_timeout=1) \n",
    "time.sleep(5.0)\n",
    "print(arduino_Bead_Flow_meter.name)\n",
    "print(arduino_Bead_Flow_meter.get_settings())\n",
    "print(arduino_Bead_Flow_meter.is_open)"
   ]
  },
  {
   "cell_type": "markdown",
   "id": "f514656e",
   "metadata": {},
   "source": [
    "+ Lets define a function that gets the latest flow rate data in &mu;l/min from the flow sensor.\n",
    "+ Since we have no liquid in the flow sensor this will not be a correct measurement.\n",
    "+ We will refine this further when we assemble this flow sensor as parts of the whole device."
   ]
  },
  {
   "cell_type": "code",
   "execution_count": 6,
   "id": "f9256c11",
   "metadata": {},
   "outputs": [],
   "source": [
    "def get_bead_channel_flowrate():\n",
    "    #Empty the buffer if its more than 11 bytes so new values can be brought in during sampling.\n",
    "    #The arduino has been programmed to send a maximum of 10 bytes of data in a line. \n",
    "    if arduino_Bead_Flow_meter.inWaiting()>11:\n",
    "        buffer=arduino_Bead_Flow_meter.read(arduino_Bead_Flow_meter.inWaiting())\n",
    "    while True:\n",
    "        try:\n",
    "            beadChannelFlow=float((arduino_Bead_Flow_meter.readline()).decode(\"utf-8\"))\n",
    "            break\n",
    "        except ValueError:\n",
    "            pass\n",
    "    return beadChannelFlow"
   ]
  },
  {
   "cell_type": "code",
   "execution_count": 7,
   "id": "7918e42f",
   "metadata": {},
   "outputs": [
    {
     "data": {
      "text/plain": [
       "1.97"
      ]
     },
     "execution_count": 7,
     "metadata": {},
     "output_type": "execute_result"
    }
   ],
   "source": [
    "get_bead_channel_flowrate()"
   ]
  },
  {
   "cell_type": "markdown",
   "id": "7227e22f",
   "metadata": {},
   "source": [
    "+ Now that we know we can read values from the flow sensor, lets close the connection to the Sensor after which we are done."
   ]
  },
  {
   "cell_type": "code",
   "execution_count": 8,
   "id": "d3a44fe7",
   "metadata": {},
   "outputs": [],
   "source": [
    "arduino_Bead_Flow_meter.close()"
   ]
  }
 ],
 "metadata": {
  "kernelspec": {
   "display_name": "Python 3 (ipykernel)",
   "language": "python",
   "name": "python3"
  },
  "language_info": {
   "codemirror_mode": {
    "name": "ipython",
    "version": 3
   },
   "file_extension": ".py",
   "mimetype": "text/x-python",
   "name": "python",
   "nbconvert_exporter": "python",
   "pygments_lexer": "ipython3",
   "version": "3.7.16"
  }
 },
 "nbformat": 4,
 "nbformat_minor": 5
}
