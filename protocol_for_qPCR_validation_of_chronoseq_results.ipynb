{
 "cells": [
  {
   "cell_type": "markdown",
   "id": "7d173846",
   "metadata": {},
   "source": [
    "## Protocol for qPCR Validation of ChronoSeq results\n",
    "\n",
    "### Reagents to purchase\n",
    "+ [SingleShot Cell Lysis Kit, 100 x 50 µl rxns #1725080](https://www.bio-rad.com/en-us/sku/1725080-singleshot-cell-lysis-kit-100-x-50-ul-rxns?ID=1725080)\n",
    "+ [iTaq™ Universal SYBR® Green One-Step Kit, 100 x 20 µl rxns, 1 ml #1725150](https://www.bio-rad.com/en-us/sku/1725150-itaq-universal-sybr-green-one-step-kit-100-x-20-ul-rxns-1-ml?ID=1725150)\n",
    "+ [PrimePCR™ SYBR® Green Assay: ICAM1, Human](https://commerce.bio-rad.com/en-us/prime-pcr-assays/assay/qhsaced0004281-primepcr-sybr-green-assay-icam1-human)\n",
    "+ [PrimePCR™ SYBR® Green Assay: TNFRSF9, Human](https://commerce.bio-rad.com/en-us/prime-pcr-assays/assay/qhsacid0020895-primepcr-sybr-green-assay-tnfrsf9-human)\n",
    "+ [PrimePCR™ SYBR® Green Assay: IL8, Human](https://commerce.bio-rad.com/en-us/prime-pcr-assays/assay/qhsaced0046633-primepcr-sybr-green-assay-il8-human)\n",
    "+ [PrimePCR™ SYBR® Green Assay: NFKBIA, Human](https://commerce.bio-rad.com/en-us/prime-pcr-assays/assay/qhsaced0042829-primepcr-sybr-green-assay-nfkbia-human)\n",
    "+ [PrimePCR™ SYBR® Green Assay: HPRT1, Human](https://commerce.bio-rad.com/en-us/prime-pcr-assays/assay/qhsacid0016375-primepcr-sybr-green-assay-hprt1-human)\n",
    "\n",
    "### Instruments used: \n",
    "+ Bio-Rad CFX Opus 96 \n",
    "\n",
    "### Cell Lysis\n",
    "+ Prepare [1000cells/&mu;l of K562 Cells suspended in DMEM](protocol_for_preparing_cells_AdditionalFiltration.ipynb) and load into the ChronoSeq device.\n",
    "+ We will take [Cell samples every 10minutes using the ChronoSeq device](protocol_and_software_for_running_chronoseq_device.ipynb#bulk_cell) for 2 hours.\n",
    "+ We will follow a protocol [similar to SingleShot Cell Lysis Kit](https://www.bio-rad.com/sites/default/files/webroot/web/pdf/lsr/literature/10000112808.pdf) but we will not change our media to DPBS.\n",
    "+ Prepare 12 PCR Tubes for Cell Lysis as follows and keep these Tubes on ice while your prepare. For each tube:\n",
    "    + Label the Tubes 1 through 12 for each timepoint.\n",
    "    + 48&mu;l Single Shot Cell Lysis Buffer\n",
    "    + 1&mu;l Proteinase K Solution\n",
    "    + 1&mu;l DNase Solution\n",
    "+ Start taking samples using the ChronoSeq device. Take 12 samples with a 10minute interval.\n",
    "    + Add 10ng/&mu;l TNF&alpha; to the Cell Suspension after the first sample. \n",
    "    + Record the time of addition with respect to the first sample. \n",
    "+ For each tube:\n",
    "    + Add 5&mu;l of Cell Suspension. Mix Well. This is equivalent to 5000 Cells.\n",
    "    + Without delay using a PCR Machine:\n",
    "        + Incubate for 10 min at 21&deg;C\n",
    "        + Followed by 5 min at 37°C,\n",
    "        + 5 min at 75°C.\n",
    "    + Its useful to have multiple PCR Machines so you can cycles your samples through and store them at -20&deg;C or 4&deg;C.\n",
    "    + The cell lysate can be stored on ice for up to 4 hr, at -20°C for up to 2 months, or at -80°C for up to 12 months.\n",
    "\n",
    "### Single Step RT-qPCR\n",
    "+ Adapted [from existing protocol here](https://www.bio-rad.com/webroot/web/pdf/lsr/literature/10032048.pdf).\n",
    "+ You can make aliquots of the Cell Lysate for the five genes we will be testing if you cannot complete the qPCR experiment in one day.\n",
    "+ The iTaq kit comes with ROX as a background reference dye so remember to set that in your qPCR machine.\n",
    "+ For each gene you will have to setup 12 qPCR reactions. For each 20&mu;l reaction PCR Tube:\n",
    "    + iTaq™ Universal SYBR® Green reaction mix 2X: 10&mu;l\n",
    "    + 1&mu;l PrimePCR Assay primers (20X).\n",
    "    + iScript reverse transcriptase 0.25&mu;l\n",
    "    + 8.75&mu;l Cell Lysate.\n",
    "+ Setup the qPCR reaction as follows: \n",
    "    + 10min at 50&deg;C for Reverse Transcription.\n",
    "    + 1min at 95&deg;C for DNA denaturation and Polymerse activation.\n",
    "    + 40 Cycles of:\n",
    "        + 95&deg;C 10seconds Denaturation\n",
    "        + 60&deg;C 20seconds Annealing and Plate Read"
   ]
  }
 ],
 "metadata": {
  "kernelspec": {
   "display_name": "Python 3 (ipykernel)",
   "language": "python",
   "name": "python3"
  },
  "language_info": {
   "codemirror_mode": {
    "name": "ipython",
    "version": 3
   },
   "file_extension": ".py",
   "mimetype": "text/x-python",
   "name": "python",
   "nbconvert_exporter": "python",
   "pygments_lexer": "ipython3",
   "version": "3.7.16"
  }
 },
 "nbformat": 4,
 "nbformat_minor": 5
}
