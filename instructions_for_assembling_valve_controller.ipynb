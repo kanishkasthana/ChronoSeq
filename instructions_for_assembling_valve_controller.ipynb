{
 "cells": [
  {
   "cell_type": "markdown",
   "id": "56bfa1d6",
   "metadata": {},
   "source": [
    "# Please see [Version 2](instructions_for_assembling_valve_controllerV2.ipynb) which includes a Flyback Diode in the Circuit. Do not assemble this version of the Valve Controller\n",
    "## Instructions for Assembling Valve Controller\n",
    "\n",
    "### Brief Description of Purpose and Working Principles:\n",
    "+ We need to a way to control the flow of liquid through the ChronoSeq Device by shutting down or redirecting flow.\n",
    "+ To help control the flow with our computer we need to build a Valve Controller that can switch specific valves ON or OFF when it receives a command from the computer.\n",
    "+ The SMC Valves we have selected for our device can be 2:2 Valves or 3:2 Valves. \n",
    "    + 2:2 Valves Turn Flow ON or OFF. Most of these will be used to control flow from Individual Reservoirs.\n",
    "    + 3:2 Valves Redirect Flow from the Input Port to the Main or Bypass Port. We use these as Bypass Valves for Controlling flow into the Microfluidic Chip for each Channel: Cells, Beads and Oil. \n",
    "+ The 2:2 SMC Valves we have purchased are Normally Closed (NC). Meaning liquid will only flow through them when they are powered ON.\n",
    "+ The 3:2 Valves allow flow from:\n",
    "    + The Input Port to the Bypass port when powered OFF. The Bypass port is therefore called the Normally Open (NO) Port.\n",
    "    + You can identify the NO Port by Looking for the NO Symbol on the Valve near the Port.\n",
    "    + The Valve allows flow from the Input port to the Main port only when powered ON. This port is therefore called the Normally Closed (NC) Port.\n",
    "    + You can identify the NC Port by Looking for the NC Symbol on the Valve near the Port.\n",
    "    + The 3:2 Valves can be converted into 2:2 NC or 2:2 NO Valves by blocking either the NC or NO Port using a [Delrin Plug](https://www.idex-hs.com/store/product-detail/plug_delrin_1_4_28_flat_bottom/p-309).\n",
    "\n",
    "| 3:2 Valve Input Port | 3:2 NC and NO Port Locations | 2:2 Valve Suggested Input and Output Ports|\n",
    "|-|-|-|\n",
    "|<img src=\"img/IMG_3503.jpg\">|<img src=\"img/IMG_3498.jpg\">|<img src=\"img/IMG_3502.jpg\">|\n",
    "\n",
    "\n",
    "| Location of 3:2 Bypass Valves in Schematic | Location of 2:2 Valves in Schematic |\n",
    "|-|-|\n",
    "|<img src=\"img/Main Figure 3-2 Valves.jpg\">|<img src=\"img/Main Figure 2-2 Valves.jpg\">|\n",
    "\n",
    "### Ordering Information for SMC Valves\n",
    "+ SMC Valves are Highly Configurable and the exact product number represents this configuration.\n",
    "    + For Example [this website](https://www.smcusa.com/products/lvm10-100-2-3-port-solenoid-valve-for-chemicals~136614) allows you to generate a product number before ordering.\n",
    "    + Make sure the Chemicals being used for your application are compatible with the Wetted materials in your Valve Configuration.\n",
    "+ We will be ordering the [LVM10 Series of Valves](https://content2.smcetech.com/pdf/LVM_new.pdf). \n",
    "+ The Following product numbers and Quantities were ordered for the two types for Valves:\n",
    "    + 2:2 Valves: LVM10R6-5A2U . Quantity : 30 Units \n",
    "        + 22 Units are needed in the Version of the ChronoSeq Device with 16 Timepoint Reservoirs.\n",
    "        + The remaining 8 were kept as backup replacements.\n",
    "        + You can order only 22 Valves if you want to save some money.\n",
    "        + Only 18 Valves are necessary if your device has 12 Timepoint Reservoirs.\n",
    "    + 3:2 Valves: LVM105R-5A2U . Quantity :  5 Units\n",
    "        + 3 Units are needed in the Current Version of the ChronoSeq Device.\n",
    "        + The remaining 2 were kept as backup replacements.\n",
    "        + You can order only 3 Valves if you want to save some money.\n",
    "+ SMC has many global suppliers and your local supplier might vary.\n",
    "    + Different suppliers offer different prices.\n",
    "    + Its best to find the most competitive local supplier for your area.\n",
    "    + You can use [this website](https://www.smcusa.com/contact/distributor-locator) to help you locate a supplier.\n",
    "+ We ordered our valves from [Bay Advanced Technologies](https://www.bayat.com/) located in Orange County, CA.\n",
    "    + Its best to call them to place an order. Their number is +1 714-241-1031 . \n",
    "    + You should also email [Monica(mgparra@bayat.com)](mailto:mgparra@bayat.com) or [Derek(dloe@bayat.com)](mailto:dloe@bayat.com) if they still work there.\n",
    "    + You can also call (+1 213-476-3863) or email [Colby(cchristy@bayat.com)](mailto:cchristy@bayat.com), a local account Manager in San Diego.\n",
    "    + We payed by providing our Credit Card Number over the phone.\n",
    "    + Both the 3:2 and 2:2 Valves Cost 81.60USD Each in April 2024.\n",
    "\n",
    "### Overview of Valve Controller Design\n",
    "+ Both Valves require 24V DC Current to Turn ON and Consume about 1.5W of Power or 60mA of Current.\n",
    "+ We will be using a [8-Channel Relay Board](https://www.amazon.com/dp/B00DR9SE4A/) Connected to an [Arduino UNO R3 Clone](https://www.amazon.com/dp/B01EWOE0UU/) to Control the Flow of Current to the Valves.\n",
    "+ Here is a [great Youtube video](https://www.youtube.com/watch?v=LLFQ8sBWc80) that explains how this works.\n",
    "+ The 8-Channel Relay requires an Optically Isolated 5V DC Power Supply.\n",
    "+ The Arduino UNO R3 Clone can be operated using the Power from the USB Port Alone.\n",
    "+ We could have used a separate 5V Power supply to power the 8-Channel Relay. But we will be using a [DC-DC Buck Converter](https://www.amazon.com/dp/B081N6WWJS) to Step Down the 24V DC to 5V DC for the 8-Channel Relay instead. This way we can use a Single Power Source for all the Components.\n",
    "+ You can watch [this Youtube Video](https://www.youtube.com/watch?v=DXM_xiR0o1c) to learn how it works.\n",
    "\n",
    "### 3D Printing Valve Controller Housing\n",
    "+ We used a [Bambu Lab X1 Carbon](https://us.store.bambulab.com/products/x1-carbon?variant=42698346070152) to print the Housing.\n",
    "    + 0.4mm Nozzle\n",
    "    + Textured PEI Plate \n",
    "+ We generated a [3MF File](CAD_Files/Valve%20Controller/Valve%20Relay%20Controller%20Housing.3mf) with all the Settings we used for the Print. You can open this file on the [Orca Slicer](https://github.com/SoftFever/OrcaSlicer/releases).\n",
    "+ The Original STEP Files and F3D Files can be found in [this directory](CAD_Files/Valve%20Controller).\n",
    "+ We recommend getting a [3D Printing Accessories Kit](https://www.amazon.com/gp/product/B07VBNDF95/) if you haven't purchased one already.\n",
    "    + Its extremely helpful in removing supports and cleaning up the print.\n",
    "+ You can watch the Timelapse Videos Below:"
   ]
  },
  {
   "cell_type": "code",
   "execution_count": 1,
   "id": "9f6439be",
   "metadata": {},
   "outputs": [
    {
     "data": {
      "text/html": [
       "<video width=\"800\" height=\"600\" controls>\n",
       "  <source src=\"CAD_Files/Valve Controller/video_2024-07-12_09-20-55.mp4\" type=\"video/mp4\">\n",
       "</video>\n"
      ],
      "text/plain": [
       "<IPython.core.display.HTML object>"
      ]
     },
     "metadata": {},
     "output_type": "display_data"
    }
   ],
   "source": [
    "%%HTML\n",
    "<video width=\"800\" height=\"600\" controls>\n",
    "  <source src=\"CAD_Files/Valve Controller/video_2024-07-12_09-20-55.mp4\" type=\"video/mp4\">\n",
    "</video>"
   ]
  },
  {
   "cell_type": "code",
   "execution_count": 2,
   "id": "cff69737",
   "metadata": {},
   "outputs": [
    {
     "data": {
      "text/html": [
       "<video width=\"800\" height=\"600\" controls>\n",
       "  <source src=\"CAD_Files/Valve Controller/video_2024-07-12_13-10-23.mp4\" type=\"video/mp4\">\n",
       "</video>\n"
      ],
      "text/plain": [
       "<IPython.core.display.HTML object>"
      ]
     },
     "metadata": {},
     "output_type": "display_data"
    }
   ],
   "source": [
    "%%HTML\n",
    "<video width=\"800\" height=\"600\" controls>\n",
    "  <source src=\"CAD_Files/Valve Controller/video_2024-07-12_13-10-23.mp4\" type=\"video/mp4\">\n",
    "</video>"
   ]
  },
  {
   "cell_type": "markdown",
   "id": "097dbb52",
   "metadata": {},
   "source": [
    "### Soldering the Valves to a Male USB A 2.0 Connector\n",
    "\n",
    "+ You will need a [Soldering Kit](https://www.amazon.com/gp/product/B06XZ31W3M/) and [Lead Free Solder](https://www.amazon.com/dp/B07QZYC5PG) to get Started.\n",
    "+ Solder Fumes can cause Asthma and Lung Irritation. Its important to setup your Soldering Station Inside a Fume Hood.\n",
    "    + Make sure you wear your Lab Coat, Gloves, and Safety Glasses.\n",
    "    + Setup your Soldering Iron inside the Fume Hood.<br><img src=\"img/IMG_3482.jpg\" height=\"50%\" width=\"50%\">\n",
    "    + Keep the Sash Closed with two small opening on the Sides so your Hands can reach inside the Fume hood, while keeping your body protected.\n",
    "+ On the SMC Valves the Red Wire is for Positive Voltage(+VE) and the Black wire is for Ground(-VE). <br><img src=\"img/IMG_3499.jpg\" height=\"50%\" width=\"50%\">\n",
    "+ We will be using [1m long USB 2.0 A Cables](https://www.amazon.com/dp/B09FF883CX) for Connecting the Valve Controller to the Valves.\n",
    "    + We will Solder these USB Cables to the Valves.\n",
    "    + These USB Cables Only have two wires one red for +VE and one black for -VE.<br><img src=\"img/IMG_3501.jpg\" height=\"50%\" width=\"50%\">\n",
    "+ Using the Wire Strippers included in the Soldering Kit remove additional parts of the Wire sheaths for both the SMC Valves and USB Cables.\n",
    "    + Execute the Cell Below to Watch a Video of the Process."
   ]
  },
  {
   "cell_type": "code",
   "execution_count": 3,
   "id": "fbc6dd75",
   "metadata": {},
   "outputs": [
    {
     "data": {
      "text/html": [
       "<iframe width=\"800\" height=\"600\" src=\"https://www.youtube.com/embed/p1VI65QQhWY?si=CWPvj3usDdU_QkLi\" title=\"YouTube video player\" frameborder=\"0\" allow=\"accelerometer; autoplay; clipboard-write; encrypted-media; gyroscope; picture-in-picture; web-share\" referrerpolicy=\"strict-origin-when-cross-origin\" allowfullscreen></iframe>\n"
      ],
      "text/plain": [
       "<IPython.core.display.HTML object>"
      ]
     },
     "metadata": {},
     "output_type": "display_data"
    }
   ],
   "source": [
    "%%HTML\n",
    "<iframe width=\"800\" height=\"600\" src=\"https://www.youtube.com/embed/p1VI65QQhWY?si=CWPvj3usDdU_QkLi\" title=\"YouTube video player\" frameborder=\"0\" allow=\"accelerometer; autoplay; clipboard-write; encrypted-media; gyroscope; picture-in-picture; web-share\" referrerpolicy=\"strict-origin-when-cross-origin\" allowfullscreen></iframe>"
   ]
  },
  {
   "cell_type": "markdown",
   "id": "83ca463c",
   "metadata": {},
   "source": [
    "+ Next Twist the exposed wires for the +VE(Red) and -VE (Black) wires for both the SMC Valve and USB Cable together.\n",
    "    + Execute the Cell Below to Watch a Video of the Process."
   ]
  },
  {
   "cell_type": "code",
   "execution_count": 4,
   "id": "fa07e265",
   "metadata": {},
   "outputs": [
    {
     "data": {
      "text/html": [
       "<iframe width=\"800\" height=\"600\" src=\"https://www.youtube.com/embed/X3Tl9_7uTFo?si=i8DHLYbLa7ghG9fs\" title=\"YouTube video player\" frameborder=\"0\" allow=\"accelerometer; autoplay; clipboard-write; encrypted-media; gyroscope; picture-in-picture; web-share\" referrerpolicy=\"strict-origin-when-cross-origin\" allowfullscreen></iframe>\n"
      ],
      "text/plain": [
       "<IPython.core.display.HTML object>"
      ]
     },
     "metadata": {},
     "output_type": "display_data"
    }
   ],
   "source": [
    "%%HTML\n",
    "<iframe width=\"800\" height=\"600\" src=\"https://www.youtube.com/embed/X3Tl9_7uTFo?si=i8DHLYbLa7ghG9fs\" title=\"YouTube video player\" frameborder=\"0\" allow=\"accelerometer; autoplay; clipboard-write; encrypted-media; gyroscope; picture-in-picture; web-share\" referrerpolicy=\"strict-origin-when-cross-origin\" allowfullscreen></iframe>"
   ]
  },
  {
   "cell_type": "markdown",
   "id": "b480e865",
   "metadata": {},
   "source": [
    "+ Inside the Fume Hood [solder the Twisted wires together](https://www.youtube.com/watch?v=oqV2xU1fee8).\n",
    "    + Then cover the exposed wires with [Electrical tape](https://www.amazon.com/dp/B001B19FDK/).\n",
    "    + I used Blue Electrical tape for the -VE wires.\n",
    "    + I used Red Elecrrical tape for the +VE wires.\n",
    "    + I then covered both with White Electrical tape.\n",
    "\n",
    "| Solder the Twisted +VE and -VE wires together. | Cover the +VE and -VE Wires with Red and Blue Tape Respectively | Cover Both Wires with White Electrical Tape|\n",
    "|-|-|-|\n",
    "|<img src=\"img/IMG_3510.jpg\">|<img src=\"img/IMG_3512.jpg\">|<img src=\"img/IMG_3513.jpg\">|\n",
    "\n",
    "+ Connect the Valve to the [USB 2.0 Breakout Board](https://www.amazon.com/dp/B0B8CMW26K/).\n",
    "    + The +VE Terminal is the VBUS Pin Mount Hole\n",
    "    + The -VE Terminal is the GND Pin Mount Hole. <br><img src=\"img/IMG_3519.jpg\" height=\"50%\" width=\"50%\">\n",
    "+ We can use a [Multimeter](https://www.amazon.com/dp/B01ISAMUA6/) to make sure the +VE and -VE Wires are not shorted.\n",
    "    + Set the Multimeter to the correct setting where it beeps whenever its two leads are shorted.\n",
    "    + You can see connect the probes to VBUS and GND. If you hear beeping then there is a short.\n",
    "    + Execute the Cell Below to learn how to check for shorts using a Multimeter."
   ]
  },
  {
   "cell_type": "code",
   "execution_count": 3,
   "id": "8b932322",
   "metadata": {},
   "outputs": [
    {
     "data": {
      "text/html": [
       "<iframe width=\"800\" height=\"600\" src=\"https://www.youtube.com/embed/wZQJJu3BVaQ?si=W5087UyYZDekMvWc\" title=\"YouTube video player\" frameborder=\"0\" allow=\"accelerometer; autoplay; clipboard-write; encrypted-media; gyroscope; picture-in-picture; web-share\" referrerpolicy=\"strict-origin-when-cross-origin\" allowfullscreen></iframe>\n"
      ],
      "text/plain": [
       "<IPython.core.display.HTML object>"
      ]
     },
     "metadata": {},
     "output_type": "display_data"
    }
   ],
   "source": [
    "%%HTML\n",
    "<iframe width=\"800\" height=\"600\" src=\"https://www.youtube.com/embed/wZQJJu3BVaQ?si=W5087UyYZDekMvWc\" title=\"YouTube video player\" frameborder=\"0\" allow=\"accelerometer; autoplay; clipboard-write; encrypted-media; gyroscope; picture-in-picture; web-share\" referrerpolicy=\"strict-origin-when-cross-origin\" allowfullscreen></iframe>"
   ]
  },
  {
   "cell_type": "markdown",
   "id": "9e4a8b07",
   "metadata": {},
   "source": [
    "+ To check if the Valve is operating correctly you can use an [Adjustable DC Power Supply](https://www.amazon.com/dp/B087TK6ZM2/).\n",
    "    + Set the Power Supply to 24V DC.\n",
    "    + Screw the Caps off the +VE and -VE terminals on the Power Supply.\n",
    "    + Now connect the leads on the Multimeter to the +VE(Red) and -VE(Black) terminals.\n",
    "    + Connect the Black Probe to the GND and Red Probe to the VBUS Pin Mounting Holes on the USB 2.0 Breakout Board.\n",
    "    + Press the Output button.\n",
    "    + If your valve is working correctly, you will hear the Valve Turn on with a Click sound. \n",
    "    + You can also feel the Mechanical Switching of the Solenoid if you hold the Valve in your hands.\n",
    "    + About 60mA of Current flow should be shown by the Power supply.\n",
    "    + Execute the Cell Below to Watch a Video of the Process."
   ]
  },
  {
   "cell_type": "code",
   "execution_count": 4,
   "id": "5cdfc8e0",
   "metadata": {},
   "outputs": [
    {
     "data": {
      "text/html": [
       "<iframe width=\"800\" height=\"600\" src=\"https://www.youtube.com/embed/eU7W66oj7ew?si=qCxQSxp7oD1-nW6u\" title=\"YouTube video player\" frameborder=\"0\" allow=\"accelerometer; autoplay; clipboard-write; encrypted-media; gyroscope; picture-in-picture; web-share\" referrerpolicy=\"strict-origin-when-cross-origin\" allowfullscreen></iframe>\n"
      ],
      "text/plain": [
       "<IPython.core.display.HTML object>"
      ]
     },
     "metadata": {},
     "output_type": "display_data"
    }
   ],
   "source": [
    "%%HTML\n",
    "<iframe width=\"800\" height=\"600\" src=\"https://www.youtube.com/embed/eU7W66oj7ew?si=qCxQSxp7oD1-nW6u\" title=\"YouTube video player\" frameborder=\"0\" allow=\"accelerometer; autoplay; clipboard-write; encrypted-media; gyroscope; picture-in-picture; web-share\" referrerpolicy=\"strict-origin-when-cross-origin\" allowfullscreen></iframe>"
   ]
  },
  {
   "cell_type": "markdown",
   "id": "3a860516",
   "metadata": {},
   "source": [
    "+ Repeat the above steps for all the Valves you plan to use with the ChronoSeq Device.\n",
    "\n",
    "### Soldering Header Pins to the USB Breakout Board\n",
    "\n",
    "+ Break off 4 header pins from the [Header Pin Strip](https://www.amazon.com/dp/B07R5QDL8D).\n",
    "+ Inside the Fume Hood Solder these pins to the USB Breakout Boards.\n",
    "\n",
    "| Soldered Header Pins Top View. | Soldered Header Pins Bottom View | \n",
    "|-|-|\n",
    "|<img src=\"img/IMG_3525.jpg\">|<img src=\"img/IMG_3526.jpg\">|\n",
    "\n",
    "+ You will need to solder 8 USB Breakout Boards for each Valve Controller.\n",
    "    + Check for shorts between the VBUS and GND Pins using the Multimeter.\n",
    "    + There should be no beeping if you did everything right. <br><img src=\"img/IMG_3527.jpg\" height=\"50%\" width=\"50%\">\n",
    "\n",
    "### Attaching the Breakout Boards to the Valve Controller Housing\n",
    "\n",
    "+ We will now attach these USB Breakout Boards to the Bottom Valve Controller Housing. For this you will need:\n",
    "    + [An Electronics Screwdriver set](https://www.amazon.com/dp/B09FFCGLHK).\n",
    "    + [M3 Self Tapping Screw set](https://www.amazon.com/dp/B0BMQ9Y8BH/).\n",
    "    \n",
    "| Screwdriver Set | Self Tapping Screw Set | \n",
    "|-|-|\n",
    "|<img src=\"img/IMG_3528.jpg\">|<img src=\"img/IMG_3529.jpg\">|\n",
    "\n",
    "+ Using M3 6mm Self Tapping Screws and the 3.0(PH0) Screwdriver Head:\n",
    "    + Screw the USB Breakout Boards in the positions shown in the Bottom Valve Controller Housing below. <br><img src=\"img/IMG_3532.jpg\" height=\"50%\" width=\"50%\">  \n",
    "+ Check to make sure you can easily place the Valve Controller Top Housing on the Bottom Housing without any obstruction. \n",
    "    + Do not screw the Housing together. We are just checking for obstruction.\n",
    "    + Adjust the Breakout Boards if necessary to Align with the holes in the Top Housing.<br><img src=\"img/IMG_3533.jpg\" height=\"50%\" width=\"50%\"> \n",
    "    \n",
    "### Assembling the Breadboard PCB with Header Pins\n",
    "\n",
    "+ The [Breadboard PCB](https://www.amazon.com/dp/B07ZYPCXZ3) has Horizontal and Vertical Pin Mouting Holes that are connected to each other through Vias.\n",
    "+ Each Horizontal Line and Vertical Line therefore will be at the same Voltage/Potential Difference because of this connection.\n",
    "\n",
    "| Breadboard PCB Front View | Breadboard PCB Back View | \n",
    "|-|-|\n",
    "|<img src=\"img/IMG_3534.jpg\">|<img src=\"img/IMG_3536.jpg\">|\n",
    "\n",
    "+ We will solder this Breadboard PCB to make it easier to connect the Valves to the 8 Channel Relay.\n",
    "+ First we will solder 9 pins to the upper +VE Horizontal strip from Positions 18-26. These 9 Pins will be at 24V (+VE). <br><img src=\"img/IMG_3537.jpg\" height=\"50%\" width=\"50%\">\n",
    "+ Next we sill solder 9 pins to the lower -VE Horizontal strip from Positions 18-26. These 9 Pins will be at Ground(0V). <br><img src=\"img/IMG_3538.jpg\" height=\"50%\" width=\"50%\">\n",
    "+ Now we need Headers to connect the 8-Channel relay to the VBUS(+VE) for the 8 USB 2.0 Breakout Boards. This way the Valves will only be energized when these headers are at 24V.\n",
    "    + We will add 8 Headers for E7-E14\n",
    "    + We will also add 8 Headers for A7-A14.\n",
    "    + All the A Headers will be connected to their corresponding E Header through the Vertical Vias on the PCB. (Eg. A7->E7)<br><img src=\"img/IMG_3539.jpg\" height=\"50%\" width=\"50%\">\n",
    "+ Check for Shorts on the Breadboard PCB using the Multimeter.\n",
    "+ Using M3 6mm Self Tapping Screws and the 3.0(PH0) Screwdriver Head:\n",
    "    + Screw the Breadboard PCB to the positions shown in the Bottom Valve Controller Housing below. <br><img src=\"img/IMG_3540.jpg\" height=\"50%\" width=\"50%\">\n",
    "    \n",
    "    \n",
    "### Assembling Input DC Barrel Connector\n",
    "\n",
    "+ We will need a [24V DC Power Supply](https://www.amazon.com/dp/B0BVHQ6NC7/) for our Valve Controller.\n",
    "    + The symbol indicated below on the power supply tells us what parts of the Adapter DC Barrel Plug is positive and which part is negative (Ground) <br><img src=\"img/IMG_3541.jpg\" height=\"50%\" width=\"50%\">\n",
    "+ The DC Power Supply is a Male Type connector, we need a [DC Female Connector](https://www.amazon.com/dp/B09W9SJ1B6) to power our Valve Controller.\n",
    "+ The DC Female Connector Breaks out into three pin on the back.\n",
    "    + These pins are of three sizes. Small, Medium and Large.\n",
    "    + The smallest pin is connected to the inner part of the DC Barrel connector. Therefore this pin will be +VE 24V.\n",
    "    + The Medium sized pin is connected to the outer part of the DC Barrel connector. Therefore this pin will be -VE (Ground). <br><img src=\"img/IMG_3543.jpg\" height=\"50%\" width=\"50%\">\n",
    "    \n",
    "| Large Pin for Female DC Barrel | Medium Pin for Female DC Barrel (-VE/Ground) | Small Pin for Female DC Barrel (+VE 24V DC)|\n",
    "|-|-|-|\n",
    "|<img src=\"img/IMG_3545.jpg\">|<img src=\"img/IMG_3546.jpg\">|<img src=\"img/IMG_3547.jpg\">|\n",
    "\n",
    "+ Strip and cut 11cm of Red and Black [Electrical wire](https://www.amazon.com/dp/B089CLN523/).\n",
    "    + Twist the ends of the Exposed wire\n",
    "    + Twist and Tie the Red Wire through the Smallest Pin of the Female DC Barrel.\n",
    "    + Twist and Tie the Black Wire though the Medium Size Pin of the Female DC Barrel. <br><img src=\"img/IMG_3550.jpg\" height=\"50%\" width=\"50%\">\n",
    "+ Inside the Fume Hood, Solder the Tied Wires to their respective pins in the Female DC Barrel. <br><img src=\"img/IMG_3552.jpg\" height=\"50%\" width=\"50%\">\n",
    "\n",
    "### Assembling the DC-DC Buck Converter\n",
    "\n",
    "+ Strip the Sheath off the other ends of the Red and Black Wires connected to the Female DC Barrel. \n",
    "    + Remember to then twist the exposed wires. <br><img src=\"img/IMG_3553.jpg\" height=\"50%\" width=\"50%\">\n",
    "+ Solder the Red Wire to the +VIN Mount Hole and the Black wire on the -VIN Mount Hole on the Buck Converter.\n",
    "    + Apply solder on the back side of the Buck Converter PCB. <br><img src=\"img/IMG_3558.jpg\" height=\"50%\" width=\"50%\">\n",
    "+ Using M3 6mm Self Tapping Screws and the 3.0(PH0) Screwdriver Head:\n",
    "   + Screw the Buck Converter in the positions shown in the Bottom Valve Controller Housing below.\n",
    "   + Apply one screw to the top left corner and another screw to the bottom left corner position on the Buck Converter PCB.<br><img src=\"img/IMG_3559.jpg\" height=\"50%\" width=\"50%\">\n",
    "+ Use the Multimeter to check for Shorts between the +VIN and -VIN Terminals of the Buck Converter.\n",
    "+ Using the included Nut and Spacer with the Female DC Barrels:\n",
    "    + Screw the Barrel into the back of the Bottom Valve Controller Housing, as shown below:\n",
    "    \n",
    "| Mounted Female DC Barrel Top View | Mounted Female DC Barrel Back View | \n",
    "|-|-|\n",
    "|<img src=\"img/IMG_3560.jpg\">|<img src=\"img/IMG_3561.jpg\">|\n",
    "\n",
    "### Setting the Buck Converter to an Output Voltage of 5V\n",
    "\n",
    "+ We will first check to make sure there are no incorrect shorts in our assembled circuit.\n",
    "    + Make sure the +VIN is connected to the +VIN of the Screw Terminal.\n",
    "    + Also make sure the -VIN is connected to the -VIN of the Screw Terminal.\n",
    "    + The +VIN should also be connected to the Shortest pin of the DC Female Barrel Connector.\n",
    "    + The -VIN should be connected to the Medium pin of the DC Female Barrel Connector.\n",
    "    + The -VIN and -VOUT should also be connected.\n",
    "    + The +VIN and -VIN should not be connected.\n",
    "+ There is a Button on the right side of the Buck Converter PCB that displays the input and output voltages.\n",
    "+ The LED Indicator tells you whether its showing you the input voltage or output.\n",
    "+ Press the Button once to display the Input Voltage and then check this voltage using the Multimeter.\n",
    "    + Always trust the Multimeter Value above the Buck Converter value.\n",
    "    + The Buck Converter displayed value gives a good estimate but the Mulitimeter should be considered the Gold Standard.\n",
    "+ Press the Button again to display the Output Voltage.\n",
    "+ Now using a Flat head 1.5 Screw head rotate screw on the top of the Buck Converter Anti-clockwise till you see the Output Voltage going down.\n",
    "+ Keep rotating the screw anti-clockwise till you are close to 5V.\n",
    "+ Verify this voltage using the Multimeter.\n",
    "+ Execute the Cell below to watch a video of the process."
   ]
  },
  {
   "cell_type": "code",
   "execution_count": 7,
   "id": "4b98e36d",
   "metadata": {},
   "outputs": [
    {
     "data": {
      "text/html": [
       "<iframe width=\"800\" height=\"600\" src=\"https://www.youtube.com/embed/NSGyDSS8A6o?si=Hj2SeqhVqWXHubWR\" title=\"YouTube video player\" frameborder=\"0\" allow=\"accelerometer; autoplay; clipboard-write; encrypted-media; gyroscope; picture-in-picture; web-share\" referrerpolicy=\"strict-origin-when-cross-origin\" allowfullscreen></iframe>\n"
      ],
      "text/plain": [
       "<IPython.core.display.HTML object>"
      ]
     },
     "metadata": {},
     "output_type": "display_data"
    }
   ],
   "source": [
    "%%HTML\n",
    "<iframe width=\"800\" height=\"600\" src=\"https://www.youtube.com/embed/NSGyDSS8A6o?si=Hj2SeqhVqWXHubWR\" title=\"YouTube video player\" frameborder=\"0\" allow=\"accelerometer; autoplay; clipboard-write; encrypted-media; gyroscope; picture-in-picture; web-share\" referrerpolicy=\"strict-origin-when-cross-origin\" allowfullscreen></iframe>"
   ]
  },
  {
   "cell_type": "markdown",
   "id": "1f912a91",
   "metadata": {},
   "source": [
    "### Connecting the 8-Channel Relay\n",
    "\n",
    "+ Using M3 6mm Self Tapping Screws and the 3.0(PH0) Screwdriver Head:\n",
    "     + Screw the [8-Channel Relay Board](https://www.amazon.com/dp/B00DR9SE4A/) into the Position shown below.\n",
    "     + Place a screw only in the Top-left and Top-right screw holes.<br><img src=\"img/IMG_3565.jpg\" height=\"50%\" width=\"50%\">\n",
    "+ You will see a Yellow Cap Connecting the VCC to JDVCC on the 8-Channel Relay Board. \n",
    "    + We will remove this Yellow Cap to Optically Isolate the Relays and Provide Separate power to the Relay Board.\n",
    "\n",
    "| Yellow Cap Connecting JDVCC to VCC | With Yellow Cap Removed | \n",
    "|-|-|\n",
    "|<img src=\"img/IMG_3566.jpg\">|<img src=\"img/IMG_3567.jpg\">|\n",
    "\n",
    "\n",
    "+ Now disconnect the 24V DC Power. Remember to only make new connections when the POWER IS DISCONNECTED. <br><img src=\"img/IMG_3568.jpg\" height=\"50%\" width=\"50%\">\n",
    "+ Now all Connection we make will be made using [Jumper Ribbon Cables](https://www.amazon.com/dp/B01EV70C78).\n",
    "+ You will need a 3.0(PH0) Screwdriver Head to unscrew the +VOUT and -VOUT Screw Terminals.\n",
    "+ You will also need two Male to Female Jumper Cables. \n",
    "    + For the first Cable, connect the Male Exposed Contact of the Jumper Cable to the +VOUT of the Buck Converter.\n",
    "        + Now Connect the Female Contact to the JDVCC Pin on the 8-Channel Relay.\n",
    "    + For the second Cable, connect the Male Expose Contact of the Jumper Cable to the -VOUT of the Buck Converter.\n",
    "        + Now Connect the Female Contact to the GND Pin on the 8-Channel Relay.<br><img src=\"img/IMG_3570.jpg\" height=\"50%\" width=\"50%\">\n",
    "    + We are now suppling 5V DC Optically Isolated Power to the 8-Channel Relay via our Buck Converter.\n",
    "    + Execute the Cell Below to watch a Video of the Process:"
   ]
  },
  {
   "cell_type": "code",
   "execution_count": null,
   "id": "dae8d000",
   "metadata": {},
   "outputs": [],
   "source": [
    "%%HTML\n",
    "<iframe width=\"800\" height=\"600\" src=\"https://www.youtube.com/embed/AeBoMDQxR0c?si=SnWP-SDf5ORfmEci\" title=\"YouTube video player\" frameborder=\"0\" allow=\"accelerometer; autoplay; clipboard-write; encrypted-media; gyroscope; picture-in-picture; web-share\" referrerpolicy=\"strict-origin-when-cross-origin\" allowfullscreen></iframe>"
   ]
  },
  {
   "cell_type": "markdown",
   "id": "280c5db7",
   "metadata": {},
   "source": [
    "+ Using M3 6mm Self Tapping Screws and the 3.0(PH0) Screwdriver Head:\n",
    "     + Screw the [Arduino UNO R3 Clone](https://www.amazon.com/dp/B01EWOE0UU/) into the Position shown below.\n",
    "     + Place a screw only in the Top-left and Bottom-left screw holes.\n",
    "     + Make sure the USB Port on the UNO R3 is aligned with its hole. <br><img src=\"img/IMG_3571.jpg\" height=\"50%\" width=\"50%\">   \n",
    "+ We will now connect our Breadboard PCB to +24V DC using the Input Screw Terminals on the Buck Converter. You will need two Male to Female Jumper cables:\n",
    "    + For the first Cable, connect the Male Exposed Contact of the Jumper Cable to the +VIN of the Buck Converter.\n",
    "        + Now Connect the Female Contact to Position 26 header on the Upper Positive Rail on the Breadboard PCB.\n",
    "    + For the second Cable, connect the Male Expose Contact of the Jumper Cable to the -VIN of the Buck Converter.\n",
    "        + Now Connect the Female Contact to Position 26 header on the Lower Negative Rail on the Breadboard PCB.<br><img src=\"img/IMG_3572.jpg\" height=\"50%\" width=\"50%\">\n",
    "+ Connect the 24V Power Supply.\n",
    "+ You can verify the Potential Difference between the Upper and Lower Rails is now +24V by using the Multimeter.<br><img src=\"img/IMG_3573.jpg\" height=\"50%\" width=\"50%\">\n",
    "+ Disconnect the 24V Power Supply.\n",
    "+ Using a Male to Female Jumper Cable, Connect the 5V Pin on the UNO R3 to the VCC Pin on the 8-Channel Relay as Shown Below.<br><img src=\"img/IMG_3574.jpg\" height=\"50%\" width=\"50%\">\n",
    "+ We now want to test our 8-Channel relay.\n",
    "    + Using a Male to Female Jumper Cable, Connect Pin 13 on the UNO R3 to the In1 Pin on the 8-Channel Relay.\n",
    "    + We can now control the rightmost relay using our UNO R3.<br><img src=\"img/IMG_3575.jpg\" height=\"50%\" width=\"50%\">\n",
    "\n",
    "### Connecting the UNO R3 to the Computer and Uploading a Sketch\n",
    "+ We will now connect our UNO R3 to our Windows Computer using the provided USB Cable. <br><img src=\"img/IMG_3576.jpg\" height=\"50%\" width=\"50%\">\n",
    "+ Download and Install the [Arduino IDE](https://www.arduino.cc/en/software).\n",
    "+ You will need to open the [Relay Control Sketch](relay_Control/).\n",
    "+ Execute the Cell Below to Watch a Video on how to Upload the Sketch to your Arduino UNO R3 Clone Board."
   ]
  },
  {
   "cell_type": "code",
   "execution_count": null,
   "id": "7ba2a552",
   "metadata": {},
   "outputs": [],
   "source": [
    "%%HTML\n",
    "<iframe width=\"800\" height=\"600\" src=\"https://www.youtube.com/embed/kh7ov1MiJSw?si=DhQtNCZ9lKObEcmO\" title=\"YouTube video player\" frameborder=\"0\" allow=\"accelerometer; autoplay; clipboard-write; encrypted-media; gyroscope; picture-in-picture; web-share\" referrerpolicy=\"strict-origin-when-cross-origin\" allowfullscreen></iframe>"
   ]
  },
  {
   "cell_type": "markdown",
   "id": "e5a2c9a2",
   "metadata": {},
   "source": [
    "+ Connect the 24V DC Power supply.\n",
    "+ You can now send commands to the UNO R3 using the Serial Monitor on the Arduino IDE.\n",
    "+ In our case we will be sending a string of 8 Numbers. These numbers can be either a 0 or a 1. \n",
    "+ Each Relay has three Terminals. \n",
    "    + The Middle terminal is the floating/Common (COM) terminal and can be connected to the left or right terminal. \n",
    "    + The left terminal is called the Normally Closed (NC) terminal since it gets connected to the Middle Terminal(COM) only when its powered ON.\n",
    "    + The right terminal is called the Normally Open (NO) terminal sinces its normally connected to the Middle Terminal(COM) when there is no power.\n",
    "    + You would have noticed this terminology is very similar to the NO and NC Ports on a 3:2 SMC Valve.\n",
    "+ Since we have wired up the rightmost Relay we can turn the relay on by sending the string \"00000001\" to the UNO R3.\n",
    "+ We can then turn off the Relay by sending the string \"00000000\". The last digit represents whether the rightmost relay is on or not.\n",
    "+ Execute the Cell Below to watch a video of the Relay switching in action."
   ]
  },
  {
   "cell_type": "code",
   "execution_count": null,
   "id": "77c7913e",
   "metadata": {},
   "outputs": [],
   "source": [
    "%%HTML\n",
    "<iframe width=\"800\" height=\"600\" src=\"https://www.youtube.com/embed/3iGeyLzMS-s?si=JMo-dvfuMywdqgJg\" title=\"YouTube video player\" frameborder=\"0\" allow=\"accelerometer; autoplay; clipboard-write; encrypted-media; gyroscope; picture-in-picture; web-share\" referrerpolicy=\"strict-origin-when-cross-origin\" allowfullscreen></iframe>"
   ]
  },
  {
   "cell_type": "markdown",
   "id": "3feaecdc",
   "metadata": {},
   "source": [
    "### Connecting the 8-Channel Relay to SMC Valve\n",
    "+ Disconnect the 24V Power Supply.\n",
    "+ We will need four Jumper Wires to Connect the rightmost USB 2.0 Breakout Board with the rightmost Relay.\n",
    "    + You will need a 3.0(PH0) Screwdriver Head for the Screw Terminals on the Relay Board.\n",
    "    + Remember to Screw the Male Jumper Contact Pin all the way into the Screw Terminal.\n",
    "    + Try Tugging the Male Jumper out to make sure the Connection to the Screw Termial is secure.\n",
    "    + Using a Male-to-Female Jumper Wire :\n",
    "        + Connect the Middle(COM) Terminal of the Rightmost relay to Position 25 on the Upper Positive Rail on the Breadboard PCB.\n",
    "        + The COM Terminal will now be at +24V DC when the power supply is connected later. <br><img src=\"img/IMG_3578.jpg\" height=\"50%\" width=\"50%\">\n",
    "    + Using a Male-to-Female Jumper Wire :\n",
    "        + Connect the Left(NC) Terminal of the rightmost relay to Position E14 on the Breadboard PCB.\n",
    "        + Now E14->A14 will have the same voltage as the NC Terminal of the rightmost relay. <br><img src=\"img/IMG_3580.jpg\" height=\"50%\" width=\"50%\">\n",
    "    + Using a Female-to-Female Jumper Wire :\n",
    "        + Connect the GND Header of the rightmost USB Breakout board to Position 25 on the lower Negative Rail on the Breadboard PCB.\n",
    "        + Now our GND on the rightmost USB Breakout board is at the same voltage as GND/-VE as the 24V DC Power Supply. <br><img src=\"img/IMG_3581.jpg\" height=\"50%\" width=\"50%\">\n",
    "    + Using a Female-to-Female Jumper Wire:\n",
    "        + Connect the VBUS(+VE) Header of the rightmost USB Breakout board to A14 on the Breadboard PCB.\n",
    "        + Now VBUS(+VE) on the rightmost USB Breakout board is at the same voltage as the NC Terminal of the rightmost relay. <br><img src=\"img/IMG_3582.jpg\" height=\"50%\" width=\"50%\">\n",
    "+ Connect an SMC Valve to the rightmost USB Breakout Board via the USB Port.\n",
    "+ Connect the 24V Power Supply.\n",
    "+ We can now turn our Valve ON or OFF using our Computer. Execute the Cell Below to Watch a Video of the Process."
   ]
  },
  {
   "cell_type": "code",
   "execution_count": null,
   "id": "d89ae66d",
   "metadata": {},
   "outputs": [],
   "source": [
    "%%HTML\n",
    "<iframe width=\"800\" height=\"600\" src=\"https://www.youtube.com/embed/wVSTnvjBN8k?si=Z9SSMWAJQ06cb4FA\" title=\"YouTube video player\" frameborder=\"0\" allow=\"accelerometer; autoplay; clipboard-write; encrypted-media; gyroscope; picture-in-picture; web-share\" referrerpolicy=\"strict-origin-when-cross-origin\" allowfullscreen></iframe>"
   ]
  },
  {
   "cell_type": "markdown",
   "id": "43179dc2",
   "metadata": {},
   "source": [
    "### Finishing the remaining Connections\n",
    "+ Disconnect the 24V DC Power Supply.\n",
    "+ Now that we know how to wire up the connection for one Valve, we can do it for the remaining 7 easily.\n",
    "+ Connect Pins 12->6 on the UNO R3 to In2->In8 Pins respectively on the 8-Channel Relay.<br><img src=\"img/IMG_3584.jpg\" height=\"50%\" width=\"50%\">\n",
    "+ Connect the COM Terminal of Relays from right to left to 24->18 Headers on the Breadboard PCB Upper Positive rail respectively. \n",
    "+ Connect the NC Terminal of Relays from right to left to E13->E7 Headers on the Breadboard PCB respectively.\n",
    "+ Connect the GND Header on the USB Breakout boards from right to left to 24->18 Headers on the Breadboard PCB Lower Negative rail respectively.\n",
    "+ Connect the VBUS Header on the USB Breakout boards from right to left to A13->A7 Headers on the Breadboard PCB respectively.<br><img src=\"img/IMG_3585.jpg\" height=\"50%\" width=\"50%\">\n",
    "+ Now all we need to do is one final check to make sure its working as expected.\n",
    "+ Connect the 24V DC Power Supply.\n",
    "+ Execute the Cell Below to watch a video of the process."
   ]
  },
  {
   "cell_type": "code",
   "execution_count": null,
   "id": "d7c37b19",
   "metadata": {},
   "outputs": [],
   "source": [
    "%%HTML\n",
    "<iframe width=\"800\" height=\"600\" src=\"https://www.youtube.com/embed/_w2bWsCGiAE?si=ii3kAeFvO5dK6Xok\" title=\"YouTube video player\" frameborder=\"0\" allow=\"accelerometer; autoplay; clipboard-write; encrypted-media; gyroscope; picture-in-picture; web-share\" referrerpolicy=\"strict-origin-when-cross-origin\" allowfullscreen></iframe>"
   ]
  },
  {
   "cell_type": "markdown",
   "id": "25aa7a4f",
   "metadata": {},
   "source": [
    "### Close the Housing\n",
    "+ Disconnect the 24V DC Power Supply.\n",
    "+ Disconnect the USB Cable.\n",
    "+ Press down the Top housing on the Bottom Housing.\n",
    "+ Make sure the Holes on top are aligned.\n",
    "+ Using M3 8mm Self Tapping Screws and the 3.0(PH0) Screwdriver Head:\n",
    "    + Insert the screws in all four corners and tighten.\n",
    "    + Make sure there are no wires stuck in between the Top and Bottom Housing.\n",
    "+ Execute the Cell Below to Watch a Video of the Final Product."
   ]
  },
  {
   "cell_type": "code",
   "execution_count": null,
   "id": "aac49794",
   "metadata": {},
   "outputs": [],
   "source": [
    "%%HTML\n",
    "<iframe width=\"800\" height=\"600\" src=\"https://www.youtube.com/embed/8OTM_BlqqBo?si=H4VLlSMjX1JK4MVz\" title=\"YouTube video player\" frameborder=\"0\" allow=\"accelerometer; autoplay; clipboard-write; encrypted-media; gyroscope; picture-in-picture; web-share\" referrerpolicy=\"strict-origin-when-cross-origin\" allowfullscreen></iframe>"
   ]
  },
  {
   "cell_type": "markdown",
   "id": "4bccc707",
   "metadata": {},
   "source": [
    "### Controlling the Valve Controller with Python in Jupyter Notebooks\n",
    "\n",
    "+ Since we have already programmed our Valve Controller to respond to 8 Bit Binary Strings we can now use this to control it within Jupyter notebooks.\n",
    "+ Connect your Valve Controller to 24V DC.\n",
    "+ Connect your Valve Controller Via USB to your Computer.\n",
    "+ You can Identify the COM Port by Connecting and then Disconnecting the Controller and then checking which new COM Port Shows up in Arduino IDE.\n",
    "    + In our case we can see the Port is COM4<br><img src=\"img/Screenshot%202024-07-23%20131131.png\">\n",
    "+ Close the Arduino IDE. Closing the IDE Severs the Connection to the Valve Controller. Only one program can connect to the Valve Controller at a Time.\n",
    "+ We will now Connect to the Valve Controller using PySerial."
   ]
  },
  {
   "cell_type": "code",
   "execution_count": null,
   "id": "c0e6db62",
   "metadata": {},
   "outputs": [],
   "source": [
    "import serial\n",
    "import time\n",
    "valveControllerCOMPort=\"COM4\"\n",
    "\n",
    "ValveController=serial.Serial(valveControllerCOMPort, timeout=1, write_timeout=0)\n",
    "time.sleep(5.0)\n",
    "print(ValveController.is_open)\n",
    "print(ValveController.get_settings())"
   ]
  },
  {
   "cell_type": "markdown",
   "id": "73fda2e7",
   "metadata": {},
   "source": [
    "+ We can now send commands to the ValveController by writing to the Serial Port\n",
    "+ Lets Turn all the Relays ON. You should hear a clicking sound."
   ]
  },
  {
   "cell_type": "code",
   "execution_count": null,
   "id": "3554a86e",
   "metadata": {},
   "outputs": [],
   "source": [
    "##This will turn all the Relays ON\n",
    "ValveController.write(\"11111111\\n\".encode())\n",
    "time.sleep(5.0)"
   ]
  },
  {
   "cell_type": "markdown",
   "id": "2167520d",
   "metadata": {},
   "source": [
    "+ Now Lets Turn all the Relays OFF. You should hear another clicking sound."
   ]
  },
  {
   "cell_type": "code",
   "execution_count": null,
   "id": "6c64c570",
   "metadata": {},
   "outputs": [],
   "source": [
    "##This will turn all Relays OFF\n",
    "ValveController.write(\"00000000\\n\".encode())\n",
    "time.sleep(5.0)"
   ]
  },
  {
   "cell_type": "markdown",
   "id": "0199b967",
   "metadata": {},
   "source": [
    "+ Now we can close the connection to the Valve Controller."
   ]
  },
  {
   "cell_type": "code",
   "execution_count": null,
   "id": "3e1e2b3b",
   "metadata": {},
   "outputs": [],
   "source": [
    "ValveController.close()"
   ]
  },
  {
   "cell_type": "markdown",
   "id": "8b24f978",
   "metadata": {},
   "source": [
    "So now we are done. We have successfully assembled and controlled our Valve Controller with Python in our Jupyter Notebook. We will slowly build the other components and bring them all together to assemble our Complete ChronoSeq Device. We can then start orchestrating them together in a single Notebook for more complex behaviors."
   ]
  }
 ],
 "metadata": {
  "kernelspec": {
   "display_name": "Python 3 (ipykernel)",
   "language": "python",
   "name": "python3"
  },
  "language_info": {
   "codemirror_mode": {
    "name": "ipython",
    "version": 3
   },
   "file_extension": ".py",
   "mimetype": "text/x-python",
   "name": "python",
   "nbconvert_exporter": "python",
   "pygments_lexer": "ipython3",
   "version": "3.7.16"
  }
 },
 "nbformat": 4,
 "nbformat_minor": 5
}
