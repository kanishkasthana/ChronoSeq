{
 "cells": [
  {
   "cell_type": "markdown",
   "id": "0fb91742",
   "metadata": {},
   "source": [
    "## Instructions for Assembling Vortex Relay Controller\n",
    "\n",
    "### Brief Description\n",
    "+ We need to a way to keep our Beads evenly suspended before an injection.\n",
    "+ We can use Vortices to keep our beads suspeneded. \n",
    "+ However, we don't want to keep these Vortices turned on all the time.\n",
    "+ Keeping them on all the time can shear the beads into smaller fragments.\n",
    "+ It becomes difficult to Load the Beads or change the 50ml Tubes if the vortex is Turned on all the time.\n",
    "\n",
    "|Location of Vortex Stirrer(s) in Schematic|\n",
    "|-|\n",
    "|<img src=\"img/Vortex%20Location%20in%20Schematic.jpg\">|\n",
    "\n",
    "### Ordering the Parts\n",
    "+ You will need the following parts:\n",
    "    + Two [AC Relay Boxes](https://www.amazon.com/dp/B00WV7GMA2/)\n",
    "    + [Male to Male Dupont Jumper Wires](https://www.amazon.com/dp/B01EV70C78)\n",
    "    + Eight [Suction Cups](https://www.mcmaster.com/7275A56/)\n",
    "    + [Electronics Screw Driver Set](https://www.amazon.com/dp/B09FFCGLHK)\n",
    "    + [Arduino UNO R3 Clone](https://www.amazon.com/dp/B01EWOE0UU/)\n",
    "    + [Arduino UNO R3 Case](https://www.amazon.com/dp/B00KUY0GH8/)\n",
    "    + Two [VX-200 Vortex Mixers](https://www.stellarscientific.com/labnet-vx-200-s0200-low-profile-lab-vortex-mixer-115v/)\n",
    "    + Two [50ml Heads for the VX-200 Vortex Mixers](https://www.stellarscientific.com/for-labnet-vx200-vortex-mixer-head-for-6-x-50-ml-tubes/)<br><img src=\"img/IMG_4179.jpg\" height=\"50%\" width=\"50%\">\n",
    "+ We used the 3mm Flat Head for our screwdriver for the next part.\n",
    "    + Execute the cell below to learn how to wire up your Vortices to the AC Relay Boxes."
   ]
  },
  {
   "cell_type": "code",
   "execution_count": 1,
   "id": "286de0a4",
   "metadata": {},
   "outputs": [
    {
     "data": {
      "text/html": [
       "<iframe width=\"800\" height=\"600\" src=\"https://www.youtube.com/embed/jQMEU1Do160?si=86x4RakOEsa86G7K\" title=\"YouTube video player\" frameborder=\"0\" allow=\"accelerometer; autoplay; clipboard-write; encrypted-media; gyroscope; picture-in-picture; web-share\" referrerpolicy=\"strict-origin-when-cross-origin\" allowfullscreen></iframe>\n"
      ],
      "text/plain": [
       "<IPython.core.display.HTML object>"
      ]
     },
     "metadata": {},
     "output_type": "display_data"
    }
   ],
   "source": [
    "%%HTML\n",
    "<iframe width=\"800\" height=\"600\" src=\"https://www.youtube.com/embed/jQMEU1Do160?si=86x4RakOEsa86G7K\" title=\"YouTube video player\" frameborder=\"0\" allow=\"accelerometer; autoplay; clipboard-write; encrypted-media; gyroscope; picture-in-picture; web-share\" referrerpolicy=\"strict-origin-when-cross-origin\" allowfullscreen></iframe>"
   ]
  },
  {
   "cell_type": "markdown",
   "id": "ec90d77c",
   "metadata": {},
   "source": [
    "+ Using the Male to Male Jumper Cables connect the Negative Terminals on the AC Relay Boxes to GND Terminals on the UNO R3 Board. <br><img src=\"img/IMG_4195.jpg\" height=\"50%\" width=\"50%\">\n",
    "+ Connect the First Relay to Pin 7 and the Second Relay to Pin 5 on the UNO R3 Board.<br><img src=\"img/IMG_4196.jpg\" height=\"50%\" width=\"50%\">\n",
    "+ Connect your UNO R3 Board to your computer via the provided USB Cable.<br><img src=\"img/IMG_4198.jpg\" height=\"50%\" width=\"50%\">\n",
    "+ Upload the [vortexRelayControl sketch](vortextRelayControl) to your UNO R3 Board using the [Arduino IDE](https://www.arduino.cc/en/software).\n",
    "    + Execute the cell below to watch a video of the upload and testing process for controlling the Vortices using our computer."
   ]
  },
  {
   "cell_type": "code",
   "execution_count": 2,
   "id": "2bc76f4f",
   "metadata": {},
   "outputs": [
    {
     "data": {
      "text/html": [
       "<iframe width=\"800\" height=\"600\" src=\"https://www.youtube.com/embed/dEWZSLP9jBE?si=sIji_38-MLjGlG81\" title=\"YouTube video player\" frameborder=\"0\" allow=\"accelerometer; autoplay; clipboard-write; encrypted-media; gyroscope; picture-in-picture; web-share\" referrerpolicy=\"strict-origin-when-cross-origin\" allowfullscreen></iframe>\n"
      ],
      "text/plain": [
       "<IPython.core.display.HTML object>"
      ]
     },
     "metadata": {},
     "output_type": "display_data"
    }
   ],
   "source": [
    "%%HTML\n",
    "<iframe width=\"800\" height=\"600\" src=\"https://www.youtube.com/embed/dEWZSLP9jBE?si=sIji_38-MLjGlG81\" title=\"YouTube video player\" frameborder=\"0\" allow=\"accelerometer; autoplay; clipboard-write; encrypted-media; gyroscope; picture-in-picture; web-share\" referrerpolicy=\"strict-origin-when-cross-origin\" allowfullscreen></iframe>"
   ]
  },
  {
   "cell_type": "markdown",
   "id": "93612197",
   "metadata": {},
   "source": [
    "+ Disconnect your USB Cable and Turn the Power Off.\n",
    "+ Put your UNO R3 Board in a UNO R3 Case.<br><img src=\"img/IMG_4203.jpg\" height=\"50%\" width=\"50%\">\n",
    "+ Reconnect your USB Cable and Turn the Power On.\n",
    "+ Now we will control our Vortices using our Computer\n",
    "\n",
    "#### Controlling the Vortices through Serial Commands Via Jupyter Notebooks\n",
    "+ We can identify the COM Port by connecting and then disconnecting the UNO R3 Board via USB. By checking which new COM Port shows up in Arduino IDE.\n",
    "    + In our case the port is COM10.<br><img src=\"img/Screenshot%202024-10-15%20204621.png\">\n",
    "+ Close the Arduino IDE before moving to the next step.\n",
    "    + Execute the cells below to test controlling the vortices via Jupyter notebooks."
   ]
  },
  {
   "cell_type": "code",
   "execution_count": 3,
   "id": "b612a4d1",
   "metadata": {},
   "outputs": [
    {
     "name": "stdout",
     "output_type": "stream",
     "text": [
      "COM10\n",
      "{'baudrate': 9600, 'bytesize': 8, 'parity': 'N', 'stopbits': 1, 'xonxoff': False, 'dsrdtr': False, 'rtscts': False, 'timeout': 1, 'write_timeout': 0, 'inter_byte_timeout': None}\n",
      "True\n"
     ]
    }
   ],
   "source": [
    "import serial\n",
    "import time\n",
    "\n",
    "vortexRelayCOM=\"COM10\"\n",
    "vortexRelay=serial.Serial(vortexRelayCOM,timeout=1,write_timeout=0)\n",
    "time.sleep(5)\n",
    "print(vortexRelay.name)\n",
    "print(vortexRelay.get_settings())\n",
    "print(vortexRelay.is_open)\n",
    "if not vortexRelay.is_open:\n",
    "    vortexRelay.open()\n",
    "    time.sleep(5)\n",
    "    \n",
    "def stop_bead_vortex():\n",
    "    stop_both_vortices()\n",
    "    \n",
    "def start_bead_vortex():\n",
    "    vortexRelay.write(\"A1|B0\\n\".encode())\n",
    "                                \n",
    "#Use this method to stop the Bead Channel Vortex\n",
    "def stop_bead_vortex2():\n",
    "    stop_both_vortices()\n",
    "\n",
    "def start_bead_vortex2():\n",
    "    vortexRelay.write(\"A0|B1\\n\".encode())\n",
    "\n",
    "def start_both_vortices():\n",
    "    vortexRelay.write(\"A1|B1\\n\".encode())\n",
    "    \n",
    "def stop_both_vortices():\n",
    "    vortexRelay.write(\"A0|B0\\n\".encode())"
   ]
  },
  {
   "cell_type": "markdown",
   "id": "4f547626",
   "metadata": {},
   "source": [
    "+ Lets try turning the first vortex on for 10 seconds.\n",
    "+ Then we will turn off the first vortex and turn on the second vortex for 10 seconds.\n",
    "+ We will then turn both of them on for 10 seconds after which we will turn both off.\n",
    "+ Lets try it. Execute the cell below"
   ]
  },
  {
   "cell_type": "code",
   "execution_count": 4,
   "id": "75524ecd",
   "metadata": {},
   "outputs": [],
   "source": [
    "start_bead_vortex()\n",
    "time.sleep(10)\n",
    "start_bead_vortex2()\n",
    "time.sleep(10)\n",
    "start_both_vortices()\n",
    "time.sleep(10)\n",
    "stop_both_vortices()\n",
    "time.sleep(10)"
   ]
  },
  {
   "cell_type": "markdown",
   "id": "58a3597f",
   "metadata": {},
   "source": [
    "+ Now lets close our connection to the board."
   ]
  },
  {
   "cell_type": "code",
   "execution_count": 5,
   "id": "8a847865",
   "metadata": {},
   "outputs": [],
   "source": [
    "vortexRelay.close()"
   ]
  }
 ],
 "metadata": {
  "kernelspec": {
   "display_name": "Python 3 (ipykernel)",
   "language": "python",
   "name": "python3"
  },
  "language_info": {
   "codemirror_mode": {
    "name": "ipython",
    "version": 3
   },
   "file_extension": ".py",
   "mimetype": "text/x-python",
   "name": "python",
   "nbconvert_exporter": "python",
   "pygments_lexer": "ipython3",
   "version": "3.7.16"
  }
 },
 "nbformat": 4,
 "nbformat_minor": 5
}
