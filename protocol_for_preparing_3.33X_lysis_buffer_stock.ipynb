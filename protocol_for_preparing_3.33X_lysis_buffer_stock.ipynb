{
 "cells": [
  {
   "cell_type": "markdown",
   "metadata": {},
   "source": [
    "### Protocol for Preparing 3.33X Lysis Buffer stock\n",
    "\n",
    "+ We will use the same recipe as [Drop-Seq](https://mccarrolllab.org/dropseq/) for our lysis buffer. However, we will not use DTT in our buffer as this makes the Droplet formation very unreliable for our experiments with the Chrono-Seq Device.\n",
    "+ We will prepare 480ml of a 3.33X Stock in bulk.\n",
    "+ You will need:\n",
    "    + A Hotplate Magnetic Stirrer.\n",
    "    + (Optional) A [Thermometer](https://www.amazon.com/gp/product/B01IHHLB3W/) if your Hotplate doesn't have precise temperature control. \n",
    "    + You will need two clean [500ml Glass Bottles](https://www.amazon.com/Corning-PYREX-1395-50ml-Storage-Bottle/dp/B07HM9CKR6).\n",
    "    + A clean Magnetic Stir Bar.\n",
    "    + A [Magnet](https://www.amazon.com/gp/product/B06XD2X45M/) to help remove the Stir Bar. \n",
    "    + An Electronic Weighing Scale.\n",
    "    + [Distilled Water](https://www.fishersci.com/shop/products/invitrogen-ultrapure-dnase-rnase-free-distilled-water-2/10977023)\n",
    "    + [Ficoll PM 400](https://www.fishersci.com/shop/products/ficoll-pm400/45001745)\n",
    "    + [2M Tris HCl pH 7.5](https://fishersci.com/shop/products/tris-hcl-2m-ph-7-5-500ml-1-ea/507517651)\n",
    "    + [0.5M EDTA pH 8.0](https://www.fishersci.com/shop/products/ambion-edta-0-5m-ph-8-0-3/am9261)\n",
    "    + [20% Sarcosyl- L7414-50ml](https://www.sigmaaldrich.com/US/en/product/sigma/l7414)\n",
    "    + Larger Volume Pipettes:\n",
    "        + [5ml Pipette](https://www.fishersci.com/shop/products/stripette-paper-wrapped-disposable-polystyrene-serological-pipettes-7/07200573)\n",
    "        + [10ml Pipette](https://www.fishersci.com/shop/products/sterile-polystyrene-disposable-serological-pipets-magnifier-stripe-10/1367811F)\n",
    "        + [25ml Pipette](https://www.fishersci.com/shop/products/stripette-paper-wrapped-disposable-polystyrene-serological-pipettes-7/07200575)\n",
    "        + [50ml Pipette](https://www.fishersci.com/shop/products/sterile-polystyrene-disposable-serological-pipets-magnifier-stripe-10/1367811F)\n",
    "\n",
    "+ Put a 500ml Glass Bottle without its cap on the Electronic Weighing Scale. Now Zero the scale.\n",
    "+ Carefully add 96g of Ficoll Powder to the Glass Bottle using a clean Scoop or Spoon. \n",
    "    + Use the technique shown in the video below to avoid spilling any Ficoll that results in a False measurement. \n",
    "    + Execute Cell Below to watch the video"
   ]
  },
  {
   "cell_type": "code",
   "execution_count": 1,
   "metadata": {},
   "outputs": [
    {
     "data": {
      "text/html": [
       "<iframe width=\"560\" height=\"315\" src=\"https://www.youtube.com/embed/H5ka4YzA7yk?si=vgoE6SOJ5hKQGGcj\" title=\"YouTube video player\" frameborder=\"0\" allow=\"accelerometer; autoplay; clipboard-write; encrypted-media; gyroscope; picture-in-picture; web-share\" allowfullscreen></iframe>"
      ],
      "text/plain": [
       "<IPython.core.display.HTML object>"
      ]
     },
     "metadata": {},
     "output_type": "display_data"
    }
   ],
   "source": [
    "%%HTML\n",
    "<iframe width=\"560\" height=\"315\" src=\"https://www.youtube.com/embed/H5ka4YzA7yk?si=vgoE6SOJ5hKQGGcj\" title=\"YouTube video player\" frameborder=\"0\" allow=\"accelerometer; autoplay; clipboard-write; encrypted-media; gyroscope; picture-in-picture; web-share\" allowfullscreen></iframe>"
   ]
  },
  {
   "cell_type": "markdown",
   "metadata": {},
   "source": [
    "+ Remove the Bottle from the Scale and Move to your bench. \n",
    "+ Now add the Following to the Glass Bottle and then tightly close the Cap: \n",
    "    + 64ml of 0.5M EDTA\n",
    "    + 160ml of 2M Tris HCl\n",
    "    + 100ml of Distilled Water\n",
    "    + Magnetic Stir Bar\n",
    "+ Set the Hotplate Magnetic Stirrer to 100&deg;C and wait for the temperature to stabilize.\n",
    "+ Shake the Bottle by hand.\n",
    "+ Now place the Glass Bottle on the Magnetic Stirrer and increase the mixing speed till you get stable mixing.\n",
    "+ Occasionally shake the bottle by hand to capture all the undissolved Ficoll into the liquid till all of it is dissolved. It usually takes 1-2 hours for all the Ficoll to be dissolved.\n",
    "\n",
    "|You will see white clumps at the start.|Will get less cloudy after 1 hour|\n",
    "|-|-|\n",
    "|<img src=\"img/IMG_3181.jpg\">|<img src=\"img/IMG_3182.jpg\">|\n",
    "\n",
    "|Ending Should Look Quite Clear|Completely Clear after taking it off the Stirrer at the End|\n",
    "|-|-|\n",
    "|<img src=\"img/IMG_3183.jpg\">|<img src=\"img/IMG_3185.jpg\">|\n",
    "\n",
    "\n",
    "+ After all the Ficoll has dissolved turn the Hotplate Stirrer off.\n",
    "+ Move the bottle to your bench and wait for the liquid to cool down to room temperature.\n",
    "+ Use the Magnets to pull the Stir bar towards the Bottle Cap till the Bottle cap is sandwiched between the Magnets and Stir bar. While keeping the Magnets and Stir Bar in place unscrew the bottle cap. Remove the Stir bar by detaching the Magnet from the cap.\n",
    "\n",
    "|Use a magnet to pull out the Stir Bar.|Leave the magnet on top of the cap to let any liquid drip down.|Unscrew the Cap with it sandwiched between the magnets.|\n",
    "|-|-|-|\n",
    "|<img src=\"img/IMG_3186.jpg\">|<img src=\"img/IMG_3188.jpg\">|<img src=\"img/IMG_3189.jpg\">|\n",
    "\n",
    "+ Now Add 12ml of 20% Sarcosyl to the liquid. Pipette up and down to mix well and get any Sarcosyl stuck to the sides of Pipette into solution.\n",
    "> &sext;: **NOTE**:\n",
    ">    + 12ml of Sarcosyl has been the most reliable amount for us. Droplet formation is much more stable. However cDNA captured is lower. This is 0.75X the Original Dropseq Concentration.\n",
    ">    + 16ml of Sarcosyl has more cDNA captured but comes at the cost of less reliable Droplet Formation with more jetting. You can decide between these tradeoffs for your experiment. 16ml Sarcosyl is equivalent to the Original Dropseq protocol.\n",
    "+ Close the Cap Tightly and Shake Vigorously to mix well.\n",
    "+ Leave overnight to settle down and for the bubbles to disappear.\n",
    "+ Next day, estimate the volume while transfering the liquid to the second (clean) 500ml bottle using 50ml Pipettes.\n",
    "+ There should be more than 400ml of Liquid.\n",
    "+ Make the Final Volume 480ml to make 3.33X Lysis Buffer by adding Distilled Water.\n",
    "+ Close the Cap Tightly and Shake Vigorously to mix well.\n",
    "<a id=\"1X_buffer\"></a>"
   ]
  },
  {
   "cell_type": "markdown",
   "metadata": {},
   "source": [
    "### Protocol for Preparing 1X Lysis Buffer\n",
    "+ I recommend preparing the 1X Lysis buffer inside the Cell Culture hood to avoid introduction of dust Particles.\n",
    "+ Add 15ml of 3.33X Lysis buffer to 35ml of Distilled Water to prepare 50ml of 1X Lysis buffer.\n",
    "+ Close the Cap and Shake the Tube forcefully a few times to mix the liquid evenly.\n",
    "+ Filter the 1X Lysis buffer with a [40&mu;m Falcon Cell Strainer](https://www.fishersci.com/shop/products/falcon-cell-strainers-4/087711) before use.\n",
    "<style>\n",
    "    @media print {\n",
    "    a[href]::after {\n",
    "        content: none !important;\n",
    "        }\n",
    "    }\n",
    "</style>"
   ]
  }
 ],
 "metadata": {
  "kernelspec": {
   "display_name": "Python 3 (ipykernel)",
   "language": "python",
   "name": "python3"
  },
  "language_info": {
   "codemirror_mode": {
    "name": "ipython",
    "version": 3
   },
   "file_extension": ".py",
   "mimetype": "text/x-python",
   "name": "python",
   "nbconvert_exporter": "python",
   "pygments_lexer": "ipython3",
   "version": "3.7.16"
  }
 },
 "nbformat": 4,
 "nbformat_minor": 4
}
