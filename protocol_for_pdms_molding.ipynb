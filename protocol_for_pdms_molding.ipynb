{
 "cells": [
  {
   "cell_type": "markdown",
   "metadata": {},
   "source": [
    "### Protocol for creating the PDMS Microfluidic Chips from the Mold at Nano3 Facility at UC San Diego:\n",
    "+ Protocol adapted from [Nano3 PDMS Molding Course](https://nano3.calit2.net/courses/).\n",
    "+ Make a reservation of the PDMS Clean Space for 6 hours using the [FOM Reservation System](https://nano3fom.eng.ucsd.edu/fom/welcome).\n",
    "+ Clean the work area with Isopropanol(IPA) and cloth cleanroom wipes.<br><img src=\"img/IMG_5562.jpg\" width=\"75%\" height=\"75%\">\n",
    "+ Clean the containers/wafer carriers brought into the cleanspace as much as possible. \n",
    "    + I generally store the items I want to keep dust/particle free in a sealed container which I only open inside the Cleanroom/Cleanspace.\n",
    "    + Wafers should also only be stored inside the Wafer Carrier. The Wafer Carrier should only be opened inside the Cleanspace/Cleanroom.\n",
    "    + Both the PDMS Cleanspace and Cleanroom have filtered air which keeps the air dust and particle free.\n",
    "+ Clean the Springform Pan Thoroughly:\n",
    "    + Remove the base from the top part of the [4.5 inch Springform pan](https://www.amazon.com/gp/product/B009J9BKO8/) by releasing the latch on the side of the pan.\n",
    "    + Clean the springform pan top and its base as much as possible. There should be no particles on the pan base.\n",
    "    + Any Remaining particles on the base can create large air gaps under the <abbr title=\"University Wafer Item Number 1575\">wafer</abbr> which can make the wafer hard to remove and possibly even destroy the wafer when you try to remove it.\n",
    "    + Please clean the pans throughly with IPA and Cloth Cleanroom wipes.\n",
    "    + Execute the cell below to watch a video on how to clean."
   ]
  },
  {
   "cell_type": "code",
   "execution_count": 1,
   "metadata": {},
   "outputs": [
    {
     "data": {
      "text/html": [
       "<iframe width=\"800\" height=\"600\" src=\"https://www.youtube.com/embed/TSA35ryxp5A?si=cVorGDyViiJA3n4_\" title=\"YouTube video player\" frameborder=\"0\" allow=\"accelerometer; autoplay; clipboard-write; encrypted-media; gyroscope; picture-in-picture; web-share\" allowfullscreen></iframe>\n"
      ],
      "text/plain": [
       "<IPython.core.display.HTML object>"
      ]
     },
     "metadata": {},
     "output_type": "display_data"
    }
   ],
   "source": [
    "%%HTML\n",
    "<iframe width=\"800\" height=\"600\" src=\"https://www.youtube.com/embed/TSA35ryxp5A?si=cVorGDyViiJA3n4_\" title=\"YouTube video player\" frameborder=\"0\" allow=\"accelerometer; autoplay; clipboard-write; encrypted-media; gyroscope; picture-in-picture; web-share\" allowfullscreen></iframe>"
   ]
  },
  {
   "cell_type": "markdown",
   "metadata": {},
   "source": [
    "+ Using the [wafer tweezers](https://www.grainger.com/product/EREM-Tweezer-3-4In-Silicon-Wafer-24G718) carefully remove the wafers you will be using for the PDMS molding from the Wafer Carrier.\n",
    "    + Check the back of the wafers to make sure there are no particles or PDMS residue.\n",
    "    + Blow dry with the Nitrogen gun to get rid of any particles.\n",
    "    + Avoid touching the pattern on the front of the wafer.\n",
    "    + Use IPA and Cloth wipes to clean the back of the wafer if necessary. Use Nitrogen gun to blow dry the IPA.\n",
    "\n",
    "+ Attach the Wafer to the Base of the Spingform pan:\n",
    "    + Clean the roll of Kapton Tape to make sure there is no dust stuck to the side of the Tape.\n",
    "    + Put the wafer inside the springform pan base with the patern facing towards you.\n",
    "    + Try to align the wafer with the center of the pan so that the edge/circumference of the wafer is equidistant to the edge/circumference of the springform pan base.\n",
    "    + Label the pan if necessary so you know which wafer is in the pan.\n",
    "    + [Cut](https://www.amazon.com/gp/product/B01BRGU8R0/) a small segment of [1/4 inch Kapton tape](https://www.amazon.com/ELEGOO-Polyimide-Temperature-Resistant-Multi-Sized/dp/B072Z92QZ2) to attach the Wafer to the base of the springform pan.\n",
    "    + The first place you should put a tape segment is along the [primary flat](https://www.universitywafer.com/silicon-wafer-flats.html) of the wafer.<br><img src=\"img/100mm_Wafer_Model.jpg\" width=\"50%\" height=\"50%\">\n",
    "    + Attach the tape segment along the outer edge of the wafer.\n",
    "    + Take care to completely cover the edge so that no PDMS can seep below the wafer surface.\n",
    "    + I suggest attaching the tape in small overlapping segments in a clockwise pattern around the wafer.\n",
    "    + Execute the Cell Below to Watch a video of the Process:"
   ]
  },
  {
   "cell_type": "code",
   "execution_count": 2,
   "metadata": {},
   "outputs": [
    {
     "data": {
      "text/html": [
       "<iframe width=\"800\" height=\"600\" src=\"https://www.youtube.com/embed/NrDzEiwqU4s?si=-4xxLSDZnIigS-KK\" title=\"YouTube video player\" frameborder=\"0\" allow=\"accelerometer; autoplay; clipboard-write; encrypted-media; gyroscope; picture-in-picture; web-share\" allowfullscreen></iframe>\n"
      ],
      "text/plain": [
       "<IPython.core.display.HTML object>"
      ]
     },
     "metadata": {},
     "output_type": "display_data"
    }
   ],
   "source": [
    "%%HTML\n",
    "<iframe width=\"800\" height=\"600\" src=\"https://www.youtube.com/embed/NrDzEiwqU4s?si=-4xxLSDZnIigS-KK\" title=\"YouTube video player\" frameborder=\"0\" allow=\"accelerometer; autoplay; clipboard-write; encrypted-media; gyroscope; picture-in-picture; web-share\" allowfullscreen></iframe>"
   ]
  },
  {
   "cell_type": "markdown",
   "metadata": {},
   "source": [
    "+ The Taped Wafer should look like this: <br><img src=\"img/IMG_0103.jpg\" width=\"75%\" height=\"75%\">\n",
    "+ Remove any air gaps:\n",
    "    + Press along the edge of the wafer to eliminate any air gaps. Ideally no PDMS should flow between the tape and the wafer bottom.\n",
    "    + If PDMS does flow between the pan and the wafer, then it can strongly bind the wafer to the pan making it hard to remove.\n",
    "    + If PDMS does bind the wafer there is a separate video and section below on how to deal with it. \n",
    "    + Execute the Cell Below to watch a video on how to remove any air gaps."
   ]
  },
  {
   "cell_type": "code",
   "execution_count": 3,
   "metadata": {},
   "outputs": [
    {
     "data": {
      "text/html": [
       "<iframe width=\"800\" height=\"600\" src=\"https://www.youtube.com/embed/qgjGMCidta4?si=1ojCnNEGMWitIAT_\" title=\"YouTube video player\" frameborder=\"0\" allow=\"accelerometer; autoplay; clipboard-write; encrypted-media; gyroscope; picture-in-picture; web-share\" allowfullscreen></iframe>\n"
      ],
      "text/plain": [
       "<IPython.core.display.HTML object>"
      ]
     },
     "metadata": {},
     "output_type": "display_data"
    }
   ],
   "source": [
    "%%HTML\n",
    "<iframe width=\"800\" height=\"600\" src=\"https://www.youtube.com/embed/qgjGMCidta4?si=1ojCnNEGMWitIAT_\" title=\"YouTube video player\" frameborder=\"0\" allow=\"accelerometer; autoplay; clipboard-write; encrypted-media; gyroscope; picture-in-picture; web-share\" allowfullscreen></iframe>"
   ]
  },
  {
   "cell_type": "markdown",
   "metadata": {},
   "source": [
    "+ Reattach the base of the Springform Pan back to the top.<br><img src=\"img/IMG_0105.jpg\" width=\"50%\" height=\"50%\">\n",
    "+ Blow particles away from the pattern on the wafer using the Nitrogen Gun."
   ]
  },
  {
   "cell_type": "code",
   "execution_count": 4,
   "metadata": {},
   "outputs": [
    {
     "data": {
      "text/html": [
       "<iframe width=\"800\" height=\"600\" src=\"https://www.youtube.com/embed/lALzSerBPo0?si=Iw6mkiMZ4nG-iLwr\" title=\"YouTube video player\" frameborder=\"0\" allow=\"accelerometer; autoplay; clipboard-write; encrypted-media; gyroscope; picture-in-picture; web-share\" allowfullscreen></iframe>\n"
      ],
      "text/plain": [
       "<IPython.core.display.HTML object>"
      ]
     },
     "metadata": {},
     "output_type": "display_data"
    }
   ],
   "source": [
    "%%HTML\n",
    "<iframe width=\"800\" height=\"600\" src=\"https://www.youtube.com/embed/lALzSerBPo0?si=Iw6mkiMZ4nG-iLwr\" title=\"YouTube video player\" frameborder=\"0\" allow=\"accelerometer; autoplay; clipboard-write; encrypted-media; gyroscope; picture-in-picture; web-share\" allowfullscreen></iframe>"
   ]
  },
  {
   "cell_type": "markdown",
   "metadata": {},
   "source": [
    "+ Weigh the [PDMS Base and PDMS Curing Agent](https://www.ellsworth.com/products/by-market/consumer-products/encapsulants/silicone/dow-sylgard-184-silicone-encapsulant-clear-0.5-kg-kit/) provided by Nano3 and write an entry into the Logbook with the Initial Weights.\n",
    "\n",
    "| <br> | <br> | <br> |\n",
    "|-|-|-|\n",
    "|<img src=\"img/IMG_2605.jpg\">|<img src=\"img/IMG_2604.jpg\">|<img src=\"img/IMG_2603.jpg\">|\n",
    "\n",
    "+ Take a Disposable Plastic Mixing cup from the rack. Make sure there are no particles in the cup by blowing air into it using the Nitrogen Gun.\n",
    "    + Execute the Cell Below to Watch a video of the process."
   ]
  },
  {
   "cell_type": "code",
   "execution_count": 5,
   "metadata": {},
   "outputs": [
    {
     "data": {
      "text/html": [
       "<iframe width=\"800\" height=\"600\" src=\"https://www.youtube.com/embed/gPXo4vWa7Sc?si=kT3SEI-HQNwNJ7g5\" title=\"YouTube video player\" frameborder=\"0\" allow=\"accelerometer; autoplay; clipboard-write; encrypted-media; gyroscope; picture-in-picture; web-share\" allowfullscreen></iframe>\n"
      ],
      "text/plain": [
       "<IPython.core.display.HTML object>"
      ]
     },
     "metadata": {},
     "output_type": "display_data"
    }
   ],
   "source": [
    "%%HTML\n",
    "<iframe width=\"800\" height=\"600\" src=\"https://www.youtube.com/embed/gPXo4vWa7Sc?si=kT3SEI-HQNwNJ7g5\" title=\"YouTube video player\" frameborder=\"0\" allow=\"accelerometer; autoplay; clipboard-write; encrypted-media; gyroscope; picture-in-picture; web-share\" allowfullscreen></iframe>"
   ]
  },
  {
   "cell_type": "markdown",
   "metadata": {},
   "source": [
    "+ Add Exactly 30g of PDMS Base into the mixing cup:\n",
    "    + Put the mixing cup on an electronic weighing scale.\n",
    "    + Zero the scale and carefully add exactly 30 grams of PDMS base provided by Nano3 to the bottom of the cup.\n",
    "    + Keep frequently pressing down slightly on the scale with your finger since this forces the scale to update the weight to a more accurate value.\n",
    "    + This is necessary because there is a slight time lag in the weight shown by the scale and the actual weight of the cup.\n",
    "    + Execute the Cell Below to Watch a video on the Process:"
   ]
  },
  {
   "cell_type": "code",
   "execution_count": 6,
   "metadata": {},
   "outputs": [
    {
     "data": {
      "text/html": [
       "<iframe width=\"800\" height=\"600\" src=\"https://www.youtube.com/embed/a3e080GSnTw?si=JDxGIqIrSMqNB_5C\" title=\"YouTube video player\" frameborder=\"0\" allow=\"accelerometer; autoplay; clipboard-write; encrypted-media; gyroscope; picture-in-picture; web-share\" allowfullscreen></iframe>\n"
      ],
      "text/plain": [
       "<IPython.core.display.HTML object>"
      ]
     },
     "metadata": {},
     "output_type": "display_data"
    }
   ],
   "source": [
    "%%HTML\n",
    "<iframe width=\"800\" height=\"600\" src=\"https://www.youtube.com/embed/a3e080GSnTw?si=JDxGIqIrSMqNB_5C\" title=\"YouTube video player\" frameborder=\"0\" allow=\"accelerometer; autoplay; clipboard-write; encrypted-media; gyroscope; picture-in-picture; web-share\" allowfullscreen></iframe>"
   ]
  },
  {
   "cell_type": "markdown",
   "metadata": {},
   "source": [
    "+ Now add exactly 3 grams of PDMS curing agent. For a 10:1 Ratio of Base:Curing Agent and a total weight of 33 grams. Take the same precautions with the Weighing scale mentioned previously. \n",
    "    + Execute the Cell Below to Watch of Video of the process."
   ]
  },
  {
   "cell_type": "code",
   "execution_count": 7,
   "metadata": {},
   "outputs": [
    {
     "data": {
      "text/html": [
       "<iframe width=\"800\" height=\"600\" src=\"https://www.youtube.com/embed/YLBES1D8ooI?si=RdYLqwrWxSQYnvfI\" title=\"YouTube video player\" frameborder=\"0\" allow=\"accelerometer; autoplay; clipboard-write; encrypted-media; gyroscope; picture-in-picture; web-share\" allowfullscreen></iframe>\n"
      ],
      "text/plain": [
       "<IPython.core.display.HTML object>"
      ]
     },
     "metadata": {},
     "output_type": "display_data"
    }
   ],
   "source": [
    "%%HTML\n",
    "<iframe width=\"800\" height=\"600\" src=\"https://www.youtube.com/embed/YLBES1D8ooI?si=RdYLqwrWxSQYnvfI\" title=\"YouTube video player\" frameborder=\"0\" allow=\"accelerometer; autoplay; clipboard-write; encrypted-media; gyroscope; picture-in-picture; web-share\" allowfullscreen></iframe>"
   ]
  },
  {
   "cell_type": "markdown",
   "metadata": {},
   "source": [
    "+ Add the cup to the Thinky mixer:\n",
    "    + Make sure the weight of the counterbalance in the Thinky mixer approximately matches the weight of the mixing cup and carrier.\n",
    "    + Zero the weighing scale and measure the total weight of the cup and carrier.\n",
    "    + This should approximately match the setting on the counterbalance inside the Thinky mixer.\n",
    "    + Rotate the knob inside the mixer to set the counterbalance weight.\n",
    "    + Run the Thinky mixer for 3 minutes and 30 seconds at 2000 RPM. Your PDMS Base and Curing agent should now be evenly mixed.\n",
    "    + Execute the Cell Below to Watch a video of the process."
   ]
  },
  {
   "cell_type": "code",
   "execution_count": 8,
   "metadata": {},
   "outputs": [
    {
     "data": {
      "text/html": [
       "<iframe width=\"800\" height=\"600\" src=\"https://www.youtube.com/embed/eLMiRxg1J48?si=HQBL4CWClhE_an3u\" title=\"YouTube video player\" frameborder=\"0\" allow=\"accelerometer; autoplay; clipboard-write; encrypted-media; gyroscope; picture-in-picture; web-share\" allowfullscreen></iframe>\n"
      ],
      "text/plain": [
       "<IPython.core.display.HTML object>"
      ]
     },
     "metadata": {},
     "output_type": "display_data"
    }
   ],
   "source": [
    "%%HTML\n",
    "<iframe width=\"800\" height=\"600\" src=\"https://www.youtube.com/embed/eLMiRxg1J48?si=HQBL4CWClhE_an3u\" title=\"YouTube video player\" frameborder=\"0\" allow=\"accelerometer; autoplay; clipboard-write; encrypted-media; gyroscope; picture-in-picture; web-share\" allowfullscreen></iframe>"
   ]
  },
  {
   "cell_type": "markdown",
   "metadata": {},
   "source": [
    "+ Remove cup from Mixer and Pour PDMS onto the Mold:\n",
    "    + Bend the cup inward to pull it out from the Mixing cup Carrier easily.\n",
    "    + Now Pour the mixed PDMS over the Wafer mold.\n",
    "    + Wait 3 minutes for most of the viscous PDMS mix to be poured in.\n",
    "    + Execute the Cell Below to Watch a Video of the Process."
   ]
  },
  {
   "cell_type": "code",
   "execution_count": 9,
   "metadata": {},
   "outputs": [
    {
     "data": {
      "text/html": [
       "<iframe width=\"800\" height=\"600\" src=\"https://www.youtube.com/embed/HOrSke8NK9w?si=W4Dr45GC_-Klh7J4\" title=\"YouTube video player\" frameborder=\"0\" allow=\"accelerometer; autoplay; clipboard-write; encrypted-media; gyroscope; picture-in-picture; web-share\" allowfullscreen></iframe>\n"
      ],
      "text/plain": [
       "<IPython.core.display.HTML object>"
      ]
     },
     "metadata": {},
     "output_type": "display_data"
    }
   ],
   "source": [
    "%%HTML\n",
    "<iframe width=\"800\" height=\"600\" src=\"https://www.youtube.com/embed/HOrSke8NK9w?si=W4Dr45GC_-Klh7J4\" title=\"YouTube video player\" frameborder=\"0\" allow=\"accelerometer; autoplay; clipboard-write; encrypted-media; gyroscope; picture-in-picture; web-share\" allowfullscreen></iframe>"
   ]
  },
  {
   "cell_type": "markdown",
   "metadata": {},
   "source": [
    "+ Degassing the PDMS to remove air bubbles:\n",
    "    + This is a necessary step to avoid damaging your mold.\n",
    "    + Skipping this step will lead to a poor PDMS replica with fine features missing and permanent damage to your Wafer Mold.\n",
    "    + You now need to turn the vacuum on. To do this you need to make sure the valve leading to the Degassing bowl is open.\n",
    "    + There are three orange valves under the bench.\n",
    "    + The one on the right is for the vacuum pump. This right valve needs to be open. This valve is open when the orange handle is vertically oriented in the direction of the pipe.\n",
    "    + The center valve is for the PDMS Spinner. This valve needs to be closed. Rotate the orange handle till the valve handle is perpendicular to the direction of the pipe. \n",
    "    + The left valve is for the Degassing bowl. This valve needs to be open.\n",
    "    + There is another rotary valve connected to the black tube attached to the Degassing bowl. This should be inline with and directly behind the Degassing bowl.\n",
    "    + The black pin that controls the rotary valve should be along the same direction as the tubing. \n",
    "    + Now place the springform pans inside the Degassing Bowl and close the lid. Make sure you do not block the center hole inside the Bowl. \n",
    "    + Now turn on the red switch for the Vacuum pump below the bench. If you hear leaking air then the rotary valve is most likely still open. The black pin needs to be turned 180 degrees with the pin still oriented along the direction of the tubing.\n",
    "    + Degas under vacuum between **30-45 mins.**\n",
    "    + You should see a large number of bubbles coming out from the PDMS mix inside the degassing bowl when you turn the vacuum on.\n",
    "    + Try lifting the bowl by the lid. The lid should be tightly attached to the base because of the vacuum.\n",
    "    + The Degassing process should get rid of almost all bubbles on the wafer surface inside the PDMS mix.\n",
    "    + Execute the Cell Below to Watch a Video of the Process."
   ]
  },
  {
   "cell_type": "code",
   "execution_count": 10,
   "metadata": {},
   "outputs": [
    {
     "data": {
      "text/html": [
       "<iframe width=\"800\" height=\"600\" src=\"https://www.youtube.com/embed/ebV-RoxQ6uI?si=3HZxhsMXIgUimRMS\" title=\"YouTube video player\" frameborder=\"0\" allow=\"accelerometer; autoplay; clipboard-write; encrypted-media; gyroscope; picture-in-picture; web-share\" allowfullscreen></iframe>\n"
      ],
      "text/plain": [
       "<IPython.core.display.HTML object>"
      ]
     },
     "metadata": {},
     "output_type": "display_data"
    }
   ],
   "source": [
    "%%HTML\n",
    "<iframe width=\"800\" height=\"600\" src=\"https://www.youtube.com/embed/ebV-RoxQ6uI?si=3HZxhsMXIgUimRMS\" title=\"YouTube video player\" frameborder=\"0\" allow=\"accelerometer; autoplay; clipboard-write; encrypted-media; gyroscope; picture-in-picture; web-share\" allowfullscreen></iframe>"
   ]
  },
  {
   "cell_type": "markdown",
   "metadata": {},
   "source": [
    "+ Place the Springform pans at the back of the top shelf inside the Convection oven.\n",
    "    + Make sure the pans are close to the center line at the back of the shelf. \n",
    "    + This part of the Convection oven is the most level and there is a good chance to get Microfluidic chips that are of equal thickness.\n",
    "    + Watch Video by executing the Next Cell."
   ]
  },
  {
   "cell_type": "code",
   "execution_count": 12,
   "metadata": {},
   "outputs": [
    {
     "data": {
      "text/html": [
       "<iframe width=\"800\" height=\"600\" src=\"https://www.youtube.com/embed/_zWebK_7Vtc?si=hA5-IDOWPiW-u0tK\" title=\"YouTube video player\" frameborder=\"0\" allow=\"accelerometer; autoplay; clipboard-write; encrypted-media; gyroscope; picture-in-picture; web-share\" allowfullscreen></iframe>\n"
      ],
      "text/plain": [
       "<IPython.core.display.HTML object>"
      ]
     },
     "metadata": {},
     "output_type": "display_data"
    }
   ],
   "source": [
    "%%HTML\n",
    "<iframe width=\"800\" height=\"600\" src=\"https://www.youtube.com/embed/_zWebK_7Vtc?si=hA5-IDOWPiW-u0tK\" title=\"YouTube video player\" frameborder=\"0\" allow=\"accelerometer; autoplay; clipboard-write; encrypted-media; gyroscope; picture-in-picture; web-share\" allowfullscreen></iframe>"
   ]
  },
  {
   "cell_type": "markdown",
   "metadata": {},
   "source": [
    "+ The convection oven should be set to 120&deg;C.\n",
    "    + Make Sure there is no ramp time before the oven heats to 120&deg;C\n",
    "    + Also make sure there is no ramp down time after which the oven automatically reduced temperature or shuts down.\n",
    "    + Bake for **90 mins**.\n",
    "    + Execute the Cell below to Watch a Video on how to program the oven."
   ]
  },
  {
   "cell_type": "code",
   "execution_count": 13,
   "metadata": {},
   "outputs": [
    {
     "data": {
      "text/html": [
       "<iframe width=\"800\" height=\"600\" src=\"https://www.youtube.com/embed/9puMipWFt3Y?si=Kuiwy5jE9qAqfZpB\" title=\"YouTube video player\" frameborder=\"0\" allow=\"accelerometer; autoplay; clipboard-write; encrypted-media; gyroscope; picture-in-picture; web-share\" allowfullscreen></iframe>\n"
      ],
      "text/plain": [
       "<IPython.core.display.HTML object>"
      ]
     },
     "metadata": {},
     "output_type": "display_data"
    }
   ],
   "source": [
    "%%HTML\n",
    "<iframe width=\"800\" height=\"600\" src=\"https://www.youtube.com/embed/9puMipWFt3Y?si=Kuiwy5jE9qAqfZpB\" title=\"YouTube video player\" frameborder=\"0\" allow=\"accelerometer; autoplay; clipboard-write; encrypted-media; gyroscope; picture-in-picture; web-share\" allowfullscreen></iframe>"
   ]
  },
  {
   "cell_type": "markdown",
   "metadata": {},
   "source": [
    "+ Wear Double Gloves and Quickly Remove the Pans from the Oven:\n",
    "    + Avoid Buring Yourself.\n",
    "    + Wait 5 minutes for the Metal to Cool down.\n",
    "+ Remove the PDMS Replica from the Mold and Cut the Individual Chips out:\n",
    "    + Remove the pans from the oven.\n",
    "    + Release the base of the pans.\n",
    "    + Now run a [scraper blade](https://www.grainger.com/product/KRAFT-TOOL-Scraper-Blade-3-4-in-Blade-35EM72) along the edge of the base of the pan to carve the PDMS out. There are many long blades inside the cleanroom storage box. Read the labels on the blades and use the newest ones.\n",
    "    + Carefully insert the [tweezer](https://www.grainger.com/product/GENERAL-Tweezer-6-in-Lg-3G959) below the PDMS replica parallel to and directly above the primary flat of the wafer. Simultaneously, the tip of the tweezer should be touching the inner edge/circumference of the pan base. \n",
    "    + Now move the tweezers away from the primary flat slowly and carefully peel the PDMS replica from the mold. Now place it on a [cutting mat](https://www.amazon.com/gp/product/B088LZNS1M/) with the pattern facing up.\n",
    "    + There should be a thinner area of even thickness PDMS around the pattern and a thicker edge around the pattern. Cut the thick edge off the PDMS replica using a scraper blade on the cutting mat. Avoid cutting any of the Chip pattern and lines around this thinner central region at this time.\n",
    "    + Now place the scraper blade along the long parallel lines in the remaining PDMS and cut along those lines on the cutting pad. You should now have three long strips of Microfluidic Chips. The lines present in the pattern are intended as a guide to make it easier to cut the microfluidic chips out.\n",
    "    + Place the scraper blade along the shorter lines between the microfluidic chips and cut individual chips out.\n",
    "    + The pattern of the microfluidic chips should always be facing upwards towards you.\n",
    "    + Execute the Cell Below to Watch a video of the Process."
   ]
  },
  {
   "cell_type": "code",
   "execution_count": 19,
   "metadata": {},
   "outputs": [
    {
     "data": {
      "text/html": [
       "<iframe width=\"800\" height=\"600\" src=\"https://www.youtube.com/embed/7LdVA51isCA?si=gqeYRwKm9iPNmclN\" title=\"YouTube video player\" frameborder=\"0\" allow=\"accelerometer; autoplay; clipboard-write; encrypted-media; gyroscope; picture-in-picture; web-share\" allowfullscreen></iframe>\n"
      ],
      "text/plain": [
       "<IPython.core.display.HTML object>"
      ]
     },
     "metadata": {},
     "output_type": "display_data"
    }
   ],
   "source": [
    "%%HTML\n",
    "<iframe width=\"800\" height=\"600\" src=\"https://www.youtube.com/embed/7LdVA51isCA?si=gqeYRwKm9iPNmclN\" title=\"YouTube video player\" frameborder=\"0\" allow=\"accelerometer; autoplay; clipboard-write; encrypted-media; gyroscope; picture-in-picture; web-share\" allowfullscreen></iframe>"
   ]
  },
  {
   "cell_type": "markdown",
   "metadata": {},
   "source": [
    "+ Punch Inlet/Outlet Holes for the PDMS Chips:\n",
    "    + There should be [Rapid-Core 1.2 mm Biopsy punches](https://www.emsdiasum.com/ems-core-sampling-tool-12mm) stored inside the cleanroom storage box.\n",
    "    + Check the date/label on the punches and get the most recently opened Rapid-Core 1.2mm Biopsy Punches.<br><img src=\"img/IMG_2207.jpg\" width=\"75%\" height=\"75%\">\n",
    "    + Now using a 1.2mm Biopsy puncher, punch 4 holes into each microfluidic chip on the cutting mat.\n",
    "    + The alignment patterns in or around the inlet/outlet areas of the microfluidic chip should visually make it easier to identify the locations for the holes.\n",
    "    + It’s important to get clean holes with no debris on the inside of the holes. Rapid-Core punchers work quite well but if the puncher gets too blunt then the holes will have some debris on the inside and will look uneven. \n",
    "    + Use your judgement to change the biopsy puncher if it has become too blunt. Most punches work well for at least 5 PDMS replicas or 50 chips.\n",
    "    + Scraper blades can also get blunt but last much longer. Remember to label any new punches or scraper blades with the date it was opened or first used.\n",
    "    + Execute the Cell Below to Watch a Video."
   ]
  },
  {
   "cell_type": "code",
   "execution_count": 15,
   "metadata": {},
   "outputs": [
    {
     "data": {
      "text/html": [
       "<iframe width=\"800\" height=\"600\" src=\"https://www.youtube.com/embed/913BxpM5F7g?si=MJatxyNW5S-mF3nw\" title=\"YouTube video player\" frameborder=\"0\" allow=\"accelerometer; autoplay; clipboard-write; encrypted-media; gyroscope; picture-in-picture; web-share\" allowfullscreen></iframe>\n"
      ],
      "text/plain": [
       "<IPython.core.display.HTML object>"
      ]
     },
     "metadata": {},
     "output_type": "display_data"
    }
   ],
   "source": [
    "%%HTML\n",
    "<iframe width=\"800\" height=\"600\" src=\"https://www.youtube.com/embed/913BxpM5F7g?si=MJatxyNW5S-mF3nw\" title=\"YouTube video player\" frameborder=\"0\" allow=\"accelerometer; autoplay; clipboard-write; encrypted-media; gyroscope; picture-in-picture; web-share\" allowfullscreen></iframe>"
   ]
  },
  {
   "cell_type": "markdown",
   "metadata": {},
   "source": [
    "+ Clean the Pattern on the PDMS Chips with Tape:\n",
    "    + Clean and Blowdry a [Petri Dish](https://www.fishersci.com/shop/products/petri-dishes-clear-lid-2/FB0875714) and its lid with the Nitrogen Gun.\n",
    "    + Cover the surface of the microfluidic chip with [Scotch magic tape](https://www.amazon.com/gp/product/B0000DH8HQ/) to clean any dust or debris on the microfluidic chip pattern.\n",
    "    + The tape should be attached to the mat and then pulled over the Microfluidic chip.\n",
    "    + To remove the tape move your hand perpendicular to the direction of the tape.\n",
    "    + Make sure there are no air bubbles between the tape and microfluidic chip.\n",
    "    + Remove the Scotch tape and put it on some cloth wipes.\n",
    "    + Now place the cleaned chip in a Petri dish facing up towards you.\n",
    "    + Execute the Cell Below to Watch a Video.       "
   ]
  },
  {
   "cell_type": "code",
   "execution_count": 16,
   "metadata": {},
   "outputs": [
    {
     "data": {
      "text/html": [
       "<iframe width=\"800\" height=\"600\" src=\"https://www.youtube.com/embed/5FQJ3f-eFJo?si=Z_2osIp61t-cC9sl\" title=\"YouTube video player\" frameborder=\"0\" allow=\"accelerometer; autoplay; clipboard-write; encrypted-media; gyroscope; picture-in-picture; web-share\" allowfullscreen></iframe>\n"
      ],
      "text/plain": [
       "<IPython.core.display.HTML object>"
      ]
     },
     "metadata": {},
     "output_type": "display_data"
    }
   ],
   "source": [
    "%%HTML\n",
    "<iframe width=\"800\" height=\"600\" src=\"https://www.youtube.com/embed/5FQJ3f-eFJo?si=Z_2osIp61t-cC9sl\" title=\"YouTube video player\" frameborder=\"0\" allow=\"accelerometer; autoplay; clipboard-write; encrypted-media; gyroscope; picture-in-picture; web-share\" allowfullscreen></iframe>"
   ]
  },
  {
   "cell_type": "markdown",
   "metadata": {},
   "source": [
    "+ Cover the Chips stored inside the Petridish with Tape to protect them from Dust:\n",
    "    + Cover the chips with Scotch tape once you have a row of chips.\n",
    "    + This is to prevent dust from accumulating on the chip surface and for trapping any debris still stuck on the chip surface.\n",
    "    + Make sure there are no air bubbles between the Tape and the patterned surface on the Chips.\n",
    "    + Execute the Cell Below to Watch a Video."
   ]
  },
  {
   "cell_type": "code",
   "execution_count": 17,
   "metadata": {},
   "outputs": [
    {
     "data": {
      "text/html": [
       "<iframe width=\"800\" height=\"600\" src=\"https://www.youtube.com/embed/31pfDild7Kc?si=5SZwwo1wADw0es8G\" title=\"YouTube video player\" frameborder=\"0\" allow=\"accelerometer; autoplay; clipboard-write; encrypted-media; gyroscope; picture-in-picture; web-share\" allowfullscreen></iframe>\n"
      ],
      "text/plain": [
       "<IPython.core.display.HTML object>"
      ]
     },
     "metadata": {},
     "output_type": "display_data"
    }
   ],
   "source": [
    "%%HTML\n",
    "<iframe width=\"800\" height=\"600\" src=\"https://www.youtube.com/embed/31pfDild7Kc?si=5SZwwo1wADw0es8G\" title=\"YouTube video player\" frameborder=\"0\" allow=\"accelerometer; autoplay; clipboard-write; encrypted-media; gyroscope; picture-in-picture; web-share\" allowfullscreen></iframe>"
   ]
  },
  {
   "cell_type": "markdown",
   "metadata": {},
   "source": [
    "+ By now you should have punched holes, cleaned and covered all the chips with scotch tape. Now label the petri dish with the date of production for the chips, your name and the Version number for the Microfluidic Chips.\n",
    "+ Store the Petri Dishes in the storage box used for the cleanrooom/cleanspace.\n",
    "\n",
    "+ Remove the Tape and Wafer from the Pan:\n",
    "    + Remove the Kapton Tape in the same (clockwise) direction that you put the tape on the wafer.\n",
    "    + The tape should come out in a smooth single motion if you do this correctly.\n",
    "    + Stick the peeled tape on a Cloth Wipe.\n",
    "    + Now using just your fingers try to push the wafer slightly.\n",
    "    + If the wafer moves freely that means there was no PDMS below the wafer and you can easily remove it.\n",
    "    + If the wafer doesn't easily move then put the lower lip of the wafer tweezer below any gap you can find under the wafer.\n",
    "    + Now move the wafer tweezer's lower lip slowly along the circumference of the wafer for a full 360 degrees till you come back to the same position.\n",
    "    + This motion should release the wafer from the base without damaging the wafer.\n",
    "    + Inspect the Wafer for PDMS debris and blow particles away using the Nitrogen Gun.\n",
    "    + Check the back of the wafers to make sure there are no particles or PDMS residue.\n",
    "    + Blow dry with the Nitrogen gun to get rid of any particles.\n",
    "    + Avoid touching the pattern on the front of the wafer.\n",
    "    + Store the cleaned wafer in the Wafer Carrier in its correct position.\n",
    "    + Execute the Cell Below to Watch a video of the Process."
   ]
  },
  {
   "cell_type": "code",
   "execution_count": 18,
   "metadata": {},
   "outputs": [
    {
     "data": {
      "text/html": [
       "<iframe width=\"800\" height=\"600\" src=\"https://www.youtube.com/embed/wS99efm0txI?si=gOTnekUwijDVlEVZ\" title=\"YouTube video player\" frameborder=\"0\" allow=\"accelerometer; autoplay; clipboard-write; encrypted-media; gyroscope; picture-in-picture; web-share\" allowfullscreen></iframe>\n"
      ],
      "text/plain": [
       "<IPython.core.display.HTML object>"
      ]
     },
     "metadata": {},
     "output_type": "display_data"
    }
   ],
   "source": [
    "%%HTML\n",
    "<iframe width=\"800\" height=\"600\" src=\"https://www.youtube.com/embed/wS99efm0txI?si=gOTnekUwijDVlEVZ\" title=\"YouTube video player\" frameborder=\"0\" allow=\"accelerometer; autoplay; clipboard-write; encrypted-media; gyroscope; picture-in-picture; web-share\" allowfullscreen></iframe>"
   ]
  },
  {
   "cell_type": "markdown",
   "metadata": {},
   "source": [
    "+ Clean your work area and get rid of any trash.\n",
    "+ Store all the items in their correct location.\n",
    "+ Log off the [FOM System](https://nano3fom.eng.ucsd.edu/fom/welcome).\n",
    "+ Update the Logbook with the final weights of the Base and Curing agent and note the logout time.\n",
    "\n",
    "| <br> | <br> | <br> |\n",
    "|-|-|-|\n",
    "|<img src=\"img/IMG_2605.jpg\">|<img src=\"img/IMG_2604.jpg\">|<img src=\"img/IMG_2603.jpg\">|"
   ]
  }
 ],
 "metadata": {
  "kernelspec": {
   "display_name": "Python 3 (ipykernel)",
   "language": "python",
   "name": "python3"
  },
  "language_info": {
   "codemirror_mode": {
    "name": "ipython",
    "version": 3
   },
   "file_extension": ".py",
   "mimetype": "text/x-python",
   "name": "python",
   "nbconvert_exporter": "python",
   "pygments_lexer": "ipython3",
   "version": "3.7.16"
  }
 },
 "nbformat": 4,
 "nbformat_minor": 4
}
