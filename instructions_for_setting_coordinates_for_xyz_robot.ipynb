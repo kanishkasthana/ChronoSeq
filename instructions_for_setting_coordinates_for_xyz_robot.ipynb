{
 "cells": [
  {
   "cell_type": "markdown",
   "id": "7f6ba82c",
   "metadata": {},
   "source": [
    "## Setting the Coordinates for the XYZ Robot\n",
    "+ We want to store the coordinates for the various positions in Ice Box 1 and Ice Box 2. \n",
    "+ This notebook will help you set those positions and store them in a config file.\n",
    "+ We will the following:\n",
    "    + [50ml Tubes](https://ecatalog.corning.com/life-sciences/b2c/US/en/Liquid-Handling/Tubes,-Liquid-Handling/Centrifuge-Tubes/Falcon%C2%AE-Conical-Centrifuge-Tubes/p/352098)\n",
    "    + [15ml Tubes](https://ecatalog.corning.com/life-sciences/b2c/US/en/Liquid-Handling/Tubes,-Liquid-Handling/Centrifuge-Tubes/Falcon%C2%AE-Conical-Centrifuge-Tubes/p/352097)\n",
    "    + [1/16\" ID 0.5mm ID PTFE tubing {CAT NO. JR-T-4183-M25}](https://www.vici.com/profiles/prof_ps.php) \n",
    "        + Email precision@vici.com for a Quote. Tell them your credit card details for payment.\n",
    "+ Cut a 30cm Piece of PTFE Tubing using a [Stanley Razor Blade](https://www.grainger.com/product/STANLEY-Razor-Blade-1-1-2-in-Bladde-4A807).\n",
    "+ Put the 15ml and 50ml Tubes in the Ice Boxes as shown.<br><img src=\"img/IMG_4433.jpg\" height=\"50%\" width=\"50%\">\n",
    "+ Push the cut tubing to the position shown through the Pipette Tip on the Linear Rail.<br><img src=\"img/IMG_4434.jpg\" height=\"50%\" width=\"50%\">\n",
    "+ Execute the cells below to Intialize your device and define some Classes for our Robots."
   ]
  },
  {
   "cell_type": "code",
   "execution_count": 2,
   "id": "f93376c7",
   "metadata": {},
   "outputs": [
    {
     "name": "stdout",
     "output_type": "stream",
     "text": [
      "C:\\Users\\kanis\\Documents\\ChronoSeq\n",
      "pygame 2.5.2 (SDL 2.28.3, Python 3.7.16)\n",
      "Hello from the pygame community. https://www.pygame.org/contribute.html\n"
     ]
    }
   ],
   "source": [
    "# coding : utf8\n",
    "%matplotlib inline\n",
    "import os\n",
    "import sys\n",
    "sys.path.append(os.getcwd());\n",
    "import ivPID.PID as PID_controller\n",
    "\n",
    "print(os.getcwd())\n",
    "os.chdir(\".\\config\")\n",
    "\n",
    "#Adding required directories to sys.path. Make sure you are in the Directory with the Git Repo when you start Jupyter Notebook\n",
    "sys.path.append(os.getcwd());\n",
    "sys.path.append(os.getcwd()+\"\\\\DLL64\");\n",
    "\n",
    "import time\n",
    "import Elveflow64\n",
    "os.chdir(\"..\")\n",
    "from ctypes import *\n",
    "import numpy as np\n",
    "import matplotlib.pyplot as plt\n",
    "import pandas as pd\n",
    "import serial\n",
    "import threading\n",
    "from apscheduler.schedulers.background import BackgroundScheduler\n",
    "from apscheduler.schedulers import SchedulerNotRunningError\n",
    "from datetime import datetime,timedelta\n",
    "import seaborn as sns\n",
    "import pygame"
   ]
  },
  {
   "cell_type": "code",
   "execution_count": 3,
   "id": "516027d3",
   "metadata": {},
   "outputs": [
    {
     "data": {
      "application/javascript": [
       "IPython.OutputArea.prototype._should_scroll = function(lines) {\n",
       "    return false;\n",
       "}\n"
      ],
      "text/plain": [
       "<IPython.core.display.Javascript object>"
      ]
     },
     "metadata": {},
     "output_type": "display_data"
    }
   ],
   "source": [
    "%%javascript\n",
    "IPython.OutputArea.prototype._should_scroll = function(lines) {\n",
    "    return false;\n",
    "}"
   ]
  },
  {
   "cell_type": "markdown",
   "id": "c5b8d871",
   "metadata": {},
   "source": [
    "### Note on Ipython Magics\n",
    "+ We will store device specific configuration in the config folder using [Ipython Magics](https://ipython.readthedocs.io/en/stable/interactive/magics.html#)\n",
    "+ We modified the ```%%writefile``` magic as follows.\n",
    "+ Execute the cell below"
   ]
  },
  {
   "cell_type": "code",
   "execution_count": 4,
   "id": "16724c25",
   "metadata": {},
   "outputs": [],
   "source": [
    "from IPython.core.magic import register_cell_magic\n",
    "\n",
    "@register_cell_magic\n",
    "def write_and_run(line, cell):\n",
    "    argz = line.split()\n",
    "    file = argz[-1]\n",
    "    mode = 'w'\n",
    "    if len(argz) == 2 and argz[0] == '-a':\n",
    "        mode = 'a'\n",
    "    with open(file, mode) as f:\n",
    "        f.write(cell)\n",
    "    get_ipython().run_cell(cell)"
   ]
  },
  {
   "cell_type": "code",
   "execution_count": 5,
   "id": "558cbaf2",
   "metadata": {},
   "outputs": [
    {
     "name": "stdout",
     "output_type": "stream",
     "text": [
      "Pressure Controller Connection Started\n",
      "Pressure Controller ID: 0\n",
      "True\n",
      "{'baudrate': 9600, 'bytesize': 8, 'parity': 'N', 'stopbits': 1, 'xonxoff': False, 'dsrdtr': False, 'rtscts': False, 'timeout': 1, 'write_timeout': 0, 'inter_byte_timeout': None}\n",
      "True\n",
      "{'baudrate': 9600, 'bytesize': 8, 'parity': 'N', 'stopbits': 1, 'xonxoff': False, 'dsrdtr': False, 'rtscts': False, 'timeout': 1, 'write_timeout': 0, 'inter_byte_timeout': None}\n",
      "True\n",
      "{'baudrate': 9600, 'bytesize': 8, 'parity': 'N', 'stopbits': 1, 'xonxoff': False, 'dsrdtr': False, 'rtscts': False, 'timeout': 1, 'write_timeout': 0, 'inter_byte_timeout': None}\n",
      "COM12\n",
      "{'baudrate': 9600, 'bytesize': 8, 'parity': 'N', 'stopbits': 1, 'xonxoff': False, 'dsrdtr': False, 'rtscts': False, 'timeout': 1, 'write_timeout': 0, 'inter_byte_timeout': None}\n",
      "True\n",
      "Cell Channel Flow Meter ID: 3000\n",
      "error 0 :\n",
      "Oil Channel Flow Meter ID: 3001\n",
      "error 0 :\n",
      "Cell Channel Density:\n",
      "0.37821754813194275\n",
      "Cell Channel Flow rate:\n",
      "-2805.2143764712837\n",
      "Oil Channel Density:\n",
      "1.2706427574157715\n",
      "Oil Channel Flow rate:\n",
      "-1659.781160837623\n",
      "COM15\n",
      "{'baudrate': 9600, 'bytesize': 8, 'parity': 'N', 'stopbits': 1, 'xonxoff': False, 'dsrdtr': False, 'rtscts': False, 'timeout': 1, 'write_timeout': 1, 'inter_byte_timeout': None}\n",
      "True\n",
      "COM9\n",
      "{'baudrate': 9600, 'bytesize': 8, 'parity': 'N', 'stopbits': 1, 'xonxoff': False, 'dsrdtr': False, 'rtscts': False, 'timeout': 1, 'write_timeout': 1, 'inter_byte_timeout': None}\n",
      "True\n",
      "COM7\n",
      "{'baudrate': 9600, 'bytesize': 8, 'parity': 'N', 'stopbits': 1, 'xonxoff': False, 'dsrdtr': False, 'rtscts': False, 'timeout': 1, 'write_timeout': 1, 'inter_byte_timeout': None}\n",
      "True\n",
      "COM10\n",
      "{'baudrate': 9600, 'bytesize': 8, 'parity': 'N', 'stopbits': 1, 'xonxoff': False, 'dsrdtr': False, 'rtscts': False, 'timeout': 1, 'write_timeout': 0, 'inter_byte_timeout': None}\n",
      "True\n"
     ]
    }
   ],
   "source": [
    "%run -i config/instrument_initialization.py"
   ]
  },
  {
   "cell_type": "code",
   "execution_count": 6,
   "id": "5aae8219",
   "metadata": {},
   "outputs": [],
   "source": [
    "class robot_action():\n",
    "    \n",
    "    all_time_points={}\n",
    "    in_tube=False\n",
    "    previous_yoffset=0\n",
    "    previous_xoffset=0\n",
    "    previous_y=0\n",
    "    previous_x=0\n",
    "    \n",
    "    def __init__(self,xpos,ypos,final_xoffset,final_yoffset,timepoint=None):\n",
    "        self.xpos=xpos\n",
    "        self.ypos=ypos\n",
    "        self.xoffset=final_xoffset\n",
    "        self.yoffset=final_yoffset\n",
    "        self.timepoint=timepoint\n",
    "        if (self.timepoint is not None):\n",
    "            robot_action.all_time_points[self.timepoint]=self\n",
    "    \n",
    "    def goToCoordinates(self):\n",
    "        if robot_action.in_tube is True:\n",
    "            plotter.write((\"Y\"+str(robot_action.previous_yoffset*-1)+\"|X\"+str(robot_action.previous_xoffset*-1)+\"\\n\").encode())\n",
    "        plotter.write((\"G\"+str(self.xpos)+\",\"+str(self.ypos)+\"|Y\"+str(self.yoffset)+\"|X\"+str(self.xoffset)+\"\\n\").encode())\n",
    "        robot_action.in_tube=True\n",
    "        robot_action.previous_yoffset=self.yoffset\n",
    "        robot_action.previous_xoffset=self.xoffset\n",
    "        robot_action.previous_y=self.ypos\n",
    "        robot_action.previous_x=self.xpos\n",
    "    \n",
    "    def goToCoordinatesFast(self):\n",
    "        if robot_action.in_tube is True:\n",
    "            plotter.write((\"Y\"+str(robot_action.previous_yoffset*-1)+\"|X\"+str(robot_action.previous_xoffset*-1)+\"\\n\").encode())\n",
    "        plotter.write((\"G\"+str(self.xpos)+\",\"+str(self.ypos)+\"|Y\"+str(self.yoffset)+\"|X\"+str(self.xoffset)+\"\\n\").encode())\n",
    "        robot_action.in_tube=True\n",
    "        robot_action.previous_yoffset=self.yoffset\n",
    "        robot_action.previous_xoffset=self.xoffset\n",
    "        robot_action.previous_y=self.ypos\n",
    "        robot_action.previous_x=self.xpos\n",
    "    \n",
    "    \n",
    "    def goToCoordinatesSmoothly(self):\n",
    "        assert robot_action.previous_x==self.xpos , \"Please only change the Y coordinate for this movement. Changing the X coordinate is not currently supported. \"\n",
    "        assert self.yoffset==0 and self.xoffset==0 and robot_action.previous_xoffset==0 and robot_action.previous_yoffset==0 , \"No X and Y offsets are supported for this movement both for Previous and Current Position. Please remove all offsets for starting and ending postion.\"\n",
    "        assert abs(self.ypos-robot_action.previous_y)>1000,\"The final Y positions have to differ by more than 1000 steps.\"\n",
    "        if robot_action.in_tube is True:\n",
    "            plotter.write((\"Y\"+str(robot_action.previous_yoffset*-1)+\"|X\"+str(robot_action.previous_xoffset*-1)+\"\\n\").encode())\n",
    "        plotter.write((\"S\"+str(self.xpos)+\",\"+str(self.ypos)+\"|Y\"+str(self.yoffset)+\"|X\"+str(self.xoffset)+\"\\n\").encode())\n",
    "        robot_action.in_tube=True\n",
    "        robot_action.previous_yoffset=self.yoffset\n",
    "        robot_action.previous_xoffset=self.xoffset\n",
    "        robot_action.previous_y=self.ypos\n",
    "        robot_action.previous_x=self.xpos\n",
    "\n",
    "    \n",
    "    def goToCoordinatesKeepTubeUp(self):\n",
    "        if robot_action.in_tube is True:\n",
    "            plotter.write((\"Y\"+str(robot_action.previous_yoffset*-1)+\"|X\"+str(robot_action.previous_xoffset*-1)+\"\\n\").encode())\n",
    "        plotter.write((\"U\"+str(self.xpos)+\",\"+str(self.ypos)+\"|Y\"+str(self.yoffset)+\"|X\"+str(self.xoffset)+\"\\n\").encode())\n",
    "        robot_action.in_tube=True\n",
    "        robot_action.previous_yoffset=self.yoffset\n",
    "        robot_action.previous_xoffset=self.xoffset\n",
    "        robot_action.previous_y=self.ypos\n",
    "        robot_action.previous_x=self.xpos\n",
    "        \n",
    "    def getCoordinatesFromPosition():\n",
    "        buffer=plotter.read(plotter.inWaiting())\n",
    "        plotter.write(\"C\\n\".encode())\n",
    "        time.sleep(7.0)\n",
    "        buffer=plotter.read(plotter.inWaiting()).decode()\n",
    "        lines=buffer.split(\"\\n\")\n",
    "        print(lines[2])\n",
    "\n",
    "    def goHome(self):\n",
    "        robot_action.robotGoHome()\n",
    "\n",
    "    def robotGoHome():\n",
    "        if robot_action.in_tube is True:\n",
    "            plotter.write((\"Y\"+str(robot_action.previous_yoffset*-1)+\"|X\"+str(robot_action.previous_xoffset*-1)+\"\\n\").encode())\n",
    "        plotter.write(\"H\\n\".encode())\n",
    "        robot_action.in_tube=False\n",
    "        droplet_collection.droplet_collector_go_home()\n",
    "        \n",
    "    def enableRobot():\n",
    "        plotter.write(\"E\\n\".encode())\n",
    "\n",
    "    def disableRobot():\n",
    "        plotter.write(\"D\\n\".encode())\n",
    "\n",
    "    def tubeUp():\n",
    "        plotter.write(\"T1\\n\".encode())\n",
    "\n",
    "    def tubeDown():\n",
    "        plotter.write(\"T0\\n\".encode())\n",
    "    \n",
    "    def manuallyMove():\n",
    "        plotter.write(\"D|T1\\n\".encode())\n",
    "\n",
    "class droplet_collection():\n",
    "    in_tube=False\n",
    "    current_time_delay_from_home=1000\n",
    "    at_home=True\n",
    "    def __init__(self,servo_angle1,servo_angle2,time_taken_from_home=1000):\n",
    "        self.servo_angle1=servo_angle1\n",
    "        self.servo_angle2=servo_angle2\n",
    "        self.time_taken_from_home=time_taken_from_home\n",
    "    def goToCoordinates(self):\n",
    "        if droplet_collection.in_tube==False and droplet_collection.at_home==True:\n",
    "            droplet_collector.write((\"A\"+str(self.servo_angle1)+\"|W\"+str(self.time_taken_from_home)+\"|B\"+str(self.servo_angle2)+\"\\n\").encode())\n",
    "            droplet_collection.in_tube=True\n",
    "            droplet_collection.current_time_delay_from_home=self.time_taken_from_home\n",
    "            droplet_collection.at_home=False\n",
    "        elif droplet_collection.in_tube==False and droplet_collection.at_home==False:\n",
    "            time_diff=abs(droplet_collection.current_time_delay_from_home-self.time_taken_from_home)\n",
    "            droplet_collector.write((\"A\"+str(self.servo_angle1)+\"|W\"+str(time_diff)+\"|B\"+str(self.servo_angle2)+\"\\n\").encode())\n",
    "            droplet_collection.in_tube=True\n",
    "            droplet_collection.current_time_delay_from_home=self.time_taken_from_home\n",
    "            droplet_collection.at_home=False\n",
    "\n",
    "        else:\n",
    "            time_diff=abs(droplet_collection.current_time_delay_from_home-self.time_taken_from_home)\n",
    "            droplet_collector.write((\"B0|W500|A\"+str(self.servo_angle1)+\"|W\"+str(time_diff)+\"|B\"+str(self.servo_angle2)+\"\\n\").encode())\n",
    "            droplet_collection.in_tube=True\n",
    "            droplet_collection.current_time_delay_from_home=self.time_taken_from_home\n",
    "            droplet_collection.at_home=False\n",
    "    \n",
    "    def goToCoordinatesFast(self):\n",
    "        self.goToCoordinates()\n",
    "        \n",
    "    def goToCoordinatesSlowly(self):\n",
    "        if droplet_collection.in_tube==False and droplet_collection.at_home==True:\n",
    "            droplet_collector.write((\"X\"+str(self.servo_angle1)+\"|Y\"+str(self.servo_angle2)+\"\\n\").encode())\n",
    "            droplet_collection.in_tube=True\n",
    "            droplet_collection.current_time_delay_from_home=self.time_taken_from_home\n",
    "            droplet_collection.at_home=False\n",
    "        elif droplet_collection.in_tube==False and droplet_collection.at_home==False:\n",
    "            droplet_collector.write((\"X\"+str(self.servo_angle1)+\"|Y\"+str(self.servo_angle2)+\"\\n\").encode())\n",
    "            droplet_collection.in_tube=True\n",
    "            droplet_collection.current_time_delay_from_home=self.time_taken_from_home\n",
    "            droplet_collection.at_home=False\n",
    "\n",
    "        else:\n",
    "            #time_diff=abs(droplet_collection.current_time_delay_from_home-self.time_taken_from_home)\n",
    "            droplet_collector.write((\"Y0|X\"+str(self.servo_angle1)+\"|Y\"+str(self.servo_angle2)+\"\\n\").encode())\n",
    "            droplet_collection.in_tube=True\n",
    "            droplet_collection.current_time_delay_from_home=self.time_taken_from_home\n",
    "            droplet_collection.at_home=False\n",
    "        \n",
    "    def goToCoordinatesKeepTubeUp(self):\n",
    "        if droplet_collection.in_tube==False:\n",
    "            droplet_collector.write((\"A\"+str(self.servo_angle1)+\"\\n\").encode())\n",
    "            droplet_collection.in_tube=False\n",
    "            droplet_collection.at_home=False\n",
    "            droplet_collection.current_time_delay_from_home=self.time_taken_from_home\n",
    "        else:\n",
    "            droplet_collector.write((\"B0|W500|A\"+str(self.servo_angle1)+\"\\n\").encode())\n",
    "            droplet_collection.in_tube=False\n",
    "            droplet_collection.at_home=False\n",
    "            droplet_collection.current_time_delay_from_home=self.time_taken_from_home\n",
    "    def goHome(self):\n",
    "        droplet_collection.droplet_collector_go_home()\n",
    "    \n",
    "    def droplet_collector_go_home():\n",
    "        if droplet_collection.in_tube==False:\n",
    "            droplet_collector.write((\"H\\n\").encode())\n",
    "            droplet_collection.in_tube=False\n",
    "            droplet_collection.at_home=True\n",
    "        else:\n",
    "            droplet_collector.write((\"B0|W500|H\\n\").encode())\n",
    "            droplet_collection.in_tube=False\n",
    "            droplet_collection.at_home=True\n",
    "\n",
    "robot_action.robotGoHome() \n",
    "#Defining Various Tube Positions for the XY Robot:\n",
    "good_collection_tube=droplet_collection(180,180,1000)\n",
    "bad_collection_tube=droplet_collection(60,180,350)"
   ]
  },
  {
   "cell_type": "markdown",
   "id": "f3155d78",
   "metadata": {},
   "source": [
    "+ Execute the cell below to watch a video of how to get the coordinates for a Certain Position on the Ice Boxes."
   ]
  },
  {
   "cell_type": "code",
   "execution_count": 7,
   "id": "4213d902",
   "metadata": {},
   "outputs": [
    {
     "data": {
      "text/html": [
       "<iframe width=\"800\" height=\"600\" src=\"https://www.youtube.com/embed/fFkCPMRG7UE?si=EZtgWsnKRZRd1p_b\" title=\"YouTube video player\" frameborder=\"0\" allow=\"accelerometer; autoplay; clipboard-write; encrypted-media; gyroscope; picture-in-picture; web-share\" referrerpolicy=\"strict-origin-when-cross-origin\" allowfullscreen></iframe>\n"
      ],
      "text/plain": [
       "<IPython.core.display.HTML object>"
      ]
     },
     "metadata": {},
     "output_type": "display_data"
    }
   ],
   "source": [
    "%%HTML\n",
    "<iframe width=\"800\" height=\"600\" src=\"https://www.youtube.com/embed/fFkCPMRG7UE?si=EZtgWsnKRZRd1p_b\" title=\"YouTube video player\" frameborder=\"0\" allow=\"accelerometer; autoplay; clipboard-write; encrypted-media; gyroscope; picture-in-picture; web-share\" referrerpolicy=\"strict-origin-when-cross-origin\" allowfullscreen></iframe>"
   ]
  },
  {
   "cell_type": "markdown",
   "id": "07f3be2a",
   "metadata": {},
   "source": [
    "+ Execute the cell below to Manually Move the Device to Position 1 in Ice Box 2."
   ]
  },
  {
   "cell_type": "code",
   "execution_count": 7,
   "id": "a329b23e",
   "metadata": {},
   "outputs": [],
   "source": [
    "time.sleep(5)\n",
    "robot_action.manuallyMove()"
   ]
  },
  {
   "cell_type": "markdown",
   "id": "6d772cd9",
   "metadata": {},
   "source": [
    "+ Manually move to position. Pull up the Tubing if it collides with the 15ml or 50ml Tubes.\n",
    "+ Now we will put the Tubing in the Down Position."
   ]
  },
  {
   "cell_type": "code",
   "execution_count": 8,
   "id": "16ff37d0",
   "metadata": {},
   "outputs": [],
   "source": [
    "time.sleep(5)\n",
    "robot_action.tubeDown()"
   ]
  },
  {
   "cell_type": "markdown",
   "id": "6e3300d5",
   "metadata": {},
   "source": [
    "+ Try to move the XYZ Robot as close to the Center of the Tubes as possible.\n",
    "+ The robot can still be moved after the Tube has moved to the down position.\n",
    "+ Execute the cell below to get the coordinates of this position."
   ]
  },
  {
   "cell_type": "code",
   "execution_count": 9,
   "id": "b520084a",
   "metadata": {},
   "outputs": [
    {
     "name": "stdout",
     "output_type": "stream",
     "text": [
      "No remaining commands with the following input:\r\n"
     ]
    }
   ],
   "source": [
    "robot_action.getCoordinatesFromPosition()"
   ]
  },
  {
   "cell_type": "markdown",
   "id": "b74f9f5f",
   "metadata": {},
   "source": [
    "+ We will now save these X and Y coordinates in a List\n",
    "+ The ```robot_action``` object sets the coordinates as follows: \n",
    "```robot_action(<X Coordinates>,<Y Coordinates>,<X offset after the Tube Goes Down>,<Y Offset after the Tube Goes Down>,<Timepoint/Position>)```\n",
    "+ Copy the measured X and Y coodinates in the Object in the list ```bead_time_point_collection_tubes``` below."
   ]
  },
  {
   "cell_type": "code",
   "execution_count": 10,
   "id": "de3f4055",
   "metadata": {},
   "outputs": [],
   "source": [
    "bead_time_point_collection_tubes=[]\n",
    "bead_time_point_collection_tubes.append(robot_action(-8510,-8515,0,500,1))"
   ]
  },
  {
   "cell_type": "markdown",
   "id": "1269cb21",
   "metadata": {},
   "source": [
    "+ We can now check our Coordinate by moving the Robot to that position.\n",
    "+ The robot will move by the Yoffset of 500 after the Tube goes down.\n",
    "    + This offset is important to prevent liquid droplets from dripping to other tubes during robot movement.\n",
    "+ Execute the cell below to move the robot to the first position."
   ]
  },
  {
   "cell_type": "code",
   "execution_count": 11,
   "id": "f28fce3e",
   "metadata": {},
   "outputs": [],
   "source": [
    "position=1\n",
    "bead_time_point_collection_tubes[position-1].goToCoordinates()"
   ]
  },
  {
   "cell_type": "markdown",
   "id": "750f3b3b",
   "metadata": {},
   "source": [
    "+ We can use the same principle to find the Coordinates for Waste Tube 1 and Waste Tube 2.\n",
    "    + However in their case we will use a X Offset to prevent liquid droplets from dripping to other tubes during robot movement.\n",
    "+ Try to move the XYZ Robot as close to the Center of the Tubes as possible.\n",
    "+ The robot can still be moved after the Tube has moved to the down position.\n",
    "+ Execute the cell below to Home the Robot and then manually move to Waste Tube 2."
   ]
  },
  {
   "cell_type": "code",
   "execution_count": 12,
   "id": "9dabd1da",
   "metadata": {},
   "outputs": [],
   "source": [
    "robot_action.robotGoHome()\n",
    "time.sleep(5)\n",
    "robot_action.manuallyMove()"
   ]
  },
  {
   "cell_type": "markdown",
   "id": "2c230436",
   "metadata": {},
   "source": [
    "+ Execute the cell below to move the Tubing to the Down Position.\n",
    "+ Move the tip of the Tubing as close to the Center Position as possible.\n",
    "+ You should not trigger the Limit Switch.\n",
    "+ If the Limit switch is accidentally triggered then you might have to move your XY Robot, Ice Box 1 and Ice Box 2 a little bit further away from the XYZ Robot."
   ]
  },
  {
   "cell_type": "code",
   "execution_count": 13,
   "id": "52df61ae",
   "metadata": {},
   "outputs": [],
   "source": [
    "robot_action.tubeDown()"
   ]
  },
  {
   "cell_type": "markdown",
   "id": "4c84cf9f",
   "metadata": {},
   "source": [
    "+ Execute the cell below to get the Coordinates for Waste Tube 2."
   ]
  },
  {
   "cell_type": "code",
   "execution_count": 14,
   "id": "b9c6bfbf",
   "metadata": {},
   "outputs": [
    {
     "name": "stdout",
     "output_type": "stream",
     "text": [
      "D\r\n"
     ]
    }
   ],
   "source": [
    "robot_action.getCoordinatesFromPosition()"
   ]
  },
  {
   "cell_type": "markdown",
   "id": "54a6bdda",
   "metadata": {},
   "source": [
    "+ Copy the X and Y Coordinate Values to the Object Below."
   ]
  },
  {
   "cell_type": "code",
   "execution_count": 15,
   "id": "e1a0fe1b",
   "metadata": {},
   "outputs": [],
   "source": [
    "waste_tube2=robot_action(-1920,-263,1000,0)"
   ]
  },
  {
   "cell_type": "markdown",
   "id": "1a508da0",
   "metadata": {},
   "source": [
    "+ We can now check our Coordinates by moving the Robot to that position.\n",
    "+ The robot will move by the Yoffset of 1000 after the Tube goes down.\n",
    "+ Execute the cell below to move the robot to Waste Tube 2."
   ]
  },
  {
   "cell_type": "code",
   "execution_count": 16,
   "id": "10fd237c",
   "metadata": {},
   "outputs": [],
   "source": [
    "waste_tube2.goToCoordinates()"
   ]
  },
  {
   "cell_type": "markdown",
   "id": "e324a2ff",
   "metadata": {},
   "source": [
    "+ Now we can repeat this method of getting the Coordinates for all the Positions in Ice Box 1 and 2.\n",
    "+ Complete replace the X and Y Coordinate Values for all the Positions below.\n",
    "+ These coordinates will be stored in the file ```config/xyzRobotCoordinateObjects.py```"
   ]
  },
  {
   "cell_type": "code",
   "execution_count": 8,
   "id": "49096032",
   "metadata": {},
   "outputs": [],
   "source": [
    "%%write_and_run config/xyzRobotCoordinateObjects.py\n",
    "waste_tube1=robot_action(-1983,-3202,1000,0)\n",
    "waste_tube2=robot_action(-1920,-263,1000,0)\n",
    "bead_time_point_collection_tubes=[]\n",
    "bead_time_point_collection_tubes.append(robot_action(-8510,-8515,0,500,1))\n",
    "bead_time_point_collection_tubes.append(robot_action(-6272,-8640,0,500,2))\n",
    "bead_time_point_collection_tubes.append(robot_action(-3970,-8577,0,500,3))\n",
    "bead_time_point_collection_tubes.append(robot_action(-1632,-8541,0,500,4))\n",
    "bead_time_point_collection_tubes.append(robot_action(-8512,-10625,0,500,5))\n",
    "bead_time_point_collection_tubes.append(robot_action(-6242,-10589,0,500,6))\n",
    "bead_time_point_collection_tubes.append(robot_action(-3998,-10529,0,500,7))\n",
    "bead_time_point_collection_tubes.append(robot_action(-1699,-10655,0,500,8))\n",
    "bead_time_point_collection_tubes.append(robot_action(-8510,-12610,0,500,9))\n",
    "bead_time_point_collection_tubes.append(robot_action(-6210,-12736,0,500,10))\n",
    "bead_time_point_collection_tubes.append(robot_action(-4030,-12674,0,500,11))\n",
    "bead_time_point_collection_tubes.append(robot_action(-1759,-12701,0,500,12))\n",
    "bead_time_point_collection_tubes.append(robot_action(-8544,-14816,0,500,13))\n",
    "bead_time_point_collection_tubes.append(robot_action(-6336,-14785,0,500,14))\n",
    "bead_time_point_collection_tubes.append(robot_action(-3971,-14721,0,500,15))\n",
    "bead_time_point_collection_tubes.append(robot_action(-1694,-14879,0,500,16))"
   ]
  },
  {
   "cell_type": "markdown",
   "id": "32c8ec09",
   "metadata": {},
   "source": [
    "+ Next we will test all the Coordinates for our XYZ and XY Robots.\n",
    "    + Make adjustments if necessary.\n",
    "+ Execute the cell below to test the coordinates."
   ]
  },
  {
   "cell_type": "code",
   "execution_count": 10,
   "id": "5b5cc5c7",
   "metadata": {},
   "outputs": [],
   "source": [
    "def test_robot():\n",
    "    waste_tube1.goToCoordinates()\n",
    "    time.sleep(5.0)\n",
    "    good_collection_tube.goToCoordinates()\n",
    "    for tube in bead_time_point_collection_tubes:\n",
    "        tube.goToCoordinates()\n",
    "        time.sleep(5.0)\n",
    "    waste_tube1.goToCoordinates()\n",
    "    time.sleep(10.0)\n",
    "    waste_tube2.goToCoordinates()\n",
    "    time.sleep(10.0)\n",
    "    bad_collection_tube.goToCoordinates()\n",
    "    time.sleep(10.0)\n",
    "    good_collection_tube.goToCoordinates()\n",
    "    time.sleep(10.0)\n",
    "    robot_action.robotGoHome()\n",
    "    \n",
    "test_robot()"
   ]
  },
  {
   "cell_type": "markdown",
   "id": "6b48324e",
   "metadata": {},
   "source": [
    "+ Execute the cell below to see a video of our XYZ and XY Robot coordinate test."
   ]
  },
  {
   "cell_type": "code",
   "execution_count": 11,
   "id": "145117d0",
   "metadata": {},
   "outputs": [
    {
     "data": {
      "text/html": [
       "<iframe width=\"800\" height=\"600\" src=\"https://www.youtube.com/embed/FhH23Al3K14?si=yRKEauGkWJupocM6\" title=\"YouTube video player\" frameborder=\"0\" allow=\"accelerometer; autoplay; clipboard-write; encrypted-media; gyroscope; picture-in-picture; web-share\" referrerpolicy=\"strict-origin-when-cross-origin\" allowfullscreen></iframe>\n"
      ],
      "text/plain": [
       "<IPython.core.display.HTML object>"
      ]
     },
     "metadata": {},
     "output_type": "display_data"
    }
   ],
   "source": [
    "%%HTML\n",
    "<iframe width=\"800\" height=\"600\" src=\"https://www.youtube.com/embed/FhH23Al3K14?si=yRKEauGkWJupocM6\" title=\"YouTube video player\" frameborder=\"0\" allow=\"accelerometer; autoplay; clipboard-write; encrypted-media; gyroscope; picture-in-picture; web-share\" referrerpolicy=\"strict-origin-when-cross-origin\" allowfullscreen></iframe>"
   ]
  },
  {
   "cell_type": "markdown",
   "id": "c964b34e",
   "metadata": {},
   "source": [
    "+ Tape the cables for the XYZ Robot to your bench as shown. \n",
    "    + Use Labelling Tape.\n",
    "    + This should prevent unwanted Tangles or accidental disconnection.<br><img src=\"img/IMG_4455.jpg\" height=\"50%\" width=\"50%\">\n",
    "+ Execute the cell below to Shutdown the ChronoSeq device and close all the Serial connections."
   ]
  },
  {
   "cell_type": "code",
   "execution_count": 12,
   "id": "7870c862",
   "metadata": {},
   "outputs": [
    {
     "name": "stdout",
     "output_type": "stream",
     "text": [
      "Pressure Controller Connection Closed!\n",
      "Valve Controller 1 Connection Closed!\n",
      "Valve Controller 2 Connection Closed!\n",
      "Valve Controller 3 Connection Closed!\n",
      "Magnetic Stirrer Connection Closed!\n",
      "Cell Channel Flow meter Connection Closed!\n",
      "Oil Channel Flow meter Connection Closed!\n",
      "Connection to the XYZ Robot closed successfully!\n",
      "Connection to the XY Robot closed successfully!\n",
      "Bead Channel Flow meter Connection Closed!\n",
      "Connection to the Vortex Relay closed successfully!\n"
     ]
    }
   ],
   "source": [
    "%run -i config/deviceShutdown.py"
   ]
  }
 ],
 "metadata": {
  "kernelspec": {
   "display_name": "Python 3 (ipykernel)",
   "language": "python",
   "name": "python3"
  },
  "language_info": {
   "codemirror_mode": {
    "name": "ipython",
    "version": 3
   },
   "file_extension": ".py",
   "mimetype": "text/x-python",
   "name": "python",
   "nbconvert_exporter": "python",
   "pygments_lexer": "ipython3",
   "version": "3.7.16"
  }
 },
 "nbformat": 4,
 "nbformat_minor": 5
}
